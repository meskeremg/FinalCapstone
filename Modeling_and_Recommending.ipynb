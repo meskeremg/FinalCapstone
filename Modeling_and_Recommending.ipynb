{
  "cells": [
    {
      "cell_type": "markdown",
      "metadata": {
        "id": "view-in-github",
        "colab_type": "text"
      },
      "source": [
        "<a href=\"https://colab.research.google.com/github/meskeremg/FinalCapstone/blob/main/Modeling_and_Recommending.ipynb\" target=\"_parent\"><img src=\"https://colab.research.google.com/assets/colab-badge.svg\" alt=\"Open In Colab\"/></a>"
      ]
    },
    {
      "cell_type": "markdown",
      "source": [
        "# Importing libraries and reading the data"
      ],
      "metadata": {
        "id": "nh9dfb5ZgngM"
      },
      "id": "nh9dfb5ZgngM"
    },
    {
      "cell_type": "code",
      "execution_count": 1,
      "id": "75113551",
      "metadata": {
        "colab": {
          "base_uri": "https://localhost:8080/"
        },
        "id": "75113551",
        "outputId": "5a823a66-6fc8-4eb1-b0e9-a76c20934797"
      },
      "outputs": [
        {
          "output_type": "stream",
          "name": "stderr",
          "text": [
            "[nltk_data] Downloading package stopwords to /root/nltk_data...\n",
            "[nltk_data]   Unzipping corpora/stopwords.zip.\n"
          ]
        }
      ],
      "source": [
        "import pandas as pd\n",
        "import numpy as np\n",
        "import re\n",
        "import nltk\n",
        "nltk.download('stopwords')\n",
        "from nltk.corpus import stopwords\n",
        "from nltk.stem.porter import PorterStemmer"
      ]
    },
    {
      "cell_type": "code",
      "source": [
        "from pydrive.auth import GoogleAuth\n",
        "from pydrive.drive import GoogleDrive\n",
        "from google.colab import auth\n",
        "from oauth2client.client import GoogleCredentials"
      ],
      "metadata": {
        "id": "L9N9pG3aKcKp"
      },
      "id": "L9N9pG3aKcKp",
      "execution_count": 2,
      "outputs": []
    },
    {
      "cell_type": "code",
      "source": [
        "auth.authenticate_user()\n",
        "gauth = GoogleAuth()\n",
        "gauth.credentials = GoogleCredentials.get_application_default()\n",
        "drive = GoogleDrive(gauth)"
      ],
      "metadata": {
        "id": "VkAw5O_IKdOh"
      },
      "id": "VkAw5O_IKdOh",
      "execution_count": 3,
      "outputs": []
    },
    {
      "cell_type": "code",
      "source": [
        "fileDownloaded = drive.CreateFile({'id':'1_zl8d0FEqfoteFgV2uC4v1tpcfszxEKu'})\n",
        "fileDownloaded.GetContentFile('books_description_categories_joined.csv')"
      ],
      "metadata": {
        "id": "VYssKJ_fKy0g"
      },
      "id": "VYssKJ_fKy0g",
      "execution_count": 4,
      "outputs": []
    },
    {
      "cell_type": "code",
      "execution_count": 5,
      "id": "79b5c887",
      "metadata": {
        "id": "79b5c887"
      },
      "outputs": [],
      "source": [
        "books = pd.read_csv('books_description_categories_joined.csv')"
      ]
    },
    {
      "cell_type": "code",
      "execution_count": 7,
      "id": "9ae5502c",
      "metadata": {
        "id": "9ae5502c",
        "outputId": "dc02f743-ce34-46f3-c807-df0b4a4c9863",
        "colab": {
          "base_uri": "https://localhost:8080/",
          "height": 250
        }
      },
      "outputs": [
        {
          "output_type": "execute_result",
          "data": {
            "text/plain": [
              "                                                   Title  review/score_Avg  \\\n",
              "79989                      The Christ of the Indian road          4.333333   \n",
              "57642                 Futurehype the Tyranny of Prophecy          4.000000   \n",
              "11153                        Something Queer on Vacation          5.000000   \n",
              "79261                 Birds of Massachusetts Field Guide          4.875000   \n",
              "46878  The Criminal Personality: The Change Process (...          4.750000   \n",
              "\n",
              "       review/score_Count                                     authors  \\\n",
              "79989                 6.0                        ['E. Stanley Jones']   \n",
              "57642                 2.0                              ['Max Dublin']   \n",
              "11153                 1.0                          ['Elizabeth Levy']   \n",
              "79261                16.0         ['Donald Stokes', 'Lillian Stokes']   \n",
              "46878                 4.0  ['Samuel Yochelson', 'Stanton E. Samenow']   \n",
              "\n",
              "       publishedDate                      description_categories_joined  \n",
              "79989         1925.0    religion searching truth map help lead path way  \n",
              "57642         1991.0  social science critique way society attempt so...  \n",
              "11153         1980.0  seashore gwen jill determine win weekly sandca...  \n",
              "79261         2010.0  nature culmination many year research observat...  \n",
              "46878         1976.0  criminal psychology dr chessick us metaphor te...  "
            ],
            "text/html": [
              "\n",
              "  <div id=\"df-03422d0a-ae51-4e02-b667-052d1cf78eb3\">\n",
              "    <div class=\"colab-df-container\">\n",
              "      <div>\n",
              "<style scoped>\n",
              "    .dataframe tbody tr th:only-of-type {\n",
              "        vertical-align: middle;\n",
              "    }\n",
              "\n",
              "    .dataframe tbody tr th {\n",
              "        vertical-align: top;\n",
              "    }\n",
              "\n",
              "    .dataframe thead th {\n",
              "        text-align: right;\n",
              "    }\n",
              "</style>\n",
              "<table border=\"1\" class=\"dataframe\">\n",
              "  <thead>\n",
              "    <tr style=\"text-align: right;\">\n",
              "      <th></th>\n",
              "      <th>Title</th>\n",
              "      <th>review/score_Avg</th>\n",
              "      <th>review/score_Count</th>\n",
              "      <th>authors</th>\n",
              "      <th>publishedDate</th>\n",
              "      <th>description_categories_joined</th>\n",
              "    </tr>\n",
              "  </thead>\n",
              "  <tbody>\n",
              "    <tr>\n",
              "      <th>79989</th>\n",
              "      <td>The Christ of the Indian road</td>\n",
              "      <td>4.333333</td>\n",
              "      <td>6.0</td>\n",
              "      <td>['E. Stanley Jones']</td>\n",
              "      <td>1925.0</td>\n",
              "      <td>religion searching truth map help lead path way</td>\n",
              "    </tr>\n",
              "    <tr>\n",
              "      <th>57642</th>\n",
              "      <td>Futurehype the Tyranny of Prophecy</td>\n",
              "      <td>4.000000</td>\n",
              "      <td>2.0</td>\n",
              "      <td>['Max Dublin']</td>\n",
              "      <td>1991.0</td>\n",
              "      <td>social science critique way society attempt so...</td>\n",
              "    </tr>\n",
              "    <tr>\n",
              "      <th>11153</th>\n",
              "      <td>Something Queer on Vacation</td>\n",
              "      <td>5.000000</td>\n",
              "      <td>1.0</td>\n",
              "      <td>['Elizabeth Levy']</td>\n",
              "      <td>1980.0</td>\n",
              "      <td>seashore gwen jill determine win weekly sandca...</td>\n",
              "    </tr>\n",
              "    <tr>\n",
              "      <th>79261</th>\n",
              "      <td>Birds of Massachusetts Field Guide</td>\n",
              "      <td>4.875000</td>\n",
              "      <td>16.0</td>\n",
              "      <td>['Donald Stokes', 'Lillian Stokes']</td>\n",
              "      <td>2010.0</td>\n",
              "      <td>nature culmination many year research observat...</td>\n",
              "    </tr>\n",
              "    <tr>\n",
              "      <th>46878</th>\n",
              "      <td>The Criminal Personality: The Change Process (...</td>\n",
              "      <td>4.750000</td>\n",
              "      <td>4.0</td>\n",
              "      <td>['Samuel Yochelson', 'Stanton E. Samenow']</td>\n",
              "      <td>1976.0</td>\n",
              "      <td>criminal psychology dr chessick us metaphor te...</td>\n",
              "    </tr>\n",
              "  </tbody>\n",
              "</table>\n",
              "</div>\n",
              "      <button class=\"colab-df-convert\" onclick=\"convertToInteractive('df-03422d0a-ae51-4e02-b667-052d1cf78eb3')\"\n",
              "              title=\"Convert this dataframe to an interactive table.\"\n",
              "              style=\"display:none;\">\n",
              "        \n",
              "  <svg xmlns=\"http://www.w3.org/2000/svg\" height=\"24px\"viewBox=\"0 0 24 24\"\n",
              "       width=\"24px\">\n",
              "    <path d=\"M0 0h24v24H0V0z\" fill=\"none\"/>\n",
              "    <path d=\"M18.56 5.44l.94 2.06.94-2.06 2.06-.94-2.06-.94-.94-2.06-.94 2.06-2.06.94zm-11 1L8.5 8.5l.94-2.06 2.06-.94-2.06-.94L8.5 2.5l-.94 2.06-2.06.94zm10 10l.94 2.06.94-2.06 2.06-.94-2.06-.94-.94-2.06-.94 2.06-2.06.94z\"/><path d=\"M17.41 7.96l-1.37-1.37c-.4-.4-.92-.59-1.43-.59-.52 0-1.04.2-1.43.59L10.3 9.45l-7.72 7.72c-.78.78-.78 2.05 0 2.83L4 21.41c.39.39.9.59 1.41.59.51 0 1.02-.2 1.41-.59l7.78-7.78 2.81-2.81c.8-.78.8-2.07 0-2.86zM5.41 20L4 18.59l7.72-7.72 1.47 1.35L5.41 20z\"/>\n",
              "  </svg>\n",
              "      </button>\n",
              "      \n",
              "  <style>\n",
              "    .colab-df-container {\n",
              "      display:flex;\n",
              "      flex-wrap:wrap;\n",
              "      gap: 12px;\n",
              "    }\n",
              "\n",
              "    .colab-df-convert {\n",
              "      background-color: #E8F0FE;\n",
              "      border: none;\n",
              "      border-radius: 50%;\n",
              "      cursor: pointer;\n",
              "      display: none;\n",
              "      fill: #1967D2;\n",
              "      height: 32px;\n",
              "      padding: 0 0 0 0;\n",
              "      width: 32px;\n",
              "    }\n",
              "\n",
              "    .colab-df-convert:hover {\n",
              "      background-color: #E2EBFA;\n",
              "      box-shadow: 0px 1px 2px rgba(60, 64, 67, 0.3), 0px 1px 3px 1px rgba(60, 64, 67, 0.15);\n",
              "      fill: #174EA6;\n",
              "    }\n",
              "\n",
              "    [theme=dark] .colab-df-convert {\n",
              "      background-color: #3B4455;\n",
              "      fill: #D2E3FC;\n",
              "    }\n",
              "\n",
              "    [theme=dark] .colab-df-convert:hover {\n",
              "      background-color: #434B5C;\n",
              "      box-shadow: 0px 1px 3px 1px rgba(0, 0, 0, 0.15);\n",
              "      filter: drop-shadow(0px 1px 2px rgba(0, 0, 0, 0.3));\n",
              "      fill: #FFFFFF;\n",
              "    }\n",
              "  </style>\n",
              "\n",
              "      <script>\n",
              "        const buttonEl =\n",
              "          document.querySelector('#df-03422d0a-ae51-4e02-b667-052d1cf78eb3 button.colab-df-convert');\n",
              "        buttonEl.style.display =\n",
              "          google.colab.kernel.accessAllowed ? 'block' : 'none';\n",
              "\n",
              "        async function convertToInteractive(key) {\n",
              "          const element = document.querySelector('#df-03422d0a-ae51-4e02-b667-052d1cf78eb3');\n",
              "          const dataTable =\n",
              "            await google.colab.kernel.invokeFunction('convertToInteractive',\n",
              "                                                     [key], {});\n",
              "          if (!dataTable) return;\n",
              "\n",
              "          const docLinkHtml = 'Like what you see? Visit the ' +\n",
              "            '<a target=\"_blank\" href=https://colab.research.google.com/notebooks/data_table.ipynb>data table notebook</a>'\n",
              "            + ' to learn more about interactive tables.';\n",
              "          element.innerHTML = '';\n",
              "          dataTable['output_type'] = 'display_data';\n",
              "          await google.colab.output.renderOutput(dataTable, element);\n",
              "          const docLink = document.createElement('div');\n",
              "          docLink.innerHTML = docLinkHtml;\n",
              "          element.appendChild(docLink);\n",
              "        }\n",
              "      </script>\n",
              "    </div>\n",
              "  </div>\n",
              "  "
            ]
          },
          "metadata": {},
          "execution_count": 7
        }
      ],
      "source": [
        "books.sample(5)"
      ]
    },
    {
      "cell_type": "markdown",
      "source": [
        "# Taking a subset of the data by selecting the books which received more than 10 reviews\n",
        "\n",
        "I am taking a subset of the book data to preform Count Vectorizer and Cosine Similarity. The full dataset proved to be too large even with Google Colab Pro and enabling GPU and High Ram."
      ],
      "metadata": {
        "id": "9zFFFAVnhZkQ"
      },
      "id": "9zFFFAVnhZkQ"
    },
    {
      "cell_type": "code",
      "source": [
        "books_sm = books[books['review/score_Count'] > 10]\n",
        "books_sm.head(3)"
      ],
      "metadata": {
        "colab": {
          "base_uri": "https://localhost:8080/",
          "height": 143
        },
        "id": "9vWEdm5GM3MJ",
        "outputId": "959b5c37-f9bd-4148-a6e4-d42e9bc23304"
      },
      "id": "9vWEdm5GM3MJ",
      "execution_count": 8,
      "outputs": [
        {
          "output_type": "execute_result",
          "data": {
            "text/plain": [
              "                                Title  review/score_Avg  review/score_Count  \\\n",
              "2       Whispers of the Wicked Saints          3.718750                32.0   \n",
              "15                   Alaska Sourdough          4.333333                27.0   \n",
              "17  Eyewitness Travel Guide to Europe          4.259259                27.0   \n",
              "\n",
              "                                              authors  publishedDate  \\\n",
              "2                                 ['Veronica Haddon']         2005.0   \n",
              "15                                    ['Ruth Allman']         1976.0   \n",
              "17  ['Dorling Kindersley Publishing Staff', 'Jonat...         2015.0   \n",
              "\n",
              "                        description_categories_joined  \n",
              "2   fiction julia thomas find life spinning contro...  \n",
              "15  cooking sourdough magical food author ruth all...  \n",
              "17  europe dk eyewitness travel guide eastern cent...  "
            ],
            "text/html": [
              "\n",
              "  <div id=\"df-4fc5dd74-ed10-43c1-a6c4-60cbac655687\">\n",
              "    <div class=\"colab-df-container\">\n",
              "      <div>\n",
              "<style scoped>\n",
              "    .dataframe tbody tr th:only-of-type {\n",
              "        vertical-align: middle;\n",
              "    }\n",
              "\n",
              "    .dataframe tbody tr th {\n",
              "        vertical-align: top;\n",
              "    }\n",
              "\n",
              "    .dataframe thead th {\n",
              "        text-align: right;\n",
              "    }\n",
              "</style>\n",
              "<table border=\"1\" class=\"dataframe\">\n",
              "  <thead>\n",
              "    <tr style=\"text-align: right;\">\n",
              "      <th></th>\n",
              "      <th>Title</th>\n",
              "      <th>review/score_Avg</th>\n",
              "      <th>review/score_Count</th>\n",
              "      <th>authors</th>\n",
              "      <th>publishedDate</th>\n",
              "      <th>description_categories_joined</th>\n",
              "    </tr>\n",
              "  </thead>\n",
              "  <tbody>\n",
              "    <tr>\n",
              "      <th>2</th>\n",
              "      <td>Whispers of the Wicked Saints</td>\n",
              "      <td>3.718750</td>\n",
              "      <td>32.0</td>\n",
              "      <td>['Veronica Haddon']</td>\n",
              "      <td>2005.0</td>\n",
              "      <td>fiction julia thomas find life spinning contro...</td>\n",
              "    </tr>\n",
              "    <tr>\n",
              "      <th>15</th>\n",
              "      <td>Alaska Sourdough</td>\n",
              "      <td>4.333333</td>\n",
              "      <td>27.0</td>\n",
              "      <td>['Ruth Allman']</td>\n",
              "      <td>1976.0</td>\n",
              "      <td>cooking sourdough magical food author ruth all...</td>\n",
              "    </tr>\n",
              "    <tr>\n",
              "      <th>17</th>\n",
              "      <td>Eyewitness Travel Guide to Europe</td>\n",
              "      <td>4.259259</td>\n",
              "      <td>27.0</td>\n",
              "      <td>['Dorling Kindersley Publishing Staff', 'Jonat...</td>\n",
              "      <td>2015.0</td>\n",
              "      <td>europe dk eyewitness travel guide eastern cent...</td>\n",
              "    </tr>\n",
              "  </tbody>\n",
              "</table>\n",
              "</div>\n",
              "      <button class=\"colab-df-convert\" onclick=\"convertToInteractive('df-4fc5dd74-ed10-43c1-a6c4-60cbac655687')\"\n",
              "              title=\"Convert this dataframe to an interactive table.\"\n",
              "              style=\"display:none;\">\n",
              "        \n",
              "  <svg xmlns=\"http://www.w3.org/2000/svg\" height=\"24px\"viewBox=\"0 0 24 24\"\n",
              "       width=\"24px\">\n",
              "    <path d=\"M0 0h24v24H0V0z\" fill=\"none\"/>\n",
              "    <path d=\"M18.56 5.44l.94 2.06.94-2.06 2.06-.94-2.06-.94-.94-2.06-.94 2.06-2.06.94zm-11 1L8.5 8.5l.94-2.06 2.06-.94-2.06-.94L8.5 2.5l-.94 2.06-2.06.94zm10 10l.94 2.06.94-2.06 2.06-.94-2.06-.94-.94-2.06-.94 2.06-2.06.94z\"/><path d=\"M17.41 7.96l-1.37-1.37c-.4-.4-.92-.59-1.43-.59-.52 0-1.04.2-1.43.59L10.3 9.45l-7.72 7.72c-.78.78-.78 2.05 0 2.83L4 21.41c.39.39.9.59 1.41.59.51 0 1.02-.2 1.41-.59l7.78-7.78 2.81-2.81c.8-.78.8-2.07 0-2.86zM5.41 20L4 18.59l7.72-7.72 1.47 1.35L5.41 20z\"/>\n",
              "  </svg>\n",
              "      </button>\n",
              "      \n",
              "  <style>\n",
              "    .colab-df-container {\n",
              "      display:flex;\n",
              "      flex-wrap:wrap;\n",
              "      gap: 12px;\n",
              "    }\n",
              "\n",
              "    .colab-df-convert {\n",
              "      background-color: #E8F0FE;\n",
              "      border: none;\n",
              "      border-radius: 50%;\n",
              "      cursor: pointer;\n",
              "      display: none;\n",
              "      fill: #1967D2;\n",
              "      height: 32px;\n",
              "      padding: 0 0 0 0;\n",
              "      width: 32px;\n",
              "    }\n",
              "\n",
              "    .colab-df-convert:hover {\n",
              "      background-color: #E2EBFA;\n",
              "      box-shadow: 0px 1px 2px rgba(60, 64, 67, 0.3), 0px 1px 3px 1px rgba(60, 64, 67, 0.15);\n",
              "      fill: #174EA6;\n",
              "    }\n",
              "\n",
              "    [theme=dark] .colab-df-convert {\n",
              "      background-color: #3B4455;\n",
              "      fill: #D2E3FC;\n",
              "    }\n",
              "\n",
              "    [theme=dark] .colab-df-convert:hover {\n",
              "      background-color: #434B5C;\n",
              "      box-shadow: 0px 1px 3px 1px rgba(0, 0, 0, 0.15);\n",
              "      filter: drop-shadow(0px 1px 2px rgba(0, 0, 0, 0.3));\n",
              "      fill: #FFFFFF;\n",
              "    }\n",
              "  </style>\n",
              "\n",
              "      <script>\n",
              "        const buttonEl =\n",
              "          document.querySelector('#df-4fc5dd74-ed10-43c1-a6c4-60cbac655687 button.colab-df-convert');\n",
              "        buttonEl.style.display =\n",
              "          google.colab.kernel.accessAllowed ? 'block' : 'none';\n",
              "\n",
              "        async function convertToInteractive(key) {\n",
              "          const element = document.querySelector('#df-4fc5dd74-ed10-43c1-a6c4-60cbac655687');\n",
              "          const dataTable =\n",
              "            await google.colab.kernel.invokeFunction('convertToInteractive',\n",
              "                                                     [key], {});\n",
              "          if (!dataTable) return;\n",
              "\n",
              "          const docLinkHtml = 'Like what you see? Visit the ' +\n",
              "            '<a target=\"_blank\" href=https://colab.research.google.com/notebooks/data_table.ipynb>data table notebook</a>'\n",
              "            + ' to learn more about interactive tables.';\n",
              "          element.innerHTML = '';\n",
              "          dataTable['output_type'] = 'display_data';\n",
              "          await google.colab.output.renderOutput(dataTable, element);\n",
              "          const docLink = document.createElement('div');\n",
              "          docLink.innerHTML = docLinkHtml;\n",
              "          element.appendChild(docLink);\n",
              "        }\n",
              "      </script>\n",
              "    </div>\n",
              "  </div>\n",
              "  "
            ]
          },
          "metadata": {},
          "execution_count": 8
        }
      ]
    },
    {
      "cell_type": "code",
      "source": [
        "books_sm = books_sm.reset_index(drop=True)\n",
        "books_sm.head(3)"
      ],
      "metadata": {
        "colab": {
          "base_uri": "https://localhost:8080/",
          "height": 143
        },
        "id": "Sw5FDUuHfLAT",
        "outputId": "db31703a-5335-45c9-a034-54810e1a0014"
      },
      "id": "Sw5FDUuHfLAT",
      "execution_count": 9,
      "outputs": [
        {
          "output_type": "execute_result",
          "data": {
            "text/plain": [
              "                               Title  review/score_Avg  review/score_Count  \\\n",
              "0      Whispers of the Wicked Saints          3.718750                32.0   \n",
              "1                   Alaska Sourdough          4.333333                27.0   \n",
              "2  Eyewitness Travel Guide to Europe          4.259259                27.0   \n",
              "\n",
              "                                             authors  publishedDate  \\\n",
              "0                                ['Veronica Haddon']         2005.0   \n",
              "1                                    ['Ruth Allman']         1976.0   \n",
              "2  ['Dorling Kindersley Publishing Staff', 'Jonat...         2015.0   \n",
              "\n",
              "                       description_categories_joined  \n",
              "0  fiction julia thomas find life spinning contro...  \n",
              "1  cooking sourdough magical food author ruth all...  \n",
              "2  europe dk eyewitness travel guide eastern cent...  "
            ],
            "text/html": [
              "\n",
              "  <div id=\"df-be0a373e-6e74-4da5-9240-ff87eb0b316d\">\n",
              "    <div class=\"colab-df-container\">\n",
              "      <div>\n",
              "<style scoped>\n",
              "    .dataframe tbody tr th:only-of-type {\n",
              "        vertical-align: middle;\n",
              "    }\n",
              "\n",
              "    .dataframe tbody tr th {\n",
              "        vertical-align: top;\n",
              "    }\n",
              "\n",
              "    .dataframe thead th {\n",
              "        text-align: right;\n",
              "    }\n",
              "</style>\n",
              "<table border=\"1\" class=\"dataframe\">\n",
              "  <thead>\n",
              "    <tr style=\"text-align: right;\">\n",
              "      <th></th>\n",
              "      <th>Title</th>\n",
              "      <th>review/score_Avg</th>\n",
              "      <th>review/score_Count</th>\n",
              "      <th>authors</th>\n",
              "      <th>publishedDate</th>\n",
              "      <th>description_categories_joined</th>\n",
              "    </tr>\n",
              "  </thead>\n",
              "  <tbody>\n",
              "    <tr>\n",
              "      <th>0</th>\n",
              "      <td>Whispers of the Wicked Saints</td>\n",
              "      <td>3.718750</td>\n",
              "      <td>32.0</td>\n",
              "      <td>['Veronica Haddon']</td>\n",
              "      <td>2005.0</td>\n",
              "      <td>fiction julia thomas find life spinning contro...</td>\n",
              "    </tr>\n",
              "    <tr>\n",
              "      <th>1</th>\n",
              "      <td>Alaska Sourdough</td>\n",
              "      <td>4.333333</td>\n",
              "      <td>27.0</td>\n",
              "      <td>['Ruth Allman']</td>\n",
              "      <td>1976.0</td>\n",
              "      <td>cooking sourdough magical food author ruth all...</td>\n",
              "    </tr>\n",
              "    <tr>\n",
              "      <th>2</th>\n",
              "      <td>Eyewitness Travel Guide to Europe</td>\n",
              "      <td>4.259259</td>\n",
              "      <td>27.0</td>\n",
              "      <td>['Dorling Kindersley Publishing Staff', 'Jonat...</td>\n",
              "      <td>2015.0</td>\n",
              "      <td>europe dk eyewitness travel guide eastern cent...</td>\n",
              "    </tr>\n",
              "  </tbody>\n",
              "</table>\n",
              "</div>\n",
              "      <button class=\"colab-df-convert\" onclick=\"convertToInteractive('df-be0a373e-6e74-4da5-9240-ff87eb0b316d')\"\n",
              "              title=\"Convert this dataframe to an interactive table.\"\n",
              "              style=\"display:none;\">\n",
              "        \n",
              "  <svg xmlns=\"http://www.w3.org/2000/svg\" height=\"24px\"viewBox=\"0 0 24 24\"\n",
              "       width=\"24px\">\n",
              "    <path d=\"M0 0h24v24H0V0z\" fill=\"none\"/>\n",
              "    <path d=\"M18.56 5.44l.94 2.06.94-2.06 2.06-.94-2.06-.94-.94-2.06-.94 2.06-2.06.94zm-11 1L8.5 8.5l.94-2.06 2.06-.94-2.06-.94L8.5 2.5l-.94 2.06-2.06.94zm10 10l.94 2.06.94-2.06 2.06-.94-2.06-.94-.94-2.06-.94 2.06-2.06.94z\"/><path d=\"M17.41 7.96l-1.37-1.37c-.4-.4-.92-.59-1.43-.59-.52 0-1.04.2-1.43.59L10.3 9.45l-7.72 7.72c-.78.78-.78 2.05 0 2.83L4 21.41c.39.39.9.59 1.41.59.51 0 1.02-.2 1.41-.59l7.78-7.78 2.81-2.81c.8-.78.8-2.07 0-2.86zM5.41 20L4 18.59l7.72-7.72 1.47 1.35L5.41 20z\"/>\n",
              "  </svg>\n",
              "      </button>\n",
              "      \n",
              "  <style>\n",
              "    .colab-df-container {\n",
              "      display:flex;\n",
              "      flex-wrap:wrap;\n",
              "      gap: 12px;\n",
              "    }\n",
              "\n",
              "    .colab-df-convert {\n",
              "      background-color: #E8F0FE;\n",
              "      border: none;\n",
              "      border-radius: 50%;\n",
              "      cursor: pointer;\n",
              "      display: none;\n",
              "      fill: #1967D2;\n",
              "      height: 32px;\n",
              "      padding: 0 0 0 0;\n",
              "      width: 32px;\n",
              "    }\n",
              "\n",
              "    .colab-df-convert:hover {\n",
              "      background-color: #E2EBFA;\n",
              "      box-shadow: 0px 1px 2px rgba(60, 64, 67, 0.3), 0px 1px 3px 1px rgba(60, 64, 67, 0.15);\n",
              "      fill: #174EA6;\n",
              "    }\n",
              "\n",
              "    [theme=dark] .colab-df-convert {\n",
              "      background-color: #3B4455;\n",
              "      fill: #D2E3FC;\n",
              "    }\n",
              "\n",
              "    [theme=dark] .colab-df-convert:hover {\n",
              "      background-color: #434B5C;\n",
              "      box-shadow: 0px 1px 3px 1px rgba(0, 0, 0, 0.15);\n",
              "      filter: drop-shadow(0px 1px 2px rgba(0, 0, 0, 0.3));\n",
              "      fill: #FFFFFF;\n",
              "    }\n",
              "  </style>\n",
              "\n",
              "      <script>\n",
              "        const buttonEl =\n",
              "          document.querySelector('#df-be0a373e-6e74-4da5-9240-ff87eb0b316d button.colab-df-convert');\n",
              "        buttonEl.style.display =\n",
              "          google.colab.kernel.accessAllowed ? 'block' : 'none';\n",
              "\n",
              "        async function convertToInteractive(key) {\n",
              "          const element = document.querySelector('#df-be0a373e-6e74-4da5-9240-ff87eb0b316d');\n",
              "          const dataTable =\n",
              "            await google.colab.kernel.invokeFunction('convertToInteractive',\n",
              "                                                     [key], {});\n",
              "          if (!dataTable) return;\n",
              "\n",
              "          const docLinkHtml = 'Like what you see? Visit the ' +\n",
              "            '<a target=\"_blank\" href=https://colab.research.google.com/notebooks/data_table.ipynb>data table notebook</a>'\n",
              "            + ' to learn more about interactive tables.';\n",
              "          element.innerHTML = '';\n",
              "          dataTable['output_type'] = 'display_data';\n",
              "          await google.colab.output.renderOutput(dataTable, element);\n",
              "          const docLink = document.createElement('div');\n",
              "          docLink.innerHTML = docLinkHtml;\n",
              "          element.appendChild(docLink);\n",
              "        }\n",
              "      </script>\n",
              "    </div>\n",
              "  </div>\n",
              "  "
            ]
          },
          "metadata": {},
          "execution_count": 9
        }
      ]
    },
    {
      "cell_type": "markdown",
      "source": [
        "# Vectorizing and creating cosine similarity matrix"
      ],
      "metadata": {
        "id": "8Wg5ZEKwhuhT"
      },
      "id": "8Wg5ZEKwhuhT"
    },
    {
      "cell_type": "code",
      "source": [
        "from sklearn.feature_extraction.text import CountVectorizer\n",
        "from sklearn.metrics.pairwise import cosine_similarity"
      ],
      "metadata": {
        "id": "5MknyosJhtK-"
      },
      "id": "5MknyosJhtK-",
      "execution_count": 8,
      "outputs": []
    },
    {
      "cell_type": "code",
      "source": [
        "cv = CountVectorizer() \n",
        "count_matrix_sm = cv.fit_transform(books_sm['description_categories_joined'])"
      ],
      "metadata": {
        "id": "l7r76-pbM3I3"
      },
      "id": "l7r76-pbM3I3",
      "execution_count": 10,
      "outputs": []
    },
    {
      "cell_type": "code",
      "source": [
        "from sklearn.metrics.pairwise import cosine_similarity\n",
        "cosine_sim_sm = cosine_similarity(count_matrix_sm)\n",
        "print(cosine_sim_sm.shape)\n",
        "cosine_sim_sm"
      ],
      "metadata": {
        "id": "ZdMsjC5_M3CT",
        "colab": {
          "base_uri": "https://localhost:8080/"
        },
        "outputId": "e7bda97c-69e3-4ebc-9d18-6857c5b51deb"
      },
      "id": "ZdMsjC5_M3CT",
      "execution_count": 11,
      "outputs": [
        {
          "output_type": "stream",
          "name": "stdout",
          "text": [
            "(30514, 30514)\n"
          ]
        },
        {
          "output_type": "execute_result",
          "data": {
            "text/plain": [
              "array([[1.        , 0.03091593, 0.0106389 , ..., 0.03220041, 0.03821966,\n",
              "        0.01796053],\n",
              "       [0.03091593, 1.        , 0.01911798, ..., 0.05143445, 0.053418  ,\n",
              "        0.04303315],\n",
              "       [0.0106389 , 0.01911798, 1.        , ..., 0.05752438, 0.09453802,\n",
              "        0.05923489],\n",
              "       ...,\n",
              "       [0.03220041, 0.05143445, 0.05752438, ..., 1.        , 0.05298799,\n",
              "        0.        ],\n",
              "       [0.03821966, 0.053418  , 0.09453802, ..., 0.05298799, 1.        ,\n",
              "        0.        ],\n",
              "       [0.01796053, 0.04303315, 0.05923489, ..., 0.        , 0.        ,\n",
              "        1.        ]])"
            ]
          },
          "metadata": {},
          "execution_count": 11
        }
      ]
    },
    {
      "cell_type": "code",
      "source": [
        "cosine_sim_sm[0]"
      ],
      "metadata": {
        "colab": {
          "base_uri": "https://localhost:8080/"
        },
        "id": "Y0c9pW0YM2vA",
        "outputId": "4abfd5f6-c0ed-45e7-9f98-45e548e5b9ea"
      },
      "id": "Y0c9pW0YM2vA",
      "execution_count": 12,
      "outputs": [
        {
          "output_type": "execute_result",
          "data": {
            "text/plain": [
              "array([1.        , 0.03091593, 0.0106389 , ..., 0.03220041, 0.03821966,\n",
              "       0.01796053])"
            ]
          },
          "metadata": {},
          "execution_count": 12
        }
      ]
    },
    {
      "cell_type": "markdown",
      "source": [
        "# Finding the 5 most similar books to the book in 0 index place"
      ],
      "metadata": {
        "id": "36PHp1qSoBX0"
      },
      "id": "36PHp1qSoBX0"
    },
    {
      "cell_type": "code",
      "source": [
        "sim_0 = pd.DataFrame(cosine_sim_sm[0], columns=['sim']).sort_values(by='sim', ascending=False)\n",
        "sim_0.reset_index(inplace = True)\n",
        "sim_0.head()"
      ],
      "metadata": {
        "colab": {
          "base_uri": "https://localhost:8080/",
          "height": 206
        },
        "id": "bq5Rp31xUuNk",
        "outputId": "d8c551b9-7f8f-408a-a87c-1a75d2064a08"
      },
      "id": "bq5Rp31xUuNk",
      "execution_count": 13,
      "outputs": [
        {
          "output_type": "execute_result",
          "data": {
            "text/plain": [
              "   index       sim\n",
              "0      0  1.000000\n",
              "1   7821  0.255056\n",
              "2  25699  0.234787\n",
              "3  25715  0.226362\n",
              "4  21375  0.224901"
            ],
            "text/html": [
              "\n",
              "  <div id=\"df-3baf5faf-3cd9-42bd-8d89-e6a4aece9fb7\">\n",
              "    <div class=\"colab-df-container\">\n",
              "      <div>\n",
              "<style scoped>\n",
              "    .dataframe tbody tr th:only-of-type {\n",
              "        vertical-align: middle;\n",
              "    }\n",
              "\n",
              "    .dataframe tbody tr th {\n",
              "        vertical-align: top;\n",
              "    }\n",
              "\n",
              "    .dataframe thead th {\n",
              "        text-align: right;\n",
              "    }\n",
              "</style>\n",
              "<table border=\"1\" class=\"dataframe\">\n",
              "  <thead>\n",
              "    <tr style=\"text-align: right;\">\n",
              "      <th></th>\n",
              "      <th>index</th>\n",
              "      <th>sim</th>\n",
              "    </tr>\n",
              "  </thead>\n",
              "  <tbody>\n",
              "    <tr>\n",
              "      <th>0</th>\n",
              "      <td>0</td>\n",
              "      <td>1.000000</td>\n",
              "    </tr>\n",
              "    <tr>\n",
              "      <th>1</th>\n",
              "      <td>7821</td>\n",
              "      <td>0.255056</td>\n",
              "    </tr>\n",
              "    <tr>\n",
              "      <th>2</th>\n",
              "      <td>25699</td>\n",
              "      <td>0.234787</td>\n",
              "    </tr>\n",
              "    <tr>\n",
              "      <th>3</th>\n",
              "      <td>25715</td>\n",
              "      <td>0.226362</td>\n",
              "    </tr>\n",
              "    <tr>\n",
              "      <th>4</th>\n",
              "      <td>21375</td>\n",
              "      <td>0.224901</td>\n",
              "    </tr>\n",
              "  </tbody>\n",
              "</table>\n",
              "</div>\n",
              "      <button class=\"colab-df-convert\" onclick=\"convertToInteractive('df-3baf5faf-3cd9-42bd-8d89-e6a4aece9fb7')\"\n",
              "              title=\"Convert this dataframe to an interactive table.\"\n",
              "              style=\"display:none;\">\n",
              "        \n",
              "  <svg xmlns=\"http://www.w3.org/2000/svg\" height=\"24px\"viewBox=\"0 0 24 24\"\n",
              "       width=\"24px\">\n",
              "    <path d=\"M0 0h24v24H0V0z\" fill=\"none\"/>\n",
              "    <path d=\"M18.56 5.44l.94 2.06.94-2.06 2.06-.94-2.06-.94-.94-2.06-.94 2.06-2.06.94zm-11 1L8.5 8.5l.94-2.06 2.06-.94-2.06-.94L8.5 2.5l-.94 2.06-2.06.94zm10 10l.94 2.06.94-2.06 2.06-.94-2.06-.94-.94-2.06-.94 2.06-2.06.94z\"/><path d=\"M17.41 7.96l-1.37-1.37c-.4-.4-.92-.59-1.43-.59-.52 0-1.04.2-1.43.59L10.3 9.45l-7.72 7.72c-.78.78-.78 2.05 0 2.83L4 21.41c.39.39.9.59 1.41.59.51 0 1.02-.2 1.41-.59l7.78-7.78 2.81-2.81c.8-.78.8-2.07 0-2.86zM5.41 20L4 18.59l7.72-7.72 1.47 1.35L5.41 20z\"/>\n",
              "  </svg>\n",
              "      </button>\n",
              "      \n",
              "  <style>\n",
              "    .colab-df-container {\n",
              "      display:flex;\n",
              "      flex-wrap:wrap;\n",
              "      gap: 12px;\n",
              "    }\n",
              "\n",
              "    .colab-df-convert {\n",
              "      background-color: #E8F0FE;\n",
              "      border: none;\n",
              "      border-radius: 50%;\n",
              "      cursor: pointer;\n",
              "      display: none;\n",
              "      fill: #1967D2;\n",
              "      height: 32px;\n",
              "      padding: 0 0 0 0;\n",
              "      width: 32px;\n",
              "    }\n",
              "\n",
              "    .colab-df-convert:hover {\n",
              "      background-color: #E2EBFA;\n",
              "      box-shadow: 0px 1px 2px rgba(60, 64, 67, 0.3), 0px 1px 3px 1px rgba(60, 64, 67, 0.15);\n",
              "      fill: #174EA6;\n",
              "    }\n",
              "\n",
              "    [theme=dark] .colab-df-convert {\n",
              "      background-color: #3B4455;\n",
              "      fill: #D2E3FC;\n",
              "    }\n",
              "\n",
              "    [theme=dark] .colab-df-convert:hover {\n",
              "      background-color: #434B5C;\n",
              "      box-shadow: 0px 1px 3px 1px rgba(0, 0, 0, 0.15);\n",
              "      filter: drop-shadow(0px 1px 2px rgba(0, 0, 0, 0.3));\n",
              "      fill: #FFFFFF;\n",
              "    }\n",
              "  </style>\n",
              "\n",
              "      <script>\n",
              "        const buttonEl =\n",
              "          document.querySelector('#df-3baf5faf-3cd9-42bd-8d89-e6a4aece9fb7 button.colab-df-convert');\n",
              "        buttonEl.style.display =\n",
              "          google.colab.kernel.accessAllowed ? 'block' : 'none';\n",
              "\n",
              "        async function convertToInteractive(key) {\n",
              "          const element = document.querySelector('#df-3baf5faf-3cd9-42bd-8d89-e6a4aece9fb7');\n",
              "          const dataTable =\n",
              "            await google.colab.kernel.invokeFunction('convertToInteractive',\n",
              "                                                     [key], {});\n",
              "          if (!dataTable) return;\n",
              "\n",
              "          const docLinkHtml = 'Like what you see? Visit the ' +\n",
              "            '<a target=\"_blank\" href=https://colab.research.google.com/notebooks/data_table.ipynb>data table notebook</a>'\n",
              "            + ' to learn more about interactive tables.';\n",
              "          element.innerHTML = '';\n",
              "          dataTable['output_type'] = 'display_data';\n",
              "          await google.colab.output.renderOutput(dataTable, element);\n",
              "          const docLink = document.createElement('div');\n",
              "          docLink.innerHTML = docLinkHtml;\n",
              "          element.appendChild(docLink);\n",
              "        }\n",
              "      </script>\n",
              "    </div>\n",
              "  </div>\n",
              "  "
            ]
          },
          "metadata": {},
          "execution_count": 13
        }
      ]
    },
    {
      "cell_type": "code",
      "source": [
        "for i in range(1,6):\n",
        "  indexes = int(sim_0.loc[i]['index'])\n",
        "  print(indexes, books['Title'][indexes])\n",
        "  "
      ],
      "metadata": {
        "colab": {
          "base_uri": "https://localhost:8080/"
        },
        "id": "pl8fjpFdg8rO",
        "outputId": "d7b0f05d-2122-4bf7-ecb9-d4a8ff0b3371"
      },
      "id": "pl8fjpFdg8rO",
      "execution_count": 14,
      "outputs": [
        {
          "output_type": "stream",
          "name": "stdout",
          "text": [
            "7821 240 Vocabulary Words 4th Grade Kids Need To Know: 24 Ready-to-Reproduce Packets That Make Vocabulary Building Fun & Effective\n",
            "25699 On the aesthetic education of man, in a series of letters\n",
            "25715 The year around: Poems for children\n",
            "21375 Unless You Repent\n",
            "26958 Handbook of Hydraulic Resistance\n"
          ]
        }
      ]
    },
    {
      "cell_type": "markdown",
      "source": [
        "# Making a Function which finds similar books to a given title"
      ],
      "metadata": {
        "id": "97f8yNBXmYt0"
      },
      "id": "97f8yNBXmYt0"
    },
    {
      "cell_type": "code",
      "source": [
        "def find_similar(title, df, df_col, sims):\n",
        "    index_val = df[df_col == title].index\n",
        "    sim = sims[index_val]\n",
        "    sim = pd.DataFrame(sim).T\n",
        "    sim.columns = ['sim']\n",
        "    sim = sim.sort_values(by='sim', ascending = False)\n",
        "    sim = sim.reset_index()\n",
        "\n",
        "    for i in range(1,6):\n",
        "        indexes = int(sim.loc[i]['index'])\n",
        "        print(indexes, df_col[indexes])\n"
      ],
      "metadata": {
        "id": "gWsfLG7Rg8fr"
      },
      "id": "gWsfLG7Rg8fr",
      "execution_count": 19,
      "outputs": []
    },
    {
      "cell_type": "code",
      "source": [
        "title = 'Eyewitness Travel Guide to Europe'\n",
        "df = books_sm\n",
        "df_col = books_sm['Title']\n",
        "sims = cosine_sim_sm\n"
      ],
      "metadata": {
        "id": "YOWVZO0QbaDV"
      },
      "id": "YOWVZO0QbaDV",
      "execution_count": 22,
      "outputs": []
    },
    {
      "cell_type": "code",
      "source": [
        "find_similar(title, df, df_col, sims)"
      ],
      "metadata": {
        "colab": {
          "base_uri": "https://localhost:8080/"
        },
        "id": "mrLA47vsg8b1",
        "outputId": "052e196e-02b0-42ac-d84b-66d502923bd8"
      },
      "id": "mrLA47vsg8b1",
      "execution_count": 23,
      "outputs": [
        {
          "output_type": "stream",
          "name": "stdout",
          "text": [
            "18384 Hawaii (Eyewitness Travel Guides)\n",
            "11835 Denmark (Eyewitness Travel Guides)\n",
            "25668 South Africa (Eyewitness Travel Guides)\n",
            "20405 Insight Guides Puerto Rico (Insight Guide Puerto Rico)\n",
            "18146 Amsterdam (Eyewitness Top 10 Travel Guides)\n"
          ]
        }
      ]
    },
    {
      "cell_type": "markdown",
      "source": [
        "# How about the book reviews data\n",
        "\n",
        "Initially, my plan was to also work on the review texts of the reviews data. However, with the reviews data containing more than 2 million rows, it requires an insane amount of memory. Therefore, I am going to base my recommendations on just the categories and description columns of the books data."
      ],
      "metadata": {
        "id": "Vebk7sXLogNh"
      },
      "id": "Vebk7sXLogNh"
    }
  ],
  "metadata": {
    "kernelspec": {
      "display_name": "Python 3 (ipykernel)",
      "language": "python",
      "name": "python3"
    },
    "language_info": {
      "codemirror_mode": {
        "name": "ipython",
        "version": 3
      },
      "file_extension": ".py",
      "mimetype": "text/x-python",
      "name": "python",
      "nbconvert_exporter": "python",
      "pygments_lexer": "ipython3",
      "version": "3.9.7"
    },
    "colab": {
      "provenance": [],
      "include_colab_link": true
    },
    "gpuClass": "premium"
  },
  "nbformat": 4,
  "nbformat_minor": 5
}