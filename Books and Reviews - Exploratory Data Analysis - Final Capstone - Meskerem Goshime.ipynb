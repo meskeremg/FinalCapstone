{
 "cells": [
  {
   "cell_type": "code",
   "execution_count": 1,
   "id": "9b8095f6",
   "metadata": {},
   "outputs": [],
   "source": [
    "import pandas as pd\n",
    "import numpy as np\n",
    "import matplotlib.pyplot as plt\n",
    "import seaborn as sns"
   ]
  },
  {
   "cell_type": "code",
   "execution_count": 269,
   "id": "8bd7822c",
   "metadata": {},
   "outputs": [],
   "source": [
    "#reading the data\n",
    "books = pd.read_csv('books_wrangled.csv')"
   ]
  },
  {
   "cell_type": "code",
   "execution_count": 327,
   "id": "627d4a96",
   "metadata": {},
   "outputs": [],
   "source": [
    "ratings = pd.read_csv('ratings_wrangled.csv')"
   ]
  },
  {
   "cell_type": "code",
   "execution_count": 270,
   "id": "ac102a2e",
   "metadata": {
    "scrolled": true
   },
   "outputs": [
    {
     "data": {
      "text/html": [
       "<div>\n",
       "<style scoped>\n",
       "    .dataframe tbody tr th:only-of-type {\n",
       "        vertical-align: middle;\n",
       "    }\n",
       "\n",
       "    .dataframe tbody tr th {\n",
       "        vertical-align: top;\n",
       "    }\n",
       "\n",
       "    .dataframe thead th {\n",
       "        text-align: right;\n",
       "    }\n",
       "</style>\n",
       "<table border=\"1\" class=\"dataframe\">\n",
       "  <thead>\n",
       "    <tr style=\"text-align: right;\">\n",
       "      <th></th>\n",
       "      <th>Unnamed: 0</th>\n",
       "      <th>Title</th>\n",
       "      <th>review/score_Avg</th>\n",
       "      <th>review/score_Count</th>\n",
       "      <th>description</th>\n",
       "      <th>authors</th>\n",
       "      <th>publisher</th>\n",
       "      <th>publishedDate</th>\n",
       "      <th>categories</th>\n",
       "    </tr>\n",
       "  </thead>\n",
       "  <tbody>\n",
       "    <tr>\n",
       "      <th>0</th>\n",
       "      <td>Its Only Art If Its Well Hung!</td>\n",
       "      <td>Its Only Art If Its Well Hung!</td>\n",
       "      <td>4.000000</td>\n",
       "      <td>1.0</td>\n",
       "      <td>NaN</td>\n",
       "      <td>['Julie Strain']</td>\n",
       "      <td>NaN</td>\n",
       "      <td>1996</td>\n",
       "      <td>['Comics &amp; Graphic Novels']</td>\n",
       "    </tr>\n",
       "    <tr>\n",
       "      <th>1</th>\n",
       "      <td>Dr. Seuss: American Icon</td>\n",
       "      <td>Dr. Seuss: American Icon</td>\n",
       "      <td>4.555556</td>\n",
       "      <td>9.0</td>\n",
       "      <td>Philip Nel takes a fascinating look into the k...</td>\n",
       "      <td>['Philip Nel']</td>\n",
       "      <td>A&amp;C Black</td>\n",
       "      <td>2005-01-01</td>\n",
       "      <td>['Biography &amp; Autobiography']</td>\n",
       "    </tr>\n",
       "    <tr>\n",
       "      <th>2</th>\n",
       "      <td>Wonderful Worship in Smaller Churches</td>\n",
       "      <td>Wonderful Worship in Smaller Churches</td>\n",
       "      <td>5.000000</td>\n",
       "      <td>4.0</td>\n",
       "      <td>This resource includes twelve principles in un...</td>\n",
       "      <td>['David R. Ray']</td>\n",
       "      <td>NaN</td>\n",
       "      <td>2000</td>\n",
       "      <td>['Religion']</td>\n",
       "    </tr>\n",
       "  </tbody>\n",
       "</table>\n",
       "</div>"
      ],
      "text/plain": [
       "                              Unnamed: 0  \\\n",
       "0         Its Only Art If Its Well Hung!   \n",
       "1               Dr. Seuss: American Icon   \n",
       "2  Wonderful Worship in Smaller Churches   \n",
       "\n",
       "                                   Title  review/score_Avg  \\\n",
       "0         Its Only Art If Its Well Hung!          4.000000   \n",
       "1               Dr. Seuss: American Icon          4.555556   \n",
       "2  Wonderful Worship in Smaller Churches          5.000000   \n",
       "\n",
       "   review/score_Count                                        description  \\\n",
       "0                 1.0                                                NaN   \n",
       "1                 9.0  Philip Nel takes a fascinating look into the k...   \n",
       "2                 4.0  This resource includes twelve principles in un...   \n",
       "\n",
       "            authors  publisher publishedDate                     categories  \n",
       "0  ['Julie Strain']        NaN          1996    ['Comics & Graphic Novels']  \n",
       "1    ['Philip Nel']  A&C Black    2005-01-01  ['Biography & Autobiography']  \n",
       "2  ['David R. Ray']        NaN          2000                   ['Religion']  "
      ]
     },
     "execution_count": 270,
     "metadata": {},
     "output_type": "execute_result"
    }
   ],
   "source": [
    "books.head(3)"
   ]
  },
  {
   "cell_type": "code",
   "execution_count": 328,
   "id": "b2294d6d",
   "metadata": {
    "scrolled": true
   },
   "outputs": [
    {
     "data": {
      "text/html": [
       "<div>\n",
       "<style scoped>\n",
       "    .dataframe tbody tr th:only-of-type {\n",
       "        vertical-align: middle;\n",
       "    }\n",
       "\n",
       "    .dataframe tbody tr th {\n",
       "        vertical-align: top;\n",
       "    }\n",
       "\n",
       "    .dataframe thead th {\n",
       "        text-align: right;\n",
       "    }\n",
       "</style>\n",
       "<table border=\"1\" class=\"dataframe\">\n",
       "  <thead>\n",
       "    <tr style=\"text-align: right;\">\n",
       "      <th></th>\n",
       "      <th>Unnamed: 0</th>\n",
       "      <th>Id</th>\n",
       "      <th>Title</th>\n",
       "      <th>User_id</th>\n",
       "      <th>review/helpfulness</th>\n",
       "      <th>review/score</th>\n",
       "      <th>review/summary</th>\n",
       "      <th>review/text</th>\n",
       "    </tr>\n",
       "  </thead>\n",
       "  <tbody>\n",
       "    <tr>\n",
       "      <th>0</th>\n",
       "      <td>0</td>\n",
       "      <td>1882931173</td>\n",
       "      <td>Its Only Art If Its Well Hung!</td>\n",
       "      <td>AVCGYZL8FQQTD</td>\n",
       "      <td>7/7</td>\n",
       "      <td>4.0</td>\n",
       "      <td>Nice collection of Julie Strain images</td>\n",
       "      <td>This is only for Julie Strain fans. It's a col...</td>\n",
       "    </tr>\n",
       "    <tr>\n",
       "      <th>1</th>\n",
       "      <td>1</td>\n",
       "      <td>0826414346</td>\n",
       "      <td>Dr. Seuss: American Icon</td>\n",
       "      <td>A30TK6U7DNS82R</td>\n",
       "      <td>10/10</td>\n",
       "      <td>5.0</td>\n",
       "      <td>Really Enjoyed It</td>\n",
       "      <td>I don't care much for Dr. Seuss but after read...</td>\n",
       "    </tr>\n",
       "    <tr>\n",
       "      <th>2</th>\n",
       "      <td>2</td>\n",
       "      <td>0826414346</td>\n",
       "      <td>Dr. Seuss: American Icon</td>\n",
       "      <td>A3UH4UZ4RSVO82</td>\n",
       "      <td>10/11</td>\n",
       "      <td>5.0</td>\n",
       "      <td>Essential for every personal and Public Library</td>\n",
       "      <td>If people become the books they read and if \"t...</td>\n",
       "    </tr>\n",
       "  </tbody>\n",
       "</table>\n",
       "</div>"
      ],
      "text/plain": [
       "   Unnamed: 0          Id                           Title         User_id  \\\n",
       "0           0  1882931173  Its Only Art If Its Well Hung!   AVCGYZL8FQQTD   \n",
       "1           1  0826414346        Dr. Seuss: American Icon  A30TK6U7DNS82R   \n",
       "2           2  0826414346        Dr. Seuss: American Icon  A3UH4UZ4RSVO82   \n",
       "\n",
       "  review/helpfulness  review/score  \\\n",
       "0                7/7           4.0   \n",
       "1              10/10           5.0   \n",
       "2              10/11           5.0   \n",
       "\n",
       "                                    review/summary  \\\n",
       "0           Nice collection of Julie Strain images   \n",
       "1                                Really Enjoyed It   \n",
       "2  Essential for every personal and Public Library   \n",
       "\n",
       "                                         review/text  \n",
       "0  This is only for Julie Strain fans. It's a col...  \n",
       "1  I don't care much for Dr. Seuss but after read...  \n",
       "2  If people become the books they read and if \"t...  "
      ]
     },
     "execution_count": 328,
     "metadata": {},
     "output_type": "execute_result"
    }
   ],
   "source": [
    "ratings.head(3)"
   ]
  },
  {
   "cell_type": "code",
   "execution_count": null,
   "id": "7ba3b249",
   "metadata": {},
   "outputs": [],
   "source": []
  },
  {
   "cell_type": "markdown",
   "id": "07a07911",
   "metadata": {},
   "source": [
    "# Converting the publishedDate column to datetime with 4 digit year format"
   ]
  },
  {
   "cell_type": "code",
   "execution_count": 272,
   "id": "bade98e1",
   "metadata": {
    "scrolled": true
   },
   "outputs": [],
   "source": [
    "books['publishedDate'] = pd.to_datetime(books['publishedDate'], utc=True, errors='coerce').dt.year"
   ]
  },
  {
   "cell_type": "code",
   "execution_count": 273,
   "id": "d6864355",
   "metadata": {},
   "outputs": [
    {
     "data": {
      "text/html": [
       "<div>\n",
       "<style scoped>\n",
       "    .dataframe tbody tr th:only-of-type {\n",
       "        vertical-align: middle;\n",
       "    }\n",
       "\n",
       "    .dataframe tbody tr th {\n",
       "        vertical-align: top;\n",
       "    }\n",
       "\n",
       "    .dataframe thead th {\n",
       "        text-align: right;\n",
       "    }\n",
       "</style>\n",
       "<table border=\"1\" class=\"dataframe\">\n",
       "  <thead>\n",
       "    <tr style=\"text-align: right;\">\n",
       "      <th></th>\n",
       "      <th>Unnamed: 0</th>\n",
       "      <th>Title</th>\n",
       "      <th>review/score_Avg</th>\n",
       "      <th>review/score_Count</th>\n",
       "      <th>description</th>\n",
       "      <th>authors</th>\n",
       "      <th>publisher</th>\n",
       "      <th>publishedDate</th>\n",
       "      <th>categories</th>\n",
       "    </tr>\n",
       "  </thead>\n",
       "  <tbody>\n",
       "    <tr>\n",
       "      <th>0</th>\n",
       "      <td>Its Only Art If Its Well Hung!</td>\n",
       "      <td>Its Only Art If Its Well Hung!</td>\n",
       "      <td>4.000000</td>\n",
       "      <td>1.0</td>\n",
       "      <td>NaN</td>\n",
       "      <td>['Julie Strain']</td>\n",
       "      <td>NaN</td>\n",
       "      <td>1996.0</td>\n",
       "      <td>['Comics &amp; Graphic Novels']</td>\n",
       "    </tr>\n",
       "    <tr>\n",
       "      <th>1</th>\n",
       "      <td>Dr. Seuss: American Icon</td>\n",
       "      <td>Dr. Seuss: American Icon</td>\n",
       "      <td>4.555556</td>\n",
       "      <td>9.0</td>\n",
       "      <td>Philip Nel takes a fascinating look into the k...</td>\n",
       "      <td>['Philip Nel']</td>\n",
       "      <td>A&amp;C Black</td>\n",
       "      <td>2005.0</td>\n",
       "      <td>['Biography &amp; Autobiography']</td>\n",
       "    </tr>\n",
       "    <tr>\n",
       "      <th>2</th>\n",
       "      <td>Wonderful Worship in Smaller Churches</td>\n",
       "      <td>Wonderful Worship in Smaller Churches</td>\n",
       "      <td>5.000000</td>\n",
       "      <td>4.0</td>\n",
       "      <td>This resource includes twelve principles in un...</td>\n",
       "      <td>['David R. Ray']</td>\n",
       "      <td>NaN</td>\n",
       "      <td>2000.0</td>\n",
       "      <td>['Religion']</td>\n",
       "    </tr>\n",
       "  </tbody>\n",
       "</table>\n",
       "</div>"
      ],
      "text/plain": [
       "                              Unnamed: 0  \\\n",
       "0         Its Only Art If Its Well Hung!   \n",
       "1               Dr. Seuss: American Icon   \n",
       "2  Wonderful Worship in Smaller Churches   \n",
       "\n",
       "                                   Title  review/score_Avg  \\\n",
       "0         Its Only Art If Its Well Hung!          4.000000   \n",
       "1               Dr. Seuss: American Icon          4.555556   \n",
       "2  Wonderful Worship in Smaller Churches          5.000000   \n",
       "\n",
       "   review/score_Count                                        description  \\\n",
       "0                 1.0                                                NaN   \n",
       "1                 9.0  Philip Nel takes a fascinating look into the k...   \n",
       "2                 4.0  This resource includes twelve principles in un...   \n",
       "\n",
       "            authors  publisher  publishedDate                     categories  \n",
       "0  ['Julie Strain']        NaN         1996.0    ['Comics & Graphic Novels']  \n",
       "1    ['Philip Nel']  A&C Black         2005.0  ['Biography & Autobiography']  \n",
       "2  ['David R. Ray']        NaN         2000.0                   ['Religion']  "
      ]
     },
     "execution_count": 273,
     "metadata": {},
     "output_type": "execute_result"
    }
   ],
   "source": [
    "books.head(3)"
   ]
  },
  {
   "cell_type": "code",
   "execution_count": 274,
   "id": "b2070680",
   "metadata": {},
   "outputs": [
    {
     "name": "stdout",
     "output_type": "stream",
     "text": [
      "<class 'pandas.core.frame.DataFrame'>\n",
      "RangeIndex: 212404 entries, 0 to 212403\n",
      "Data columns (total 9 columns):\n",
      " #   Column              Non-Null Count   Dtype  \n",
      "---  ------              --------------   -----  \n",
      " 0   Unnamed: 0          212403 non-null  object \n",
      " 1   Title               212403 non-null  object \n",
      " 2   review/score_Avg    212403 non-null  float64\n",
      " 3   review/score_Count  212403 non-null  float64\n",
      " 4   description         143962 non-null  object \n",
      " 5   authors             180991 non-null  object \n",
      " 6   publisher           136518 non-null  object \n",
      " 7   publishedDate       186782 non-null  float64\n",
      " 8   categories          171205 non-null  object \n",
      "dtypes: float64(3), object(6)\n",
      "memory usage: 14.6+ MB\n"
     ]
    }
   ],
   "source": [
    "books.info()"
   ]
  },
  {
   "cell_type": "markdown",
   "id": "ded41eda",
   "metadata": {},
   "source": [
    "# Books data - Handling missing values"
   ]
  },
  {
   "cell_type": "code",
   "execution_count": 275,
   "id": "0eb951d5",
   "metadata": {
    "scrolled": true
   },
   "outputs": [
    {
     "data": {
      "text/plain": [
       "Unnamed: 0                1\n",
       "Title                     1\n",
       "review/score_Avg          1\n",
       "review/score_Count        1\n",
       "description           68442\n",
       "authors               31413\n",
       "publisher             75886\n",
       "publishedDate         25622\n",
       "categories            41199\n",
       "dtype: int64"
      ]
     },
     "execution_count": 275,
     "metadata": {},
     "output_type": "execute_result"
    }
   ],
   "source": [
    "books.isna().sum()"
   ]
  },
  {
   "cell_type": "code",
   "execution_count": 278,
   "id": "2a727c08",
   "metadata": {
    "scrolled": false
   },
   "outputs": [],
   "source": [
    "books = books.drop(columns=['Unnamed: 0', 'publisher'])"
   ]
  },
  {
   "cell_type": "code",
   "execution_count": 279,
   "id": "dd04fdd7",
   "metadata": {},
   "outputs": [
    {
     "data": {
      "text/html": [
       "<div>\n",
       "<style scoped>\n",
       "    .dataframe tbody tr th:only-of-type {\n",
       "        vertical-align: middle;\n",
       "    }\n",
       "\n",
       "    .dataframe tbody tr th {\n",
       "        vertical-align: top;\n",
       "    }\n",
       "\n",
       "    .dataframe thead th {\n",
       "        text-align: right;\n",
       "    }\n",
       "</style>\n",
       "<table border=\"1\" class=\"dataframe\">\n",
       "  <thead>\n",
       "    <tr style=\"text-align: right;\">\n",
       "      <th></th>\n",
       "      <th>Title</th>\n",
       "      <th>review/score_Avg</th>\n",
       "      <th>review/score_Count</th>\n",
       "      <th>description</th>\n",
       "      <th>authors</th>\n",
       "      <th>publishedDate</th>\n",
       "      <th>categories</th>\n",
       "    </tr>\n",
       "  </thead>\n",
       "  <tbody>\n",
       "    <tr>\n",
       "      <th>0</th>\n",
       "      <td>Its Only Art If Its Well Hung!</td>\n",
       "      <td>4.000000</td>\n",
       "      <td>1.0</td>\n",
       "      <td>NaN</td>\n",
       "      <td>['Julie Strain']</td>\n",
       "      <td>1996.0</td>\n",
       "      <td>['Comics &amp; Graphic Novels']</td>\n",
       "    </tr>\n",
       "    <tr>\n",
       "      <th>1</th>\n",
       "      <td>Dr. Seuss: American Icon</td>\n",
       "      <td>4.555556</td>\n",
       "      <td>9.0</td>\n",
       "      <td>Philip Nel takes a fascinating look into the k...</td>\n",
       "      <td>['Philip Nel']</td>\n",
       "      <td>2005.0</td>\n",
       "      <td>['Biography &amp; Autobiography']</td>\n",
       "    </tr>\n",
       "    <tr>\n",
       "      <th>2</th>\n",
       "      <td>Wonderful Worship in Smaller Churches</td>\n",
       "      <td>5.000000</td>\n",
       "      <td>4.0</td>\n",
       "      <td>This resource includes twelve principles in un...</td>\n",
       "      <td>['David R. Ray']</td>\n",
       "      <td>2000.0</td>\n",
       "      <td>['Religion']</td>\n",
       "    </tr>\n",
       "  </tbody>\n",
       "</table>\n",
       "</div>"
      ],
      "text/plain": [
       "                                   Title  review/score_Avg  \\\n",
       "0         Its Only Art If Its Well Hung!          4.000000   \n",
       "1               Dr. Seuss: American Icon          4.555556   \n",
       "2  Wonderful Worship in Smaller Churches          5.000000   \n",
       "\n",
       "   review/score_Count                                        description  \\\n",
       "0                 1.0                                                NaN   \n",
       "1                 9.0  Philip Nel takes a fascinating look into the k...   \n",
       "2                 4.0  This resource includes twelve principles in un...   \n",
       "\n",
       "            authors  publishedDate                     categories  \n",
       "0  ['Julie Strain']         1996.0    ['Comics & Graphic Novels']  \n",
       "1    ['Philip Nel']         2005.0  ['Biography & Autobiography']  \n",
       "2  ['David R. Ray']         2000.0                   ['Religion']  "
      ]
     },
     "execution_count": 279,
     "metadata": {},
     "output_type": "execute_result"
    }
   ],
   "source": [
    "books.head(3)"
   ]
  },
  {
   "cell_type": "code",
   "execution_count": 280,
   "id": "0af2989b",
   "metadata": {},
   "outputs": [
    {
     "data": {
      "text/plain": [
       "Title                     1\n",
       "review/score_Avg          1\n",
       "review/score_Count        1\n",
       "description           68442\n",
       "authors               31413\n",
       "publishedDate         25622\n",
       "categories            41199\n",
       "dtype: int64"
      ]
     },
     "execution_count": 280,
     "metadata": {},
     "output_type": "execute_result"
    }
   ],
   "source": [
    "books.isna().sum()"
   ]
  },
  {
   "cell_type": "code",
   "execution_count": 281,
   "id": "e99f6ff2",
   "metadata": {},
   "outputs": [],
   "source": [
    "books.dropna(inplace=True)"
   ]
  },
  {
   "cell_type": "code",
   "execution_count": 282,
   "id": "a6535784",
   "metadata": {},
   "outputs": [
    {
     "name": "stdout",
     "output_type": "stream",
     "text": [
      "<class 'pandas.core.frame.DataFrame'>\n",
      "Int64Index: 135796 entries, 1 to 212402\n",
      "Data columns (total 7 columns):\n",
      " #   Column              Non-Null Count   Dtype  \n",
      "---  ------              --------------   -----  \n",
      " 0   Title               135796 non-null  object \n",
      " 1   review/score_Avg    135796 non-null  float64\n",
      " 2   review/score_Count  135796 non-null  float64\n",
      " 3   description         135796 non-null  object \n",
      " 4   authors             135796 non-null  object \n",
      " 5   publishedDate       135796 non-null  float64\n",
      " 6   categories          135796 non-null  object \n",
      "dtypes: float64(3), object(4)\n",
      "memory usage: 8.3+ MB\n"
     ]
    }
   ],
   "source": [
    "books.info()"
   ]
  },
  {
   "cell_type": "code",
   "execution_count": null,
   "id": "b5558862",
   "metadata": {},
   "outputs": [],
   "source": []
  },
  {
   "cell_type": "markdown",
   "id": "881b74f0",
   "metadata": {},
   "source": [
    "# Summary statistics for numerical columns"
   ]
  },
  {
   "cell_type": "code",
   "execution_count": 285,
   "id": "8b0758b1",
   "metadata": {},
   "outputs": [
    {
     "data": {
      "text/html": [
       "<div>\n",
       "<style scoped>\n",
       "    .dataframe tbody tr th:only-of-type {\n",
       "        vertical-align: middle;\n",
       "    }\n",
       "\n",
       "    .dataframe tbody tr th {\n",
       "        vertical-align: top;\n",
       "    }\n",
       "\n",
       "    .dataframe thead th {\n",
       "        text-align: right;\n",
       "    }\n",
       "</style>\n",
       "<table border=\"1\" class=\"dataframe\">\n",
       "  <thead>\n",
       "    <tr style=\"text-align: right;\">\n",
       "      <th></th>\n",
       "      <th>review/score_Avg</th>\n",
       "      <th>review/score_Count</th>\n",
       "      <th>publishedDate</th>\n",
       "    </tr>\n",
       "  </thead>\n",
       "  <tbody>\n",
       "    <tr>\n",
       "      <th>count</th>\n",
       "      <td>135796.000000</td>\n",
       "      <td>135796.000000</td>\n",
       "      <td>135796.000000</td>\n",
       "    </tr>\n",
       "    <tr>\n",
       "      <th>mean</th>\n",
       "      <td>4.263568</td>\n",
       "      <td>16.381315</td>\n",
       "      <td>2002.542107</td>\n",
       "    </tr>\n",
       "    <tr>\n",
       "      <th>std</th>\n",
       "      <td>0.792757</td>\n",
       "      <td>126.168504</td>\n",
       "      <td>14.150220</td>\n",
       "    </tr>\n",
       "    <tr>\n",
       "      <th>min</th>\n",
       "      <td>1.000000</td>\n",
       "      <td>1.000000</td>\n",
       "      <td>1720.000000</td>\n",
       "    </tr>\n",
       "    <tr>\n",
       "      <th>25%</th>\n",
       "      <td>4.000000</td>\n",
       "      <td>1.000000</td>\n",
       "      <td>1998.000000</td>\n",
       "    </tr>\n",
       "    <tr>\n",
       "      <th>50%</th>\n",
       "      <td>4.470588</td>\n",
       "      <td>3.000000</td>\n",
       "      <td>2004.000000</td>\n",
       "    </tr>\n",
       "    <tr>\n",
       "      <th>75%</th>\n",
       "      <td>5.000000</td>\n",
       "      <td>9.000000</td>\n",
       "      <td>2011.000000</td>\n",
       "    </tr>\n",
       "    <tr>\n",
       "      <th>max</th>\n",
       "      <td>5.000000</td>\n",
       "      <td>22023.000000</td>\n",
       "      <td>2030.000000</td>\n",
       "    </tr>\n",
       "  </tbody>\n",
       "</table>\n",
       "</div>"
      ],
      "text/plain": [
       "       review/score_Avg  review/score_Count  publishedDate\n",
       "count     135796.000000       135796.000000  135796.000000\n",
       "mean           4.263568           16.381315    2002.542107\n",
       "std            0.792757          126.168504      14.150220\n",
       "min            1.000000            1.000000    1720.000000\n",
       "25%            4.000000            1.000000    1998.000000\n",
       "50%            4.470588            3.000000    2004.000000\n",
       "75%            5.000000            9.000000    2011.000000\n",
       "max            5.000000        22023.000000    2030.000000"
      ]
     },
     "execution_count": 285,
     "metadata": {},
     "output_type": "execute_result"
    }
   ],
   "source": [
    "# Summary statistics for numerical columns\n",
    "\n",
    "books.describe()"
   ]
  },
  {
   "cell_type": "code",
   "execution_count": 286,
   "id": "0d5175d2",
   "metadata": {},
   "outputs": [],
   "source": [
    "books_1000_reviews = books[books['review/score_Count'] > 1000]"
   ]
  },
  {
   "cell_type": "code",
   "execution_count": 287,
   "id": "cf5d905f",
   "metadata": {},
   "outputs": [
    {
     "data": {
      "text/plain": [
       "array([[<AxesSubplot:title={'center':'review/score_Avg'}>,\n",
       "        <AxesSubplot:title={'center':'review/score_Count'}>],\n",
       "       [<AxesSubplot:title={'center':'publishedDate'}>, <AxesSubplot:>]],\n",
       "      dtype=object)"
      ]
     },
     "execution_count": 287,
     "metadata": {},
     "output_type": "execute_result"
    },
    {
     "data": {
      "image/png": "[encoded data removed]",
      "text/plain": [
       "<Figure size 432x288 with 4 Axes>"
      ]
     },
     "metadata": {
      "needs_background": "light"
     },
     "output_type": "display_data"
    }
   ],
   "source": [
    "# Distribution of books that have more than 1000 reviews\n",
    "books_1000_reviews.hist()"
   ]
  },
  {
   "cell_type": "code",
   "execution_count": 288,
   "id": "a2ac1645",
   "metadata": {
    "scrolled": true
   },
   "outputs": [
    {
     "data": {
      "text/plain": [
       "count    177.000000\n",
       "mean       4.240071\n",
       "std        0.459073\n",
       "min        1.802454\n",
       "25%        4.076061\n",
       "50%        4.366795\n",
       "75%        4.556761\n",
       "max        4.815789\n",
       "Name: review/score_Avg, dtype: float64"
      ]
     },
     "execution_count": 288,
     "metadata": {},
     "output_type": "execute_result"
    }
   ],
   "source": [
    "# Summary statistics for books which have more than 1000 reviews.\n",
    "books_1000_reviews['review/score_Avg'].describe()"
   ]
  },
  {
   "cell_type": "code",
   "execution_count": 289,
   "id": "5fd4e392",
   "metadata": {},
   "outputs": [
    {
     "data": {
      "text/plain": [
       "0.0013034257268255325"
      ]
     },
     "execution_count": 289,
     "metadata": {},
     "output_type": "execute_result"
    }
   ],
   "source": [
    "# Only 177 out of the 135796 books (which is 0.13%) have received more than 1000 reviews.\n",
    "# I expected the books with 1000 or more reviews would be rated higher. \n",
    "# However, the Mean as well as the 50th percentile of ratings are lower for books with more than 1000 reviews\n",
    "# when compared to books with less than 1000 reviews.\n",
    "177/135796"
   ]
  },
  {
   "cell_type": "markdown",
   "id": "933fd566",
   "metadata": {},
   "source": [
    "# Authors"
   ]
  },
  {
   "cell_type": "code",
   "execution_count": 290,
   "id": "ba680dfd",
   "metadata": {},
   "outputs": [],
   "source": [
    "authors = books['authors'].unique()\n",
    "authors = pd.DataFrame(authors)"
   ]
  },
  {
   "cell_type": "code",
   "execution_count": 291,
   "id": "c7f1ccaa",
   "metadata": {},
   "outputs": [
    {
     "data": {
      "text/plain": [
       "0    97285\n",
       "dtype: int64"
      ]
     },
     "execution_count": 291,
     "metadata": {},
     "output_type": "execute_result"
    }
   ],
   "source": [
    "# Total number of authors\n",
    "\n",
    "authors.count()"
   ]
  },
  {
   "cell_type": "code",
   "execution_count": 292,
   "id": "a864ac9b",
   "metadata": {},
   "outputs": [
    {
     "data": {
      "text/plain": [
       "authors\n",
       "[\"'Annah Sobelman\"]                                                                   4.000000\n",
       "[\"'Jig rten mgon po (('Bri gung chos rje ;)\", 'Khenpo Rinpochay Könchok Gyaltsen']    5.000000\n",
       "[\"A'isha Ajayi\"]                                                                      1.000000\n",
       "[\"Aaron Ben-Ze'ev\", 'Ruhama Goussinsky']                                              3.965517\n",
       "[\"Adam I. O'Hirsi\"]                                                                   5.000000\n",
       "                                                                                        ...   \n",
       "['鳥山明']                                                                               4.500000\n",
       "['黄檗', 'Po Huang', 'Xiu Pei']                                                         5.000000\n",
       "['黒田領治', 'Ryōji Kuroda', 'Takeshi Murayama', '村山武']                                   5.000000\n",
       "['생명의말씀사편집부']                                                                         4.666667\n",
       "['알렉상드르 뒤마(Alexandre Dumas)']                                                         5.000000\n",
       "Name: review/score_Avg, Length: 97285, dtype: float64"
      ]
     },
     "execution_count": 292,
     "metadata": {},
     "output_type": "execute_result"
    }
   ],
   "source": [
    "# Average score by author\n",
    "\n",
    "author_avg_score = books.groupby('authors')['review/score_Avg'].mean()\n",
    "author_avg_score"
   ]
  },
  {
   "cell_type": "code",
   "execution_count": 293,
   "id": "f666e626",
   "metadata": {
    "scrolled": true
   },
   "outputs": [
    {
     "data": {
      "text/plain": [
       "<AxesSubplot:>"
      ]
     },
     "execution_count": 293,
     "metadata": {},
     "output_type": "execute_result"
    },
    {
     "data": {
      "image/png": "[encoded data removed]",
      "text/plain": [
       "<Figure size 432x288 with 1 Axes>"
      ]
     },
     "metadata": {
      "needs_background": "light"
     },
     "output_type": "display_data"
    }
   ],
   "source": [
    "# Distribution of average scroe by author\n",
    "\n",
    "author_avg_score.hist()"
   ]
  },
  {
   "cell_type": "code",
   "execution_count": null,
   "id": "00971cf6",
   "metadata": {},
   "outputs": [],
   "source": [
    "# most authors have between 4 to 5 average rating."
   ]
  },
  {
   "cell_type": "code",
   "execution_count": null,
   "id": "3d86b108",
   "metadata": {},
   "outputs": [],
   "source": [
    "# Authors with the highest number of reviews"
   ]
  },
  {
   "cell_type": "code",
   "execution_count": 295,
   "id": "d90a687b",
   "metadata": {},
   "outputs": [
    {
     "data": {
      "text/plain": [
       "authors\n",
       "['Agatha Christie']         112\n",
       "[\"Louis L'Amour\"]           110\n",
       "['William Shakespeare']     106\n",
       "['Ann M. Martin']            65\n",
       "['Carolyn Keene']            62\n",
       "['Edgar Rice Burroughs']     59\n",
       "['Various']                  58\n",
       "['DK']                       55\n",
       "['Nora Roberts']             52\n",
       "['Mark Twain']               51\n",
       "Name: review/score_Count, dtype: int64"
      ]
     },
     "execution_count": 295,
     "metadata": {},
     "output_type": "execute_result"
    }
   ],
   "source": [
    "author_tot_reviews = books.groupby('authors')['review/score_Count'].count()\n",
    "author_tot_reviews = author_tot_reviews.sort_values(ascending = False)\n",
    "author_tot_reviews.head(10)"
   ]
  },
  {
   "cell_type": "code",
   "execution_count": 90,
   "id": "0de265a6",
   "metadata": {
    "scrolled": true
   },
   "outputs": [
    {
     "data": {
      "text/plain": [
       "count    127278.000000\n",
       "mean          1.422005\n",
       "std           2.154489\n",
       "min           0.000000\n",
       "25%           1.000000\n",
       "50%           1.000000\n",
       "75%           1.000000\n",
       "max         236.000000\n",
       "Name: review/score_Count, dtype: float64"
      ]
     },
     "execution_count": 90,
     "metadata": {},
     "output_type": "execute_result"
    }
   ],
   "source": [
    "author_tot_reviews.describe()"
   ]
  },
  {
   "cell_type": "code",
   "execution_count": 312,
   "id": "1524f922",
   "metadata": {},
   "outputs": [
    {
     "name": "stdout",
     "output_type": "stream",
     "text": [
      "1.0\n",
      "1.0\n"
     ]
    }
   ],
   "source": [
    "print(author_tot_reviews.quantile(0.05))\n",
    "print(author_tot_reviews.quantile(0.80))"
   ]
  },
  {
   "cell_type": "code",
   "execution_count": 301,
   "id": "5dab9b4e",
   "metadata": {},
   "outputs": [],
   "source": [
    "# The highest number of reviews for a single author is 236. But most authors received only 1 review."
   ]
  },
  {
   "cell_type": "code",
   "execution_count": null,
   "id": "29f27071",
   "metadata": {},
   "outputs": [],
   "source": []
  },
  {
   "cell_type": "markdown",
   "id": "75deee8d",
   "metadata": {},
   "source": [
    "# Books Categories"
   ]
  },
  {
   "cell_type": "code",
   "execution_count": 54,
   "id": "c4f90d3a",
   "metadata": {},
   "outputs": [],
   "source": [
    "# categories\n",
    "categories = books.categories.value_counts()"
   ]
  },
  {
   "cell_type": "code",
   "execution_count": 313,
   "id": "eb3d5fbf",
   "metadata": {},
   "outputs": [
    {
     "data": {
      "text/html": [
       "<div>\n",
       "<style scoped>\n",
       "    .dataframe tbody tr th:only-of-type {\n",
       "        vertical-align: middle;\n",
       "    }\n",
       "\n",
       "    .dataframe tbody tr th {\n",
       "        vertical-align: top;\n",
       "    }\n",
       "\n",
       "    .dataframe thead th {\n",
       "        text-align: right;\n",
       "    }\n",
       "</style>\n",
       "<table border=\"1\" class=\"dataframe\">\n",
       "  <thead>\n",
       "    <tr style=\"text-align: right;\">\n",
       "      <th></th>\n",
       "      <th>index</th>\n",
       "      <th>categories</th>\n",
       "    </tr>\n",
       "  </thead>\n",
       "  <tbody>\n",
       "    <tr>\n",
       "      <th>0</th>\n",
       "      <td>Other</td>\n",
       "      <td>41199</td>\n",
       "    </tr>\n",
       "    <tr>\n",
       "      <th>1</th>\n",
       "      <td>['Fiction']</td>\n",
       "      <td>23419</td>\n",
       "    </tr>\n",
       "    <tr>\n",
       "      <th>2</th>\n",
       "      <td>['Religion']</td>\n",
       "      <td>9459</td>\n",
       "    </tr>\n",
       "    <tr>\n",
       "      <th>3</th>\n",
       "      <td>['History']</td>\n",
       "      <td>9330</td>\n",
       "    </tr>\n",
       "    <tr>\n",
       "      <th>4</th>\n",
       "      <td>['Juvenile Fiction']</td>\n",
       "      <td>6643</td>\n",
       "    </tr>\n",
       "  </tbody>\n",
       "</table>\n",
       "</div>"
      ],
      "text/plain": [
       "                  index  categories\n",
       "0                 Other       41199\n",
       "1           ['Fiction']       23419\n",
       "2          ['Religion']        9459\n",
       "3           ['History']        9330\n",
       "4  ['Juvenile Fiction']        6643"
      ]
     },
     "execution_count": 313,
     "metadata": {},
     "output_type": "execute_result"
    }
   ],
   "source": [
    "categories.reset_index().head()"
   ]
  },
  {
   "cell_type": "code",
   "execution_count": 314,
   "id": "7ae230d6",
   "metadata": {},
   "outputs": [
    {
     "data": {
      "text/plain": [
       "10884"
      ]
     },
     "execution_count": 314,
     "metadata": {},
     "output_type": "execute_result"
    }
   ],
   "source": [
    "# number of categories\n",
    "\n",
    "categories.count()"
   ]
  },
  {
   "cell_type": "code",
   "execution_count": 317,
   "id": "f24b44c3",
   "metadata": {},
   "outputs": [
    {
     "data": {
      "text/plain": [
       "['Detective and mystery stories']                                                235\n",
       "['Detective and mystery stories, American']                                       45\n",
       "['Detective and mystery stories, English']                                        27\n",
       "['Detective and mystery comic books, strips, etc']                                 7\n",
       "['Detective and mystery stories, American.']                                       2\n",
       "['Detective and mystery stories, English.']                                        2\n",
       "['Detective and mystery stories, Canadian (Czech) Translations into English']      2\n",
       "['Detective and mystery plays, American']                                          1\n",
       "['Detective and mystery plays']                                                    1\n",
       "['Detective and mystery television programs']                                      1\n",
       "['Detective and mystery stories, New Zealand']                                     1\n",
       "['Detective and mystery radio programs']                                           1\n",
       "Name: categories, dtype: int64"
      ]
     },
     "execution_count": 317,
     "metadata": {},
     "output_type": "execute_result"
    }
   ],
   "source": [
    "# investigating if there are duplicate values with slightly different wording\n",
    "categories[categories.index.str.contains('myster')]"
   ]
  },
  {
   "cell_type": "code",
   "execution_count": 318,
   "id": "e62240cb",
   "metadata": {},
   "outputs": [],
   "source": [
    "# May be use text-processing on this column since the categories don't seem to be standardized.\n",
    "# For example,'Detective and mystery stories, American' and  'Detective and mystery stories, American.'"
   ]
  },
  {
   "cell_type": "code",
   "execution_count": null,
   "id": "a840e21b",
   "metadata": {},
   "outputs": [],
   "source": []
  },
  {
   "cell_type": "markdown",
   "id": "8723b1e3",
   "metadata": {},
   "source": [
    "# review/score_Avg and review/score_Count"
   ]
  },
  {
   "cell_type": "code",
   "execution_count": null,
   "id": "6a600d5b",
   "metadata": {},
   "outputs": [],
   "source": []
  },
  {
   "cell_type": "code",
   "execution_count": 320,
   "id": "0cd2e7b9",
   "metadata": {},
   "outputs": [
    {
     "data": {
      "text/plain": [
       "[<matplotlib.lines.Line2D at 0x2b1adeea130>]"
      ]
     },
     "execution_count": 320,
     "metadata": {},
     "output_type": "execute_result"
    },
    {
     "data": {
      "image/png": "[encoded data removed]",
      "text/plain": [
       "<Figure size 432x288 with 1 Axes>"
      ]
     },
     "metadata": {
      "needs_background": "light"
     },
     "output_type": "display_data"
    }
   ],
   "source": [
    "fig, ax = plt.subplots()\n",
    "ax.plot(books['review/score_Avg'], books['review/score_Count'], marker='o', linestyle='None')"
   ]
  },
  {
   "cell_type": "code",
   "execution_count": 321,
   "id": "e59a6fb2",
   "metadata": {},
   "outputs": [],
   "source": [
    "score_count = books[['review/score_Avg', 'review/score_Count']]"
   ]
  },
  {
   "cell_type": "code",
   "execution_count": 322,
   "id": "f9bdacc5",
   "metadata": {},
   "outputs": [
    {
     "data": {
      "text/html": [
       "<div>\n",
       "<style scoped>\n",
       "    .dataframe tbody tr th:only-of-type {\n",
       "        vertical-align: middle;\n",
       "    }\n",
       "\n",
       "    .dataframe tbody tr th {\n",
       "        vertical-align: top;\n",
       "    }\n",
       "\n",
       "    .dataframe thead th {\n",
       "        text-align: right;\n",
       "    }\n",
       "</style>\n",
       "<table border=\"1\" class=\"dataframe\">\n",
       "  <thead>\n",
       "    <tr style=\"text-align: right;\">\n",
       "      <th></th>\n",
       "      <th>review/score_Avg</th>\n",
       "      <th>review/score_Count</th>\n",
       "    </tr>\n",
       "  </thead>\n",
       "  <tbody>\n",
       "    <tr>\n",
       "      <th>review/score_Avg</th>\n",
       "      <td>1.000000</td>\n",
       "      <td>-0.008316</td>\n",
       "    </tr>\n",
       "    <tr>\n",
       "      <th>review/score_Count</th>\n",
       "      <td>-0.008316</td>\n",
       "      <td>1.000000</td>\n",
       "    </tr>\n",
       "  </tbody>\n",
       "</table>\n",
       "</div>"
      ],
      "text/plain": [
       "                    review/score_Avg  review/score_Count\n",
       "review/score_Avg            1.000000           -0.008316\n",
       "review/score_Count         -0.008316            1.000000"
      ]
     },
     "execution_count": 322,
     "metadata": {},
     "output_type": "execute_result"
    }
   ],
   "source": [
    "score_count.corr()"
   ]
  },
  {
   "cell_type": "code",
   "execution_count": null,
   "id": "0556a770",
   "metadata": {},
   "outputs": [],
   "source": [
    "# there seems to be a very week negative correlation between average rating score and total number of reviews."
   ]
  },
  {
   "cell_type": "markdown",
   "id": "616462ff",
   "metadata": {},
   "source": [
    "# ratings table - data cleaning"
   ]
  },
  {
   "cell_type": "code",
   "execution_count": 324,
   "id": "87877279",
   "metadata": {},
   "outputs": [],
   "source": [
    "# Handling missing values\n"
   ]
  },
  {
   "cell_type": "code",
   "execution_count": 329,
   "id": "2fb2234c",
   "metadata": {
    "scrolled": false
   },
   "outputs": [
    {
     "data": {
      "text/plain": [
       "Unnamed: 0                 0\n",
       "Id                         0\n",
       "Title                    208\n",
       "User_id               561787\n",
       "review/helpfulness         0\n",
       "review/score               0\n",
       "review/summary            38\n",
       "review/text                8\n",
       "dtype: int64"
      ]
     },
     "execution_count": 329,
     "metadata": {},
     "output_type": "execute_result"
    }
   ],
   "source": [
    "ratings.isna().sum()"
   ]
  },
  {
   "cell_type": "code",
   "execution_count": null,
   "id": "b74ef36e",
   "metadata": {},
   "outputs": [],
   "source": []
  },
  {
   "cell_type": "code",
   "execution_count": 330,
   "id": "d2c69841",
   "metadata": {},
   "outputs": [],
   "source": [
    "ratings = ratings.dropna(axis=0)"
   ]
  },
  {
   "cell_type": "code",
   "execution_count": 331,
   "id": "91ad0507",
   "metadata": {},
   "outputs": [
    {
     "data": {
      "text/plain": [
       "Unnamed: 0            0\n",
       "Id                    0\n",
       "Title                 0\n",
       "User_id               0\n",
       "review/helpfulness    0\n",
       "review/score          0\n",
       "review/summary        0\n",
       "review/text           0\n",
       "dtype: int64"
      ]
     },
     "execution_count": 331,
     "metadata": {},
     "output_type": "execute_result"
    }
   ],
   "source": [
    "ratings.isna().sum()"
   ]
  },
  {
   "cell_type": "code",
   "execution_count": 332,
   "id": "1a0dff70",
   "metadata": {},
   "outputs": [
    {
     "name": "stdout",
     "output_type": "stream",
     "text": [
      "<class 'pandas.core.frame.DataFrame'>\n",
      "Int64Index: 2437988 entries, 0 to 2999998\n",
      "Data columns (total 8 columns):\n",
      " #   Column              Dtype  \n",
      "---  ------              -----  \n",
      " 0   Unnamed: 0          int64  \n",
      " 1   Id                  object \n",
      " 2   Title               object \n",
      " 3   User_id             object \n",
      " 4   review/helpfulness  object \n",
      " 5   review/score        float64\n",
      " 6   review/summary      object \n",
      " 7   review/text         object \n",
      "dtypes: float64(1), int64(1), object(6)\n",
      "memory usage: 167.4+ MB\n"
     ]
    }
   ],
   "source": [
    "ratings.info()"
   ]
  },
  {
   "cell_type": "code",
   "execution_count": 333,
   "id": "836bc0bc",
   "metadata": {},
   "outputs": [],
   "source": [
    "ratings = ratings.reset_index(drop=True)"
   ]
  },
  {
   "cell_type": "code",
   "execution_count": 334,
   "id": "79ceccc7",
   "metadata": {},
   "outputs": [
    {
     "data": {
      "text/html": [
       "<div>\n",
       "<style scoped>\n",
       "    .dataframe tbody tr th:only-of-type {\n",
       "        vertical-align: middle;\n",
       "    }\n",
       "\n",
       "    .dataframe tbody tr th {\n",
       "        vertical-align: top;\n",
       "    }\n",
       "\n",
       "    .dataframe thead th {\n",
       "        text-align: right;\n",
       "    }\n",
       "</style>\n",
       "<table border=\"1\" class=\"dataframe\">\n",
       "  <thead>\n",
       "    <tr style=\"text-align: right;\">\n",
       "      <th></th>\n",
       "      <th>Unnamed: 0</th>\n",
       "      <th>Id</th>\n",
       "      <th>Title</th>\n",
       "      <th>User_id</th>\n",
       "      <th>review/helpfulness</th>\n",
       "      <th>review/score</th>\n",
       "      <th>review/summary</th>\n",
       "      <th>review/text</th>\n",
       "    </tr>\n",
       "  </thead>\n",
       "  <tbody>\n",
       "    <tr>\n",
       "      <th>0</th>\n",
       "      <td>0</td>\n",
       "      <td>1882931173</td>\n",
       "      <td>Its Only Art If Its Well Hung!</td>\n",
       "      <td>AVCGYZL8FQQTD</td>\n",
       "      <td>7/7</td>\n",
       "      <td>4.0</td>\n",
       "      <td>Nice collection of Julie Strain images</td>\n",
       "      <td>This is only for Julie Strain fans. It's a col...</td>\n",
       "    </tr>\n",
       "    <tr>\n",
       "      <th>1</th>\n",
       "      <td>1</td>\n",
       "      <td>0826414346</td>\n",
       "      <td>Dr. Seuss: American Icon</td>\n",
       "      <td>A30TK6U7DNS82R</td>\n",
       "      <td>10/10</td>\n",
       "      <td>5.0</td>\n",
       "      <td>Really Enjoyed It</td>\n",
       "      <td>I don't care much for Dr. Seuss but after read...</td>\n",
       "    </tr>\n",
       "    <tr>\n",
       "      <th>2</th>\n",
       "      <td>2</td>\n",
       "      <td>0826414346</td>\n",
       "      <td>Dr. Seuss: American Icon</td>\n",
       "      <td>A3UH4UZ4RSVO82</td>\n",
       "      <td>10/11</td>\n",
       "      <td>5.0</td>\n",
       "      <td>Essential for every personal and Public Library</td>\n",
       "      <td>If people become the books they read and if \"t...</td>\n",
       "    </tr>\n",
       "  </tbody>\n",
       "</table>\n",
       "</div>"
      ],
      "text/plain": [
       "   Unnamed: 0          Id                           Title         User_id  \\\n",
       "0           0  1882931173  Its Only Art If Its Well Hung!   AVCGYZL8FQQTD   \n",
       "1           1  0826414346        Dr. Seuss: American Icon  A30TK6U7DNS82R   \n",
       "2           2  0826414346        Dr. Seuss: American Icon  A3UH4UZ4RSVO82   \n",
       "\n",
       "  review/helpfulness  review/score  \\\n",
       "0                7/7           4.0   \n",
       "1              10/10           5.0   \n",
       "2              10/11           5.0   \n",
       "\n",
       "                                    review/summary  \\\n",
       "0           Nice collection of Julie Strain images   \n",
       "1                                Really Enjoyed It   \n",
       "2  Essential for every personal and Public Library   \n",
       "\n",
       "                                         review/text  \n",
       "0  This is only for Julie Strain fans. It's a col...  \n",
       "1  I don't care much for Dr. Seuss but after read...  \n",
       "2  If people become the books they read and if \"t...  "
      ]
     },
     "execution_count": 334,
     "metadata": {},
     "output_type": "execute_result"
    }
   ],
   "source": [
    "ratings.head(3)"
   ]
  },
  {
   "cell_type": "code",
   "execution_count": 336,
   "id": "e17a2f7c",
   "metadata": {},
   "outputs": [],
   "source": [
    "ratings = ratings.drop(columns=['Unnamed: 0'], axis=1)"
   ]
  },
  {
   "cell_type": "markdown",
   "id": "e90cc8e1",
   "metadata": {},
   "source": [
    "# ratings by user"
   ]
  },
  {
   "cell_type": "code",
   "execution_count": 337,
   "id": "20a479c7",
   "metadata": {},
   "outputs": [],
   "source": [
    "user_avg_ratings = ratings.groupby('User_id')['review/score'].mean()"
   ]
  },
  {
   "cell_type": "code",
   "execution_count": 338,
   "id": "21f88418",
   "metadata": {},
   "outputs": [
    {
     "data": {
      "text/plain": [
       "User_id\n",
       "A00109803PZJ91RLT7DPN    5.000000\n",
       "A00117421L76WVWG4UX95    5.000000\n",
       "A0015610VMNR0JC9XVL1     4.666667\n",
       "A002258237PFYJV336T05    5.000000\n",
       "A00264602WCXBHHFPLTQ4    5.000000\n",
       "                           ...   \n",
       "AZZZELE3I0CKD            5.000000\n",
       "AZZZJY3RMN57G            5.000000\n",
       "AZZZT14MS21I6            5.000000\n",
       "AZZZYCR4NZADZ            5.000000\n",
       "AZZZZW74AAX75            5.000000\n",
       "Name: review/score, Length: 1008949, dtype: float64"
      ]
     },
     "execution_count": 338,
     "metadata": {},
     "output_type": "execute_result"
    }
   ],
   "source": [
    "user_avg_ratings"
   ]
  },
  {
   "cell_type": "code",
   "execution_count": 339,
   "id": "0cce58fa",
   "metadata": {},
   "outputs": [],
   "source": [
    "user_tot_ratings = ratings.groupby('User_id')['review/score'].count()"
   ]
  },
  {
   "cell_type": "code",
   "execution_count": 340,
   "id": "5b40717c",
   "metadata": {},
   "outputs": [
    {
     "data": {
      "text/plain": [
       "User_id\n",
       "A00109803PZJ91RLT7DPN    1\n",
       "A00117421L76WVWG4UX95    1\n",
       "A0015610VMNR0JC9XVL1     6\n",
       "A002258237PFYJV336T05    1\n",
       "A00264602WCXBHHFPLTQ4    1\n",
       "                        ..\n",
       "AZZZELE3I0CKD            1\n",
       "AZZZJY3RMN57G            1\n",
       "AZZZT14MS21I6            5\n",
       "AZZZYCR4NZADZ            2\n",
       "AZZZZW74AAX75            1\n",
       "Name: review/score, Length: 1008949, dtype: int64"
      ]
     },
     "execution_count": 340,
     "metadata": {},
     "output_type": "execute_result"
    }
   ],
   "source": [
    "user_tot_ratings"
   ]
  },
  {
   "cell_type": "code",
   "execution_count": 341,
   "id": "e5e4b357",
   "metadata": {},
   "outputs": [
    {
     "data": {
      "text/plain": [
       "count    1.008949e+06\n",
       "mean     2.416364e+00\n",
       "std      1.213259e+01\n",
       "min      1.000000e+00\n",
       "25%      1.000000e+00\n",
       "50%      1.000000e+00\n",
       "75%      2.000000e+00\n",
       "max      5.795000e+03\n",
       "Name: review/score, dtype: float64"
      ]
     },
     "execution_count": 341,
     "metadata": {},
     "output_type": "execute_result"
    }
   ],
   "source": [
    "user_tot_ratings.describe()"
   ]
  },
  {
   "cell_type": "code",
   "execution_count": 342,
   "id": "0527d8e8",
   "metadata": {},
   "outputs": [
    {
     "data": {
      "text/plain": [
       "5795"
      ]
     },
     "execution_count": 342,
     "metadata": {},
     "output_type": "execute_result"
    }
   ],
   "source": [
    "#maximum number of ratings from one user\n",
    "user_tot_ratings.max()"
   ]
  },
  {
   "cell_type": "code",
   "execution_count": 354,
   "id": "fa94968e",
   "metadata": {},
   "outputs": [
    {
     "data": {
      "text/plain": [
       "User_id\n",
       "A00891092QIVH4W1YP46A    19\n",
       "A01038432MVI9JXYTTK5T    24\n",
       "A01254073JW8SSTKH6AIB    19\n",
       "A0134066213WYQXLTVGYT    12\n",
       "A035042126FPCW9EUHU1U    15\n",
       "                         ..\n",
       "AZYZ6338V6TLU            13\n",
       "AZZ1E6SG4RAT7            19\n",
       "AZZCSTUZ5EO4I            12\n",
       "AZZUIE66HZNY1            13\n",
       "AZZVZL4QEHEHO            25\n",
       "Name: review/score, Length: 26057, dtype: int64"
      ]
     },
     "execution_count": 354,
     "metadata": {},
     "output_type": "execute_result"
    }
   ],
   "source": [
    "# users who rated more than 10 books. \n",
    "\n",
    "user_10_rating = user_tot_ratings[user_tot_ratings > 10]\n",
    "user_10_rating"
   ]
  },
  {
   "cell_type": "code",
   "execution_count": 344,
   "id": "c4726b55",
   "metadata": {},
   "outputs": [
    {
     "data": {
      "text/plain": [
       "0.025825884162628637"
      ]
     },
     "execution_count": 344,
     "metadata": {},
     "output_type": "execute_result"
    }
   ],
   "source": [
    "# Out of the total 1,008,949, 26,057  users (which is 2.6%) have given more than 10 reviews. \n",
    "# The highest number of ratings by a single user is 5,795.\n",
    "\n",
    "26057/1008949"
   ]
  },
  {
   "cell_type": "code",
   "execution_count": 348,
   "id": "9214e588",
   "metadata": {
    "scrolled": true
   },
   "outputs": [
    {
     "data": {
      "text/html": [
       "<div>\n",
       "<style scoped>\n",
       "    .dataframe tbody tr th:only-of-type {\n",
       "        vertical-align: middle;\n",
       "    }\n",
       "\n",
       "    .dataframe tbody tr th {\n",
       "        vertical-align: top;\n",
       "    }\n",
       "\n",
       "    .dataframe thead th {\n",
       "        text-align: right;\n",
       "    }\n",
       "</style>\n",
       "<table border=\"1\" class=\"dataframe\">\n",
       "  <thead>\n",
       "    <tr style=\"text-align: right;\">\n",
       "      <th></th>\n",
       "      <th>review/score</th>\n",
       "    </tr>\n",
       "  </thead>\n",
       "  <tbody>\n",
       "    <tr>\n",
       "      <th>count</th>\n",
       "      <td>2.437988e+06</td>\n",
       "    </tr>\n",
       "    <tr>\n",
       "      <th>mean</th>\n",
       "      <td>4.228280e+00</td>\n",
       "    </tr>\n",
       "    <tr>\n",
       "      <th>std</th>\n",
       "      <td>1.178650e+00</td>\n",
       "    </tr>\n",
       "    <tr>\n",
       "      <th>min</th>\n",
       "      <td>1.000000e+00</td>\n",
       "    </tr>\n",
       "    <tr>\n",
       "      <th>25%</th>\n",
       "      <td>4.000000e+00</td>\n",
       "    </tr>\n",
       "    <tr>\n",
       "      <th>50%</th>\n",
       "      <td>5.000000e+00</td>\n",
       "    </tr>\n",
       "    <tr>\n",
       "      <th>75%</th>\n",
       "      <td>5.000000e+00</td>\n",
       "    </tr>\n",
       "    <tr>\n",
       "      <th>max</th>\n",
       "      <td>5.000000e+00</td>\n",
       "    </tr>\n",
       "  </tbody>\n",
       "</table>\n",
       "</div>"
      ],
      "text/plain": [
       "       review/score\n",
       "count  2.437988e+06\n",
       "mean   4.228280e+00\n",
       "std    1.178650e+00\n",
       "min    1.000000e+00\n",
       "25%    4.000000e+00\n",
       "50%    5.000000e+00\n",
       "75%    5.000000e+00\n",
       "max    5.000000e+00"
      ]
     },
     "execution_count": 348,
     "metadata": {},
     "output_type": "execute_result"
    }
   ],
   "source": [
    "# ratings\n",
    "\n",
    "ratings.describe()"
   ]
  },
  {
   "cell_type": "code",
   "execution_count": 349,
   "id": "e7dcb4fe",
   "metadata": {
    "scrolled": true
   },
   "outputs": [
    {
     "data": {
      "text/plain": [
       "<AxesSubplot:>"
      ]
     },
     "execution_count": 349,
     "metadata": {},
     "output_type": "execute_result"
    },
    {
     "data": {
      "image/png": "[encoded data removed]",
      "text/plain": [
       "<Figure size 432x288 with 1 Axes>"
      ]
     },
     "metadata": {
      "needs_background": "light"
     },
     "output_type": "display_data"
    }
   ],
   "source": [
    "# Distribution of ratings\n",
    "# This distribution has long left tail. Most people seem to rate 4 or 5.\n",
    "\n",
    "ratings['review/score'].hist()"
   ]
  },
  {
   "cell_type": "code",
   "execution_count": 356,
   "id": "b8f66551",
   "metadata": {},
   "outputs": [],
   "source": [
    "# what is the average rating given by people who rate a lot, let's say more than 10 reviews.\n",
    "ten_rating = ratings[ratings['User_id'].isin(user_10_rating.index)]\n",
    "\n"
   ]
  },
  {
   "cell_type": "code",
   "execution_count": 359,
   "id": "e3b1e678",
   "metadata": {},
   "outputs": [
    {
     "data": {
      "text/plain": [
       "4.25443960365501"
      ]
     },
     "execution_count": 359,
     "metadata": {},
     "output_type": "execute_result"
    }
   ],
   "source": [
    "ten_rating['review/score'].mean()"
   ]
  },
  {
   "cell_type": "code",
   "execution_count": 361,
   "id": "77a34caf",
   "metadata": {},
   "outputs": [
    {
     "data": {
      "text/plain": [
       "4.2282800407549175"
      ]
     },
     "execution_count": 361,
     "metadata": {},
     "output_type": "execute_result"
    }
   ],
   "source": [
    "ratings['review/score'].mean()"
   ]
  },
  {
   "cell_type": "code",
   "execution_count": null,
   "id": "2e98d25a",
   "metadata": {},
   "outputs": [],
   "source": [
    "# People who rated more than 10 books gave a little higher average rating that the total user population in the data."
   ]
  },
  {
   "cell_type": "code",
   "execution_count": 362,
   "id": "d9726929",
   "metadata": {},
   "outputs": [],
   "source": [
    "books.to_csv('books_after_eda.csv')"
   ]
  },
  {
   "cell_type": "code",
   "execution_count": 363,
   "id": "db48284d",
   "metadata": {},
   "outputs": [],
   "source": [
    "ratings.to_csv('ratings_after_eda.csv')"
   ]
  },
  {
   "cell_type": "code",
   "execution_count": null,
   "id": "526581aa",
   "metadata": {},
   "outputs": [],
   "source": []
  }
 ],
 "metadata": {
  "kernelspec": {
   "display_name": "Python 3 (ipykernel)",
   "language": "python",
   "name": "python3"
  },
  "language_info": {
   "codemirror_mode": {
    "name": "ipython",
    "version": 3
   },
   "file_extension": ".py",
   "mimetype": "text/x-python",
   "name": "python",
   "nbconvert_exporter": "python",
   "pygments_lexer": "ipython3",
   "version": "3.9.7"
  }
 },
 "nbformat": 4,
 "nbformat_minor": 5
}
