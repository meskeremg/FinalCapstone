{
 "cells": [
  {
   "cell_type": "markdown",
   "id": "10d4567e",
   "metadata": {},
   "source": [
    "# Step 3: NLP Book Recommendation System - Text Preprocessing\n",
    "\n",
    "Amazon Books Reviews Data data source: https://www.kaggle.com/datasets/mohamedbakhet/amazon-books-reviews?select=books_data.csv This is a rich dataset for Natural Language Processing containing 3,000,000 text reviews from users as well as text descriptions and categories for 212,403 books. Therefore it is ideal for text analysis."
   ]
  },
  {
   "cell_type": "markdown",
   "id": "fd73de11",
   "metadata": {},
   "source": [
    "# Importing libraries and reading the books data"
   ]
  },
  {
   "cell_type": "code",
   "execution_count": 46,
   "id": "75113551",
   "metadata": {},
   "outputs": [],
   "source": [
    "import pandas as pd\n",
    "import numpy as np\n",
    "import re\n",
    "import nltk\n",
    "#nltk.download('stopwords')  # already downloaded\n",
    "from nltk.corpus import stopwords\n",
    "from nltk.stem.porter import PorterStemmer"
   ]
  },
  {
   "cell_type": "code",
   "execution_count": 47,
   "id": "79b5c887",
   "metadata": {},
   "outputs": [],
   "source": [
    "books = pd.read_csv('books_after_eda.csv')"
   ]
  },
  {
   "cell_type": "code",
   "execution_count": 48,
   "id": "9ae5502c",
   "metadata": {},
   "outputs": [
    {
     "data": {
      "text/html": [
       "<div>\n",
       "<style scoped>\n",
       "    .dataframe tbody tr th:only-of-type {\n",
       "        vertical-align: middle;\n",
       "    }\n",
       "\n",
       "    .dataframe tbody tr th {\n",
       "        vertical-align: top;\n",
       "    }\n",
       "\n",
       "    .dataframe thead th {\n",
       "        text-align: right;\n",
       "    }\n",
       "</style>\n",
       "<table border=\"1\" class=\"dataframe\">\n",
       "  <thead>\n",
       "    <tr style=\"text-align: right;\">\n",
       "      <th></th>\n",
       "      <th>Unnamed: 0</th>\n",
       "      <th>Title</th>\n",
       "      <th>review/score_Avg</th>\n",
       "      <th>review/score_Count</th>\n",
       "      <th>description</th>\n",
       "      <th>authors</th>\n",
       "      <th>publishedDate</th>\n",
       "      <th>categories</th>\n",
       "    </tr>\n",
       "  </thead>\n",
       "  <tbody>\n",
       "    <tr>\n",
       "      <th>0</th>\n",
       "      <td>1</td>\n",
       "      <td>Dr. Seuss: American Icon</td>\n",
       "      <td>4.555556</td>\n",
       "      <td>9.0</td>\n",
       "      <td>Philip Nel takes a fascinating look into the k...</td>\n",
       "      <td>['Philip Nel']</td>\n",
       "      <td>2005.0</td>\n",
       "      <td>['Biography &amp; Autobiography']</td>\n",
       "    </tr>\n",
       "    <tr>\n",
       "      <th>1</th>\n",
       "      <td>2</td>\n",
       "      <td>Wonderful Worship in Smaller Churches</td>\n",
       "      <td>5.000000</td>\n",
       "      <td>4.0</td>\n",
       "      <td>This resource includes twelve principles in un...</td>\n",
       "      <td>['David R. Ray']</td>\n",
       "      <td>2000.0</td>\n",
       "      <td>['Religion']</td>\n",
       "    </tr>\n",
       "    <tr>\n",
       "      <th>2</th>\n",
       "      <td>3</td>\n",
       "      <td>Whispers of the Wicked Saints</td>\n",
       "      <td>3.718750</td>\n",
       "      <td>32.0</td>\n",
       "      <td>Julia Thomas finds her life spinning out of co...</td>\n",
       "      <td>['Veronica Haddon']</td>\n",
       "      <td>2005.0</td>\n",
       "      <td>['Fiction']</td>\n",
       "    </tr>\n",
       "  </tbody>\n",
       "</table>\n",
       "</div>"
      ],
      "text/plain": [
       "   Unnamed: 0                                  Title  review/score_Avg  \\\n",
       "0           1               Dr. Seuss: American Icon          4.555556   \n",
       "1           2  Wonderful Worship in Smaller Churches          5.000000   \n",
       "2           3          Whispers of the Wicked Saints          3.718750   \n",
       "\n",
       "   review/score_Count                                        description  \\\n",
       "0                 9.0  Philip Nel takes a fascinating look into the k...   \n",
       "1                 4.0  This resource includes twelve principles in un...   \n",
       "2                32.0  Julia Thomas finds her life spinning out of co...   \n",
       "\n",
       "               authors  publishedDate                     categories  \n",
       "0       ['Philip Nel']         2005.0  ['Biography & Autobiography']  \n",
       "1     ['David R. Ray']         2000.0                   ['Religion']  \n",
       "2  ['Veronica Haddon']         2005.0                    ['Fiction']  "
      ]
     },
     "execution_count": 48,
     "metadata": {},
     "output_type": "execute_result"
    }
   ],
   "source": [
    "books.head(3)"
   ]
  },
  {
   "cell_type": "markdown",
   "id": "e81e8646",
   "metadata": {},
   "source": [
    "# Checking and removing duplicate titles"
   ]
  },
  {
   "cell_type": "code",
   "execution_count": 49,
   "id": "59d79bde",
   "metadata": {},
   "outputs": [
    {
     "data": {
      "text/html": [
       "<div>\n",
       "<style scoped>\n",
       "    .dataframe tbody tr th:only-of-type {\n",
       "        vertical-align: middle;\n",
       "    }\n",
       "\n",
       "    .dataframe tbody tr th {\n",
       "        vertical-align: top;\n",
       "    }\n",
       "\n",
       "    .dataframe thead th {\n",
       "        text-align: right;\n",
       "    }\n",
       "</style>\n",
       "<table border=\"1\" class=\"dataframe\">\n",
       "  <thead>\n",
       "    <tr style=\"text-align: right;\">\n",
       "      <th></th>\n",
       "      <th>Unnamed: 0</th>\n",
       "      <th>Title</th>\n",
       "      <th>review/score_Avg</th>\n",
       "      <th>review/score_Count</th>\n",
       "      <th>description</th>\n",
       "      <th>authors</th>\n",
       "      <th>publishedDate</th>\n",
       "      <th>categories</th>\n",
       "    </tr>\n",
       "  </thead>\n",
       "  <tbody>\n",
       "    <tr>\n",
       "      <th>3388</th>\n",
       "      <td>4850</td>\n",
       "      <td>the complete book of home inspection: for the ...</td>\n",
       "      <td>3.53125</td>\n",
       "      <td>32.0</td>\n",
       "      <td>Guidelines from a professional home inspector.</td>\n",
       "      <td>['Norman Becker']</td>\n",
       "      <td>1993.0</td>\n",
       "      <td>['Dwellings']</td>\n",
       "    </tr>\n",
       "    <tr>\n",
       "      <th>4117</th>\n",
       "      <td>5890</td>\n",
       "      <td>in the wet</td>\n",
       "      <td>4.40000</td>\n",
       "      <td>45.0</td>\n",
       "      <td>It is the rainy season. Drunk and delirious, a...</td>\n",
       "      <td>['Nevil Shute']</td>\n",
       "      <td>2010.0</td>\n",
       "      <td>['Fiction']</td>\n",
       "    </tr>\n",
       "    <tr>\n",
       "      <th>4725</th>\n",
       "      <td>6715</td>\n",
       "      <td>silence will speak: a study of the life of den...</td>\n",
       "      <td>4.00000</td>\n",
       "      <td>2.0</td>\n",
       "      <td>A study of the well-born Englishman who, after...</td>\n",
       "      <td>['Errol Trzebinski']</td>\n",
       "      <td>1985.0</td>\n",
       "      <td>['History']</td>\n",
       "    </tr>\n",
       "  </tbody>\n",
       "</table>\n",
       "</div>"
      ],
      "text/plain": [
       "      Unnamed: 0                                              Title  \\\n",
       "3388        4850  the complete book of home inspection: for the ...   \n",
       "4117        5890                                         in the wet   \n",
       "4725        6715  silence will speak: a study of the life of den...   \n",
       "\n",
       "      review/score_Avg  review/score_Count  \\\n",
       "3388           3.53125                32.0   \n",
       "4117           4.40000                45.0   \n",
       "4725           4.00000                 2.0   \n",
       "\n",
       "                                            description               authors  \\\n",
       "3388     Guidelines from a professional home inspector.     ['Norman Becker']   \n",
       "4117  It is the rainy season. Drunk and delirious, a...       ['Nevil Shute']   \n",
       "4725  A study of the well-born Englishman who, after...  ['Errol Trzebinski']   \n",
       "\n",
       "      publishedDate     categories  \n",
       "3388         1993.0  ['Dwellings']  \n",
       "4117         2010.0    ['Fiction']  \n",
       "4725         1985.0    ['History']  "
      ]
     },
     "execution_count": 49,
     "metadata": {},
     "output_type": "execute_result"
    }
   ],
   "source": [
    "books['Title'] = books['Title'].str.lower()\n",
    "duplicates = books[books.duplicated(subset='Title')]\n",
    "duplicates.head(3)"
   ]
  },
  {
   "cell_type": "code",
   "execution_count": 50,
   "id": "e7dc3566",
   "metadata": {},
   "outputs": [],
   "source": [
    "# Removing empty spaces and special characters in the title column\n",
    "\n",
    "books['Title'] = books['Title'].str.strip()\n",
    "books['Title'] = books['Title'].replace(r'\\s+',' ', regex=True)\n",
    "books['Title'] = books['Title'].replace(r'[^\\w\\s]+', '', regex=True)"
   ]
  },
  {
   "cell_type": "code",
   "execution_count": 51,
   "id": "e6b6edf3",
   "metadata": {},
   "outputs": [
    {
     "data": {
      "text/html": [
       "<div>\n",
       "<style scoped>\n",
       "    .dataframe tbody tr th:only-of-type {\n",
       "        vertical-align: middle;\n",
       "    }\n",
       "\n",
       "    .dataframe tbody tr th {\n",
       "        vertical-align: top;\n",
       "    }\n",
       "\n",
       "    .dataframe thead th {\n",
       "        text-align: right;\n",
       "    }\n",
       "</style>\n",
       "<table border=\"1\" class=\"dataframe\">\n",
       "  <thead>\n",
       "    <tr style=\"text-align: right;\">\n",
       "      <th></th>\n",
       "      <th>Unnamed: 0</th>\n",
       "      <th>Title</th>\n",
       "      <th>review/score_Avg</th>\n",
       "      <th>review/score_Count</th>\n",
       "      <th>description</th>\n",
       "      <th>authors</th>\n",
       "      <th>publishedDate</th>\n",
       "      <th>categories</th>\n",
       "    </tr>\n",
       "  </thead>\n",
       "  <tbody>\n",
       "    <tr>\n",
       "      <th>2056</th>\n",
       "      <td>2956</td>\n",
       "      <td>in the wet</td>\n",
       "      <td>4.4</td>\n",
       "      <td>15.0</td>\n",
       "      <td>It is the rainy season. Drunk and delirious, a...</td>\n",
       "      <td>['Nevil Shute']</td>\n",
       "      <td>2010.0</td>\n",
       "      <td>['Fiction']</td>\n",
       "    </tr>\n",
       "    <tr>\n",
       "      <th>4117</th>\n",
       "      <td>5890</td>\n",
       "      <td>in the wet</td>\n",
       "      <td>4.4</td>\n",
       "      <td>45.0</td>\n",
       "      <td>It is the rainy season. Drunk and delirious, a...</td>\n",
       "      <td>['Nevil Shute']</td>\n",
       "      <td>2010.0</td>\n",
       "      <td>['Fiction']</td>\n",
       "    </tr>\n",
       "  </tbody>\n",
       "</table>\n",
       "</div>"
      ],
      "text/plain": [
       "      Unnamed: 0       Title  review/score_Avg  review/score_Count  \\\n",
       "2056        2956  in the wet               4.4                15.0   \n",
       "4117        5890  in the wet               4.4                45.0   \n",
       "\n",
       "                                            description          authors  \\\n",
       "2056  It is the rainy season. Drunk and delirious, a...  ['Nevil Shute']   \n",
       "4117  It is the rainy season. Drunk and delirious, a...  ['Nevil Shute']   \n",
       "\n",
       "      publishedDate   categories  \n",
       "2056         2010.0  ['Fiction']  \n",
       "4117         2010.0  ['Fiction']  "
      ]
     },
     "execution_count": 51,
     "metadata": {},
     "output_type": "execute_result"
    }
   ],
   "source": [
    "# Examples of duplicates\n",
    "\n",
    "books[books['Title']=='in the wet']"
   ]
  },
  {
   "cell_type": "code",
   "execution_count": 52,
   "id": "444f3b16",
   "metadata": {},
   "outputs": [
    {
     "data": {
      "text/html": [
       "<div>\n",
       "<style scoped>\n",
       "    .dataframe tbody tr th:only-of-type {\n",
       "        vertical-align: middle;\n",
       "    }\n",
       "\n",
       "    .dataframe tbody tr th {\n",
       "        vertical-align: top;\n",
       "    }\n",
       "\n",
       "    .dataframe thead th {\n",
       "        text-align: right;\n",
       "    }\n",
       "</style>\n",
       "<table border=\"1\" class=\"dataframe\">\n",
       "  <thead>\n",
       "    <tr style=\"text-align: right;\">\n",
       "      <th></th>\n",
       "      <th>Unnamed: 0</th>\n",
       "      <th>Title</th>\n",
       "      <th>review/score_Avg</th>\n",
       "      <th>review/score_Count</th>\n",
       "      <th>description</th>\n",
       "      <th>authors</th>\n",
       "      <th>publishedDate</th>\n",
       "      <th>categories</th>\n",
       "    </tr>\n",
       "  </thead>\n",
       "  <tbody>\n",
       "    <tr>\n",
       "      <th>3343</th>\n",
       "      <td>4786</td>\n",
       "      <td>the high window</td>\n",
       "      <td>4.192308</td>\n",
       "      <td>26.0</td>\n",
       "      <td>Philip Marlowe, a private detective, searches ...</td>\n",
       "      <td>['Raymond Chandler']</td>\n",
       "      <td>1993.0</td>\n",
       "      <td>['Fiction']</td>\n",
       "    </tr>\n",
       "    <tr>\n",
       "      <th>5403</th>\n",
       "      <td>7667</td>\n",
       "      <td>the high window</td>\n",
       "      <td>4.187500</td>\n",
       "      <td>80.0</td>\n",
       "      <td>Philip Marlowe, a private detective, searches ...</td>\n",
       "      <td>['Raymond Chandler']</td>\n",
       "      <td>1993.0</td>\n",
       "      <td>['Fiction']</td>\n",
       "    </tr>\n",
       "  </tbody>\n",
       "</table>\n",
       "</div>"
      ],
      "text/plain": [
       "      Unnamed: 0            Title  review/score_Avg  review/score_Count  \\\n",
       "3343        4786  the high window          4.192308                26.0   \n",
       "5403        7667  the high window          4.187500                80.0   \n",
       "\n",
       "                                            description               authors  \\\n",
       "3343  Philip Marlowe, a private detective, searches ...  ['Raymond Chandler']   \n",
       "5403  Philip Marlowe, a private detective, searches ...  ['Raymond Chandler']   \n",
       "\n",
       "      publishedDate   categories  \n",
       "3343         1993.0  ['Fiction']  \n",
       "5403         1993.0  ['Fiction']  "
      ]
     },
     "execution_count": 52,
     "metadata": {},
     "output_type": "execute_result"
    }
   ],
   "source": [
    "books[books['Title']=='the high window']"
   ]
  },
  {
   "cell_type": "code",
   "execution_count": 53,
   "id": "317c4b50",
   "metadata": {},
   "outputs": [],
   "source": [
    "# sorting the records by the title so the same titles will be together, and then sorted by the review/score count. \n",
    "# I want to keep one of the duplicate values which has higher number of review/score_count.\n",
    "\n",
    "books = books.sort_values(by=['Title', 'review/score_Count'])\n",
    "\n",
    "# Dropping the duplicate value with less number of review/score_count.\n",
    "\n",
    "books = books.drop_duplicates(subset='Title', keep='last')"
   ]
  },
  {
   "cell_type": "code",
   "execution_count": 54,
   "id": "fadb62c7",
   "metadata": {
    "scrolled": true
   },
   "outputs": [
    {
     "data": {
      "text/html": [
       "<div>\n",
       "<style scoped>\n",
       "    .dataframe tbody tr th:only-of-type {\n",
       "        vertical-align: middle;\n",
       "    }\n",
       "\n",
       "    .dataframe tbody tr th {\n",
       "        vertical-align: top;\n",
       "    }\n",
       "\n",
       "    .dataframe thead th {\n",
       "        text-align: right;\n",
       "    }\n",
       "</style>\n",
       "<table border=\"1\" class=\"dataframe\">\n",
       "  <thead>\n",
       "    <tr style=\"text-align: right;\">\n",
       "      <th></th>\n",
       "      <th>Unnamed: 0</th>\n",
       "      <th>Title</th>\n",
       "      <th>review/score_Avg</th>\n",
       "      <th>review/score_Count</th>\n",
       "      <th>description</th>\n",
       "      <th>authors</th>\n",
       "      <th>publishedDate</th>\n",
       "      <th>categories</th>\n",
       "    </tr>\n",
       "  </thead>\n",
       "  <tbody>\n",
       "  </tbody>\n",
       "</table>\n",
       "</div>"
      ],
      "text/plain": [
       "Empty DataFrame\n",
       "Columns: [Unnamed: 0, Title, review/score_Avg, review/score_Count, description, authors, publishedDate, categories]\n",
       "Index: []"
      ]
     },
     "execution_count": 54,
     "metadata": {},
     "output_type": "execute_result"
    }
   ],
   "source": [
    "# Making sure the duplicate titles are removed.\n",
    "\n",
    "books[books.duplicated(subset='Title')]"
   ]
  },
  {
   "cell_type": "code",
   "execution_count": 55,
   "id": "9c1870d8",
   "metadata": {},
   "outputs": [
    {
     "data": {
      "text/html": [
       "<div>\n",
       "<style scoped>\n",
       "    .dataframe tbody tr th:only-of-type {\n",
       "        vertical-align: middle;\n",
       "    }\n",
       "\n",
       "    .dataframe tbody tr th {\n",
       "        vertical-align: top;\n",
       "    }\n",
       "\n",
       "    .dataframe thead th {\n",
       "        text-align: right;\n",
       "    }\n",
       "</style>\n",
       "<table border=\"1\" class=\"dataframe\">\n",
       "  <thead>\n",
       "    <tr style=\"text-align: right;\">\n",
       "      <th></th>\n",
       "      <th>Unnamed: 0</th>\n",
       "      <th>Title</th>\n",
       "      <th>review/score_Avg</th>\n",
       "      <th>review/score_Count</th>\n",
       "      <th>description</th>\n",
       "      <th>authors</th>\n",
       "      <th>publishedDate</th>\n",
       "      <th>categories</th>\n",
       "    </tr>\n",
       "  </thead>\n",
       "  <tbody>\n",
       "    <tr>\n",
       "      <th>5403</th>\n",
       "      <td>7667</td>\n",
       "      <td>the high window</td>\n",
       "      <td>4.1875</td>\n",
       "      <td>80.0</td>\n",
       "      <td>Philip Marlowe, a private detective, searches ...</td>\n",
       "      <td>['Raymond Chandler']</td>\n",
       "      <td>1993.0</td>\n",
       "      <td>['Fiction']</td>\n",
       "    </tr>\n",
       "  </tbody>\n",
       "</table>\n",
       "</div>"
      ],
      "text/plain": [
       "      Unnamed: 0            Title  review/score_Avg  review/score_Count  \\\n",
       "5403        7667  the high window            4.1875                80.0   \n",
       "\n",
       "                                            description               authors  \\\n",
       "5403  Philip Marlowe, a private detective, searches ...  ['Raymond Chandler']   \n",
       "\n",
       "      publishedDate   categories  \n",
       "5403         1993.0  ['Fiction']  "
      ]
     },
     "execution_count": 55,
     "metadata": {},
     "output_type": "execute_result"
    }
   ],
   "source": [
    "# checking to make sure the one with higher review/score_count was kept.\n",
    "\n",
    "books[books['Title']=='the high window']"
   ]
  },
  {
   "cell_type": "code",
   "execution_count": 56,
   "id": "7d525883",
   "metadata": {},
   "outputs": [
    {
     "data": {
      "text/html": [
       "<div>\n",
       "<style scoped>\n",
       "    .dataframe tbody tr th:only-of-type {\n",
       "        vertical-align: middle;\n",
       "    }\n",
       "\n",
       "    .dataframe tbody tr th {\n",
       "        vertical-align: top;\n",
       "    }\n",
       "\n",
       "    .dataframe thead th {\n",
       "        text-align: right;\n",
       "    }\n",
       "</style>\n",
       "<table border=\"1\" class=\"dataframe\">\n",
       "  <thead>\n",
       "    <tr style=\"text-align: right;\">\n",
       "      <th></th>\n",
       "      <th>Unnamed: 0</th>\n",
       "      <th>Title</th>\n",
       "      <th>review/score_Avg</th>\n",
       "      <th>review/score_Count</th>\n",
       "      <th>description</th>\n",
       "      <th>authors</th>\n",
       "      <th>publishedDate</th>\n",
       "      <th>categories</th>\n",
       "    </tr>\n",
       "  </thead>\n",
       "  <tbody>\n",
       "    <tr>\n",
       "      <th>4117</th>\n",
       "      <td>5890</td>\n",
       "      <td>in the wet</td>\n",
       "      <td>4.4</td>\n",
       "      <td>45.0</td>\n",
       "      <td>It is the rainy season. Drunk and delirious, a...</td>\n",
       "      <td>['Nevil Shute']</td>\n",
       "      <td>2010.0</td>\n",
       "      <td>['Fiction']</td>\n",
       "    </tr>\n",
       "  </tbody>\n",
       "</table>\n",
       "</div>"
      ],
      "text/plain": [
       "      Unnamed: 0       Title  review/score_Avg  review/score_Count  \\\n",
       "4117        5890  in the wet               4.4                45.0   \n",
       "\n",
       "                                            description          authors  \\\n",
       "4117  It is the rainy season. Drunk and delirious, a...  ['Nevil Shute']   \n",
       "\n",
       "      publishedDate   categories  \n",
       "4117         2010.0  ['Fiction']  "
      ]
     },
     "execution_count": 56,
     "metadata": {},
     "output_type": "execute_result"
    }
   ],
   "source": [
    "books[books['Title']=='in the wet']"
   ]
  },
  {
   "cell_type": "markdown",
   "id": "9344b21b",
   "metadata": {},
   "source": [
    "# Combining the categories and description columns"
   ]
  },
  {
   "cell_type": "code",
   "execution_count": 57,
   "id": "4b4eeba3",
   "metadata": {},
   "outputs": [],
   "source": [
    "books['description_categories'] = books['categories'] + \" \" + books['description']"
   ]
  },
  {
   "cell_type": "code",
   "execution_count": 58,
   "id": "8006cb0c",
   "metadata": {},
   "outputs": [
    {
     "data": {
      "text/plain": [
       "\"['Biography & Autobiography'] The story for children 10 and up of St. Hyacinth, the Dominican who planted the Faith in Poland, Lithuania and Russia and worked many miracles. He went to Rome, where he met St. Dominic, and was one of the first to receive at his hands the habit of the newly established Order of Friars Preachers. After his novitiate he made his religious profession, and was made superior of the little band of missionaries sent to Poland to preach. Impr. 189 pgs 16 Illus, PB\""
      ]
     },
     "execution_count": 58,
     "metadata": {},
     "output_type": "execute_result"
    }
   ],
   "source": [
    "books['description_categories'][4]"
   ]
  },
  {
   "cell_type": "code",
   "execution_count": 59,
   "id": "9add07e9",
   "metadata": {},
   "outputs": [],
   "source": [
    "# Removing special characters and converting all of the text to lower case\n",
    "\n",
    "books['description_categories'] = books['description_categories'].replace(r'[^\\w\\s]+', '', regex=True)\n",
    "books['description_categories'] = books['description_categories'].replace(r'\\d+', '', regex=True)\n",
    "books['description_categories'] = books['description_categories'].str.lower()"
   ]
  },
  {
   "cell_type": "code",
   "execution_count": 60,
   "id": "ceee6b7b",
   "metadata": {
    "scrolled": true
   },
   "outputs": [
    {
     "data": {
      "text/plain": [
       "'biography  autobiography the story for children  and up of st hyacinth the dominican who planted the faith in poland lithuania and russia and worked many miracles he went to rome where he met st dominic and was one of the first to receive at his hands the habit of the newly established order of friars preachers after his novitiate he made his religious profession and was made superior of the little band of missionaries sent to poland to preach impr  pgs  illus pb'"
      ]
     },
     "execution_count": 60,
     "metadata": {},
     "output_type": "execute_result"
    }
   ],
   "source": [
    "books['description_categories'][4]"
   ]
  },
  {
   "cell_type": "code",
   "execution_count": 61,
   "id": "42673ac7",
   "metadata": {},
   "outputs": [
    {
     "data": {
      "text/html": [
       "<div>\n",
       "<style scoped>\n",
       "    .dataframe tbody tr th:only-of-type {\n",
       "        vertical-align: middle;\n",
       "    }\n",
       "\n",
       "    .dataframe tbody tr th {\n",
       "        vertical-align: top;\n",
       "    }\n",
       "\n",
       "    .dataframe thead th {\n",
       "        text-align: right;\n",
       "    }\n",
       "</style>\n",
       "<table border=\"1\" class=\"dataframe\">\n",
       "  <thead>\n",
       "    <tr style=\"text-align: right;\">\n",
       "      <th></th>\n",
       "      <th>index</th>\n",
       "      <th>Title</th>\n",
       "      <th>review/score_Avg</th>\n",
       "      <th>review/score_Count</th>\n",
       "      <th>authors</th>\n",
       "      <th>publishedDate</th>\n",
       "      <th>description_categories</th>\n",
       "    </tr>\n",
       "  </thead>\n",
       "  <tbody>\n",
       "    <tr>\n",
       "      <th>0</th>\n",
       "      <td>74190</td>\n",
       "      <td>and poetry is born  russian classical poetry</td>\n",
       "      <td>4.0</td>\n",
       "      <td>1.0</td>\n",
       "      <td>['Aleksandr Sergeevich Pushkin']</td>\n",
       "      <td>1984.0</td>\n",
       "      <td>russian poetry a selection of russian poems in...</td>\n",
       "    </tr>\n",
       "    <tr>\n",
       "      <th>1</th>\n",
       "      <td>80644</td>\n",
       "      <td>and still king</td>\n",
       "      <td>4.0</td>\n",
       "      <td>1.0</td>\n",
       "      <td>['Keith Checkley']</td>\n",
       "      <td>2012.0</td>\n",
       "      <td>business  economics nothing provides a clearer...</td>\n",
       "    </tr>\n",
       "  </tbody>\n",
       "</table>\n",
       "</div>"
      ],
      "text/plain": [
       "   index                                          Title  review/score_Avg  \\\n",
       "0  74190   and poetry is born  russian classical poetry               4.0   \n",
       "1  80644                                 and still king               4.0   \n",
       "\n",
       "   review/score_Count                           authors  publishedDate  \\\n",
       "0                 1.0  ['Aleksandr Sergeevich Pushkin']         1984.0   \n",
       "1                 1.0                ['Keith Checkley']         2012.0   \n",
       "\n",
       "                              description_categories  \n",
       "0  russian poetry a selection of russian poems in...  \n",
       "1  business  economics nothing provides a clearer...  "
      ]
     },
     "execution_count": 61,
     "metadata": {},
     "output_type": "execute_result"
    }
   ],
   "source": [
    "# Removing unneeded columns and resetting the index\n",
    "\n",
    "books = books.drop(columns=['Unnamed: 0', 'description', 'categories'], axis=1)\n",
    "books = books.reset_index()\n",
    "books.head(2)"
   ]
  },
  {
   "cell_type": "markdown",
   "id": "6411ee8e",
   "metadata": {},
   "source": [
    "# Tokenize, Lemmatize, Remove Stop Words, "
   ]
  },
  {
   "cell_type": "code",
   "execution_count": 62,
   "id": "a4bdfc0b",
   "metadata": {},
   "outputs": [
    {
     "name": "stderr",
     "output_type": "stream",
     "text": [
      "[nltk_data] Downloading package punkt to\n",
      "[nltk_data]     C:\\Users\\meske\\AppData\\Roaming\\nltk_data...\n",
      "[nltk_data]   Package punkt is already up-to-date!\n",
      "[nltk_data] Downloading package wordnet to\n",
      "[nltk_data]     C:\\Users\\meske\\AppData\\Roaming\\nltk_data...\n",
      "[nltk_data]   Package wordnet is already up-to-date!\n"
     ]
    },
    {
     "data": {
      "text/plain": [
       "True"
      ]
     },
     "execution_count": 62,
     "metadata": {},
     "output_type": "execute_result"
    }
   ],
   "source": [
    "import nltk.data\n",
    "nltk.download('punkt')      # already downloaded\n",
    "tokenizer = nltk.data.load('tokenizers/punkt/english.pickle')\n",
    "from nltk.stem import WordNetLemmatizer\n",
    "from nltk.tokenize import word_tokenize\n",
    "from pprint import pprint\n",
    "nltk.download('wordnet')"
   ]
  },
  {
   "cell_type": "code",
   "execution_count": 63,
   "id": "745ee884",
   "metadata": {},
   "outputs": [
    {
     "data": {
      "text/plain": [
       "['i', 'me', 'my', 'myself', 'we']"
      ]
     },
     "execution_count": 63,
     "metadata": {},
     "output_type": "execute_result"
    }
   ],
   "source": [
    "stopwords = list(stopwords.words('english'))\n",
    "stopwords[0:5]"
   ]
  },
  {
   "cell_type": "markdown",
   "id": "7fa045a2",
   "metadata": {},
   "source": [
    "# Lemmatization or Stemming"
   ]
  },
  {
   "cell_type": "markdown",
   "id": "10be8ded",
   "metadata": {},
   "source": [
    "I chose lemmatization instead of stemming. Stemming truncates the word \n",
    "while lemmatization reduces the word to the dictionary root word form.\n",
    "Stemming sometimes causes overstemming, which gives words that do not have any meaning.\n",
    "\n",
    "Source: https://towardsdatascience.com/7-nlp-techniques-you-can-easily-implement-with-python-dc0ade1a53c2"
   ]
  },
  {
   "cell_type": "code",
   "execution_count": 64,
   "id": "233f692d",
   "metadata": {},
   "outputs": [],
   "source": [
    "# define the tokenize_lemmatize function\n",
    "\n",
    "lemmatizer = WordNetLemmatizer()\n",
    "\n",
    "def tokenize_lemmatize(text):\n",
    "    new_words = []\n",
    "    tokenized_text = word_tokenize(text)\n",
    "    for word in tokenized_text:\n",
    "        if word in stopwords:\n",
    "            continue\n",
    "        else:\n",
    "            lemmetized_word = lemmatizer.lemmatize(word)\n",
    "            new_words.append(lemmetized_word)  \n",
    "    return new_words"
   ]
  },
  {
   "cell_type": "code",
   "execution_count": 65,
   "id": "277c3fc1",
   "metadata": {
    "scrolled": false
   },
   "outputs": [
    {
     "name": "stderr",
     "output_type": "stream",
     "text": [
      "C:\\Users\\meske\\AppData\\Local\\Temp/ipykernel_26620/2420921390.py:5: SettingWithCopyWarning: \n",
      "A value is trying to be set on a copy of a slice from a DataFrame\n",
      "\n",
      "See the caveats in the documentation: https://pandas.pydata.org/pandas-docs/stable/user_guide/indexing.html#returning-a-view-versus-a-copy\n",
      "  books['description_categories'][i] = new_para\n"
     ]
    }
   ],
   "source": [
    "# Calling the tokenize_lemmatize function\n",
    "\n",
    "for i in range(len(books['description_categories'])):\n",
    "    new_para = tokenize_lemmatize(books['description_categories'][i])\n",
    "    books['description_categories'][i] = new_para\n"
   ]
  },
  {
   "cell_type": "code",
   "execution_count": 66,
   "id": "cf54b3cf",
   "metadata": {},
   "outputs": [
    {
     "data": {
      "text/plain": [
       "['drama', 'film', 'technique', 'film', 'acting']"
      ]
     },
     "execution_count": 66,
     "metadata": {},
     "output_type": "execute_result"
    }
   ],
   "source": [
    "# the output looks good! It doesn't have stop words and it is tokenized and lemmatized.\n",
    "\n",
    "books['description_categories'][4][0:5]"
   ]
  },
  {
   "cell_type": "markdown",
   "id": "e5c55e08",
   "metadata": {},
   "source": [
    "# Join the list of strings in the description_categories column into one string"
   ]
  },
  {
   "cell_type": "code",
   "execution_count": 67,
   "id": "6780a5b6",
   "metadata": {},
   "outputs": [],
   "source": [
    "books['description_categories'] = books['description_categories'].str.join(\" \")"
   ]
  },
  {
   "cell_type": "code",
   "execution_count": 68,
   "id": "d8500466",
   "metadata": {
    "scrolled": true
   },
   "outputs": [
    {
     "data": {
      "text/html": [
       "<div>\n",
       "<style scoped>\n",
       "    .dataframe tbody tr th:only-of-type {\n",
       "        vertical-align: middle;\n",
       "    }\n",
       "\n",
       "    .dataframe tbody tr th {\n",
       "        vertical-align: top;\n",
       "    }\n",
       "\n",
       "    .dataframe thead th {\n",
       "        text-align: right;\n",
       "    }\n",
       "</style>\n",
       "<table border=\"1\" class=\"dataframe\">\n",
       "  <thead>\n",
       "    <tr style=\"text-align: right;\">\n",
       "      <th></th>\n",
       "      <th>index</th>\n",
       "      <th>Title</th>\n",
       "      <th>review/score_Avg</th>\n",
       "      <th>review/score_Count</th>\n",
       "      <th>authors</th>\n",
       "      <th>publishedDate</th>\n",
       "      <th>description_categories</th>\n",
       "    </tr>\n",
       "  </thead>\n",
       "  <tbody>\n",
       "    <tr>\n",
       "      <th>0</th>\n",
       "      <td>74190</td>\n",
       "      <td>and poetry is born  russian classical poetry</td>\n",
       "      <td>4.0</td>\n",
       "      <td>1.0</td>\n",
       "      <td>['Aleksandr Sergeevich Pushkin']</td>\n",
       "      <td>1984.0</td>\n",
       "      <td>russian poetry selection russian poem russian ...</td>\n",
       "    </tr>\n",
       "    <tr>\n",
       "      <th>1</th>\n",
       "      <td>80644</td>\n",
       "      <td>and still king</td>\n",
       "      <td>4.0</td>\n",
       "      <td>1.0</td>\n",
       "      <td>['Keith Checkley']</td>\n",
       "      <td>2012.0</td>\n",
       "      <td>business economics nothing provides clearer pi...</td>\n",
       "    </tr>\n",
       "    <tr>\n",
       "      <th>2</th>\n",
       "      <td>31352</td>\n",
       "      <td>dancers in mourning</td>\n",
       "      <td>4.5</td>\n",
       "      <td>8.0</td>\n",
       "      <td>['Margery Allingham']</td>\n",
       "      <td>2015.0</td>\n",
       "      <td>fiction murder take center stage songanddance ...</td>\n",
       "    </tr>\n",
       "  </tbody>\n",
       "</table>\n",
       "</div>"
      ],
      "text/plain": [
       "   index                                          Title  review/score_Avg  \\\n",
       "0  74190   and poetry is born  russian classical poetry               4.0   \n",
       "1  80644                                 and still king               4.0   \n",
       "2  31352                            dancers in mourning               4.5   \n",
       "\n",
       "   review/score_Count                           authors  publishedDate  \\\n",
       "0                 1.0  ['Aleksandr Sergeevich Pushkin']         1984.0   \n",
       "1                 1.0                ['Keith Checkley']         2012.0   \n",
       "2                 8.0             ['Margery Allingham']         2015.0   \n",
       "\n",
       "                              description_categories  \n",
       "0  russian poetry selection russian poem russian ...  \n",
       "1  business economics nothing provides clearer pi...  \n",
       "2  fiction murder take center stage songanddance ...  "
      ]
     },
     "execution_count": 68,
     "metadata": {},
     "output_type": "execute_result"
    }
   ],
   "source": [
    "books.head(3)"
   ]
  },
  {
   "cell_type": "code",
   "execution_count": 69,
   "id": "5adbefdd",
   "metadata": {},
   "outputs": [],
   "source": [
    "books.to_csv('books_after_preprocessing.csv', index=False)"
   ]
  },
  {
   "cell_type": "markdown",
   "id": "23becafb",
   "metadata": {},
   "source": [
    "# Next steps\n",
    "\n",
    "The next step will be vectorizing, creating cosine similarity matrix and making recommendations. I will be doing this next phase in Google Colab since creating the cosine similarity matrix requires 78 gb of memory and cannot be done on a local machine. I may also need to do this process on a subset of the data. I wgill be using Colab Pro in order to get better access to higher RAM and GPU. Please see the next step here. https://colab.research.google.com/drive/1ZJ0IckSniFoalPV0rFNIqwSEngl1xbZM?usp=sharing"
   ]
  },
  {
   "cell_type": "code",
   "execution_count": null,
   "id": "c7915603",
   "metadata": {},
   "outputs": [],
   "source": []
  }
 ],
 "metadata": {
  "kernelspec": {
   "display_name": "Python 3 (ipykernel)",
   "language": "python",
   "name": "python3"
  },
  "language_info": {
   "codemirror_mode": {
    "name": "ipython",
    "version": 3
   },
   "file_extension": ".py",
   "mimetype": "text/x-python",
   "name": "python",
   "nbconvert_exporter": "python",
   "pygments_lexer": "ipython3",
   "version": "3.9.7"
  }
 },
 "nbformat": 4,
 "nbformat_minor": 5
}
