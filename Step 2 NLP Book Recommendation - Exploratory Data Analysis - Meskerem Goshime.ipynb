{
 "cells": [
  {
   "cell_type": "markdown",
   "id": "4e95ba24",
   "metadata": {},
   "source": [
    "# Step 2: NLP Book Recommendation System - Exploratory Data Analysis\n",
    "\n",
    "Amazon Books Reviews Data \n",
    "data source: https://www.kaggle.com/datasets/mohamedbakhet/amazon-books-reviews?select=books_data.csv \n",
    "This is a rich dataset for Natural Language Processing containing 3,000,000 text reviews from users as well as text descriptions and categories for 212,403 books. Therefore it is ideal for text analysis."
   ]
  },
  {
   "cell_type": "code",
   "execution_count": 1,
   "id": "9b8095f6",
   "metadata": {},
   "outputs": [],
   "source": [
    "import pandas as pd\n",
    "import numpy as np\n",
    "import matplotlib.pyplot as plt\n",
    "import seaborn as sns"
   ]
  },
  {
   "cell_type": "code",
   "execution_count": 50,
   "id": "8bd7822c",
   "metadata": {},
   "outputs": [],
   "source": [
    "#reading the data\n",
    "books = pd.read_csv('books_wrangled.csv')"
   ]
  },
  {
   "cell_type": "code",
   "execution_count": 3,
   "id": "627d4a96",
   "metadata": {},
   "outputs": [],
   "source": [
    "ratings = pd.read_csv('ratings_wrangled.csv')"
   ]
  },
  {
   "cell_type": "code",
   "execution_count": 51,
   "id": "ac102a2e",
   "metadata": {
    "scrolled": false
   },
   "outputs": [
    {
     "data": {
      "text/html": [
       "<div>\n",
       "<style scoped>\n",
       "    .dataframe tbody tr th:only-of-type {\n",
       "        vertical-align: middle;\n",
       "    }\n",
       "\n",
       "    .dataframe tbody tr th {\n",
       "        vertical-align: top;\n",
       "    }\n",
       "\n",
       "    .dataframe thead th {\n",
       "        text-align: right;\n",
       "    }\n",
       "</style>\n",
       "<table border=\"1\" class=\"dataframe\">\n",
       "  <thead>\n",
       "    <tr style=\"text-align: right;\">\n",
       "      <th></th>\n",
       "      <th>Unnamed: 0</th>\n",
       "      <th>Title</th>\n",
       "      <th>review/score_Avg</th>\n",
       "      <th>review/score_Count</th>\n",
       "      <th>description</th>\n",
       "      <th>authors</th>\n",
       "      <th>publisher</th>\n",
       "      <th>publishedDate</th>\n",
       "      <th>categories</th>\n",
       "    </tr>\n",
       "  </thead>\n",
       "  <tbody>\n",
       "    <tr>\n",
       "      <th>0</th>\n",
       "      <td>Its Only Art If Its Well Hung!</td>\n",
       "      <td>Its Only Art If Its Well Hung!</td>\n",
       "      <td>4.000000</td>\n",
       "      <td>1.0</td>\n",
       "      <td>NaN</td>\n",
       "      <td>['Julie Strain']</td>\n",
       "      <td>NaN</td>\n",
       "      <td>1996</td>\n",
       "      <td>['Comics &amp; Graphic Novels']</td>\n",
       "    </tr>\n",
       "    <tr>\n",
       "      <th>1</th>\n",
       "      <td>Dr. Seuss: American Icon</td>\n",
       "      <td>Dr. Seuss: American Icon</td>\n",
       "      <td>4.555556</td>\n",
       "      <td>9.0</td>\n",
       "      <td>Philip Nel takes a fascinating look into the k...</td>\n",
       "      <td>['Philip Nel']</td>\n",
       "      <td>A&amp;C Black</td>\n",
       "      <td>2005-01-01</td>\n",
       "      <td>['Biography &amp; Autobiography']</td>\n",
       "    </tr>\n",
       "    <tr>\n",
       "      <th>2</th>\n",
       "      <td>Wonderful Worship in Smaller Churches</td>\n",
       "      <td>Wonderful Worship in Smaller Churches</td>\n",
       "      <td>5.000000</td>\n",
       "      <td>4.0</td>\n",
       "      <td>This resource includes twelve principles in un...</td>\n",
       "      <td>['David R. Ray']</td>\n",
       "      <td>NaN</td>\n",
       "      <td>2000</td>\n",
       "      <td>['Religion']</td>\n",
       "    </tr>\n",
       "  </tbody>\n",
       "</table>\n",
       "</div>"
      ],
      "text/plain": [
       "                              Unnamed: 0  \\\n",
       "0         Its Only Art If Its Well Hung!   \n",
       "1               Dr. Seuss: American Icon   \n",
       "2  Wonderful Worship in Smaller Churches   \n",
       "\n",
       "                                   Title  review/score_Avg  \\\n",
       "0         Its Only Art If Its Well Hung!          4.000000   \n",
       "1               Dr. Seuss: American Icon          4.555556   \n",
       "2  Wonderful Worship in Smaller Churches          5.000000   \n",
       "\n",
       "   review/score_Count                                        description  \\\n",
       "0                 1.0                                                NaN   \n",
       "1                 9.0  Philip Nel takes a fascinating look into the k...   \n",
       "2                 4.0  This resource includes twelve principles in un...   \n",
       "\n",
       "            authors  publisher publishedDate                     categories  \n",
       "0  ['Julie Strain']        NaN          1996    ['Comics & Graphic Novels']  \n",
       "1    ['Philip Nel']  A&C Black    2005-01-01  ['Biography & Autobiography']  \n",
       "2  ['David R. Ray']        NaN          2000                   ['Religion']  "
      ]
     },
     "execution_count": 51,
     "metadata": {},
     "output_type": "execute_result"
    }
   ],
   "source": [
    "books.head(3)"
   ]
  },
  {
   "cell_type": "code",
   "execution_count": 5,
   "id": "b2294d6d",
   "metadata": {
    "scrolled": true
   },
   "outputs": [
    {
     "data": {
      "text/html": [
       "<div>\n",
       "<style scoped>\n",
       "    .dataframe tbody tr th:only-of-type {\n",
       "        vertical-align: middle;\n",
       "    }\n",
       "\n",
       "    .dataframe tbody tr th {\n",
       "        vertical-align: top;\n",
       "    }\n",
       "\n",
       "    .dataframe thead th {\n",
       "        text-align: right;\n",
       "    }\n",
       "</style>\n",
       "<table border=\"1\" class=\"dataframe\">\n",
       "  <thead>\n",
       "    <tr style=\"text-align: right;\">\n",
       "      <th></th>\n",
       "      <th>Unnamed: 0</th>\n",
       "      <th>Id</th>\n",
       "      <th>Title</th>\n",
       "      <th>User_id</th>\n",
       "      <th>review/helpfulness</th>\n",
       "      <th>review/score</th>\n",
       "      <th>review/summary</th>\n",
       "      <th>review/text</th>\n",
       "    </tr>\n",
       "  </thead>\n",
       "  <tbody>\n",
       "    <tr>\n",
       "      <th>0</th>\n",
       "      <td>0</td>\n",
       "      <td>1882931173</td>\n",
       "      <td>Its Only Art If Its Well Hung!</td>\n",
       "      <td>AVCGYZL8FQQTD</td>\n",
       "      <td>7/7</td>\n",
       "      <td>4.0</td>\n",
       "      <td>Nice collection of Julie Strain images</td>\n",
       "      <td>This is only for Julie Strain fans. It's a col...</td>\n",
       "    </tr>\n",
       "    <tr>\n",
       "      <th>1</th>\n",
       "      <td>1</td>\n",
       "      <td>0826414346</td>\n",
       "      <td>Dr. Seuss: American Icon</td>\n",
       "      <td>A30TK6U7DNS82R</td>\n",
       "      <td>10/10</td>\n",
       "      <td>5.0</td>\n",
       "      <td>Really Enjoyed It</td>\n",
       "      <td>I don't care much for Dr. Seuss but after read...</td>\n",
       "    </tr>\n",
       "    <tr>\n",
       "      <th>2</th>\n",
       "      <td>2</td>\n",
       "      <td>0826414346</td>\n",
       "      <td>Dr. Seuss: American Icon</td>\n",
       "      <td>A3UH4UZ4RSVO82</td>\n",
       "      <td>10/11</td>\n",
       "      <td>5.0</td>\n",
       "      <td>Essential for every personal and Public Library</td>\n",
       "      <td>If people become the books they read and if \"t...</td>\n",
       "    </tr>\n",
       "  </tbody>\n",
       "</table>\n",
       "</div>"
      ],
      "text/plain": [
       "   Unnamed: 0          Id                           Title         User_id  \\\n",
       "0           0  1882931173  Its Only Art If Its Well Hung!   AVCGYZL8FQQTD   \n",
       "1           1  0826414346        Dr. Seuss: American Icon  A30TK6U7DNS82R   \n",
       "2           2  0826414346        Dr. Seuss: American Icon  A3UH4UZ4RSVO82   \n",
       "\n",
       "  review/helpfulness  review/score  \\\n",
       "0                7/7           4.0   \n",
       "1              10/10           5.0   \n",
       "2              10/11           5.0   \n",
       "\n",
       "                                    review/summary  \\\n",
       "0           Nice collection of Julie Strain images   \n",
       "1                                Really Enjoyed It   \n",
       "2  Essential for every personal and Public Library   \n",
       "\n",
       "                                         review/text  \n",
       "0  This is only for Julie Strain fans. It's a col...  \n",
       "1  I don't care much for Dr. Seuss but after read...  \n",
       "2  If people become the books they read and if \"t...  "
      ]
     },
     "execution_count": 5,
     "metadata": {},
     "output_type": "execute_result"
    }
   ],
   "source": [
    "ratings.head(3)"
   ]
  },
  {
   "cell_type": "markdown",
   "id": "0c77a95d",
   "metadata": {},
   "source": [
    "# Books data - additional cleaning"
   ]
  },
  {
   "cell_type": "markdown",
   "id": "07a07911",
   "metadata": {},
   "source": [
    "### Converting the publishedDate column to datetime with 4 digit year format"
   ]
  },
  {
   "cell_type": "code",
   "execution_count": 52,
   "id": "bade98e1",
   "metadata": {
    "scrolled": true
   },
   "outputs": [],
   "source": [
    "books['publishedDate'] = pd.to_datetime(books['publishedDate'], utc=True, errors='coerce').dt.year"
   ]
  },
  {
   "cell_type": "code",
   "execution_count": 53,
   "id": "d6864355",
   "metadata": {},
   "outputs": [
    {
     "data": {
      "text/html": [
       "<div>\n",
       "<style scoped>\n",
       "    .dataframe tbody tr th:only-of-type {\n",
       "        vertical-align: middle;\n",
       "    }\n",
       "\n",
       "    .dataframe tbody tr th {\n",
       "        vertical-align: top;\n",
       "    }\n",
       "\n",
       "    .dataframe thead th {\n",
       "        text-align: right;\n",
       "    }\n",
       "</style>\n",
       "<table border=\"1\" class=\"dataframe\">\n",
       "  <thead>\n",
       "    <tr style=\"text-align: right;\">\n",
       "      <th></th>\n",
       "      <th>Unnamed: 0</th>\n",
       "      <th>Title</th>\n",
       "      <th>review/score_Avg</th>\n",
       "      <th>review/score_Count</th>\n",
       "      <th>description</th>\n",
       "      <th>authors</th>\n",
       "      <th>publisher</th>\n",
       "      <th>publishedDate</th>\n",
       "      <th>categories</th>\n",
       "    </tr>\n",
       "  </thead>\n",
       "  <tbody>\n",
       "    <tr>\n",
       "      <th>0</th>\n",
       "      <td>Its Only Art If Its Well Hung!</td>\n",
       "      <td>Its Only Art If Its Well Hung!</td>\n",
       "      <td>4.000000</td>\n",
       "      <td>1.0</td>\n",
       "      <td>NaN</td>\n",
       "      <td>['Julie Strain']</td>\n",
       "      <td>NaN</td>\n",
       "      <td>1996.0</td>\n",
       "      <td>['Comics &amp; Graphic Novels']</td>\n",
       "    </tr>\n",
       "    <tr>\n",
       "      <th>1</th>\n",
       "      <td>Dr. Seuss: American Icon</td>\n",
       "      <td>Dr. Seuss: American Icon</td>\n",
       "      <td>4.555556</td>\n",
       "      <td>9.0</td>\n",
       "      <td>Philip Nel takes a fascinating look into the k...</td>\n",
       "      <td>['Philip Nel']</td>\n",
       "      <td>A&amp;C Black</td>\n",
       "      <td>2005.0</td>\n",
       "      <td>['Biography &amp; Autobiography']</td>\n",
       "    </tr>\n",
       "    <tr>\n",
       "      <th>2</th>\n",
       "      <td>Wonderful Worship in Smaller Churches</td>\n",
       "      <td>Wonderful Worship in Smaller Churches</td>\n",
       "      <td>5.000000</td>\n",
       "      <td>4.0</td>\n",
       "      <td>This resource includes twelve principles in un...</td>\n",
       "      <td>['David R. Ray']</td>\n",
       "      <td>NaN</td>\n",
       "      <td>2000.0</td>\n",
       "      <td>['Religion']</td>\n",
       "    </tr>\n",
       "  </tbody>\n",
       "</table>\n",
       "</div>"
      ],
      "text/plain": [
       "                              Unnamed: 0  \\\n",
       "0         Its Only Art If Its Well Hung!   \n",
       "1               Dr. Seuss: American Icon   \n",
       "2  Wonderful Worship in Smaller Churches   \n",
       "\n",
       "                                   Title  review/score_Avg  \\\n",
       "0         Its Only Art If Its Well Hung!          4.000000   \n",
       "1               Dr. Seuss: American Icon          4.555556   \n",
       "2  Wonderful Worship in Smaller Churches          5.000000   \n",
       "\n",
       "   review/score_Count                                        description  \\\n",
       "0                 1.0                                                NaN   \n",
       "1                 9.0  Philip Nel takes a fascinating look into the k...   \n",
       "2                 4.0  This resource includes twelve principles in un...   \n",
       "\n",
       "            authors  publisher  publishedDate                     categories  \n",
       "0  ['Julie Strain']        NaN         1996.0    ['Comics & Graphic Novels']  \n",
       "1    ['Philip Nel']  A&C Black         2005.0  ['Biography & Autobiography']  \n",
       "2  ['David R. Ray']        NaN         2000.0                   ['Religion']  "
      ]
     },
     "execution_count": 53,
     "metadata": {},
     "output_type": "execute_result"
    }
   ],
   "source": [
    "books.head(3)"
   ]
  },
  {
   "cell_type": "markdown",
   "id": "ded41eda",
   "metadata": {},
   "source": [
    "### Books data - Handling missing values"
   ]
  },
  {
   "cell_type": "code",
   "execution_count": 54,
   "id": "2a727c08",
   "metadata": {
    "scrolled": false
   },
   "outputs": [],
   "source": [
    "books = books.drop(columns=['Unnamed: 0', 'publisher'])"
   ]
  },
  {
   "cell_type": "code",
   "execution_count": 56,
   "id": "dd04fdd7",
   "metadata": {},
   "outputs": [
    {
     "data": {
      "text/html": [
       "<div>\n",
       "<style scoped>\n",
       "    .dataframe tbody tr th:only-of-type {\n",
       "        vertical-align: middle;\n",
       "    }\n",
       "\n",
       "    .dataframe tbody tr th {\n",
       "        vertical-align: top;\n",
       "    }\n",
       "\n",
       "    .dataframe thead th {\n",
       "        text-align: right;\n",
       "    }\n",
       "</style>\n",
       "<table border=\"1\" class=\"dataframe\">\n",
       "  <thead>\n",
       "    <tr style=\"text-align: right;\">\n",
       "      <th></th>\n",
       "      <th>Title</th>\n",
       "      <th>review/score_Avg</th>\n",
       "      <th>review/score_Count</th>\n",
       "      <th>description</th>\n",
       "      <th>authors</th>\n",
       "      <th>publishedDate</th>\n",
       "      <th>categories</th>\n",
       "    </tr>\n",
       "  </thead>\n",
       "  <tbody>\n",
       "    <tr>\n",
       "      <th>0</th>\n",
       "      <td>Its Only Art If Its Well Hung!</td>\n",
       "      <td>4.000000</td>\n",
       "      <td>1.0</td>\n",
       "      <td>NaN</td>\n",
       "      <td>['Julie Strain']</td>\n",
       "      <td>1996.0</td>\n",
       "      <td>['Comics &amp; Graphic Novels']</td>\n",
       "    </tr>\n",
       "    <tr>\n",
       "      <th>1</th>\n",
       "      <td>Dr. Seuss: American Icon</td>\n",
       "      <td>4.555556</td>\n",
       "      <td>9.0</td>\n",
       "      <td>Philip Nel takes a fascinating look into the k...</td>\n",
       "      <td>['Philip Nel']</td>\n",
       "      <td>2005.0</td>\n",
       "      <td>['Biography &amp; Autobiography']</td>\n",
       "    </tr>\n",
       "  </tbody>\n",
       "</table>\n",
       "</div>"
      ],
      "text/plain": [
       "                            Title  review/score_Avg  review/score_Count  \\\n",
       "0  Its Only Art If Its Well Hung!          4.000000                 1.0   \n",
       "1        Dr. Seuss: American Icon          4.555556                 9.0   \n",
       "\n",
       "                                         description           authors  \\\n",
       "0                                                NaN  ['Julie Strain']   \n",
       "1  Philip Nel takes a fascinating look into the k...    ['Philip Nel']   \n",
       "\n",
       "   publishedDate                     categories  \n",
       "0         1996.0    ['Comics & Graphic Novels']  \n",
       "1         2005.0  ['Biography & Autobiography']  "
      ]
     },
     "execution_count": 56,
     "metadata": {},
     "output_type": "execute_result"
    }
   ],
   "source": [
    "books.head(2)"
   ]
  },
  {
   "cell_type": "code",
   "execution_count": 57,
   "id": "0af2989b",
   "metadata": {
    "scrolled": true
   },
   "outputs": [
    {
     "data": {
      "text/plain": [
       "Title                     1\n",
       "review/score_Avg          1\n",
       "review/score_Count        1\n",
       "description           68442\n",
       "authors               31413\n",
       "publishedDate         25622\n",
       "categories            41199\n",
       "dtype: int64"
      ]
     },
     "execution_count": 57,
     "metadata": {},
     "output_type": "execute_result"
    }
   ],
   "source": [
    "books.isna().sum()"
   ]
  },
  {
   "cell_type": "code",
   "execution_count": 62,
   "id": "c90e3a26",
   "metadata": {},
   "outputs": [],
   "source": [
    "avg_date = round(books['publishedDate'].mean())"
   ]
  },
  {
   "cell_type": "code",
   "execution_count": 64,
   "id": "9b40e901",
   "metadata": {},
   "outputs": [
    {
     "data": {
      "text/plain": [
       "Title                     1\n",
       "review/score_Avg          1\n",
       "review/score_Count        1\n",
       "description           68442\n",
       "authors               31413\n",
       "publishedDate             0\n",
       "categories            41199\n",
       "dtype: int64"
      ]
     },
     "execution_count": 64,
     "metadata": {},
     "output_type": "execute_result"
    }
   ],
   "source": [
    "books['publishedDate'] = books['publishedDate'].fillna(avg_date)\n",
    "books.isna().sum()"
   ]
  },
  {
   "cell_type": "code",
   "execution_count": 66,
   "id": "3f077dca",
   "metadata": {},
   "outputs": [
    {
     "data": {
      "text/plain": [
       "Title                     1\n",
       "review/score_Avg          1\n",
       "review/score_Count        1\n",
       "description           68442\n",
       "authors                   0\n",
       "publishedDate             0\n",
       "categories            41199\n",
       "dtype: int64"
      ]
     },
     "execution_count": 66,
     "metadata": {},
     "output_type": "execute_result"
    }
   ],
   "source": [
    "books['authors'] = books['authors'].fillna('unknown')\n",
    "books.isna().sum()"
   ]
  },
  {
   "cell_type": "code",
   "execution_count": 67,
   "id": "e99f6ff2",
   "metadata": {},
   "outputs": [],
   "source": [
    "#drop rows with a null description or categories columns\n",
    "books.dropna(inplace=True)"
   ]
  },
  {
   "cell_type": "code",
   "execution_count": 68,
   "id": "a6535784",
   "metadata": {
    "scrolled": true
   },
   "outputs": [
    {
     "name": "stdout",
     "output_type": "stream",
     "text": [
      "<class 'pandas.core.frame.DataFrame'>\n",
      "Int64Index: 137888 entries, 1 to 212402\n",
      "Data columns (total 7 columns):\n",
      " #   Column              Non-Null Count   Dtype  \n",
      "---  ------              --------------   -----  \n",
      " 0   Title               137888 non-null  object \n",
      " 1   review/score_Avg    137888 non-null  float64\n",
      " 2   review/score_Count  137888 non-null  float64\n",
      " 3   description         137888 non-null  object \n",
      " 4   authors             137888 non-null  object \n",
      " 5   publishedDate       137888 non-null  float64\n",
      " 6   categories          137888 non-null  object \n",
      "dtypes: float64(3), object(4)\n",
      "memory usage: 8.4+ MB\n"
     ]
    }
   ],
   "source": [
    "books.info()"
   ]
  },
  {
   "cell_type": "markdown",
   "id": "6e1f74c9",
   "metadata": {},
   "source": [
    "# EDA - Books data"
   ]
  },
  {
   "cell_type": "markdown",
   "id": "881b74f0",
   "metadata": {},
   "source": [
    "### Summary statistics for numerical columns"
   ]
  },
  {
   "cell_type": "code",
   "execution_count": 69,
   "id": "8b0758b1",
   "metadata": {},
   "outputs": [
    {
     "data": {
      "text/html": [
       "<div>\n",
       "<style scoped>\n",
       "    .dataframe tbody tr th:only-of-type {\n",
       "        vertical-align: middle;\n",
       "    }\n",
       "\n",
       "    .dataframe tbody tr th {\n",
       "        vertical-align: top;\n",
       "    }\n",
       "\n",
       "    .dataframe thead th {\n",
       "        text-align: right;\n",
       "    }\n",
       "</style>\n",
       "<table border=\"1\" class=\"dataframe\">\n",
       "  <thead>\n",
       "    <tr style=\"text-align: right;\">\n",
       "      <th></th>\n",
       "      <th>review/score_Avg</th>\n",
       "      <th>review/score_Count</th>\n",
       "      <th>publishedDate</th>\n",
       "    </tr>\n",
       "  </thead>\n",
       "  <tbody>\n",
       "    <tr>\n",
       "      <th>count</th>\n",
       "      <td>137888.000000</td>\n",
       "      <td>137888.000000</td>\n",
       "      <td>137888.000000</td>\n",
       "    </tr>\n",
       "    <tr>\n",
       "      <th>mean</th>\n",
       "      <td>4.264438</td>\n",
       "      <td>16.272663</td>\n",
       "      <td>2002.459054</td>\n",
       "    </tr>\n",
       "    <tr>\n",
       "      <th>std</th>\n",
       "      <td>0.793799</td>\n",
       "      <td>125.327202</td>\n",
       "      <td>14.208794</td>\n",
       "    </tr>\n",
       "    <tr>\n",
       "      <th>min</th>\n",
       "      <td>1.000000</td>\n",
       "      <td>1.000000</td>\n",
       "      <td>1720.000000</td>\n",
       "    </tr>\n",
       "    <tr>\n",
       "      <th>25%</th>\n",
       "      <td>4.000000</td>\n",
       "      <td>1.000000</td>\n",
       "      <td>1998.000000</td>\n",
       "    </tr>\n",
       "    <tr>\n",
       "      <th>50%</th>\n",
       "      <td>4.476190</td>\n",
       "      <td>3.000000</td>\n",
       "      <td>2004.000000</td>\n",
       "    </tr>\n",
       "    <tr>\n",
       "      <th>75%</th>\n",
       "      <td>5.000000</td>\n",
       "      <td>9.000000</td>\n",
       "      <td>2011.000000</td>\n",
       "    </tr>\n",
       "    <tr>\n",
       "      <th>max</th>\n",
       "      <td>5.000000</td>\n",
       "      <td>22023.000000</td>\n",
       "      <td>2030.000000</td>\n",
       "    </tr>\n",
       "  </tbody>\n",
       "</table>\n",
       "</div>"
      ],
      "text/plain": [
       "       review/score_Avg  review/score_Count  publishedDate\n",
       "count     137888.000000       137888.000000  137888.000000\n",
       "mean           4.264438           16.272663    2002.459054\n",
       "std            0.793799          125.327202      14.208794\n",
       "min            1.000000            1.000000    1720.000000\n",
       "25%            4.000000            1.000000    1998.000000\n",
       "50%            4.476190            3.000000    2004.000000\n",
       "75%            5.000000            9.000000    2011.000000\n",
       "max            5.000000        22023.000000    2030.000000"
      ]
     },
     "execution_count": 69,
     "metadata": {},
     "output_type": "execute_result"
    }
   ],
   "source": [
    "# Summary statistics for numerical columns\n",
    "\n",
    "books.describe()"
   ]
  },
  {
   "cell_type": "code",
   "execution_count": 70,
   "id": "0d5175d2",
   "metadata": {},
   "outputs": [],
   "source": [
    "books_10_reviews = books[books['review/score_Count'] > 10]"
   ]
  },
  {
   "cell_type": "code",
   "execution_count": 71,
   "id": "cf5d905f",
   "metadata": {},
   "outputs": [
    {
     "data": {
      "text/plain": [
       "array([[<AxesSubplot:title={'center':'review/score_Avg'}>,\n",
       "        <AxesSubplot:title={'center':'review/score_Count'}>],\n",
       "       [<AxesSubplot:title={'center':'publishedDate'}>, <AxesSubplot:>]],\n",
       "      dtype=object)"
      ]
     },
     "execution_count": 71,
     "metadata": {},
     "output_type": "execute_result"
    },
    {
     "data": {
      "image/png": "[encoded data removed]",
      "text/plain": [
       "<Figure size 432x288 with 4 Axes>"
      ]
     },
     "metadata": {
      "needs_background": "light"
     },
     "output_type": "display_data"
    }
   ],
   "source": [
    "# Distribution of books that have more than 10 reviews\n",
    "books_10_reviews.hist()"
   ]
  },
  {
   "cell_type": "code",
   "execution_count": 72,
   "id": "a2ac1645",
   "metadata": {
    "scrolled": true
   },
   "outputs": [
    {
     "data": {
      "text/plain": [
       "count    30514.000000\n",
       "mean         4.205987\n",
       "std          0.526836\n",
       "min          1.000000\n",
       "25%          3.937500\n",
       "50%          4.300000\n",
       "75%          4.584092\n",
       "max          5.000000\n",
       "Name: review/score_Avg, dtype: float64"
      ]
     },
     "execution_count": 72,
     "metadata": {},
     "output_type": "execute_result"
    }
   ],
   "source": [
    "# Summary statistics for books which have more than 10 reviews.\n",
    "books_10_reviews['review/score_Avg'].describe()"
   ]
  },
  {
   "cell_type": "code",
   "execution_count": 73,
   "id": "a38ae5ee",
   "metadata": {},
   "outputs": [
    {
     "data": {
      "text/plain": [
       "count    137888.000000\n",
       "mean          4.264438\n",
       "std           0.793799\n",
       "min           1.000000\n",
       "25%           4.000000\n",
       "50%           4.476190\n",
       "75%           5.000000\n",
       "max           5.000000\n",
       "Name: review/score_Avg, dtype: float64"
      ]
     },
     "execution_count": 73,
     "metadata": {},
     "output_type": "execute_result"
    }
   ],
   "source": [
    "books['review/score_Avg'].describe()"
   ]
  },
  {
   "cell_type": "code",
   "execution_count": 74,
   "id": "5fd4e392",
   "metadata": {},
   "outputs": [
    {
     "data": {
      "text/plain": [
       "0.22129554420979344"
      ]
     },
     "execution_count": 74,
     "metadata": {},
     "output_type": "execute_result"
    }
   ],
   "source": [
    "# Only 30,514 out of the 137,888 books (which is 22%) have received more than 10 reviews.\n",
    "# I expected the books with 10 or more reviews would be rated higher. \n",
    "# However, the Mean as well as the 50th percentile of ratings are lower for books with more than 10 reviews\n",
    "# when compared to books with less than 10 reviews.\n",
    "30514/137888"
   ]
  },
  {
   "cell_type": "markdown",
   "id": "933fd566",
   "metadata": {},
   "source": [
    "### top authors - authors who received high number of reviews as well as high ratings"
   ]
  },
  {
   "cell_type": "code",
   "execution_count": 153,
   "id": "505bf521",
   "metadata": {},
   "outputs": [],
   "source": [
    "# top authors - authors who received high number of reviews as well as high ratings\n",
    "\n",
    "books_100_reviews = books[books['review/score_Count'] > 100]"
   ]
  },
  {
   "cell_type": "code",
   "execution_count": 154,
   "id": "56ad02f6",
   "metadata": {},
   "outputs": [
    {
     "name": "stdout",
     "output_type": "stream",
     "text": [
      "<class 'pandas.core.frame.DataFrame'>\n",
      "Int64Index: 3109 entries, 73 to 211994\n",
      "Data columns (total 7 columns):\n",
      " #   Column              Non-Null Count  Dtype  \n",
      "---  ------              --------------  -----  \n",
      " 0   Title               3109 non-null   object \n",
      " 1   review/score_Avg    3109 non-null   float64\n",
      " 2   review/score_Count  3109 non-null   float64\n",
      " 3   description         3109 non-null   object \n",
      " 4   authors             3109 non-null   object \n",
      " 5   publishedDate       3109 non-null   float64\n",
      " 6   categories          3109 non-null   object \n",
      "dtypes: float64(3), object(4)\n",
      "memory usage: 194.3+ KB\n"
     ]
    }
   ],
   "source": [
    "books_100_reviews.info()"
   ]
  },
  {
   "cell_type": "code",
   "execution_count": 155,
   "id": "ba680dfd",
   "metadata": {},
   "outputs": [],
   "source": [
    "authors = books['authors'].unique()\n",
    "authors = pd.DataFrame(authors)"
   ]
  },
  {
   "cell_type": "code",
   "execution_count": 156,
   "id": "c7f1ccaa",
   "metadata": {},
   "outputs": [
    {
     "data": {
      "text/plain": [
       "0    97506\n",
       "dtype: int64"
      ]
     },
     "execution_count": 156,
     "metadata": {},
     "output_type": "execute_result"
    }
   ],
   "source": [
    "# There are 97506 authors\n",
    "\n",
    "authors.count()"
   ]
  },
  {
   "cell_type": "code",
   "execution_count": 159,
   "id": "a864ac9b",
   "metadata": {},
   "outputs": [
    {
     "data": {
      "text/plain": [
       "authors\n",
       "['Michelle Cole']         5.000000\n",
       "['Leonard Ravenhill']     4.970732\n",
       "['Marian Cockrell']       4.948276\n",
       "['Robb White']            4.946429\n",
       "[\"Editors of Chase's\"]    4.943038\n",
       "['Arthur Bennett']        4.921788\n",
       "['Alan Cambeira']         4.921429\n",
       "['Ralph Moody']           4.916667\n",
       "['E.B. Sledge']           4.911374\n",
       "['Betty Crocker']         4.910064\n",
       "Name: review/score_Avg, dtype: float64"
      ]
     },
     "execution_count": 159,
     "metadata": {},
     "output_type": "execute_result"
    }
   ],
   "source": [
    "# Average score by author for authors who received more than 100 reviews\n",
    "\n",
    "author_avg_score = books_100_reviews.groupby('authors')['review/score_Avg'].mean()\n",
    "author_avg_score.sort_values(ascending=False).head(10)"
   ]
  },
  {
   "cell_type": "code",
   "execution_count": 160,
   "id": "f666e626",
   "metadata": {
    "scrolled": true
   },
   "outputs": [
    {
     "data": {
      "text/plain": [
       "Text(0.5, 1.0, 'Distribution of average rating score for authors who received more than 1000 reviews')"
      ]
     },
     "execution_count": 160,
     "metadata": {},
     "output_type": "execute_result"
    },
    {
     "data": {
      "image/png": "[encoded data removed]",
      "text/plain": [
       "<Figure size 432x288 with 1 Axes>"
      ]
     },
     "metadata": {
      "needs_background": "light"
     },
     "output_type": "display_data"
    }
   ],
   "source": [
    "# Distribution of average rating scroe for authors who received more than 100 reviews\n",
    "fig, ax = plt.subplots()\n",
    "ax.hist(author_avg_score)\n",
    "plt.xlabel('Average Author Rating')\n",
    "plt.ylabel('Number of Authors')\n",
    "plt.title('Distribution of average rating score for authors who received more than 1000 reviews')"
   ]
  },
  {
   "cell_type": "markdown",
   "id": "6460fd3d",
   "metadata": {},
   "source": [
    "### Authors with the highest number of reviews (excluding unknown authors)"
   ]
  },
  {
   "cell_type": "code",
   "execution_count": 162,
   "id": "d90a687b",
   "metadata": {
    "scrolled": true
   },
   "outputs": [
    {
     "data": {
      "text/plain": [
       "authors\n",
       "['Agatha Christie']         112\n",
       "[\"Louis L'Amour\"]           110\n",
       "['William Shakespeare']     106\n",
       "['Ann M. Martin']            65\n",
       "['Carolyn Keene']            62\n",
       "['Edgar Rice Burroughs']     59\n",
       "['Various']                  58\n",
       "['DK']                       55\n",
       "['Nora Roberts']             52\n",
       "['Mark Twain']               51\n",
       "Name: review/score_Count, dtype: int64"
      ]
     },
     "execution_count": 162,
     "metadata": {},
     "output_type": "execute_result"
    }
   ],
   "source": [
    "\n",
    "author_tot_reviews = books[books['authors'] != 'unknown'].groupby('authors')['review/score_Count'].count()\n",
    "author_tot_reviews = author_tot_reviews.sort_values(ascending = False)\n",
    "author_tot_reviews.head(10)"
   ]
  },
  {
   "cell_type": "code",
   "execution_count": 89,
   "id": "0de265a6",
   "metadata": {
    "scrolled": false
   },
   "outputs": [
    {
     "data": {
      "text/plain": [
       "count    97505.000000\n",
       "mean         1.396216\n",
       "std          1.711806\n",
       "min          1.000000\n",
       "25%          1.000000\n",
       "50%          1.000000\n",
       "75%          1.000000\n",
       "max        112.000000\n",
       "Name: review/score_Count, dtype: float64"
      ]
     },
     "execution_count": 89,
     "metadata": {},
     "output_type": "execute_result"
    }
   ],
   "source": [
    "author_tot_reviews.describe()"
   ]
  },
  {
   "cell_type": "code",
   "execution_count": 90,
   "id": "1524f922",
   "metadata": {},
   "outputs": [
    {
     "name": "stdout",
     "output_type": "stream",
     "text": [
      "1.0\n",
      "1.0\n"
     ]
    }
   ],
   "source": [
    "print(author_tot_reviews.quantile(0.05))\n",
    "print(author_tot_reviews.quantile(0.80))"
   ]
  },
  {
   "cell_type": "code",
   "execution_count": 301,
   "id": "5dab9b4e",
   "metadata": {},
   "outputs": [],
   "source": [
    "# The highest number of reviews for a single author is 112. But most authors received only 1 review."
   ]
  },
  {
   "cell_type": "code",
   "execution_count": null,
   "id": "29f27071",
   "metadata": {},
   "outputs": [],
   "source": []
  },
  {
   "cell_type": "markdown",
   "id": "75deee8d",
   "metadata": {},
   "source": [
    "### Book Categories"
   ]
  },
  {
   "cell_type": "code",
   "execution_count": 91,
   "id": "c4f90d3a",
   "metadata": {},
   "outputs": [],
   "source": [
    "# categories\n",
    "categories = books.categories.value_counts()"
   ]
  },
  {
   "cell_type": "code",
   "execution_count": 92,
   "id": "eb3d5fbf",
   "metadata": {},
   "outputs": [
    {
     "data": {
      "text/html": [
       "<div>\n",
       "<style scoped>\n",
       "    .dataframe tbody tr th:only-of-type {\n",
       "        vertical-align: middle;\n",
       "    }\n",
       "\n",
       "    .dataframe tbody tr th {\n",
       "        vertical-align: top;\n",
       "    }\n",
       "\n",
       "    .dataframe thead th {\n",
       "        text-align: right;\n",
       "    }\n",
       "</style>\n",
       "<table border=\"1\" class=\"dataframe\">\n",
       "  <thead>\n",
       "    <tr style=\"text-align: right;\">\n",
       "      <th></th>\n",
       "      <th>index</th>\n",
       "      <th>categories</th>\n",
       "    </tr>\n",
       "  </thead>\n",
       "  <tbody>\n",
       "    <tr>\n",
       "      <th>0</th>\n",
       "      <td>['Fiction']</td>\n",
       "      <td>22393</td>\n",
       "    </tr>\n",
       "    <tr>\n",
       "      <th>1</th>\n",
       "      <td>['History']</td>\n",
       "      <td>8845</td>\n",
       "    </tr>\n",
       "    <tr>\n",
       "      <th>2</th>\n",
       "      <td>['Religion']</td>\n",
       "      <td>8758</td>\n",
       "    </tr>\n",
       "    <tr>\n",
       "      <th>3</th>\n",
       "      <td>['Juvenile Fiction']</td>\n",
       "      <td>6572</td>\n",
       "    </tr>\n",
       "    <tr>\n",
       "      <th>4</th>\n",
       "      <td>['Biography &amp; Autobiography']</td>\n",
       "      <td>6047</td>\n",
       "    </tr>\n",
       "  </tbody>\n",
       "</table>\n",
       "</div>"
      ],
      "text/plain": [
       "                           index  categories\n",
       "0                    ['Fiction']       22393\n",
       "1                    ['History']        8845\n",
       "2                   ['Religion']        8758\n",
       "3           ['Juvenile Fiction']        6572\n",
       "4  ['Biography & Autobiography']        6047"
      ]
     },
     "execution_count": 92,
     "metadata": {},
     "output_type": "execute_result"
    }
   ],
   "source": [
    "categories.reset_index().head()"
   ]
  },
  {
   "cell_type": "code",
   "execution_count": 93,
   "id": "7ae230d6",
   "metadata": {},
   "outputs": [
    {
     "data": {
      "text/plain": [
       "5415"
      ]
     },
     "execution_count": 93,
     "metadata": {},
     "output_type": "execute_result"
    }
   ],
   "source": [
    "# number of categories\n",
    "\n",
    "categories.count()"
   ]
  },
  {
   "cell_type": "code",
   "execution_count": 94,
   "id": "f24b44c3",
   "metadata": {},
   "outputs": [
    {
     "data": {
      "text/plain": [
       "['Detective and mystery stories']                     125\n",
       "['Detective and mystery stories, English']             13\n",
       "['Detective and mystery stories, American']            11\n",
       "['Detective and mystery comic books, strips, etc']      4\n",
       "['Detective and mystery stories, English.']             2\n",
       "['Detective and mystery stories, American.']            2\n",
       "['Detective and mystery plays, American']               1\n",
       "['Detective and mystery television programs']           1\n",
       "['Detective and mystery radio programs']                1\n",
       "Name: categories, dtype: int64"
      ]
     },
     "execution_count": 94,
     "metadata": {},
     "output_type": "execute_result"
    }
   ],
   "source": [
    "# investigating if there are duplicate values with slightly different wording\n",
    "categories[categories.index.str.contains('myster')]"
   ]
  },
  {
   "cell_type": "code",
   "execution_count": 95,
   "id": "e62240cb",
   "metadata": {},
   "outputs": [],
   "source": [
    "# May be use text-processing on this column since the categories don't seem to be standardized.\n",
    "# For example,'Detective and mystery stories, American' and  'Detective and mystery stories, American.'"
   ]
  },
  {
   "cell_type": "code",
   "execution_count": null,
   "id": "a840e21b",
   "metadata": {},
   "outputs": [],
   "source": []
  },
  {
   "cell_type": "markdown",
   "id": "8723b1e3",
   "metadata": {},
   "source": [
    "### review/score_Avg and review/score_Count"
   ]
  },
  {
   "cell_type": "code",
   "execution_count": null,
   "id": "6a600d5b",
   "metadata": {},
   "outputs": [],
   "source": []
  },
  {
   "cell_type": "code",
   "execution_count": 149,
   "id": "0cd2e7b9",
   "metadata": {},
   "outputs": [
    {
     "data": {
      "text/plain": [
       "Text(0, 0.5, 'Number of Ratings for a Book')"
      ]
     },
     "execution_count": 149,
     "metadata": {},
     "output_type": "execute_result"
    },
    {
     "data": {
      "image/png": "[encoded data removed]",
      "text/plain": [
       "<Figure size 432x288 with 1 Axes>"
      ]
     },
     "metadata": {
      "needs_background": "light"
     },
     "output_type": "display_data"
    }
   ],
   "source": [
    "fig, ax = plt.subplots()\n",
    "ax.plot(books['review/score_Avg'], books['review/score_Count'], marker='o', linestyle='None', alpha=0.2)\n",
    "plt.xlabel('Average Ratings for a Book')\n",
    "plt.ylabel('Number of Ratings for a Book')"
   ]
  },
  {
   "cell_type": "code",
   "execution_count": 100,
   "id": "e59a6fb2",
   "metadata": {},
   "outputs": [],
   "source": [
    "score_count = books[['review/score_Avg', 'review/score_Count']]"
   ]
  },
  {
   "cell_type": "code",
   "execution_count": 101,
   "id": "f9bdacc5",
   "metadata": {},
   "outputs": [
    {
     "data": {
      "text/html": [
       "<div>\n",
       "<style scoped>\n",
       "    .dataframe tbody tr th:only-of-type {\n",
       "        vertical-align: middle;\n",
       "    }\n",
       "\n",
       "    .dataframe tbody tr th {\n",
       "        vertical-align: top;\n",
       "    }\n",
       "\n",
       "    .dataframe thead th {\n",
       "        text-align: right;\n",
       "    }\n",
       "</style>\n",
       "<table border=\"1\" class=\"dataframe\">\n",
       "  <thead>\n",
       "    <tr style=\"text-align: right;\">\n",
       "      <th></th>\n",
       "      <th>review/score_Avg</th>\n",
       "      <th>review/score_Count</th>\n",
       "    </tr>\n",
       "  </thead>\n",
       "  <tbody>\n",
       "    <tr>\n",
       "      <th>review/score_Avg</th>\n",
       "      <td>1.000000</td>\n",
       "      <td>-0.008262</td>\n",
       "    </tr>\n",
       "    <tr>\n",
       "      <th>review/score_Count</th>\n",
       "      <td>-0.008262</td>\n",
       "      <td>1.000000</td>\n",
       "    </tr>\n",
       "  </tbody>\n",
       "</table>\n",
       "</div>"
      ],
      "text/plain": [
       "                    review/score_Avg  review/score_Count\n",
       "review/score_Avg            1.000000           -0.008262\n",
       "review/score_Count         -0.008262            1.000000"
      ]
     },
     "execution_count": 101,
     "metadata": {},
     "output_type": "execute_result"
    }
   ],
   "source": [
    "score_count.corr()"
   ]
  },
  {
   "cell_type": "code",
   "execution_count": null,
   "id": "0556a770",
   "metadata": {},
   "outputs": [],
   "source": [
    "# there seems to be a weak negative correlation between average rating score and total number of reviews."
   ]
  },
  {
   "cell_type": "markdown",
   "id": "616462ff",
   "metadata": {},
   "source": [
    "# Ratings table - data cleaning"
   ]
  },
  {
   "cell_type": "code",
   "execution_count": 324,
   "id": "87877279",
   "metadata": {},
   "outputs": [],
   "source": [
    "# Handling missing values. \n"
   ]
  },
  {
   "cell_type": "code",
   "execution_count": 102,
   "id": "2fb2234c",
   "metadata": {
    "scrolled": false
   },
   "outputs": [
    {
     "data": {
      "text/plain": [
       "Unnamed: 0                 0\n",
       "Id                         0\n",
       "Title                    208\n",
       "User_id               561787\n",
       "review/helpfulness         0\n",
       "review/score               0\n",
       "review/summary            38\n",
       "review/text                8\n",
       "dtype: int64"
      ]
     },
     "execution_count": 102,
     "metadata": {},
     "output_type": "execute_result"
    }
   ],
   "source": [
    "ratings.isna().sum()"
   ]
  },
  {
   "cell_type": "code",
   "execution_count": 106,
   "id": "b74ef36e",
   "metadata": {},
   "outputs": [],
   "source": [
    "# Since this is a very large data, I will just drop the missing rows."
   ]
  },
  {
   "cell_type": "code",
   "execution_count": 107,
   "id": "d2c69841",
   "metadata": {},
   "outputs": [],
   "source": [
    "ratings = ratings.dropna(axis=0)"
   ]
  },
  {
   "cell_type": "code",
   "execution_count": 108,
   "id": "91ad0507",
   "metadata": {},
   "outputs": [
    {
     "data": {
      "text/plain": [
       "Unnamed: 0            0\n",
       "Id                    0\n",
       "Title                 0\n",
       "User_id               0\n",
       "review/helpfulness    0\n",
       "review/score          0\n",
       "review/summary        0\n",
       "review/text           0\n",
       "dtype: int64"
      ]
     },
     "execution_count": 108,
     "metadata": {},
     "output_type": "execute_result"
    }
   ],
   "source": [
    "ratings.isna().sum()"
   ]
  },
  {
   "cell_type": "code",
   "execution_count": 109,
   "id": "1a0dff70",
   "metadata": {},
   "outputs": [
    {
     "name": "stdout",
     "output_type": "stream",
     "text": [
      "<class 'pandas.core.frame.DataFrame'>\n",
      "Int64Index: 2437988 entries, 0 to 2999998\n",
      "Data columns (total 8 columns):\n",
      " #   Column              Dtype  \n",
      "---  ------              -----  \n",
      " 0   Unnamed: 0          int64  \n",
      " 1   Id                  object \n",
      " 2   Title               object \n",
      " 3   User_id             object \n",
      " 4   review/helpfulness  object \n",
      " 5   review/score        float64\n",
      " 6   review/summary      object \n",
      " 7   review/text         object \n",
      "dtypes: float64(1), int64(1), object(6)\n",
      "memory usage: 167.4+ MB\n"
     ]
    }
   ],
   "source": [
    "ratings.info()"
   ]
  },
  {
   "cell_type": "code",
   "execution_count": 110,
   "id": "836bc0bc",
   "metadata": {},
   "outputs": [],
   "source": [
    "ratings = ratings.reset_index(drop=True)"
   ]
  },
  {
   "cell_type": "code",
   "execution_count": 112,
   "id": "e17a2f7c",
   "metadata": {},
   "outputs": [],
   "source": [
    "ratings = ratings.drop(columns=['Unnamed: 0'], axis=1)"
   ]
  },
  {
   "cell_type": "code",
   "execution_count": 117,
   "id": "feaa88e9",
   "metadata": {},
   "outputs": [],
   "source": [
    "ratings.rename(columns={'Id': 'book_id'}, inplace=True)"
   ]
  },
  {
   "cell_type": "code",
   "execution_count": 118,
   "id": "60654b85",
   "metadata": {
    "scrolled": true
   },
   "outputs": [
    {
     "data": {
      "text/html": [
       "<div>\n",
       "<style scoped>\n",
       "    .dataframe tbody tr th:only-of-type {\n",
       "        vertical-align: middle;\n",
       "    }\n",
       "\n",
       "    .dataframe tbody tr th {\n",
       "        vertical-align: top;\n",
       "    }\n",
       "\n",
       "    .dataframe thead th {\n",
       "        text-align: right;\n",
       "    }\n",
       "</style>\n",
       "<table border=\"1\" class=\"dataframe\">\n",
       "  <thead>\n",
       "    <tr style=\"text-align: right;\">\n",
       "      <th></th>\n",
       "      <th>book_id</th>\n",
       "      <th>Title</th>\n",
       "      <th>User_id</th>\n",
       "      <th>review/helpfulness</th>\n",
       "      <th>review/score</th>\n",
       "      <th>review/summary</th>\n",
       "      <th>review/text</th>\n",
       "    </tr>\n",
       "  </thead>\n",
       "  <tbody>\n",
       "    <tr>\n",
       "      <th>0</th>\n",
       "      <td>1882931173</td>\n",
       "      <td>Its Only Art If Its Well Hung!</td>\n",
       "      <td>AVCGYZL8FQQTD</td>\n",
       "      <td>7/7</td>\n",
       "      <td>4.0</td>\n",
       "      <td>Nice collection of Julie Strain images</td>\n",
       "      <td>This is only for Julie Strain fans. It's a col...</td>\n",
       "    </tr>\n",
       "    <tr>\n",
       "      <th>1</th>\n",
       "      <td>0826414346</td>\n",
       "      <td>Dr. Seuss: American Icon</td>\n",
       "      <td>A30TK6U7DNS82R</td>\n",
       "      <td>10/10</td>\n",
       "      <td>5.0</td>\n",
       "      <td>Really Enjoyed It</td>\n",
       "      <td>I don't care much for Dr. Seuss but after read...</td>\n",
       "    </tr>\n",
       "    <tr>\n",
       "      <th>2</th>\n",
       "      <td>0826414346</td>\n",
       "      <td>Dr. Seuss: American Icon</td>\n",
       "      <td>A3UH4UZ4RSVO82</td>\n",
       "      <td>10/11</td>\n",
       "      <td>5.0</td>\n",
       "      <td>Essential for every personal and Public Library</td>\n",
       "      <td>If people become the books they read and if \"t...</td>\n",
       "    </tr>\n",
       "  </tbody>\n",
       "</table>\n",
       "</div>"
      ],
      "text/plain": [
       "      book_id                           Title         User_id  \\\n",
       "0  1882931173  Its Only Art If Its Well Hung!   AVCGYZL8FQQTD   \n",
       "1  0826414346        Dr. Seuss: American Icon  A30TK6U7DNS82R   \n",
       "2  0826414346        Dr. Seuss: American Icon  A3UH4UZ4RSVO82   \n",
       "\n",
       "  review/helpfulness  review/score  \\\n",
       "0                7/7           4.0   \n",
       "1              10/10           5.0   \n",
       "2              10/11           5.0   \n",
       "\n",
       "                                    review/summary  \\\n",
       "0           Nice collection of Julie Strain images   \n",
       "1                                Really Enjoyed It   \n",
       "2  Essential for every personal and Public Library   \n",
       "\n",
       "                                         review/text  \n",
       "0  This is only for Julie Strain fans. It's a col...  \n",
       "1  I don't care much for Dr. Seuss but after read...  \n",
       "2  If people become the books they read and if \"t...  "
      ]
     },
     "execution_count": 118,
     "metadata": {},
     "output_type": "execute_result"
    }
   ],
   "source": [
    "ratings.head(3)"
   ]
  },
  {
   "cell_type": "markdown",
   "id": "0300ced6",
   "metadata": {},
   "source": [
    "# EDA - Ratings data"
   ]
  },
  {
   "cell_type": "markdown",
   "id": "e90cc8e1",
   "metadata": {},
   "source": [
    "### Average ratings by user"
   ]
  },
  {
   "cell_type": "code",
   "execution_count": 119,
   "id": "20a479c7",
   "metadata": {},
   "outputs": [],
   "source": [
    "user_avg_ratings = ratings.groupby('User_id')['review/score'].mean()"
   ]
  },
  {
   "cell_type": "code",
   "execution_count": 120,
   "id": "21f88418",
   "metadata": {},
   "outputs": [
    {
     "data": {
      "text/plain": [
       "User_id\n",
       "A00109803PZJ91RLT7DPN    5.000000\n",
       "A00117421L76WVWG4UX95    5.000000\n",
       "A0015610VMNR0JC9XVL1     4.666667\n",
       "A002258237PFYJV336T05    5.000000\n",
       "A00264602WCXBHHFPLTQ4    5.000000\n",
       "                           ...   \n",
       "AZZZELE3I0CKD            5.000000\n",
       "AZZZJY3RMN57G            5.000000\n",
       "AZZZT14MS21I6            5.000000\n",
       "AZZZYCR4NZADZ            5.000000\n",
       "AZZZZW74AAX75            5.000000\n",
       "Name: review/score, Length: 1008949, dtype: float64"
      ]
     },
     "execution_count": 120,
     "metadata": {},
     "output_type": "execute_result"
    }
   ],
   "source": [
    "user_avg_ratings"
   ]
  },
  {
   "cell_type": "markdown",
   "id": "b929843f",
   "metadata": {},
   "source": [
    "### Number of ratings by user"
   ]
  },
  {
   "cell_type": "code",
   "execution_count": 121,
   "id": "0cce58fa",
   "metadata": {},
   "outputs": [],
   "source": [
    "user_tot_ratings = ratings.groupby('User_id')['review/score'].count()"
   ]
  },
  {
   "cell_type": "code",
   "execution_count": 129,
   "id": "5b40717c",
   "metadata": {},
   "outputs": [
    {
     "data": {
      "text/plain": [
       "User_id\n",
       "A14OJS0VWMOSWO    5795\n",
       "AFVQZQ8PW0L       3606\n",
       "A1D2C0WDCSHUWZ    3146\n",
       "AHD101501WCN1     1995\n",
       "A1X8VZWTOG8IS6    1804\n",
       "A1K1JW1C5CUSUZ    1457\n",
       "A20EEWWSFMZ1PN    1387\n",
       "A1S3C5OFU508P3    1309\n",
       "A1N1YEMTI9DJ86    1031\n",
       "A2OJW07GQRNJUT    1001\n",
       "A1L43KWWR05PCS     961\n",
       "Name: review/score, dtype: int64"
      ]
     },
     "execution_count": 129,
     "metadata": {},
     "output_type": "execute_result"
    }
   ],
   "source": [
    "user_tot_ratings.sort_values(ascending=False).head(11)"
   ]
  },
  {
   "cell_type": "code",
   "execution_count": 130,
   "id": "266e730e",
   "metadata": {},
   "outputs": [],
   "source": [
    "# 10 users have rated 1000 or more books each. This seems excessive, so I want to do a little digging."
   ]
  },
  {
   "cell_type": "code",
   "execution_count": 133,
   "id": "2ae5d834",
   "metadata": {},
   "outputs": [
    {
     "data": {
      "text/html": [
       "<div>\n",
       "<style scoped>\n",
       "    .dataframe tbody tr th:only-of-type {\n",
       "        vertical-align: middle;\n",
       "    }\n",
       "\n",
       "    .dataframe tbody tr th {\n",
       "        vertical-align: top;\n",
       "    }\n",
       "\n",
       "    .dataframe thead th {\n",
       "        text-align: right;\n",
       "    }\n",
       "</style>\n",
       "<table border=\"1\" class=\"dataframe\">\n",
       "  <thead>\n",
       "    <tr style=\"text-align: right;\">\n",
       "      <th></th>\n",
       "      <th>book_id</th>\n",
       "      <th>Title</th>\n",
       "      <th>User_id</th>\n",
       "      <th>review/helpfulness</th>\n",
       "      <th>review/score</th>\n",
       "      <th>review/summary</th>\n",
       "      <th>review/text</th>\n",
       "    </tr>\n",
       "  </thead>\n",
       "  <tbody>\n",
       "    <tr>\n",
       "      <th>6</th>\n",
       "      <td>0826414346</td>\n",
       "      <td>Dr. Seuss: American Icon</td>\n",
       "      <td>A14OJS0VWMOSWO</td>\n",
       "      <td>3/4</td>\n",
       "      <td>5.0</td>\n",
       "      <td>A memorably excellent survey of Dr. Seuss' man...</td>\n",
       "      <td>Theodor Seuss Giesel was best known as 'Dr. Se...</td>\n",
       "    </tr>\n",
       "    <tr>\n",
       "      <th>160</th>\n",
       "      <td>1884734766</td>\n",
       "      <td>Dealing With Disappointment: Helping Kids Cope...</td>\n",
       "      <td>A14OJS0VWMOSWO</td>\n",
       "      <td>16/17</td>\n",
       "      <td>5.0</td>\n",
       "      <td>Filled from cover to cover with practical guid...</td>\n",
       "      <td>Written by Elizabeth Crary (a parent educator ...</td>\n",
       "    </tr>\n",
       "    <tr>\n",
       "      <th>297</th>\n",
       "      <td>B000FZEKVA</td>\n",
       "      <td>Communicating with Orcas - The Whales' Perspec...</td>\n",
       "      <td>A14OJS0VWMOSWO</td>\n",
       "      <td>1/1</td>\n",
       "      <td>5.0</td>\n",
       "      <td>Makes for fascinating reading.</td>\n",
       "      <td>Whale naturalist and animal communicator Mary ...</td>\n",
       "    </tr>\n",
       "    <tr>\n",
       "      <th>384</th>\n",
       "      <td>B000MU831Q</td>\n",
       "      <td>Alternative Chicago: Unique Destinations Beyon...</td>\n",
       "      <td>A14OJS0VWMOSWO</td>\n",
       "      <td>16/16</td>\n",
       "      <td>5.0</td>\n",
       "      <td>A unique, off-the-beaten-path travel guide and...</td>\n",
       "      <td>Unlike most travel guides on Chicago, Bill Fra...</td>\n",
       "    </tr>\n",
       "    <tr>\n",
       "      <th>1242</th>\n",
       "      <td>1933112042</td>\n",
       "      <td>Chocolate: The Sweet History</td>\n",
       "      <td>A14OJS0VWMOSWO</td>\n",
       "      <td>4/5</td>\n",
       "      <td>5.0</td>\n",
       "      <td>A delicious presentation indeed, packed with h...</td>\n",
       "      <td>Chocolate makers and company evolution are the...</td>\n",
       "    </tr>\n",
       "  </tbody>\n",
       "</table>\n",
       "</div>"
      ],
      "text/plain": [
       "         book_id                                              Title  \\\n",
       "6     0826414346                           Dr. Seuss: American Icon   \n",
       "160   1884734766  Dealing With Disappointment: Helping Kids Cope...   \n",
       "297   B000FZEKVA  Communicating with Orcas - The Whales' Perspec...   \n",
       "384   B000MU831Q  Alternative Chicago: Unique Destinations Beyon...   \n",
       "1242  1933112042                       Chocolate: The Sweet History   \n",
       "\n",
       "             User_id review/helpfulness  review/score  \\\n",
       "6     A14OJS0VWMOSWO                3/4           5.0   \n",
       "160   A14OJS0VWMOSWO              16/17           5.0   \n",
       "297   A14OJS0VWMOSWO                1/1           5.0   \n",
       "384   A14OJS0VWMOSWO              16/16           5.0   \n",
       "1242  A14OJS0VWMOSWO                4/5           5.0   \n",
       "\n",
       "                                         review/summary  \\\n",
       "6     A memorably excellent survey of Dr. Seuss' man...   \n",
       "160   Filled from cover to cover with practical guid...   \n",
       "297                      Makes for fascinating reading.   \n",
       "384   A unique, off-the-beaten-path travel guide and...   \n",
       "1242  A delicious presentation indeed, packed with h...   \n",
       "\n",
       "                                            review/text  \n",
       "6     Theodor Seuss Giesel was best known as 'Dr. Se...  \n",
       "160   Written by Elizabeth Crary (a parent educator ...  \n",
       "297   Whale naturalist and animal communicator Mary ...  \n",
       "384   Unlike most travel guides on Chicago, Bill Fra...  \n",
       "1242  Chocolate makers and company evolution are the...  "
      ]
     },
     "execution_count": 133,
     "metadata": {},
     "output_type": "execute_result"
    }
   ],
   "source": [
    "# ratings by the user who rated 5795 books.\n",
    "\n",
    "ratings[ratings['User_id'] == 'A14OJS0VWMOSWO'].head()\n",
    "\n",
    "# These seem valid ratings."
   ]
  },
  {
   "cell_type": "code",
   "execution_count": 134,
   "id": "acee21eb",
   "metadata": {},
   "outputs": [
    {
     "data": {
      "text/html": [
       "<div>\n",
       "<style scoped>\n",
       "    .dataframe tbody tr th:only-of-type {\n",
       "        vertical-align: middle;\n",
       "    }\n",
       "\n",
       "    .dataframe tbody tr th {\n",
       "        vertical-align: top;\n",
       "    }\n",
       "\n",
       "    .dataframe thead th {\n",
       "        text-align: right;\n",
       "    }\n",
       "</style>\n",
       "<table border=\"1\" class=\"dataframe\">\n",
       "  <thead>\n",
       "    <tr style=\"text-align: right;\">\n",
       "      <th></th>\n",
       "      <th>book_id</th>\n",
       "      <th>Title</th>\n",
       "      <th>User_id</th>\n",
       "      <th>review/helpfulness</th>\n",
       "      <th>review/score</th>\n",
       "      <th>review/summary</th>\n",
       "      <th>review/text</th>\n",
       "    </tr>\n",
       "  </thead>\n",
       "  <tbody>\n",
       "    <tr>\n",
       "      <th>617</th>\n",
       "      <td>050552421X</td>\n",
       "      <td>The Scarletti Curse (Candleglow)</td>\n",
       "      <td>AFVQZQ8PW0L</td>\n",
       "      <td>7/7</td>\n",
       "      <td>5.0</td>\n",
       "      <td>Exciting gothic story line</td>\n",
       "      <td>No female, whether they are of the blood or th...</td>\n",
       "    </tr>\n",
       "    <tr>\n",
       "      <th>649</th>\n",
       "      <td>B000MCKQRS</td>\n",
       "      <td>Cruel and Unusual (G K Hall Large Print Book S...</td>\n",
       "      <td>AFVQZQ8PW0L</td>\n",
       "      <td>2/3</td>\n",
       "      <td>5.0</td>\n",
       "      <td>solid Scarpetta police procedural</td>\n",
       "      <td>Henrico County, Virginia Detective Joe Trent c...</td>\n",
       "    </tr>\n",
       "    <tr>\n",
       "      <th>1313</th>\n",
       "      <td>B000NRYUHO</td>\n",
       "      <td>Edge of Danger</td>\n",
       "      <td>AFVQZQ8PW0L</td>\n",
       "      <td>5/7</td>\n",
       "      <td>5.0</td>\n",
       "      <td>a fast-paced action thriller</td>\n",
       "      <td>The Rashids are half British and half Arab and...</td>\n",
       "    </tr>\n",
       "    <tr>\n",
       "      <th>1802</th>\n",
       "      <td>B000N6DDJQ</td>\n",
       "      <td>The Scarlet Letter A Romance</td>\n",
       "      <td>AFVQZQ8PW0L</td>\n",
       "      <td>2/2</td>\n",
       "      <td>5.0</td>\n",
       "      <td>Wayne Josephson provides a modernization of th...</td>\n",
       "      <td>In seventeenth century Boston, scholar Roger C...</td>\n",
       "    </tr>\n",
       "    <tr>\n",
       "      <th>2017</th>\n",
       "      <td>1902934229</td>\n",
       "      <td>Dead Sexy</td>\n",
       "      <td>AFVQZQ8PW0L</td>\n",
       "      <td>0/0</td>\n",
       "      <td>4.0</td>\n",
       "      <td>fun chick lit romp</td>\n",
       "      <td>Her students enter thirty-one years old music ...</td>\n",
       "    </tr>\n",
       "  </tbody>\n",
       "</table>\n",
       "</div>"
      ],
      "text/plain": [
       "         book_id                                              Title  \\\n",
       "617   050552421X                   The Scarletti Curse (Candleglow)   \n",
       "649   B000MCKQRS  Cruel and Unusual (G K Hall Large Print Book S...   \n",
       "1313  B000NRYUHO                                     Edge of Danger   \n",
       "1802  B000N6DDJQ                       The Scarlet Letter A Romance   \n",
       "2017  1902934229                                          Dead Sexy   \n",
       "\n",
       "          User_id review/helpfulness  review/score  \\\n",
       "617   AFVQZQ8PW0L                7/7           5.0   \n",
       "649   AFVQZQ8PW0L                2/3           5.0   \n",
       "1313  AFVQZQ8PW0L                5/7           5.0   \n",
       "1802  AFVQZQ8PW0L                2/2           5.0   \n",
       "2017  AFVQZQ8PW0L                0/0           4.0   \n",
       "\n",
       "                                         review/summary  \\\n",
       "617                          Exciting gothic story line   \n",
       "649                   solid Scarpetta police procedural   \n",
       "1313                       a fast-paced action thriller   \n",
       "1802  Wayne Josephson provides a modernization of th...   \n",
       "2017                                 fun chick lit romp   \n",
       "\n",
       "                                            review/text  \n",
       "617   No female, whether they are of the blood or th...  \n",
       "649   Henrico County, Virginia Detective Joe Trent c...  \n",
       "1313  The Rashids are half British and half Arab and...  \n",
       "1802  In seventeenth century Boston, scholar Roger C...  \n",
       "2017  Her students enter thirty-one years old music ...  "
      ]
     },
     "execution_count": 134,
     "metadata": {},
     "output_type": "execute_result"
    }
   ],
   "source": [
    "ratings[ratings['User_id'] == 'AFVQZQ8PW0L'].head()\n",
    "\n",
    "# 3606 ratings by this user, but the ratings seem genuine."
   ]
  },
  {
   "cell_type": "code",
   "execution_count": 135,
   "id": "e5e4b357",
   "metadata": {
    "scrolled": true
   },
   "outputs": [
    {
     "data": {
      "text/plain": [
       "count    1.008949e+06\n",
       "mean     2.416364e+00\n",
       "std      1.213259e+01\n",
       "min      1.000000e+00\n",
       "25%      1.000000e+00\n",
       "50%      1.000000e+00\n",
       "75%      2.000000e+00\n",
       "max      5.795000e+03\n",
       "Name: review/score, dtype: float64"
      ]
     },
     "execution_count": 135,
     "metadata": {},
     "output_type": "execute_result"
    }
   ],
   "source": [
    "user_tot_ratings.describe()"
   ]
  },
  {
   "cell_type": "code",
   "execution_count": 136,
   "id": "fa94968e",
   "metadata": {},
   "outputs": [
    {
     "data": {
      "text/plain": [
       "User_id\n",
       "A00891092QIVH4W1YP46A    19\n",
       "A01038432MVI9JXYTTK5T    24\n",
       "A01254073JW8SSTKH6AIB    19\n",
       "A0134066213WYQXLTVGYT    12\n",
       "A035042126FPCW9EUHU1U    15\n",
       "                         ..\n",
       "AZYZ6338V6TLU            13\n",
       "AZZ1E6SG4RAT7            19\n",
       "AZZCSTUZ5EO4I            12\n",
       "AZZUIE66HZNY1            13\n",
       "AZZVZL4QEHEHO            25\n",
       "Name: review/score, Length: 26057, dtype: int64"
      ]
     },
     "execution_count": 136,
     "metadata": {},
     "output_type": "execute_result"
    }
   ],
   "source": [
    "# 26,057 users have rated more than 10 books each. \n",
    "\n",
    "user_10_rating = user_tot_ratings[user_tot_ratings > 10]\n",
    "user_10_rating"
   ]
  },
  {
   "cell_type": "code",
   "execution_count": 137,
   "id": "c4726b55",
   "metadata": {},
   "outputs": [
    {
     "data": {
      "text/plain": [
       "0.025825884162628637"
      ]
     },
     "execution_count": 137,
     "metadata": {},
     "output_type": "execute_result"
    }
   ],
   "source": [
    "# Out of the total 1,008,949, 26,057  users (which is 2.6%) have given more than 10 reviews. \n",
    "\n",
    "26057/1008949"
   ]
  },
  {
   "cell_type": "code",
   "execution_count": 138,
   "id": "9214e588",
   "metadata": {
    "scrolled": true
   },
   "outputs": [
    {
     "data": {
      "text/html": [
       "<div>\n",
       "<style scoped>\n",
       "    .dataframe tbody tr th:only-of-type {\n",
       "        vertical-align: middle;\n",
       "    }\n",
       "\n",
       "    .dataframe tbody tr th {\n",
       "        vertical-align: top;\n",
       "    }\n",
       "\n",
       "    .dataframe thead th {\n",
       "        text-align: right;\n",
       "    }\n",
       "</style>\n",
       "<table border=\"1\" class=\"dataframe\">\n",
       "  <thead>\n",
       "    <tr style=\"text-align: right;\">\n",
       "      <th></th>\n",
       "      <th>review/score</th>\n",
       "    </tr>\n",
       "  </thead>\n",
       "  <tbody>\n",
       "    <tr>\n",
       "      <th>count</th>\n",
       "      <td>2.437988e+06</td>\n",
       "    </tr>\n",
       "    <tr>\n",
       "      <th>mean</th>\n",
       "      <td>4.228280e+00</td>\n",
       "    </tr>\n",
       "    <tr>\n",
       "      <th>std</th>\n",
       "      <td>1.178650e+00</td>\n",
       "    </tr>\n",
       "    <tr>\n",
       "      <th>min</th>\n",
       "      <td>1.000000e+00</td>\n",
       "    </tr>\n",
       "    <tr>\n",
       "      <th>25%</th>\n",
       "      <td>4.000000e+00</td>\n",
       "    </tr>\n",
       "    <tr>\n",
       "      <th>50%</th>\n",
       "      <td>5.000000e+00</td>\n",
       "    </tr>\n",
       "    <tr>\n",
       "      <th>75%</th>\n",
       "      <td>5.000000e+00</td>\n",
       "    </tr>\n",
       "    <tr>\n",
       "      <th>max</th>\n",
       "      <td>5.000000e+00</td>\n",
       "    </tr>\n",
       "  </tbody>\n",
       "</table>\n",
       "</div>"
      ],
      "text/plain": [
       "       review/score\n",
       "count  2.437988e+06\n",
       "mean   4.228280e+00\n",
       "std    1.178650e+00\n",
       "min    1.000000e+00\n",
       "25%    4.000000e+00\n",
       "50%    5.000000e+00\n",
       "75%    5.000000e+00\n",
       "max    5.000000e+00"
      ]
     },
     "execution_count": 138,
     "metadata": {},
     "output_type": "execute_result"
    }
   ],
   "source": [
    "# ratings\n",
    "\n",
    "ratings.describe()"
   ]
  },
  {
   "cell_type": "code",
   "execution_count": 164,
   "id": "e7dcb4fe",
   "metadata": {
    "scrolled": true
   },
   "outputs": [
    {
     "data": {
      "text/plain": [
       "Text(0.5, 1.0, 'Distribution of rating score for books')"
      ]
     },
     "execution_count": 164,
     "metadata": {},
     "output_type": "execute_result"
    },
    {
     "data": {
      "image/png": "[encoded data removed]",
      "text/plain": [
       "<Figure size 432x288 with 1 Axes>"
      ]
     },
     "metadata": {
      "needs_background": "light"
     },
     "output_type": "display_data"
    }
   ],
   "source": [
    "# Distribution of ratings\n",
    "# This distribution has long left tail. Most people seem to rate 4 or 5.\n",
    "\n",
    "fig, ax = plt.subplots()\n",
    "ax.hist(ratings['review/score'])\n",
    "plt.xlabel('Review score')\n",
    "plt.ylabel('Number of books')\n",
    "plt.title('Distribution of rating score for books')"
   ]
  },
  {
   "cell_type": "code",
   "execution_count": 140,
   "id": "b8f66551",
   "metadata": {},
   "outputs": [],
   "source": [
    "# what is the average rating given by people who rate a lot, let's say more than 10 reviews.\n",
    "ten_rating = ratings[ratings['User_id'].isin(user_10_rating.index)]\n",
    "\n"
   ]
  },
  {
   "cell_type": "code",
   "execution_count": 141,
   "id": "e3b1e678",
   "metadata": {},
   "outputs": [
    {
     "data": {
      "text/plain": [
       "4.25443960365501"
      ]
     },
     "execution_count": 141,
     "metadata": {},
     "output_type": "execute_result"
    }
   ],
   "source": [
    "ten_rating['review/score'].mean()"
   ]
  },
  {
   "cell_type": "code",
   "execution_count": 142,
   "id": "77a34caf",
   "metadata": {},
   "outputs": [
    {
     "data": {
      "text/plain": [
       "4.2282800407549175"
      ]
     },
     "execution_count": 142,
     "metadata": {},
     "output_type": "execute_result"
    }
   ],
   "source": [
    "ratings['review/score'].mean()"
   ]
  },
  {
   "cell_type": "code",
   "execution_count": null,
   "id": "2e98d25a",
   "metadata": {},
   "outputs": [],
   "source": [
    "# People who rated more than 10 books gave a little higher average rating than the total user population who gave ratings."
   ]
  },
  {
   "cell_type": "code",
   "execution_count": 143,
   "id": "d9726929",
   "metadata": {},
   "outputs": [],
   "source": [
    "books.to_csv('books_after_eda.csv')"
   ]
  },
  {
   "cell_type": "code",
   "execution_count": 144,
   "id": "db48284d",
   "metadata": {},
   "outputs": [],
   "source": [
    "ratings.to_csv('ratings_after_eda.csv')"
   ]
  },
  {
   "cell_type": "code",
   "execution_count": 146,
   "id": "526581aa",
   "metadata": {},
   "outputs": [],
   "source": []
  },
  {
   "cell_type": "code",
   "execution_count": null,
   "id": "d580e13d",
   "metadata": {},
   "outputs": [],
   "source": []
  }
 ],
 "metadata": {
  "kernelspec": {
   "display_name": "Python 3 (ipykernel)",
   "language": "python",
   "name": "python3"
  },
  "language_info": {
   "codemirror_mode": {
    "name": "ipython",
    "version": 3
   },
   "file_extension": ".py",
   "mimetype": "text/x-python",
   "name": "python",
   "nbconvert_exporter": "python",
   "pygments_lexer": "ipython3",
   "version": "3.9.7"
  }
 },
 "nbformat": 4,
 "nbformat_minor": 5
}
