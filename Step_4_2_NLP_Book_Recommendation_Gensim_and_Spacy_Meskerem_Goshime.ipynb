{
  "cells": [
    {
      "cell_type": "markdown",
      "metadata": {
        "id": "view-in-github",
        "colab_type": "text"
      },
      "source": [
        "<a href=\"https://colab.research.google.com/github/meskeremg/FinalCapstone/blob/main/Step_4_2_NLP_Book_Recommendation_Gensim_and_Spacy_Meskerem_Goshime.ipynb\" target=\"_parent\"><img src=\"https://colab.research.google.com/assets/colab-badge.svg\" alt=\"Open In Colab\"/></a>"
      ]
    },
    {
      "cell_type": "markdown",
      "source": [
        "# Step 4-2: NLP Book Recommendation System\n",
        "# Model 2 - Gensim and Spacy\n",
        "\n",
        "Amazon Books Reviews Data data source: https://www.kaggle.com/datasets/mohamedbakhet/amazon-books-reviews?select=books_data.csv This is a rich dataset for Natural Language Processing containing 3,000,000 text reviews from users as well as text descriptions and categories for 212,403 books. Therefore it is ideal for text analysis."
      ],
      "metadata": {
        "id": "oD04kuj40y_H"
      },
      "id": "oD04kuj40y_H"
    },
    {
      "cell_type": "markdown",
      "source": [
        "# Importing libraries and reading the data"
      ],
      "metadata": {
        "id": "nh9dfb5ZgngM"
      },
      "id": "nh9dfb5ZgngM"
    },
    {
      "cell_type": "code",
      "source": [
        "!python3 -m spacy download en_core_web_lg"
      ],
      "metadata": {
        "colab": {
          "base_uri": "https://localhost:8080/"
        },
        "id": "jcs0vIBG7ZTN",
        "outputId": "ea11627b-c286-49b0-cdc9-300e9d8b210b"
      },
      "id": "jcs0vIBG7ZTN",
      "execution_count": null,
      "outputs": [
        {
          "output_type": "stream",
          "name": "stdout",
          "text": [
            "2022-12-18 22:14:05.510511: I tensorflow/core/util/util.cc:169] oneDNN custom operations are on. You may see slightly different numerical results due to floating-point round-off errors from different computation orders. To turn them off, set the environment variable `TF_ENABLE_ONEDNN_OPTS=0`.\n",
            "Looking in indexes: https://pypi.org/simple, https://us-python.pkg.dev/colab-wheels/public/simple/\n",
            "Collecting en-core-web-lg==3.4.1\n",
            "  Downloading https://github.com/explosion/spacy-models/releases/download/en_core_web_lg-3.4.1/en_core_web_lg-3.4.1-py3-none-any.whl (587.7 MB)\n",
            "\u001b[K     |████████████████████████████████| 587.7 MB 16 kB/s \n",
            "\u001b[?25hRequirement already satisfied: spacy<3.5.0,>=3.4.0 in /usr/local/lib/python3.8/dist-packages (from en-core-web-lg==3.4.1) (3.4.4)\n",
            "Requirement already satisfied: numpy>=1.15.0 in /usr/local/lib/python3.8/dist-packages (from spacy<3.5.0,>=3.4.0->en-core-web-lg==3.4.1) (1.21.6)\n",
            "Requirement already satisfied: setuptools in /usr/local/lib/python3.8/dist-packages (from spacy<3.5.0,>=3.4.0->en-core-web-lg==3.4.1) (57.4.0)\n",
            "Requirement already satisfied: preshed<3.1.0,>=3.0.2 in /usr/local/lib/python3.8/dist-packages (from spacy<3.5.0,>=3.4.0->en-core-web-lg==3.4.1) (3.0.8)\n",
            "Requirement already satisfied: packaging>=20.0 in /usr/local/lib/python3.8/dist-packages (from spacy<3.5.0,>=3.4.0->en-core-web-lg==3.4.1) (21.3)\n",
            "Requirement already satisfied: wasabi<1.1.0,>=0.9.1 in /usr/local/lib/python3.8/dist-packages (from spacy<3.5.0,>=3.4.0->en-core-web-lg==3.4.1) (0.10.1)\n",
            "Requirement already satisfied: typer<0.8.0,>=0.3.0 in /usr/local/lib/python3.8/dist-packages (from spacy<3.5.0,>=3.4.0->en-core-web-lg==3.4.1) (0.7.0)\n",
            "Requirement already satisfied: murmurhash<1.1.0,>=0.28.0 in /usr/local/lib/python3.8/dist-packages (from spacy<3.5.0,>=3.4.0->en-core-web-lg==3.4.1) (1.0.9)\n",
            "Requirement already satisfied: jinja2 in /usr/local/lib/python3.8/dist-packages (from spacy<3.5.0,>=3.4.0->en-core-web-lg==3.4.1) (2.11.3)\n",
            "Requirement already satisfied: pathy>=0.3.5 in /usr/local/lib/python3.8/dist-packages (from spacy<3.5.0,>=3.4.0->en-core-web-lg==3.4.1) (0.10.1)\n",
            "Requirement already satisfied: smart-open<7.0.0,>=5.2.1 in /usr/local/lib/python3.8/dist-packages (from spacy<3.5.0,>=3.4.0->en-core-web-lg==3.4.1) (6.3.0)\n",
            "Requirement already satisfied: cymem<2.1.0,>=2.0.2 in /usr/local/lib/python3.8/dist-packages (from spacy<3.5.0,>=3.4.0->en-core-web-lg==3.4.1) (2.0.7)\n",
            "Requirement already satisfied: catalogue<2.1.0,>=2.0.6 in /usr/local/lib/python3.8/dist-packages (from spacy<3.5.0,>=3.4.0->en-core-web-lg==3.4.1) (2.0.8)\n",
            "Requirement already satisfied: tqdm<5.0.0,>=4.38.0 in /usr/local/lib/python3.8/dist-packages (from spacy<3.5.0,>=3.4.0->en-core-web-lg==3.4.1) (4.64.1)\n",
            "Requirement already satisfied: srsly<3.0.0,>=2.4.3 in /usr/local/lib/python3.8/dist-packages (from spacy<3.5.0,>=3.4.0->en-core-web-lg==3.4.1) (2.4.5)\n",
            "Requirement already satisfied: pydantic!=1.8,!=1.8.1,<1.11.0,>=1.7.4 in /usr/local/lib/python3.8/dist-packages (from spacy<3.5.0,>=3.4.0->en-core-web-lg==3.4.1) (1.10.2)\n",
            "Requirement already satisfied: requests<3.0.0,>=2.13.0 in /usr/local/lib/python3.8/dist-packages (from spacy<3.5.0,>=3.4.0->en-core-web-lg==3.4.1) (2.23.0)\n",
            "Requirement already satisfied: spacy-loggers<2.0.0,>=1.0.0 in /usr/local/lib/python3.8/dist-packages (from spacy<3.5.0,>=3.4.0->en-core-web-lg==3.4.1) (1.0.4)\n",
            "Requirement already satisfied: thinc<8.2.0,>=8.1.0 in /usr/local/lib/python3.8/dist-packages (from spacy<3.5.0,>=3.4.0->en-core-web-lg==3.4.1) (8.1.5)\n",
            "Requirement already satisfied: spacy-legacy<3.1.0,>=3.0.10 in /usr/local/lib/python3.8/dist-packages (from spacy<3.5.0,>=3.4.0->en-core-web-lg==3.4.1) (3.0.10)\n",
            "Requirement already satisfied: langcodes<4.0.0,>=3.2.0 in /usr/local/lib/python3.8/dist-packages (from spacy<3.5.0,>=3.4.0->en-core-web-lg==3.4.1) (3.3.0)\n",
            "Requirement already satisfied: pyparsing!=3.0.5,>=2.0.2 in /usr/local/lib/python3.8/dist-packages (from packaging>=20.0->spacy<3.5.0,>=3.4.0->en-core-web-lg==3.4.1) (3.0.9)\n",
            "Requirement already satisfied: typing-extensions>=4.1.0 in /usr/local/lib/python3.8/dist-packages (from pydantic!=1.8,!=1.8.1,<1.11.0,>=1.7.4->spacy<3.5.0,>=3.4.0->en-core-web-lg==3.4.1) (4.4.0)\n",
            "Requirement already satisfied: urllib3!=1.25.0,!=1.25.1,<1.26,>=1.21.1 in /usr/local/lib/python3.8/dist-packages (from requests<3.0.0,>=2.13.0->spacy<3.5.0,>=3.4.0->en-core-web-lg==3.4.1) (1.24.3)\n",
            "Requirement already satisfied: idna<3,>=2.5 in /usr/local/lib/python3.8/dist-packages (from requests<3.0.0,>=2.13.0->spacy<3.5.0,>=3.4.0->en-core-web-lg==3.4.1) (2.10)\n",
            "Requirement already satisfied: chardet<4,>=3.0.2 in /usr/local/lib/python3.8/dist-packages (from requests<3.0.0,>=2.13.0->spacy<3.5.0,>=3.4.0->en-core-web-lg==3.4.1) (3.0.4)\n",
            "Requirement already satisfied: certifi>=2017.4.17 in /usr/local/lib/python3.8/dist-packages (from requests<3.0.0,>=2.13.0->spacy<3.5.0,>=3.4.0->en-core-web-lg==3.4.1) (2022.12.7)\n",
            "Requirement already satisfied: blis<0.8.0,>=0.7.8 in /usr/local/lib/python3.8/dist-packages (from thinc<8.2.0,>=8.1.0->spacy<3.5.0,>=3.4.0->en-core-web-lg==3.4.1) (0.7.9)\n",
            "Requirement already satisfied: confection<1.0.0,>=0.0.1 in /usr/local/lib/python3.8/dist-packages (from thinc<8.2.0,>=8.1.0->spacy<3.5.0,>=3.4.0->en-core-web-lg==3.4.1) (0.0.3)\n",
            "Requirement already satisfied: click<9.0.0,>=7.1.1 in /usr/local/lib/python3.8/dist-packages (from typer<0.8.0,>=0.3.0->spacy<3.5.0,>=3.4.0->en-core-web-lg==3.4.1) (7.1.2)\n",
            "Requirement already satisfied: MarkupSafe>=0.23 in /usr/local/lib/python3.8/dist-packages (from jinja2->spacy<3.5.0,>=3.4.0->en-core-web-lg==3.4.1) (2.0.1)\n",
            "Installing collected packages: en-core-web-lg\n",
            "Successfully installed en-core-web-lg-3.4.1\n",
            "\u001b[38;5;2m✔ Download and installation successful\u001b[0m\n",
            "You can now load the package via spacy.load('en_core_web_lg')\n"
          ]
        }
      ]
    },
    {
      "cell_type": "code",
      "execution_count": null,
      "id": "75113551",
      "metadata": {
        "id": "75113551"
      },
      "outputs": [],
      "source": [
        "import pandas as pd\n",
        "import numpy as np\n",
        "import os\n",
        "import gensim\n",
        "import spacy\n",
        "import en_core_web_lg\n",
        "nlp = spacy.load('en_core_web_lg')\n"
      ]
    },
    {
      "cell_type": "code",
      "source": [
        "from pydrive.auth import GoogleAuth\n",
        "from pydrive.drive import GoogleDrive\n",
        "from google.colab import auth\n",
        "from oauth2client.client import GoogleCredentials"
      ],
      "metadata": {
        "id": "L9N9pG3aKcKp"
      },
      "id": "L9N9pG3aKcKp",
      "execution_count": null,
      "outputs": []
    },
    {
      "cell_type": "code",
      "source": [
        "auth.authenticate_user()\n",
        "gauth = GoogleAuth()\n",
        "gauth.credentials = GoogleCredentials.get_application_default()\n",
        "drive = GoogleDrive(gauth)"
      ],
      "metadata": {
        "id": "VkAw5O_IKdOh"
      },
      "id": "VkAw5O_IKdOh",
      "execution_count": null,
      "outputs": []
    },
    {
      "cell_type": "code",
      "source": [
        "fileDownloaded = drive.CreateFile({'id':'1dnURk-tdodpKuv-3Ic92ELyNoQLs9tLA'})\n",
        "fileDownloaded.GetContentFile('books_after_preprocessing.csv')"
      ],
      "metadata": {
        "id": "VYssKJ_fKy0g"
      },
      "id": "VYssKJ_fKy0g",
      "execution_count": null,
      "outputs": []
    },
    {
      "cell_type": "code",
      "execution_count": null,
      "id": "79b5c887",
      "metadata": {
        "id": "79b5c887"
      },
      "outputs": [],
      "source": [
        "books = pd.read_csv('books_after_preprocessing.csv')"
      ]
    },
    {
      "cell_type": "code",
      "execution_count": null,
      "id": "9ae5502c",
      "metadata": {
        "id": "9ae5502c",
        "outputId": "753b270f-747e-4abe-c20c-d3ef6cfa70a0",
        "colab": {
          "base_uri": "https://localhost:8080/",
          "height": 143
        }
      },
      "outputs": [
        {
          "output_type": "execute_result",
          "data": {
            "text/plain": [
              "   index                                          Title  review/score_Avg  \\\n",
              "0  74190   and poetry is born  russian classical poetry               4.0   \n",
              "1  80644                                 and still king               4.0   \n",
              "2  31352                            dancers in mourning               4.5   \n",
              "\n",
              "   review/score_Count                           authors  publishedDate  \\\n",
              "0                 1.0  ['Aleksandr Sergeevich Pushkin']         1984.0   \n",
              "1                 1.0                ['Keith Checkley']         2012.0   \n",
              "2                 8.0             ['Margery Allingham']         2015.0   \n",
              "\n",
              "                              description_categories  \n",
              "0  russian poetry selection russian poem russian ...  \n",
              "1  business economics nothing provides clearer pi...  \n",
              "2  fiction murder take center stage songanddance ...  "
            ],
            "text/html": [
              "\n",
              "  <div id=\"df-e94c7658-b934-47fe-86a5-37da7decb2f3\">\n",
              "    <div class=\"colab-df-container\">\n",
              "      <div>\n",
              "<style scoped>\n",
              "    .dataframe tbody tr th:only-of-type {\n",
              "        vertical-align: middle;\n",
              "    }\n",
              "\n",
              "    .dataframe tbody tr th {\n",
              "        vertical-align: top;\n",
              "    }\n",
              "\n",
              "    .dataframe thead th {\n",
              "        text-align: right;\n",
              "    }\n",
              "</style>\n",
              "<table border=\"1\" class=\"dataframe\">\n",
              "  <thead>\n",
              "    <tr style=\"text-align: right;\">\n",
              "      <th></th>\n",
              "      <th>index</th>\n",
              "      <th>Title</th>\n",
              "      <th>review/score_Avg</th>\n",
              "      <th>review/score_Count</th>\n",
              "      <th>authors</th>\n",
              "      <th>publishedDate</th>\n",
              "      <th>description_categories</th>\n",
              "    </tr>\n",
              "  </thead>\n",
              "  <tbody>\n",
              "    <tr>\n",
              "      <th>0</th>\n",
              "      <td>74190</td>\n",
              "      <td>and poetry is born  russian classical poetry</td>\n",
              "      <td>4.0</td>\n",
              "      <td>1.0</td>\n",
              "      <td>['Aleksandr Sergeevich Pushkin']</td>\n",
              "      <td>1984.0</td>\n",
              "      <td>russian poetry selection russian poem russian ...</td>\n",
              "    </tr>\n",
              "    <tr>\n",
              "      <th>1</th>\n",
              "      <td>80644</td>\n",
              "      <td>and still king</td>\n",
              "      <td>4.0</td>\n",
              "      <td>1.0</td>\n",
              "      <td>['Keith Checkley']</td>\n",
              "      <td>2012.0</td>\n",
              "      <td>business economics nothing provides clearer pi...</td>\n",
              "    </tr>\n",
              "    <tr>\n",
              "      <th>2</th>\n",
              "      <td>31352</td>\n",
              "      <td>dancers in mourning</td>\n",
              "      <td>4.5</td>\n",
              "      <td>8.0</td>\n",
              "      <td>['Margery Allingham']</td>\n",
              "      <td>2015.0</td>\n",
              "      <td>fiction murder take center stage songanddance ...</td>\n",
              "    </tr>\n",
              "  </tbody>\n",
              "</table>\n",
              "</div>\n",
              "      <button class=\"colab-df-convert\" onclick=\"convertToInteractive('df-e94c7658-b934-47fe-86a5-37da7decb2f3')\"\n",
              "              title=\"Convert this dataframe to an interactive table.\"\n",
              "              style=\"display:none;\">\n",
              "        \n",
              "  <svg xmlns=\"http://www.w3.org/2000/svg\" height=\"24px\"viewBox=\"0 0 24 24\"\n",
              "       width=\"24px\">\n",
              "    <path d=\"M0 0h24v24H0V0z\" fill=\"none\"/>\n",
              "    <path d=\"M18.56 5.44l.94 2.06.94-2.06 2.06-.94-2.06-.94-.94-2.06-.94 2.06-2.06.94zm-11 1L8.5 8.5l.94-2.06 2.06-.94-2.06-.94L8.5 2.5l-.94 2.06-2.06.94zm10 10l.94 2.06.94-2.06 2.06-.94-2.06-.94-.94-2.06-.94 2.06-2.06.94z\"/><path d=\"M17.41 7.96l-1.37-1.37c-.4-.4-.92-.59-1.43-.59-.52 0-1.04.2-1.43.59L10.3 9.45l-7.72 7.72c-.78.78-.78 2.05 0 2.83L4 21.41c.39.39.9.59 1.41.59.51 0 1.02-.2 1.41-.59l7.78-7.78 2.81-2.81c.8-.78.8-2.07 0-2.86zM5.41 20L4 18.59l7.72-7.72 1.47 1.35L5.41 20z\"/>\n",
              "  </svg>\n",
              "      </button>\n",
              "      \n",
              "  <style>\n",
              "    .colab-df-container {\n",
              "      display:flex;\n",
              "      flex-wrap:wrap;\n",
              "      gap: 12px;\n",
              "    }\n",
              "\n",
              "    .colab-df-convert {\n",
              "      background-color: #E8F0FE;\n",
              "      border: none;\n",
              "      border-radius: 50%;\n",
              "      cursor: pointer;\n",
              "      display: none;\n",
              "      fill: #1967D2;\n",
              "      height: 32px;\n",
              "      padding: 0 0 0 0;\n",
              "      width: 32px;\n",
              "    }\n",
              "\n",
              "    .colab-df-convert:hover {\n",
              "      background-color: #E2EBFA;\n",
              "      box-shadow: 0px 1px 2px rgba(60, 64, 67, 0.3), 0px 1px 3px 1px rgba(60, 64, 67, 0.15);\n",
              "      fill: #174EA6;\n",
              "    }\n",
              "\n",
              "    [theme=dark] .colab-df-convert {\n",
              "      background-color: #3B4455;\n",
              "      fill: #D2E3FC;\n",
              "    }\n",
              "\n",
              "    [theme=dark] .colab-df-convert:hover {\n",
              "      background-color: #434B5C;\n",
              "      box-shadow: 0px 1px 3px 1px rgba(0, 0, 0, 0.15);\n",
              "      filter: drop-shadow(0px 1px 2px rgba(0, 0, 0, 0.3));\n",
              "      fill: #FFFFFF;\n",
              "    }\n",
              "  </style>\n",
              "\n",
              "      <script>\n",
              "        const buttonEl =\n",
              "          document.querySelector('#df-e94c7658-b934-47fe-86a5-37da7decb2f3 button.colab-df-convert');\n",
              "        buttonEl.style.display =\n",
              "          google.colab.kernel.accessAllowed ? 'block' : 'none';\n",
              "\n",
              "        async function convertToInteractive(key) {\n",
              "          const element = document.querySelector('#df-e94c7658-b934-47fe-86a5-37da7decb2f3');\n",
              "          const dataTable =\n",
              "            await google.colab.kernel.invokeFunction('convertToInteractive',\n",
              "                                                     [key], {});\n",
              "          if (!dataTable) return;\n",
              "\n",
              "          const docLinkHtml = 'Like what you see? Visit the ' +\n",
              "            '<a target=\"_blank\" href=https://colab.research.google.com/notebooks/data_table.ipynb>data table notebook</a>'\n",
              "            + ' to learn more about interactive tables.';\n",
              "          element.innerHTML = '';\n",
              "          dataTable['output_type'] = 'display_data';\n",
              "          await google.colab.output.renderOutput(dataTable, element);\n",
              "          const docLink = document.createElement('div');\n",
              "          docLink.innerHTML = docLinkHtml;\n",
              "          element.appendChild(docLink);\n",
              "        }\n",
              "      </script>\n",
              "    </div>\n",
              "  </div>\n",
              "  "
            ]
          },
          "metadata": {},
          "execution_count": 7
        }
      ],
      "source": [
        "books.head(3)"
      ]
    },
    {
      "cell_type": "markdown",
      "source": [
        "# Taking a subset of the data by selecting the books which received more than 10 reviews\n",
        "\n",
        "I am taking a subset of the book data to preform Sentence Embeddings and Cosine Similarity. The full dataset would be too large to process."
      ],
      "metadata": {
        "id": "9zFFFAVnhZkQ"
      },
      "id": "9zFFFAVnhZkQ"
    },
    {
      "cell_type": "code",
      "source": [
        "books_sm_10 = books[books['review/score_Count'] > 10]\n",
        "books_sm_10.head(3)"
      ],
      "metadata": {
        "colab": {
          "base_uri": "https://localhost:8080/",
          "height": 143
        },
        "id": "9vWEdm5GM3MJ",
        "outputId": "650c6b7d-ada5-4414-e282-7f9ec338baa5"
      },
      "id": "9vWEdm5GM3MJ",
      "execution_count": null,
      "outputs": [
        {
          "output_type": "execute_result",
          "data": {
            "text/plain": [
              "     index                Title  review/score_Avg  review/score_Count  \\\n",
              "30   95768             1 is one          4.866667                30.0   \n",
              "34   76202  1 ragged ridge road          4.277778                18.0   \n",
              "36  110134       10 button book          3.142857                28.0   \n",
              "\n",
              "                                 authors  publishedDate  \\\n",
              "30                       ['Tasha Tudor']         2015.0   \n",
              "34  ['Leonard Foglia', 'David Richards']         1998.0   \n",
              "36                   ['William Accorsi']         1999.0   \n",
              "\n",
              "                               description_categories  \n",
              "30  juvenile nonfiction rhyming verse present numb...  \n",
              "34  fiction estranged husband carol robbins young ...  \n",
              "36  juvenile nonfiction verse introduce number one...  "
            ],
            "text/html": [
              "\n",
              "  <div id=\"df-4e37a9d4-6464-436a-ad46-e8c678c7704f\">\n",
              "    <div class=\"colab-df-container\">\n",
              "      <div>\n",
              "<style scoped>\n",
              "    .dataframe tbody tr th:only-of-type {\n",
              "        vertical-align: middle;\n",
              "    }\n",
              "\n",
              "    .dataframe tbody tr th {\n",
              "        vertical-align: top;\n",
              "    }\n",
              "\n",
              "    .dataframe thead th {\n",
              "        text-align: right;\n",
              "    }\n",
              "</style>\n",
              "<table border=\"1\" class=\"dataframe\">\n",
              "  <thead>\n",
              "    <tr style=\"text-align: right;\">\n",
              "      <th></th>\n",
              "      <th>index</th>\n",
              "      <th>Title</th>\n",
              "      <th>review/score_Avg</th>\n",
              "      <th>review/score_Count</th>\n",
              "      <th>authors</th>\n",
              "      <th>publishedDate</th>\n",
              "      <th>description_categories</th>\n",
              "    </tr>\n",
              "  </thead>\n",
              "  <tbody>\n",
              "    <tr>\n",
              "      <th>30</th>\n",
              "      <td>95768</td>\n",
              "      <td>1 is one</td>\n",
              "      <td>4.866667</td>\n",
              "      <td>30.0</td>\n",
              "      <td>['Tasha Tudor']</td>\n",
              "      <td>2015.0</td>\n",
              "      <td>juvenile nonfiction rhyming verse present numb...</td>\n",
              "    </tr>\n",
              "    <tr>\n",
              "      <th>34</th>\n",
              "      <td>76202</td>\n",
              "      <td>1 ragged ridge road</td>\n",
              "      <td>4.277778</td>\n",
              "      <td>18.0</td>\n",
              "      <td>['Leonard Foglia', 'David Richards']</td>\n",
              "      <td>1998.0</td>\n",
              "      <td>fiction estranged husband carol robbins young ...</td>\n",
              "    </tr>\n",
              "    <tr>\n",
              "      <th>36</th>\n",
              "      <td>110134</td>\n",
              "      <td>10 button book</td>\n",
              "      <td>3.142857</td>\n",
              "      <td>28.0</td>\n",
              "      <td>['William Accorsi']</td>\n",
              "      <td>1999.0</td>\n",
              "      <td>juvenile nonfiction verse introduce number one...</td>\n",
              "    </tr>\n",
              "  </tbody>\n",
              "</table>\n",
              "</div>\n",
              "      <button class=\"colab-df-convert\" onclick=\"convertToInteractive('df-4e37a9d4-6464-436a-ad46-e8c678c7704f')\"\n",
              "              title=\"Convert this dataframe to an interactive table.\"\n",
              "              style=\"display:none;\">\n",
              "        \n",
              "  <svg xmlns=\"http://www.w3.org/2000/svg\" height=\"24px\"viewBox=\"0 0 24 24\"\n",
              "       width=\"24px\">\n",
              "    <path d=\"M0 0h24v24H0V0z\" fill=\"none\"/>\n",
              "    <path d=\"M18.56 5.44l.94 2.06.94-2.06 2.06-.94-2.06-.94-.94-2.06-.94 2.06-2.06.94zm-11 1L8.5 8.5l.94-2.06 2.06-.94-2.06-.94L8.5 2.5l-.94 2.06-2.06.94zm10 10l.94 2.06.94-2.06 2.06-.94-2.06-.94-.94-2.06-.94 2.06-2.06.94z\"/><path d=\"M17.41 7.96l-1.37-1.37c-.4-.4-.92-.59-1.43-.59-.52 0-1.04.2-1.43.59L10.3 9.45l-7.72 7.72c-.78.78-.78 2.05 0 2.83L4 21.41c.39.39.9.59 1.41.59.51 0 1.02-.2 1.41-.59l7.78-7.78 2.81-2.81c.8-.78.8-2.07 0-2.86zM5.41 20L4 18.59l7.72-7.72 1.47 1.35L5.41 20z\"/>\n",
              "  </svg>\n",
              "      </button>\n",
              "      \n",
              "  <style>\n",
              "    .colab-df-container {\n",
              "      display:flex;\n",
              "      flex-wrap:wrap;\n",
              "      gap: 12px;\n",
              "    }\n",
              "\n",
              "    .colab-df-convert {\n",
              "      background-color: #E8F0FE;\n",
              "      border: none;\n",
              "      border-radius: 50%;\n",
              "      cursor: pointer;\n",
              "      display: none;\n",
              "      fill: #1967D2;\n",
              "      height: 32px;\n",
              "      padding: 0 0 0 0;\n",
              "      width: 32px;\n",
              "    }\n",
              "\n",
              "    .colab-df-convert:hover {\n",
              "      background-color: #E2EBFA;\n",
              "      box-shadow: 0px 1px 2px rgba(60, 64, 67, 0.3), 0px 1px 3px 1px rgba(60, 64, 67, 0.15);\n",
              "      fill: #174EA6;\n",
              "    }\n",
              "\n",
              "    [theme=dark] .colab-df-convert {\n",
              "      background-color: #3B4455;\n",
              "      fill: #D2E3FC;\n",
              "    }\n",
              "\n",
              "    [theme=dark] .colab-df-convert:hover {\n",
              "      background-color: #434B5C;\n",
              "      box-shadow: 0px 1px 3px 1px rgba(0, 0, 0, 0.15);\n",
              "      filter: drop-shadow(0px 1px 2px rgba(0, 0, 0, 0.3));\n",
              "      fill: #FFFFFF;\n",
              "    }\n",
              "  </style>\n",
              "\n",
              "      <script>\n",
              "        const buttonEl =\n",
              "          document.querySelector('#df-4e37a9d4-6464-436a-ad46-e8c678c7704f button.colab-df-convert');\n",
              "        buttonEl.style.display =\n",
              "          google.colab.kernel.accessAllowed ? 'block' : 'none';\n",
              "\n",
              "        async function convertToInteractive(key) {\n",
              "          const element = document.querySelector('#df-4e37a9d4-6464-436a-ad46-e8c678c7704f');\n",
              "          const dataTable =\n",
              "            await google.colab.kernel.invokeFunction('convertToInteractive',\n",
              "                                                     [key], {});\n",
              "          if (!dataTable) return;\n",
              "\n",
              "          const docLinkHtml = 'Like what you see? Visit the ' +\n",
              "            '<a target=\"_blank\" href=https://colab.research.google.com/notebooks/data_table.ipynb>data table notebook</a>'\n",
              "            + ' to learn more about interactive tables.';\n",
              "          element.innerHTML = '';\n",
              "          dataTable['output_type'] = 'display_data';\n",
              "          await google.colab.output.renderOutput(dataTable, element);\n",
              "          const docLink = document.createElement('div');\n",
              "          docLink.innerHTML = docLinkHtml;\n",
              "          element.appendChild(docLink);\n",
              "        }\n",
              "      </script>\n",
              "    </div>\n",
              "  </div>\n",
              "  "
            ]
          },
          "metadata": {},
          "execution_count": 8
        }
      ]
    },
    {
      "cell_type": "code",
      "source": [
        "books_sm_10 = books_sm_10.reset_index(drop=True)\n",
        "books_sm_10 = books_sm_10.drop(columns='index')\n",
        "books_sm_10.head(3)\n"
      ],
      "metadata": {
        "id": "Sw5FDUuHfLAT",
        "colab": {
          "base_uri": "https://localhost:8080/",
          "height": 143
        },
        "outputId": "f287c431-06f8-40a2-aee9-fa444fb41db9"
      },
      "id": "Sw5FDUuHfLAT",
      "execution_count": null,
      "outputs": [
        {
          "output_type": "execute_result",
          "data": {
            "text/plain": [
              "                 Title  review/score_Avg  review/score_Count  \\\n",
              "0             1 is one          4.866667                30.0   \n",
              "1  1 ragged ridge road          4.277778                18.0   \n",
              "2       10 button book          3.142857                28.0   \n",
              "\n",
              "                                authors  publishedDate  \\\n",
              "0                       ['Tasha Tudor']         2015.0   \n",
              "1  ['Leonard Foglia', 'David Richards']         1998.0   \n",
              "2                   ['William Accorsi']         1999.0   \n",
              "\n",
              "                              description_categories  \n",
              "0  juvenile nonfiction rhyming verse present numb...  \n",
              "1  fiction estranged husband carol robbins young ...  \n",
              "2  juvenile nonfiction verse introduce number one...  "
            ],
            "text/html": [
              "\n",
              "  <div id=\"df-9a71edae-476b-465c-96c9-0204c10b2b5f\">\n",
              "    <div class=\"colab-df-container\">\n",
              "      <div>\n",
              "<style scoped>\n",
              "    .dataframe tbody tr th:only-of-type {\n",
              "        vertical-align: middle;\n",
              "    }\n",
              "\n",
              "    .dataframe tbody tr th {\n",
              "        vertical-align: top;\n",
              "    }\n",
              "\n",
              "    .dataframe thead th {\n",
              "        text-align: right;\n",
              "    }\n",
              "</style>\n",
              "<table border=\"1\" class=\"dataframe\">\n",
              "  <thead>\n",
              "    <tr style=\"text-align: right;\">\n",
              "      <th></th>\n",
              "      <th>Title</th>\n",
              "      <th>review/score_Avg</th>\n",
              "      <th>review/score_Count</th>\n",
              "      <th>authors</th>\n",
              "      <th>publishedDate</th>\n",
              "      <th>description_categories</th>\n",
              "    </tr>\n",
              "  </thead>\n",
              "  <tbody>\n",
              "    <tr>\n",
              "      <th>0</th>\n",
              "      <td>1 is one</td>\n",
              "      <td>4.866667</td>\n",
              "      <td>30.0</td>\n",
              "      <td>['Tasha Tudor']</td>\n",
              "      <td>2015.0</td>\n",
              "      <td>juvenile nonfiction rhyming verse present numb...</td>\n",
              "    </tr>\n",
              "    <tr>\n",
              "      <th>1</th>\n",
              "      <td>1 ragged ridge road</td>\n",
              "      <td>4.277778</td>\n",
              "      <td>18.0</td>\n",
              "      <td>['Leonard Foglia', 'David Richards']</td>\n",
              "      <td>1998.0</td>\n",
              "      <td>fiction estranged husband carol robbins young ...</td>\n",
              "    </tr>\n",
              "    <tr>\n",
              "      <th>2</th>\n",
              "      <td>10 button book</td>\n",
              "      <td>3.142857</td>\n",
              "      <td>28.0</td>\n",
              "      <td>['William Accorsi']</td>\n",
              "      <td>1999.0</td>\n",
              "      <td>juvenile nonfiction verse introduce number one...</td>\n",
              "    </tr>\n",
              "  </tbody>\n",
              "</table>\n",
              "</div>\n",
              "      <button class=\"colab-df-convert\" onclick=\"convertToInteractive('df-9a71edae-476b-465c-96c9-0204c10b2b5f')\"\n",
              "              title=\"Convert this dataframe to an interactive table.\"\n",
              "              style=\"display:none;\">\n",
              "        \n",
              "  <svg xmlns=\"http://www.w3.org/2000/svg\" height=\"24px\"viewBox=\"0 0 24 24\"\n",
              "       width=\"24px\">\n",
              "    <path d=\"M0 0h24v24H0V0z\" fill=\"none\"/>\n",
              "    <path d=\"M18.56 5.44l.94 2.06.94-2.06 2.06-.94-2.06-.94-.94-2.06-.94 2.06-2.06.94zm-11 1L8.5 8.5l.94-2.06 2.06-.94-2.06-.94L8.5 2.5l-.94 2.06-2.06.94zm10 10l.94 2.06.94-2.06 2.06-.94-2.06-.94-.94-2.06-.94 2.06-2.06.94z\"/><path d=\"M17.41 7.96l-1.37-1.37c-.4-.4-.92-.59-1.43-.59-.52 0-1.04.2-1.43.59L10.3 9.45l-7.72 7.72c-.78.78-.78 2.05 0 2.83L4 21.41c.39.39.9.59 1.41.59.51 0 1.02-.2 1.41-.59l7.78-7.78 2.81-2.81c.8-.78.8-2.07 0-2.86zM5.41 20L4 18.59l7.72-7.72 1.47 1.35L5.41 20z\"/>\n",
              "  </svg>\n",
              "      </button>\n",
              "      \n",
              "  <style>\n",
              "    .colab-df-container {\n",
              "      display:flex;\n",
              "      flex-wrap:wrap;\n",
              "      gap: 12px;\n",
              "    }\n",
              "\n",
              "    .colab-df-convert {\n",
              "      background-color: #E8F0FE;\n",
              "      border: none;\n",
              "      border-radius: 50%;\n",
              "      cursor: pointer;\n",
              "      display: none;\n",
              "      fill: #1967D2;\n",
              "      height: 32px;\n",
              "      padding: 0 0 0 0;\n",
              "      width: 32px;\n",
              "    }\n",
              "\n",
              "    .colab-df-convert:hover {\n",
              "      background-color: #E2EBFA;\n",
              "      box-shadow: 0px 1px 2px rgba(60, 64, 67, 0.3), 0px 1px 3px 1px rgba(60, 64, 67, 0.15);\n",
              "      fill: #174EA6;\n",
              "    }\n",
              "\n",
              "    [theme=dark] .colab-df-convert {\n",
              "      background-color: #3B4455;\n",
              "      fill: #D2E3FC;\n",
              "    }\n",
              "\n",
              "    [theme=dark] .colab-df-convert:hover {\n",
              "      background-color: #434B5C;\n",
              "      box-shadow: 0px 1px 3px 1px rgba(0, 0, 0, 0.15);\n",
              "      filter: drop-shadow(0px 1px 2px rgba(0, 0, 0, 0.3));\n",
              "      fill: #FFFFFF;\n",
              "    }\n",
              "  </style>\n",
              "\n",
              "      <script>\n",
              "        const buttonEl =\n",
              "          document.querySelector('#df-9a71edae-476b-465c-96c9-0204c10b2b5f button.colab-df-convert');\n",
              "        buttonEl.style.display =\n",
              "          google.colab.kernel.accessAllowed ? 'block' : 'none';\n",
              "\n",
              "        async function convertToInteractive(key) {\n",
              "          const element = document.querySelector('#df-9a71edae-476b-465c-96c9-0204c10b2b5f');\n",
              "          const dataTable =\n",
              "            await google.colab.kernel.invokeFunction('convertToInteractive',\n",
              "                                                     [key], {});\n",
              "          if (!dataTable) return;\n",
              "\n",
              "          const docLinkHtml = 'Like what you see? Visit the ' +\n",
              "            '<a target=\"_blank\" href=https://colab.research.google.com/notebooks/data_table.ipynb>data table notebook</a>'\n",
              "            + ' to learn more about interactive tables.';\n",
              "          element.innerHTML = '';\n",
              "          dataTable['output_type'] = 'display_data';\n",
              "          await google.colab.output.renderOutput(dataTable, element);\n",
              "          const docLink = document.createElement('div');\n",
              "          docLink.innerHTML = docLinkHtml;\n",
              "          element.appendChild(docLink);\n",
              "        }\n",
              "      </script>\n",
              "    </div>\n",
              "  </div>\n",
              "  "
            ]
          },
          "metadata": {},
          "execution_count": 9
        }
      ]
    },
    {
      "cell_type": "code",
      "source": [
        "books_sm_10.shape"
      ],
      "metadata": {
        "colab": {
          "base_uri": "https://localhost:8080/"
        },
        "id": "VbhTq0gL1TBt",
        "outputId": "45ee4cff-9203-4e45-c4a6-ff648d5ebd5e"
      },
      "id": "VbhTq0gL1TBt",
      "execution_count": null,
      "outputs": [
        {
          "output_type": "execute_result",
          "data": {
            "text/plain": [
              "(29560, 6)"
            ]
          },
          "metadata": {},
          "execution_count": 10
        }
      ]
    },
    {
      "cell_type": "markdown",
      "source": [
        "# Creating vectors from the description_categories column"
      ],
      "metadata": {
        "id": "O0uNPeuJ0BXs"
      },
      "id": "O0uNPeuJ0BXs"
    },
    {
      "cell_type": "code",
      "source": [
        "# Source: https://www.youtube.com/watch?v=Il04RjS-9-8&t=262s\n",
        "\n",
        "# Creating a column for vectors\n",
        "books_sm_10['vectors'] = ''"
      ],
      "metadata": {
        "id": "fd1vFTVq9vjJ"
      },
      "id": "fd1vFTVq9vjJ",
      "execution_count": null,
      "outputs": []
    },
    {
      "cell_type": "code",
      "source": [
        "# Create vectors from the description_categories column\n",
        "# This took about 7 minutes to run with GPU and Hi RAM.\n",
        "\n",
        "for i in range(len(books_sm_10['description_categories'])):\n",
        "    books_sm_10['vectors'][i] = nlp(books_sm_10['description_categories'][i])"
      ],
      "metadata": {
        "colab": {
          "base_uri": "https://localhost:8080/"
        },
        "id": "ElfMyiQTBPPo",
        "outputId": "a4f2160b-551d-452b-e8f4-9122b08d50dc"
      },
      "id": "ElfMyiQTBPPo",
      "execution_count": null,
      "outputs": [
        {
          "output_type": "stream",
          "name": "stderr",
          "text": [
            "<ipython-input-12-694ec382e2c4>:5: SettingWithCopyWarning: \n",
            "A value is trying to be set on a copy of a slice from a DataFrame\n",
            "\n",
            "See the caveats in the documentation: https://pandas.pydata.org/pandas-docs/stable/user_guide/indexing.html#returning-a-view-versus-a-copy\n",
            "  books_sm_10['vectors'][i] = nlp(books_sm_10['description_categories'][i])\n"
          ]
        }
      ]
    },
    {
      "cell_type": "code",
      "source": [
        "books_sm_10['vectors'].head()"
      ],
      "metadata": {
        "colab": {
          "base_uri": "https://localhost:8080/"
        },
        "id": "WfUg7BIGBwYm",
        "outputId": "f1eee953-51b3-4c1c-c07c-28769539d9a7"
      },
      "id": "WfUg7BIGBwYm",
      "execution_count": null,
      "outputs": [
        {
          "output_type": "execute_result",
          "data": {
            "text/plain": [
              "0    (juvenile, nonfiction, rhyming, verse, present...\n",
              "1    (fiction, estranged, husband, carol, robbins, ...\n",
              "2    (juvenile, nonfiction, verse, introduce, numbe...\n",
              "3    (family, relationship, repeat, everything, eve...\n",
              "4    (reference, jumpstart, reading, skill, speed, ...\n",
              "Name: vectors, dtype: object"
            ]
          },
          "metadata": {},
          "execution_count": 13
        }
      ]
    },
    {
      "cell_type": "markdown",
      "source": [
        "# Computing similarity scores between the book in the 0 index place and all the books"
      ],
      "metadata": {
        "id": "J4-oITTD28KF"
      },
      "id": "J4-oITTD28KF"
    },
    {
      "cell_type": "code",
      "source": [
        "# Similarity between books in the 0 and 1 index place\n",
        "\n",
        "books_sm_10['vectors'][0].similarity(books_sm_10['vectors'][1])"
      ],
      "metadata": {
        "colab": {
          "base_uri": "https://localhost:8080/"
        },
        "id": "l1uUe4IEuSWc",
        "outputId": "604c7109-ca1a-4327-ea14-14abfe368742"
      },
      "id": "l1uUe4IEuSWc",
      "execution_count": null,
      "outputs": [
        {
          "output_type": "execute_result",
          "data": {
            "text/plain": [
              "0.594082225178606"
            ]
          },
          "metadata": {},
          "execution_count": 14
        }
      ]
    },
    {
      "cell_type": "code",
      "source": [
        "# computing similarity scores between the book in the 0 index place and all of the books, including itself\n",
        "# I expected this cell to take a while to run. However, it run in few seconds. \n",
        "# However, please note that we are computing similarity for only one book at a time, not the whole dataset at once as\n",
        "# in the case of SBERT Sentence Transformers.\n",
        "\n",
        "sims = []\n",
        "index = []\n",
        "for i in range(len(books_sm_10['vectors'])):\n",
        "  sim = books_sm_10['vectors'][i].similarity(books_sm_10['vectors'][0])\n",
        "  sims.append(sim)\n",
        "  index.append(i)\n",
        "\n",
        "sims_df = pd.DataFrame(sims, index=index, columns =['sims'])"
      ],
      "metadata": {
        "id": "_KpLj0zT8G_0"
      },
      "id": "_KpLj0zT8G_0",
      "execution_count": null,
      "outputs": []
    },
    {
      "cell_type": "code",
      "source": [
        "# The top 5 highest similarity scores. \n",
        "# I used index [1:6] to exclude the similarity score of the book to itself, which would be a similarity score of 1.\n",
        "top5 = sims_df.sort_values(by='sims', ascending=False)\n",
        "top5 = top5[1:6]\n",
        "top5 = top5.reset_index()\n",
        "top5"
      ],
      "metadata": {
        "colab": {
          "base_uri": "https://localhost:8080/",
          "height": 206
        },
        "id": "vrVTrTd_8G2c",
        "outputId": "5942a815-882f-4e81-d0ad-63d4825902de"
      },
      "id": "vrVTrTd_8G2c",
      "execution_count": null,
      "outputs": [
        {
          "output_type": "execute_result",
          "data": {
            "text/plain": [
              "   index      sims\n",
              "0  28380  0.890873\n",
              "1  28730  0.881430\n",
              "2  22012  0.879250\n",
              "3   6160  0.879250\n",
              "4  17511  0.875732"
            ],
            "text/html": [
              "\n",
              "  <div id=\"df-090e483a-0261-4da6-aba4-2ab698314e59\">\n",
              "    <div class=\"colab-df-container\">\n",
              "      <div>\n",
              "<style scoped>\n",
              "    .dataframe tbody tr th:only-of-type {\n",
              "        vertical-align: middle;\n",
              "    }\n",
              "\n",
              "    .dataframe tbody tr th {\n",
              "        vertical-align: top;\n",
              "    }\n",
              "\n",
              "    .dataframe thead th {\n",
              "        text-align: right;\n",
              "    }\n",
              "</style>\n",
              "<table border=\"1\" class=\"dataframe\">\n",
              "  <thead>\n",
              "    <tr style=\"text-align: right;\">\n",
              "      <th></th>\n",
              "      <th>index</th>\n",
              "      <th>sims</th>\n",
              "    </tr>\n",
              "  </thead>\n",
              "  <tbody>\n",
              "    <tr>\n",
              "      <th>0</th>\n",
              "      <td>28380</td>\n",
              "      <td>0.890873</td>\n",
              "    </tr>\n",
              "    <tr>\n",
              "      <th>1</th>\n",
              "      <td>28730</td>\n",
              "      <td>0.881430</td>\n",
              "    </tr>\n",
              "    <tr>\n",
              "      <th>2</th>\n",
              "      <td>22012</td>\n",
              "      <td>0.879250</td>\n",
              "    </tr>\n",
              "    <tr>\n",
              "      <th>3</th>\n",
              "      <td>6160</td>\n",
              "      <td>0.879250</td>\n",
              "    </tr>\n",
              "    <tr>\n",
              "      <th>4</th>\n",
              "      <td>17511</td>\n",
              "      <td>0.875732</td>\n",
              "    </tr>\n",
              "  </tbody>\n",
              "</table>\n",
              "</div>\n",
              "      <button class=\"colab-df-convert\" onclick=\"convertToInteractive('df-090e483a-0261-4da6-aba4-2ab698314e59')\"\n",
              "              title=\"Convert this dataframe to an interactive table.\"\n",
              "              style=\"display:none;\">\n",
              "        \n",
              "  <svg xmlns=\"http://www.w3.org/2000/svg\" height=\"24px\"viewBox=\"0 0 24 24\"\n",
              "       width=\"24px\">\n",
              "    <path d=\"M0 0h24v24H0V0z\" fill=\"none\"/>\n",
              "    <path d=\"M18.56 5.44l.94 2.06.94-2.06 2.06-.94-2.06-.94-.94-2.06-.94 2.06-2.06.94zm-11 1L8.5 8.5l.94-2.06 2.06-.94-2.06-.94L8.5 2.5l-.94 2.06-2.06.94zm10 10l.94 2.06.94-2.06 2.06-.94-2.06-.94-.94-2.06-.94 2.06-2.06.94z\"/><path d=\"M17.41 7.96l-1.37-1.37c-.4-.4-.92-.59-1.43-.59-.52 0-1.04.2-1.43.59L10.3 9.45l-7.72 7.72c-.78.78-.78 2.05 0 2.83L4 21.41c.39.39.9.59 1.41.59.51 0 1.02-.2 1.41-.59l7.78-7.78 2.81-2.81c.8-.78.8-2.07 0-2.86zM5.41 20L4 18.59l7.72-7.72 1.47 1.35L5.41 20z\"/>\n",
              "  </svg>\n",
              "      </button>\n",
              "      \n",
              "  <style>\n",
              "    .colab-df-container {\n",
              "      display:flex;\n",
              "      flex-wrap:wrap;\n",
              "      gap: 12px;\n",
              "    }\n",
              "\n",
              "    .colab-df-convert {\n",
              "      background-color: #E8F0FE;\n",
              "      border: none;\n",
              "      border-radius: 50%;\n",
              "      cursor: pointer;\n",
              "      display: none;\n",
              "      fill: #1967D2;\n",
              "      height: 32px;\n",
              "      padding: 0 0 0 0;\n",
              "      width: 32px;\n",
              "    }\n",
              "\n",
              "    .colab-df-convert:hover {\n",
              "      background-color: #E2EBFA;\n",
              "      box-shadow: 0px 1px 2px rgba(60, 64, 67, 0.3), 0px 1px 3px 1px rgba(60, 64, 67, 0.15);\n",
              "      fill: #174EA6;\n",
              "    }\n",
              "\n",
              "    [theme=dark] .colab-df-convert {\n",
              "      background-color: #3B4455;\n",
              "      fill: #D2E3FC;\n",
              "    }\n",
              "\n",
              "    [theme=dark] .colab-df-convert:hover {\n",
              "      background-color: #434B5C;\n",
              "      box-shadow: 0px 1px 3px 1px rgba(0, 0, 0, 0.15);\n",
              "      filter: drop-shadow(0px 1px 2px rgba(0, 0, 0, 0.3));\n",
              "      fill: #FFFFFF;\n",
              "    }\n",
              "  </style>\n",
              "\n",
              "      <script>\n",
              "        const buttonEl =\n",
              "          document.querySelector('#df-090e483a-0261-4da6-aba4-2ab698314e59 button.colab-df-convert');\n",
              "        buttonEl.style.display =\n",
              "          google.colab.kernel.accessAllowed ? 'block' : 'none';\n",
              "\n",
              "        async function convertToInteractive(key) {\n",
              "          const element = document.querySelector('#df-090e483a-0261-4da6-aba4-2ab698314e59');\n",
              "          const dataTable =\n",
              "            await google.colab.kernel.invokeFunction('convertToInteractive',\n",
              "                                                     [key], {});\n",
              "          if (!dataTable) return;\n",
              "\n",
              "          const docLinkHtml = 'Like what you see? Visit the ' +\n",
              "            '<a target=\"_blank\" href=https://colab.research.google.com/notebooks/data_table.ipynb>data table notebook</a>'\n",
              "            + ' to learn more about interactive tables.';\n",
              "          element.innerHTML = '';\n",
              "          dataTable['output_type'] = 'display_data';\n",
              "          await google.colab.output.renderOutput(dataTable, element);\n",
              "          const docLink = document.createElement('div');\n",
              "          docLink.innerHTML = docLinkHtml;\n",
              "          element.appendChild(docLink);\n",
              "        }\n",
              "      </script>\n",
              "    </div>\n",
              "  </div>\n",
              "  "
            ]
          },
          "metadata": {},
          "execution_count": 17
        }
      ]
    },
    {
      "cell_type": "code",
      "source": [
        "# Taking the top 5 index values\n",
        "index = top5['index'].values\n",
        "index"
      ],
      "metadata": {
        "colab": {
          "base_uri": "https://localhost:8080/"
        },
        "id": "SnPqigZXhYHr",
        "outputId": "f5071cb6-cb16-44db-d60b-df1fc4ecfbf1"
      },
      "id": "SnPqigZXhYHr",
      "execution_count": null,
      "outputs": [
        {
          "output_type": "execute_result",
          "data": {
            "text/plain": [
              "array([28380, 28730, 22012,  6160, 17511])"
            ]
          },
          "metadata": {},
          "execution_count": 18
        }
      ]
    },
    {
      "cell_type": "code",
      "source": [
        "print('Chosen book: ')\n",
        "print(books_sm_10['Title'][0], '\\n')\n",
        "print('Recommended books: ')\n",
        "for i in index:\n",
        "  print(books_sm_10['Title'][i])"
      ],
      "metadata": {
        "colab": {
          "base_uri": "https://localhost:8080/"
        },
        "id": "F3ij2u8P8GzF",
        "outputId": "4ec08d99-ad41-48cd-9628-cdb215191611"
      },
      "id": "F3ij2u8P8GzF",
      "execution_count": null,
      "outputs": [
        {
          "output_type": "stream",
          "name": "stdout",
          "text": [
            "Chosen book: \n",
            "1 is one \n",
            "\n",
            "Recommended books: \n",
            "way out in the desert\n",
            "when we were very young winniethepooh winniethepooh series\n",
            "the dictionary of the khazars\n",
            "dictionary of the khazars a lexicon novel in 100000 words english and serbocroatian edition\n",
            "richard scarrys best mother goose ever\n"
          ]
        }
      ]
    },
    {
      "cell_type": "markdown",
      "source": [
        "# Creating a Function that searches the top 5 similar books"
      ],
      "metadata": {
        "id": "hrktXsLSaJl0"
      },
      "id": "hrktXsLSaJl0"
    },
    {
      "cell_type": "code",
      "source": [
        "def find_similar(Title):\n",
        "\n",
        "  chosen_index = books_sm_10[books_sm_10['Title'] == Title].index[0]\n",
        "  #chosen_index\n",
        "\n",
        "  sims = []\n",
        "  index = []\n",
        "\n",
        "  for i in range(len(books_sm_10['vectors'])):\n",
        "    sim = books_sm_10['vectors'][i].similarity(books_sm_10['vectors'][chosen_index])\n",
        "    sims.append(sim)\n",
        "    index.append(i)\n",
        "\n",
        "  sims_df = pd.DataFrame(sims, index=index, columns =['sims'])\n",
        "  \n",
        "  top5 = sims_df.sort_values(by='sims', ascending=False)\n",
        "  top5 = top5[1:6]\n",
        "  top5 = top5.reset_index()\n",
        "  #top5\n",
        "\n",
        "  index = top5['index'].values\n",
        "\n",
        "  print('Chosen book: ')\n",
        "  print('Title: ', books_sm_10['Title'][chosen_index])\n",
        "  print('Description: ', books_sm_10['description_categories'][chosen_index], '\\n')\n",
        "  print('Recommended books: ')\n",
        "  for i in index:\n",
        "    print('Title: ', books_sm_10['Title'][i])\n",
        "    print('Description: ', books_sm_10['description_categories'][i])"
      ],
      "metadata": {
        "id": "kNGiBEnE8Gmq"
      },
      "id": "kNGiBEnE8Gmq",
      "execution_count": null,
      "outputs": []
    },
    {
      "cell_type": "markdown",
      "source": [
        "# Example Recommendations with the same books I used to test Model 1 and Model 3"
      ],
      "metadata": {
        "id": "FI8u_W9f5aq8"
      },
      "id": "FI8u_W9f5aq8"
    },
    {
      "cell_type": "code",
      "source": [
        "# Chosen title\n",
        "chosen_title = '1 is one'\n",
        "find_similar(chosen_title)"
      ],
      "metadata": {
        "colab": {
          "base_uri": "https://localhost:8080/"
        },
        "id": "0p4ID_cJ8Gjb",
        "outputId": "0909465c-1d72-4810-8200-38a0399f72c0"
      },
      "id": "0p4ID_cJ8Gjb",
      "execution_count": null,
      "outputs": [
        {
          "output_type": "stream",
          "name": "stdout",
          "text": [
            "Chosen book: \n",
            "Title:  1 is one\n",
            "Description:  juvenile nonfiction rhyming verse present number one twenty illustration animal flower child \n",
            "\n",
            "Recommended books: \n",
            "Title:  way out in the desert\n",
            "Description:  juvenile fiction counting book rhyme present various desert animal child mother horned toad little toadie one mom tarantula little spider ten numeral hidden illustration\n",
            "Title:  when we were very young winniethepooh winniethepooh series\n",
            "Description:  juvenile fiction milne beloved collection poetryfeaturing first appearance winniethepooh composed dozen poem author delighted generation child adult alike character winniethepooh christopher robin piglet eeyore young warm whimsical journey childhood includes classic verse halfway teddy bear introduced pooh world zoo king breakfast shoe stocking buckingham palace plus many\n",
            "Title:  the dictionary of the khazars\n",
            "Description:  fiction national bestseller dictionary khazars cited new york time book review one best book year written two version male female available vintage international identical save seventeen crucial line dictionary imaginary book knowledge khazars people flourished somewhere beyond transylvania seventh ninth century eschewing conventional narrative plot lexicon novel combine dictionary world three major religion entry leap past future featuring three unruly wise men book printed poison ink suicide mirror chimerical princess sect priest infiltrate one dream romance living dead much\n",
            "Title:  dictionary of the khazars a lexicon novel in 100000 words english and serbocroatian edition\n",
            "Description:  fiction national bestseller dictionary khazars cited new york time book review one best book year written two version male female available vintage international identical save seventeen crucial line dictionary imaginary book knowledge khazars people flourished somewhere beyond transylvania seventh ninth century eschewing conventional narrative plot lexicon novel combine dictionary world three major religion entry leap past future featuring three unruly wise men book printed poison ink suicide mirror chimerical princess sect priest infiltrate one dream romance living dead much\n",
            "Title:  richard scarrys best mother goose ever\n",
            "Description:  juvenile nonfiction collection popular nurseryrhymes small child completely illustrated colorful nurseryrhyme character\n"
          ]
        }
      ]
    },
    {
      "cell_type": "markdown",
      "source": [
        "One of the recommendations, **The dictionary of the khazars** is a very different book from the chosen book. It is a 339 page novel for adults about imiaginary people living somewhere in Europe. Unfortunately, this title appears twice in the recommendation with variant titles. The rest of the recommendations are rhyming early childhood picture books like the chosen title. I am not satisfied with this recommendation."
      ],
      "metadata": {
        "id": "YFB3i4gICDQP"
      },
      "id": "YFB3i4gICDQP"
    },
    {
      "cell_type": "code",
      "source": [
        "chosen_title = 'spanish stepbystep'\n",
        "find_similar(chosen_title)"
      ],
      "metadata": {
        "colab": {
          "base_uri": "https://localhost:8080/"
        },
        "id": "11tFRldNaH1S",
        "outputId": "f42389f3-508d-43dc-cfba-129362cd8ae3"
      },
      "id": "11tFRldNaH1S",
      "execution_count": null,
      "outputs": [
        {
          "output_type": "stream",
          "name": "stdout",
          "text": [
            "Chosen book: \n",
            "Title:  spanish stepbystep\n",
            "Description:  foreign language study proven grammarbased approach give real mastery spanish language use advanced spanish step step progressive grammarbased approach conquer intermediate advanced spanishlanguage topic stepbystep approach give real confidence tool need achieve high spanish proficiency youll get quick review key grammar basic move advanced topic need true mastery language complete coverage verb tense beyond present past irregular verb sentence structure part speech book give thorough overview advanced grammar topic also introduces hundred new vocabulary word reinforced reading put new term everyday context \n",
            "\n",
            "Recommended books: \n",
            "Title:  teach yourself turkish complete course turkish edition\n",
            "Description:  foreign language study complete turkish comprehensive book audio language course take beginner intermediate level new edition successful course fully revised packed new learning feature give language practice skill communicate confidence map b common european framework reference cefr language learning unit plus grammar word glossary discovery method figure rule pattern make language stick teach key skill reading writing listening speaking learn learn tip skill better language learner culture note learn people place turkey outcomesbased learning focus study clear aim authentic listening activity everyday conversation give flavour real spoken turkish test see track progress\n",
            "Title:  teach yourself korean complete course korean edition\n",
            "Description:  foreign language study complete korean comprehensive book audio language course take beginner intermediate level new edition successful course fully revised packed new learning feature give language practice skill communicate confidence map b common european framework reference cefr language learning unit plus grammar index word glossary korean script hangul used throughout real language immersion discovery method figure rule pattern make language stick teach key skill reading writing listening speaking learn learn tip skill better language learner culture note learn people place korea outcomesbased learning focus study clear aim authentic listening activity everyday conversation give flavour real spoken korean test see track progress pack youll get page book two cd audio learning material minute also available get started beginner korean isbn rely teach trusted language learner year\n",
            "Title:  teach yourself finnish\n",
            "Description:  foreign language study complete finnish comprehensive book audio language course take beginner intermediate level new edition successful course fully revised packed new learning feature give language practice skill communicate confidence map b common european framework reference cefr language learning unit plus grammar word glossary discovery method figure rule pattern make language stick teach key skill reading writing listening speaking learn learn tip skill better language learner culture note learn people place finland outcomesbased learning focus study clear aim authentic listening activity everyday conversation give flavour real spoken finnish test see track progress pack youll get page book two cd audio learning material minute rely teach trusted language learner year\n",
            "Title:  cliffsquickreview writing grammar usage and style\n",
            "Description:  english language cliffsquickreview course guide cover essential toughest class get firm grip core concept key material test newfound knowledge review question whether youre new noun verb preposition brushing grammar cliffsquickreview writing grammar usage style help guide help understand grammar concept also give clear explanation sentence structure well advice write well work way guide youll find noun verb pronoun adjective adverb proposition conjunction interjection sentence construction variety well punctuation word compound word idiom clichés jargon different type writing organizing writing assignment cliffsquickreview writing grammar usage style invaluable reference want improve writing whether high school level college thing youll learn bring writing snuff understanding writing assignment writing thesis statement quoting paraphrasing avoiding plagiarism creating outline paper writing first draft polishing final draft title available popular high school college course cliffsquickreview guide comprehensive resource help get best possible grade\n",
            "Title:  teach yourself finnish complete course teach yourself language complete courses swedish edition\n",
            "Description:  foreign language study want communicate easily freely finnish master finnish grammar broaden vocabulary finnish tutor contemporary interactive workbook feature activity across range grammar vocabulary point clear goal concise explanation realworld task studying practicing finnish grammar youll understand language really work able speak finnish clarity ease learn finnish tutor grammar vocabulary workbook cover comprehensive range useful frequent grammar vocabulary finnish follow along unit unit dip dip address weak area progress introduced new vocabulary combine grammar complete extensive exercise practice language authentic reading writing practice achieve solid upper intermediate level finnish grammar course finnish tutor grammar vocabulary workbook used standalone course complement finnish course offer extensive practice review essential grammar point vocabulary skill building personal tutor element point exception give tip really help perfect finnish get finnish workbook offer range clear effective learning feature activity across range grammar vocabulary point unique visuals infographics extra context practice personal tutor hint tip help understand language rule culture point learn learn section offer tip advice good language learner short learning unit contain communication goal guide study grammar explanation extensive exercise vocabulary presentation activity reading writing section consolidate learning workbook map novice high advanced mid level proficiency actfl american council teaching foreign language beginner b upper intermediate level cefr common european framework reference language guideline course available study practice see complete finnish teach isbn rely teach trusted language learner year\n"
          ]
        }
      ]
    },
    {
      "cell_type": "markdown",
      "source": [
        "All of the recommended books are language learning books. However, I would hope to get at least a few for the Spanish language specifically.\n",
        "I am not happy with this recommendation either."
      ],
      "metadata": {
        "id": "t1gfDJiFD859"
      },
      "id": "t1gfDJiFD859"
    },
    {
      "cell_type": "code",
      "source": [
        "chosen_title = 'to kill a mockingbird'\n",
        "find_similar(chosen_title)"
      ],
      "metadata": {
        "id": "OX-IRzgF8Gfh",
        "colab": {
          "base_uri": "https://localhost:8080/"
        },
        "outputId": "8beda052-7977-42fa-822e-eaaed46f504e"
      },
      "execution_count": null,
      "outputs": [
        {
          "output_type": "stream",
          "name": "stdout",
          "text": [
            "Chosen book: \n",
            "Title:  to kill a mockingbird\n",
            "Description:  fiction voted america bestloved novel pbs great american read harper lee pulitzer prizewinning masterwork honor injustice deep southand heroism one man face blind violent hatred one cherished story time kill mockingbird translated forty language sold forty million copy worldwide served basis enormously popular motion picture voted one best novel twentieth century librarian across country gripping heartwrenching wholly remarkable tale comingofage south poisoned virulent prejudice view world great beauty savage inequity eye young girl fathera crusading local lawyerrisks everything defend black man unjustly accused terrible crime \n",
            "\n",
            "Recommended books: \n",
            "Title:  the painted bird\n",
            "Description:  fiction classic novel boy struggle survival wwii poland national book awardwinning author step sixyearold boy sent antinazi parent remote village poland believe safe thing happen however boy left roam polish countryside blond blueeyed peasant part country swarthy darkeyed boy speaks dialect educated class either jew gypsy vampire devil fear fear german found among must keep moving period year observes every conceivable variation theme horror kirkus review originally published painted bird established jerzy kosinski major literary figure sparse prose vivid imagery story mythic proportion timeless human relevance one best written deep sincerity sensitivity elie wiesel new york time book review remarkable fiction emerged world wat ii nothing stand higher jerzy kosinskis painted bird magnificent work art celebration individual one read forget one read unmoved painted bird enriches literature life jonathan yardley miami herald extraordinary literally staggering one powerful book ever read richard kluger harper magazine one significant writer newsweek\n",
            "Title:  painted bird\n",
            "Description:  fiction classic novel boy struggle survival wwii poland national book awardwinning author step sixyearold boy sent antinazi parent remote village poland believe safe thing happen however boy left roam polish countryside blond blueeyed peasant part country swarthy darkeyed boy speaks dialect educated class either jew gypsy vampire devil fear fear german found among must keep moving period year observes every conceivable variation theme horror kirkus review originally published painted bird established jerzy kosinski major literary figure sparse prose vivid imagery story mythic proportion timeless human relevance one best written deep sincerity sensitivity elie wiesel new york time book review remarkable fiction emerged world wat ii nothing stand higher jerzy kosinskis painted bird magnificent work art celebration individual one read forget one read unmoved painted bird enriches literature life jonathan yardley miami herald extraordinary literally staggering one powerful book ever read richard kluger harper magazine one significant writer newsweek\n",
            "Title:  monkey beach a novel\n",
            "Description:  fiction young native american woman remembers volatile childhood search lost brother canadian wild extraordinary critically acclaimed debut novel race along canada douglas channel speedboatheading toward place younger brother jimmy presumed drowned last seentwentyyearold lisamarie hill recall younger day volatile precocious native girl growing kitamaat haisla indian reservation located five hundred mile north vancouver lisa came age standing foot firmly planted two different world spiritual realm haisla sobering real world dangerous temptation violence drug despair beloved grandmother mamaoo learned tradition magic adored elvisloving uncle mick native right activist perilous course learned see clearly speak mind never bow tragedy scarred life ultimately led frigid water destroy indomitable spirit even though ghost speak night warn worst may yet come easily one admired debut novel appear many decade eden robinson monkey beach immediately greeted universal acclaimcalled gripping san diego uniontribune wonderful milwaukee journal sentinel glorious globe mail earning nomination numerous literary award receiving ethel wilson fiction prize evocative moving haunting devastatingly funny extraordinary read brilliant literary voice must heard\n",
            "Title:  dead names  the dark history of the necronomicon\n",
            "Description:  body mind spirit dark history necronomiconone world feared fascinating bookstold one man saw alland lived tell tale necronomicon one controversial book ever published master gothic suspense hp lovecraft wrote mystical dreaded grimoire known necronomiconan ancient text written arab fall wrong hand could disastrous consequence one thought necronomicon basis world outside lovecrafts fiction simon young man drawn mysterious world occult association several eastern orthodox religion friendship owner occult bookstore brooklyn stumbled upon stolen text friend apartment unaware held hand real necronomiconsomething long thought creation lovecrafts brilliant mind deft pen arduous translation done utmost secrecy since tome fact stolen simon close circle friend unveiled nowinfamous grimoire clamoring public dead name simon tell amazing true story surround necronomicon main player humble beginning pageantryfilled secret world eastern orthodox religion accidental discovery necronomicon son sam murder jfk assassination brilliant william burroughs eventual suspicious death almost everyone involved grimoire book enthralling account book steeped legend lie murder\n",
            "Title:  lost mans river panther s\n",
            "Description:  fiction novel killing mister watson published review extraordinary heralded marvel invention virtuoso performance new york time book review novel stand best nation produced literature los angeles time book review peter matthiessen brings u second novel watson trilogy project nearly twenty year writing story epic scope ambition lost man river confronts primal relationship dangerous father desperate son way death shaped life lucius watson obsessed learning truth father e j watson devoted family man inspired farmer man progress vision coldblooded murderer amoral opportunist neighbor driven kill fear envy watson killer neighbor fear obsessed lucius return live among ask question character tale men woman molded harsh element florida evergladesan isolated breed descendant renegade pioneer grit instinct tradition wield obliterating force twentiethcentury progress speck daniel moonshiner alligator poacher turned gunrunner sally brown struggle escape racism shame local family r b collins known chicken crippled drink rage custodian watson secret watson dyer unacknowledged namesake design remote watson homestead hidden wild river henry short black man unwilling member group armed island men awaited e j watson silent twilight storyteller peter matthiessens dazzling artistry could capture beauty strangeness life lawless frontier probing deeply underlying tragedy brutal destruction land name progress racism infects heart new world history\n"
          ]
        }
      ],
      "id": "OX-IRzgF8Gfh"
    },
    {
      "cell_type": "markdown",
      "source": [
        "The recommended books are similar to the chosen title, **To kill a mockingbird** in that they have some element of crime and mystery. Not such great recommendations though, in my opinion. One, the painted bird is about Native Americans. However, the others don't have the element of multi ethnicity as you would expect from the chosen title. However, I notice that the description text for To kill a mockingbird is not that great. It mostly talks about how popular the book is than describing the story."
      ],
      "metadata": {
        "id": "zg0rhAYeGleO"
      },
      "id": "zg0rhAYeGleO"
    },
    {
      "cell_type": "markdown",
      "source": [
        "# Accuracy Mesasure: Discounted Cumulative Gains\n",
        "Relevancy Scoring Key:\n",
        "\n",
        "Most relevant score => 2\n",
        "\n",
        "Somewhat relevant score => 1\n",
        "\n",
        "Least relevant score => 0\n",
        "\n",
        "Methodology: I manually went through the description of the chosen item and the recommended items to determine relevancy value.\n",
        "\n",
        "DCG (Discounted Cumulative Gains) = Relevancy Score/(LOG(Recommendation Rank+1))\n",
        "\n",
        "Formula Source: https://towardsdatascience.com/an-exhaustive-list-of-methods-to-evaluate-recommender-systems-a70c05e121de\n",
        "\n",
        "The Count Vectorizer Model (DCG = 47.63) seems to outperform and the Gensim/Spacy Model (DCG=41.36)."
      ],
      "metadata": {
        "id": "wrmrnLsYbpoW"
      },
      "id": "wrmrnLsYbpoW"
    },
    {
      "cell_type": "markdown",
      "source": [
        "![image.png](data:image/png;base64,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)\n",
        "\n",
        "Please see the recommendation lists for these books in the above codes.\n",
        "\n"
      ],
      "metadata": {
        "id": "K96VSShtdSea"
      },
      "id": "K96VSShtdSea"
    },
    {
      "cell_type": "markdown",
      "source": [],
      "metadata": {
        "id": "nL3LT_SPboLW"
      },
      "id": "nL3LT_SPboLW"
    }
  ],
  "metadata": {
    "kernelspec": {
      "display_name": "Python 3 (ipykernel)",
      "language": "python",
      "name": "python3"
    },
    "language_info": {
      "codemirror_mode": {
        "name": "ipython",
        "version": 3
      },
      "file_extension": ".py",
      "mimetype": "text/x-python",
      "name": "python",
      "nbconvert_exporter": "python",
      "pygments_lexer": "ipython3",
      "version": "3.9.7"
    },
    "colab": {
      "provenance": [],
      "collapsed_sections": [
        "K96VSShtdSea"
      ],
      "include_colab_link": true
    },
    "gpuClass": "premium"
  },
  "nbformat": 4,
  "nbformat_minor": 5
}