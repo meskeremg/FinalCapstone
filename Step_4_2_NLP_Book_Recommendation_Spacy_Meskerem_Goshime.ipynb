{
  "cells": [
    {
      "cell_type": "markdown",
      "metadata": {
        "id": "view-in-github",
        "colab_type": "text"
      },
      "source": [
        "<a href=\"https://colab.research.google.com/github/meskeremg/FinalCapstone/blob/main/Step_4_2_NLP_Book_Recommendation_Spacy_Meskerem_Goshime.ipynb\" target=\"_parent\"><img src=\"https://colab.research.google.com/assets/colab-badge.svg\" alt=\"Open In Colab\"/></a>"
      ]
    },
    {
      "cell_type": "markdown",
      "source": [
        "# Step 4-2: NLP Book Recommendation System\n",
        "# Model 2 - Spacy\n",
        "\n",
        "Amazon Books Reviews Data data source: https://www.kaggle.com/datasets/mohamedbakhet/amazon-books-reviews?select=books_data.csv This is a rich dataset for Natural Language Processing containing 3,000,000 text reviews from users as well as text descriptions and categories for 212,403 books. Therefore it is ideal for text analysis."
      ],
      "metadata": {
        "id": "oD04kuj40y_H"
      },
      "id": "oD04kuj40y_H"
    },
    {
      "cell_type": "markdown",
      "source": [
        "# Importing libraries and reading the data"
      ],
      "metadata": {
        "id": "nh9dfb5ZgngM"
      },
      "id": "nh9dfb5ZgngM"
    },
    {
      "cell_type": "code",
      "source": [
        "!python3 -m spacy download en_core_web_lg"
      ],
      "metadata": {
        "colab": {
          "base_uri": "https://localhost:8080/"
        },
        "id": "jcs0vIBG7ZTN",
        "outputId": "ea11627b-c286-49b0-cdc9-300e9d8b210b"
      },
      "id": "jcs0vIBG7ZTN",
      "execution_count": null,
      "outputs": [
        {
          "output_type": "stream",
          "name": "stdout",
          "text": [
            "2022-12-18 22:14:05.510511: I tensorflow/core/util/util.cc:169] oneDNN custom operations are on. You may see slightly different numerical results due to floating-point round-off errors from different computation orders. To turn them off, set the environment variable `TF_ENABLE_ONEDNN_OPTS=0`.\n",
            "Looking in indexes: https://pypi.org/simple, https://us-python.pkg.dev/colab-wheels/public/simple/\n",
            "Collecting en-core-web-lg==3.4.1\n",
            "  Downloading https://github.com/explosion/spacy-models/releases/download/en_core_web_lg-3.4.1/en_core_web_lg-3.4.1-py3-none-any.whl (587.7 MB)\n",
            "\u001b[K     |████████████████████████████████| 587.7 MB 16 kB/s \n",
            "\u001b[?25hRequirement already satisfied: spacy<3.5.0,>=3.4.0 in /usr/local/lib/python3.8/dist-packages (from en-core-web-lg==3.4.1) (3.4.4)\n",
            "Requirement already satisfied: numpy>=1.15.0 in /usr/local/lib/python3.8/dist-packages (from spacy<3.5.0,>=3.4.0->en-core-web-lg==3.4.1) (1.21.6)\n",
            "Requirement already satisfied: setuptools in /usr/local/lib/python3.8/dist-packages (from spacy<3.5.0,>=3.4.0->en-core-web-lg==3.4.1) (57.4.0)\n",
            "Requirement already satisfied: preshed<3.1.0,>=3.0.2 in /usr/local/lib/python3.8/dist-packages (from spacy<3.5.0,>=3.4.0->en-core-web-lg==3.4.1) (3.0.8)\n",
            "Requirement already satisfied: packaging>=20.0 in /usr/local/lib/python3.8/dist-packages (from spacy<3.5.0,>=3.4.0->en-core-web-lg==3.4.1) (21.3)\n",
            "Requirement already satisfied: wasabi<1.1.0,>=0.9.1 in /usr/local/lib/python3.8/dist-packages (from spacy<3.5.0,>=3.4.0->en-core-web-lg==3.4.1) (0.10.1)\n",
            "Requirement already satisfied: typer<0.8.0,>=0.3.0 in /usr/local/lib/python3.8/dist-packages (from spacy<3.5.0,>=3.4.0->en-core-web-lg==3.4.1) (0.7.0)\n",
            "Requirement already satisfied: murmurhash<1.1.0,>=0.28.0 in /usr/local/lib/python3.8/dist-packages (from spacy<3.5.0,>=3.4.0->en-core-web-lg==3.4.1) (1.0.9)\n",
            "Requirement already satisfied: jinja2 in /usr/local/lib/python3.8/dist-packages (from spacy<3.5.0,>=3.4.0->en-core-web-lg==3.4.1) (2.11.3)\n",
            "Requirement already satisfied: pathy>=0.3.5 in /usr/local/lib/python3.8/dist-packages (from spacy<3.5.0,>=3.4.0->en-core-web-lg==3.4.1) (0.10.1)\n",
            "Requirement already satisfied: smart-open<7.0.0,>=5.2.1 in /usr/local/lib/python3.8/dist-packages (from spacy<3.5.0,>=3.4.0->en-core-web-lg==3.4.1) (6.3.0)\n",
            "Requirement already satisfied: cymem<2.1.0,>=2.0.2 in /usr/local/lib/python3.8/dist-packages (from spacy<3.5.0,>=3.4.0->en-core-web-lg==3.4.1) (2.0.7)\n",
            "Requirement already satisfied: catalogue<2.1.0,>=2.0.6 in /usr/local/lib/python3.8/dist-packages (from spacy<3.5.0,>=3.4.0->en-core-web-lg==3.4.1) (2.0.8)\n",
            "Requirement already satisfied: tqdm<5.0.0,>=4.38.0 in /usr/local/lib/python3.8/dist-packages (from spacy<3.5.0,>=3.4.0->en-core-web-lg==3.4.1) (4.64.1)\n",
            "Requirement already satisfied: srsly<3.0.0,>=2.4.3 in /usr/local/lib/python3.8/dist-packages (from spacy<3.5.0,>=3.4.0->en-core-web-lg==3.4.1) (2.4.5)\n",
            "Requirement already satisfied: pydantic!=1.8,!=1.8.1,<1.11.0,>=1.7.4 in /usr/local/lib/python3.8/dist-packages (from spacy<3.5.0,>=3.4.0->en-core-web-lg==3.4.1) (1.10.2)\n",
            "Requirement already satisfied: requests<3.0.0,>=2.13.0 in /usr/local/lib/python3.8/dist-packages (from spacy<3.5.0,>=3.4.0->en-core-web-lg==3.4.1) (2.23.0)\n",
            "Requirement already satisfied: spacy-loggers<2.0.0,>=1.0.0 in /usr/local/lib/python3.8/dist-packages (from spacy<3.5.0,>=3.4.0->en-core-web-lg==3.4.1) (1.0.4)\n",
            "Requirement already satisfied: thinc<8.2.0,>=8.1.0 in /usr/local/lib/python3.8/dist-packages (from spacy<3.5.0,>=3.4.0->en-core-web-lg==3.4.1) (8.1.5)\n",
            "Requirement already satisfied: spacy-legacy<3.1.0,>=3.0.10 in /usr/local/lib/python3.8/dist-packages (from spacy<3.5.0,>=3.4.0->en-core-web-lg==3.4.1) (3.0.10)\n",
            "Requirement already satisfied: langcodes<4.0.0,>=3.2.0 in /usr/local/lib/python3.8/dist-packages (from spacy<3.5.0,>=3.4.0->en-core-web-lg==3.4.1) (3.3.0)\n",
            "Requirement already satisfied: pyparsing!=3.0.5,>=2.0.2 in /usr/local/lib/python3.8/dist-packages (from packaging>=20.0->spacy<3.5.0,>=3.4.0->en-core-web-lg==3.4.1) (3.0.9)\n",
            "Requirement already satisfied: typing-extensions>=4.1.0 in /usr/local/lib/python3.8/dist-packages (from pydantic!=1.8,!=1.8.1,<1.11.0,>=1.7.4->spacy<3.5.0,>=3.4.0->en-core-web-lg==3.4.1) (4.4.0)\n",
            "Requirement already satisfied: urllib3!=1.25.0,!=1.25.1,<1.26,>=1.21.1 in /usr/local/lib/python3.8/dist-packages (from requests<3.0.0,>=2.13.0->spacy<3.5.0,>=3.4.0->en-core-web-lg==3.4.1) (1.24.3)\n",
            "Requirement already satisfied: idna<3,>=2.5 in /usr/local/lib/python3.8/dist-packages (from requests<3.0.0,>=2.13.0->spacy<3.5.0,>=3.4.0->en-core-web-lg==3.4.1) (2.10)\n",
            "Requirement already satisfied: chardet<4,>=3.0.2 in /usr/local/lib/python3.8/dist-packages (from requests<3.0.0,>=2.13.0->spacy<3.5.0,>=3.4.0->en-core-web-lg==3.4.1) (3.0.4)\n",
            "Requirement already satisfied: certifi>=2017.4.17 in /usr/local/lib/python3.8/dist-packages (from requests<3.0.0,>=2.13.0->spacy<3.5.0,>=3.4.0->en-core-web-lg==3.4.1) (2022.12.7)\n",
            "Requirement already satisfied: blis<0.8.0,>=0.7.8 in /usr/local/lib/python3.8/dist-packages (from thinc<8.2.0,>=8.1.0->spacy<3.5.0,>=3.4.0->en-core-web-lg==3.4.1) (0.7.9)\n",
            "Requirement already satisfied: confection<1.0.0,>=0.0.1 in /usr/local/lib/python3.8/dist-packages (from thinc<8.2.0,>=8.1.0->spacy<3.5.0,>=3.4.0->en-core-web-lg==3.4.1) (0.0.3)\n",
            "Requirement already satisfied: click<9.0.0,>=7.1.1 in /usr/local/lib/python3.8/dist-packages (from typer<0.8.0,>=0.3.0->spacy<3.5.0,>=3.4.0->en-core-web-lg==3.4.1) (7.1.2)\n",
            "Requirement already satisfied: MarkupSafe>=0.23 in /usr/local/lib/python3.8/dist-packages (from jinja2->spacy<3.5.0,>=3.4.0->en-core-web-lg==3.4.1) (2.0.1)\n",
            "Installing collected packages: en-core-web-lg\n",
            "Successfully installed en-core-web-lg-3.4.1\n",
            "\u001b[38;5;2m✔ Download and installation successful\u001b[0m\n",
            "You can now load the package via spacy.load('en_core_web_lg')\n"
          ]
        }
      ]
    },
    {
      "cell_type": "code",
      "execution_count": null,
      "id": "75113551",
      "metadata": {
        "id": "75113551"
      },
      "outputs": [],
      "source": [
        "import pandas as pd\n",
        "import numpy as np\n",
        "import os\n",
        "import gensim\n",
        "import spacy\n",
        "import en_core_web_lg\n",
        "nlp = spacy.load('en_core_web_lg')\n"
      ]
    },
    {
      "cell_type": "code",
      "source": [
        "from pydrive.auth import GoogleAuth\n",
        "from pydrive.drive import GoogleDrive\n",
        "from google.colab import auth\n",
        "from oauth2client.client import GoogleCredentials"
      ],
      "metadata": {
        "id": "L9N9pG3aKcKp"
      },
      "id": "L9N9pG3aKcKp",
      "execution_count": null,
      "outputs": []
    },
    {
      "cell_type": "code",
      "source": [
        "auth.authenticate_user()\n",
        "gauth = GoogleAuth()\n",
        "gauth.credentials = GoogleCredentials.get_application_default()\n",
        "drive = GoogleDrive(gauth)"
      ],
      "metadata": {
        "id": "VkAw5O_IKdOh"
      },
      "id": "VkAw5O_IKdOh",
      "execution_count": null,
      "outputs": []
    },
    {
      "cell_type": "code",
      "source": [
        "fileDownloaded = drive.CreateFile({'id':'1dnURk-tdodpKuv-3Ic92ELyNoQLs9tLA'})\n",
        "fileDownloaded.GetContentFile('books_after_preprocessing.csv')"
      ],
      "metadata": {
        "id": "VYssKJ_fKy0g"
      },
      "id": "VYssKJ_fKy0g",
      "execution_count": null,
      "outputs": []
    },
    {
      "cell_type": "code",
      "execution_count": null,
      "id": "79b5c887",
      "metadata": {
        "id": "79b5c887"
      },
      "outputs": [],
      "source": [
        "books = pd.read_csv('books_after_preprocessing.csv')"
      ]
    },
    {
      "cell_type": "code",
      "execution_count": null,
      "id": "9ae5502c",
      "metadata": {
        "id": "9ae5502c",
        "outputId": "753b270f-747e-4abe-c20c-d3ef6cfa70a0",
        "colab": {
          "base_uri": "https://localhost:8080/",
          "height": 143
        }
      },
      "outputs": [
        {
          "output_type": "execute_result",
          "data": {
            "text/plain": [
              "   index                                          Title  review/score_Avg  \\\n",
              "0  74190   and poetry is born  russian classical poetry               4.0   \n",
              "1  80644                                 and still king               4.0   \n",
              "2  31352                            dancers in mourning               4.5   \n",
              "\n",
              "   review/score_Count                           authors  publishedDate  \\\n",
              "0                 1.0  ['Aleksandr Sergeevich Pushkin']         1984.0   \n",
              "1                 1.0                ['Keith Checkley']         2012.0   \n",
              "2                 8.0             ['Margery Allingham']         2015.0   \n",
              "\n",
              "                              description_categories  \n",
              "0  russian poetry selection russian poem russian ...  \n",
              "1  business economics nothing provides clearer pi...  \n",
              "2  fiction murder take center stage songanddance ...  "
            ],
            "text/html": [
              "\n",
              "  <div id=\"df-e94c7658-b934-47fe-86a5-37da7decb2f3\">\n",
              "    <div class=\"colab-df-container\">\n",
              "      <div>\n",
              "<style scoped>\n",
              "    .dataframe tbody tr th:only-of-type {\n",
              "        vertical-align: middle;\n",
              "    }\n",
              "\n",
              "    .dataframe tbody tr th {\n",
              "        vertical-align: top;\n",
              "    }\n",
              "\n",
              "    .dataframe thead th {\n",
              "        text-align: right;\n",
              "    }\n",
              "</style>\n",
              "<table border=\"1\" class=\"dataframe\">\n",
              "  <thead>\n",
              "    <tr style=\"text-align: right;\">\n",
              "      <th></th>\n",
              "      <th>index</th>\n",
              "      <th>Title</th>\n",
              "      <th>review/score_Avg</th>\n",
              "      <th>review/score_Count</th>\n",
              "      <th>authors</th>\n",
              "      <th>publishedDate</th>\n",
              "      <th>description_categories</th>\n",
              "    </tr>\n",
              "  </thead>\n",
              "  <tbody>\n",
              "    <tr>\n",
              "      <th>0</th>\n",
              "      <td>74190</td>\n",
              "      <td>and poetry is born  russian classical poetry</td>\n",
              "      <td>4.0</td>\n",
              "      <td>1.0</td>\n",
              "      <td>['Aleksandr Sergeevich Pushkin']</td>\n",
              "      <td>1984.0</td>\n",
              "      <td>russian poetry selection russian poem russian ...</td>\n",
              "    </tr>\n",
              "    <tr>\n",
              "      <th>1</th>\n",
              "      <td>80644</td>\n",
              "      <td>and still king</td>\n",
              "      <td>4.0</td>\n",
              "      <td>1.0</td>\n",
              "      <td>['Keith Checkley']</td>\n",
              "      <td>2012.0</td>\n",
              "      <td>business economics nothing provides clearer pi...</td>\n",
              "    </tr>\n",
              "    <tr>\n",
              "      <th>2</th>\n",
              "      <td>31352</td>\n",
              "      <td>dancers in mourning</td>\n",
              "      <td>4.5</td>\n",
              "      <td>8.0</td>\n",
              "      <td>['Margery Allingham']</td>\n",
              "      <td>2015.0</td>\n",
              "      <td>fiction murder take center stage songanddance ...</td>\n",
              "    </tr>\n",
              "  </tbody>\n",
              "</table>\n",
              "</div>\n",
              "      <button class=\"colab-df-convert\" onclick=\"convertToInteractive('df-e94c7658-b934-47fe-86a5-37da7decb2f3')\"\n",
              "              title=\"Convert this dataframe to an interactive table.\"\n",
              "              style=\"display:none;\">\n",
              "        \n",
              "  <svg xmlns=\"http://www.w3.org/2000/svg\" height=\"24px\"viewBox=\"0 0 24 24\"\n",
              "       width=\"24px\">\n",
              "    <path d=\"M0 0h24v24H0V0z\" fill=\"none\"/>\n",
              "    <path d=\"M18.56 5.44l.94 2.06.94-2.06 2.06-.94-2.06-.94-.94-2.06-.94 2.06-2.06.94zm-11 1L8.5 8.5l.94-2.06 2.06-.94-2.06-.94L8.5 2.5l-.94 2.06-2.06.94zm10 10l.94 2.06.94-2.06 2.06-.94-2.06-.94-.94-2.06-.94 2.06-2.06.94z\"/><path d=\"M17.41 7.96l-1.37-1.37c-.4-.4-.92-.59-1.43-.59-.52 0-1.04.2-1.43.59L10.3 9.45l-7.72 7.72c-.78.78-.78 2.05 0 2.83L4 21.41c.39.39.9.59 1.41.59.51 0 1.02-.2 1.41-.59l7.78-7.78 2.81-2.81c.8-.78.8-2.07 0-2.86zM5.41 20L4 18.59l7.72-7.72 1.47 1.35L5.41 20z\"/>\n",
              "  </svg>\n",
              "      </button>\n",
              "      \n",
              "  <style>\n",
              "    .colab-df-container {\n",
              "      display:flex;\n",
              "      flex-wrap:wrap;\n",
              "      gap: 12px;\n",
              "    }\n",
              "\n",
              "    .colab-df-convert {\n",
              "      background-color: #E8F0FE;\n",
              "      border: none;\n",
              "      border-radius: 50%;\n",
              "      cursor: pointer;\n",
              "      display: none;\n",
              "      fill: #1967D2;\n",
              "      height: 32px;\n",
              "      padding: 0 0 0 0;\n",
              "      width: 32px;\n",
              "    }\n",
              "\n",
              "    .colab-df-convert:hover {\n",
              "      background-color: #E2EBFA;\n",
              "      box-shadow: 0px 1px 2px rgba(60, 64, 67, 0.3), 0px 1px 3px 1px rgba(60, 64, 67, 0.15);\n",
              "      fill: #174EA6;\n",
              "    }\n",
              "\n",
              "    [theme=dark] .colab-df-convert {\n",
              "      background-color: #3B4455;\n",
              "      fill: #D2E3FC;\n",
              "    }\n",
              "\n",
              "    [theme=dark] .colab-df-convert:hover {\n",
              "      background-color: #434B5C;\n",
              "      box-shadow: 0px 1px 3px 1px rgba(0, 0, 0, 0.15);\n",
              "      filter: drop-shadow(0px 1px 2px rgba(0, 0, 0, 0.3));\n",
              "      fill: #FFFFFF;\n",
              "    }\n",
              "  </style>\n",
              "\n",
              "      <script>\n",
              "        const buttonEl =\n",
              "          document.querySelector('#df-e94c7658-b934-47fe-86a5-37da7decb2f3 button.colab-df-convert');\n",
              "        buttonEl.style.display =\n",
              "          google.colab.kernel.accessAllowed ? 'block' : 'none';\n",
              "\n",
              "        async function convertToInteractive(key) {\n",
              "          const element = document.querySelector('#df-e94c7658-b934-47fe-86a5-37da7decb2f3');\n",
              "          const dataTable =\n",
              "            await google.colab.kernel.invokeFunction('convertToInteractive',\n",
              "                                                     [key], {});\n",
              "          if (!dataTable) return;\n",
              "\n",
              "          const docLinkHtml = 'Like what you see? Visit the ' +\n",
              "            '<a target=\"_blank\" href=https://colab.research.google.com/notebooks/data_table.ipynb>data table notebook</a>'\n",
              "            + ' to learn more about interactive tables.';\n",
              "          element.innerHTML = '';\n",
              "          dataTable['output_type'] = 'display_data';\n",
              "          await google.colab.output.renderOutput(dataTable, element);\n",
              "          const docLink = document.createElement('div');\n",
              "          docLink.innerHTML = docLinkHtml;\n",
              "          element.appendChild(docLink);\n",
              "        }\n",
              "      </script>\n",
              "    </div>\n",
              "  </div>\n",
              "  "
            ]
          },
          "metadata": {},
          "execution_count": 7
        }
      ],
      "source": [
        "books.head(3)"
      ]
    },
    {
      "cell_type": "markdown",
      "source": [
        "# Taking a subset of the data by selecting the books which received more than 10 reviews\n",
        "\n",
        "I am taking a subset of the book data to preform Sentence Embeddings and Cosine Similarity. The full dataset would be too large to process."
      ],
      "metadata": {
        "id": "9zFFFAVnhZkQ"
      },
      "id": "9zFFFAVnhZkQ"
    },
    {
      "cell_type": "code",
      "source": [
        "books_sm_10 = books[books['review/score_Count'] > 10]\n",
        "books_sm_10.head(3)"
      ],
      "metadata": {
        "colab": {
          "base_uri": "https://localhost:8080/",
          "height": 143
        },
        "id": "9vWEdm5GM3MJ",
        "outputId": "650c6b7d-ada5-4414-e282-7f9ec338baa5"
      },
      "id": "9vWEdm5GM3MJ",
      "execution_count": null,
      "outputs": [
        {
          "output_type": "execute_result",
          "data": {
            "text/plain": [
              "     index                Title  review/score_Avg  review/score_Count  \\\n",
              "30   95768             1 is one          4.866667                30.0   \n",
              "34   76202  1 ragged ridge road          4.277778                18.0   \n",
              "36  110134       10 button book          3.142857                28.0   \n",
              "\n",
              "                                 authors  publishedDate  \\\n",
              "30                       ['Tasha Tudor']         2015.0   \n",
              "34  ['Leonard Foglia', 'David Richards']         1998.0   \n",
              "36                   ['William Accorsi']         1999.0   \n",
              "\n",
              "                               description_categories  \n",
              "30  juvenile nonfiction rhyming verse present numb...  \n",
              "34  fiction estranged husband carol robbins young ...  \n",
              "36  juvenile nonfiction verse introduce number one...  "
            ],
            "text/html": [
              "\n",
              "  <div id=\"df-4e37a9d4-6464-436a-ad46-e8c678c7704f\">\n",
              "    <div class=\"colab-df-container\">\n",
              "      <div>\n",
              "<style scoped>\n",
              "    .dataframe tbody tr th:only-of-type {\n",
              "        vertical-align: middle;\n",
              "    }\n",
              "\n",
              "    .dataframe tbody tr th {\n",
              "        vertical-align: top;\n",
              "    }\n",
              "\n",
              "    .dataframe thead th {\n",
              "        text-align: right;\n",
              "    }\n",
              "</style>\n",
              "<table border=\"1\" class=\"dataframe\">\n",
              "  <thead>\n",
              "    <tr style=\"text-align: right;\">\n",
              "      <th></th>\n",
              "      <th>index</th>\n",
              "      <th>Title</th>\n",
              "      <th>review/score_Avg</th>\n",
              "      <th>review/score_Count</th>\n",
              "      <th>authors</th>\n",
              "      <th>publishedDate</th>\n",
              "      <th>description_categories</th>\n",
              "    </tr>\n",
              "  </thead>\n",
              "  <tbody>\n",
              "    <tr>\n",
              "      <th>30</th>\n",
              "      <td>95768</td>\n",
              "      <td>1 is one</td>\n",
              "      <td>4.866667</td>\n",
              "      <td>30.0</td>\n",
              "      <td>['Tasha Tudor']</td>\n",
              "      <td>2015.0</td>\n",
              "      <td>juvenile nonfiction rhyming verse present numb...</td>\n",
              "    </tr>\n",
              "    <tr>\n",
              "      <th>34</th>\n",
              "      <td>76202</td>\n",
              "      <td>1 ragged ridge road</td>\n",
              "      <td>4.277778</td>\n",
              "      <td>18.0</td>\n",
              "      <td>['Leonard Foglia', 'David Richards']</td>\n",
              "      <td>1998.0</td>\n",
              "      <td>fiction estranged husband carol robbins young ...</td>\n",
              "    </tr>\n",
              "    <tr>\n",
              "      <th>36</th>\n",
              "      <td>110134</td>\n",
              "      <td>10 button book</td>\n",
              "      <td>3.142857</td>\n",
              "      <td>28.0</td>\n",
              "      <td>['William Accorsi']</td>\n",
              "      <td>1999.0</td>\n",
              "      <td>juvenile nonfiction verse introduce number one...</td>\n",
              "    </tr>\n",
              "  </tbody>\n",
              "</table>\n",
              "</div>\n",
              "      <button class=\"colab-df-convert\" onclick=\"convertToInteractive('df-4e37a9d4-6464-436a-ad46-e8c678c7704f')\"\n",
              "              title=\"Convert this dataframe to an interactive table.\"\n",
              "              style=\"display:none;\">\n",
              "        \n",
              "  <svg xmlns=\"http://www.w3.org/2000/svg\" height=\"24px\"viewBox=\"0 0 24 24\"\n",
              "       width=\"24px\">\n",
              "    <path d=\"M0 0h24v24H0V0z\" fill=\"none\"/>\n",
              "    <path d=\"M18.56 5.44l.94 2.06.94-2.06 2.06-.94-2.06-.94-.94-2.06-.94 2.06-2.06.94zm-11 1L8.5 8.5l.94-2.06 2.06-.94-2.06-.94L8.5 2.5l-.94 2.06-2.06.94zm10 10l.94 2.06.94-2.06 2.06-.94-2.06-.94-.94-2.06-.94 2.06-2.06.94z\"/><path d=\"M17.41 7.96l-1.37-1.37c-.4-.4-.92-.59-1.43-.59-.52 0-1.04.2-1.43.59L10.3 9.45l-7.72 7.72c-.78.78-.78 2.05 0 2.83L4 21.41c.39.39.9.59 1.41.59.51 0 1.02-.2 1.41-.59l7.78-7.78 2.81-2.81c.8-.78.8-2.07 0-2.86zM5.41 20L4 18.59l7.72-7.72 1.47 1.35L5.41 20z\"/>\n",
              "  </svg>\n",
              "      </button>\n",
              "      \n",
              "  <style>\n",
              "    .colab-df-container {\n",
              "      display:flex;\n",
              "      flex-wrap:wrap;\n",
              "      gap: 12px;\n",
              "    }\n",
              "\n",
              "    .colab-df-convert {\n",
              "      background-color: #E8F0FE;\n",
              "      border: none;\n",
              "      border-radius: 50%;\n",
              "      cursor: pointer;\n",
              "      display: none;\n",
              "      fill: #1967D2;\n",
              "      height: 32px;\n",
              "      padding: 0 0 0 0;\n",
              "      width: 32px;\n",
              "    }\n",
              "\n",
              "    .colab-df-convert:hover {\n",
              "      background-color: #E2EBFA;\n",
              "      box-shadow: 0px 1px 2px rgba(60, 64, 67, 0.3), 0px 1px 3px 1px rgba(60, 64, 67, 0.15);\n",
              "      fill: #174EA6;\n",
              "    }\n",
              "\n",
              "    [theme=dark] .colab-df-convert {\n",
              "      background-color: #3B4455;\n",
              "      fill: #D2E3FC;\n",
              "    }\n",
              "\n",
              "    [theme=dark] .colab-df-convert:hover {\n",
              "      background-color: #434B5C;\n",
              "      box-shadow: 0px 1px 3px 1px rgba(0, 0, 0, 0.15);\n",
              "      filter: drop-shadow(0px 1px 2px rgba(0, 0, 0, 0.3));\n",
              "      fill: #FFFFFF;\n",
              "    }\n",
              "  </style>\n",
              "\n",
              "      <script>\n",
              "        const buttonEl =\n",
              "          document.querySelector('#df-4e37a9d4-6464-436a-ad46-e8c678c7704f button.colab-df-convert');\n",
              "        buttonEl.style.display =\n",
              "          google.colab.kernel.accessAllowed ? 'block' : 'none';\n",
              "\n",
              "        async function convertToInteractive(key) {\n",
              "          const element = document.querySelector('#df-4e37a9d4-6464-436a-ad46-e8c678c7704f');\n",
              "          const dataTable =\n",
              "            await google.colab.kernel.invokeFunction('convertToInteractive',\n",
              "                                                     [key], {});\n",
              "          if (!dataTable) return;\n",
              "\n",
              "          const docLinkHtml = 'Like what you see? Visit the ' +\n",
              "            '<a target=\"_blank\" href=https://colab.research.google.com/notebooks/data_table.ipynb>data table notebook</a>'\n",
              "            + ' to learn more about interactive tables.';\n",
              "          element.innerHTML = '';\n",
              "          dataTable['output_type'] = 'display_data';\n",
              "          await google.colab.output.renderOutput(dataTable, element);\n",
              "          const docLink = document.createElement('div');\n",
              "          docLink.innerHTML = docLinkHtml;\n",
              "          element.appendChild(docLink);\n",
              "        }\n",
              "      </script>\n",
              "    </div>\n",
              "  </div>\n",
              "  "
            ]
          },
          "metadata": {},
          "execution_count": 8
        }
      ]
    },
    {
      "cell_type": "code",
      "source": [
        "books_sm_10 = books_sm_10.reset_index(drop=True)\n",
        "books_sm_10 = books_sm_10.drop(columns='index')\n",
        "books_sm_10.head(3)\n"
      ],
      "metadata": {
        "id": "Sw5FDUuHfLAT",
        "colab": {
          "base_uri": "https://localhost:8080/",
          "height": 143
        },
        "outputId": "f287c431-06f8-40a2-aee9-fa444fb41db9"
      },
      "id": "Sw5FDUuHfLAT",
      "execution_count": null,
      "outputs": [
        {
          "output_type": "execute_result",
          "data": {
            "text/plain": [
              "                 Title  review/score_Avg  review/score_Count  \\\n",
              "0             1 is one          4.866667                30.0   \n",
              "1  1 ragged ridge road          4.277778                18.0   \n",
              "2       10 button book          3.142857                28.0   \n",
              "\n",
              "                                authors  publishedDate  \\\n",
              "0                       ['Tasha Tudor']         2015.0   \n",
              "1  ['Leonard Foglia', 'David Richards']         1998.0   \n",
              "2                   ['William Accorsi']         1999.0   \n",
              "\n",
              "                              description_categories  \n",
              "0  juvenile nonfiction rhyming verse present numb...  \n",
              "1  fiction estranged husband carol robbins young ...  \n",
              "2  juvenile nonfiction verse introduce number one...  "
            ],
            "text/html": [
              "\n",
              "  <div id=\"df-9a71edae-476b-465c-96c9-0204c10b2b5f\">\n",
              "    <div class=\"colab-df-container\">\n",
              "      <div>\n",
              "<style scoped>\n",
              "    .dataframe tbody tr th:only-of-type {\n",
              "        vertical-align: middle;\n",
              "    }\n",
              "\n",
              "    .dataframe tbody tr th {\n",
              "        vertical-align: top;\n",
              "    }\n",
              "\n",
              "    .dataframe thead th {\n",
              "        text-align: right;\n",
              "    }\n",
              "</style>\n",
              "<table border=\"1\" class=\"dataframe\">\n",
              "  <thead>\n",
              "    <tr style=\"text-align: right;\">\n",
              "      <th></th>\n",
              "      <th>Title</th>\n",
              "      <th>review/score_Avg</th>\n",
              "      <th>review/score_Count</th>\n",
              "      <th>authors</th>\n",
              "      <th>publishedDate</th>\n",
              "      <th>description_categories</th>\n",
              "    </tr>\n",
              "  </thead>\n",
              "  <tbody>\n",
              "    <tr>\n",
              "      <th>0</th>\n",
              "      <td>1 is one</td>\n",
              "      <td>4.866667</td>\n",
              "      <td>30.0</td>\n",
              "      <td>['Tasha Tudor']</td>\n",
              "      <td>2015.0</td>\n",
              "      <td>juvenile nonfiction rhyming verse present numb...</td>\n",
              "    </tr>\n",
              "    <tr>\n",
              "      <th>1</th>\n",
              "      <td>1 ragged ridge road</td>\n",
              "      <td>4.277778</td>\n",
              "      <td>18.0</td>\n",
              "      <td>['Leonard Foglia', 'David Richards']</td>\n",
              "      <td>1998.0</td>\n",
              "      <td>fiction estranged husband carol robbins young ...</td>\n",
              "    </tr>\n",
              "    <tr>\n",
              "      <th>2</th>\n",
              "      <td>10 button book</td>\n",
              "      <td>3.142857</td>\n",
              "      <td>28.0</td>\n",
              "      <td>['William Accorsi']</td>\n",
              "      <td>1999.0</td>\n",
              "      <td>juvenile nonfiction verse introduce number one...</td>\n",
              "    </tr>\n",
              "  </tbody>\n",
              "</table>\n",
              "</div>\n",
              "      <button class=\"colab-df-convert\" onclick=\"convertToInteractive('df-9a71edae-476b-465c-96c9-0204c10b2b5f')\"\n",
              "              title=\"Convert this dataframe to an interactive table.\"\n",
              "              style=\"display:none;\">\n",
              "        \n",
              "  <svg xmlns=\"http://www.w3.org/2000/svg\" height=\"24px\"viewBox=\"0 0 24 24\"\n",
              "       width=\"24px\">\n",
              "    <path d=\"M0 0h24v24H0V0z\" fill=\"none\"/>\n",
              "    <path d=\"M18.56 5.44l.94 2.06.94-2.06 2.06-.94-2.06-.94-.94-2.06-.94 2.06-2.06.94zm-11 1L8.5 8.5l.94-2.06 2.06-.94-2.06-.94L8.5 2.5l-.94 2.06-2.06.94zm10 10l.94 2.06.94-2.06 2.06-.94-2.06-.94-.94-2.06-.94 2.06-2.06.94z\"/><path d=\"M17.41 7.96l-1.37-1.37c-.4-.4-.92-.59-1.43-.59-.52 0-1.04.2-1.43.59L10.3 9.45l-7.72 7.72c-.78.78-.78 2.05 0 2.83L4 21.41c.39.39.9.59 1.41.59.51 0 1.02-.2 1.41-.59l7.78-7.78 2.81-2.81c.8-.78.8-2.07 0-2.86zM5.41 20L4 18.59l7.72-7.72 1.47 1.35L5.41 20z\"/>\n",
              "  </svg>\n",
              "      </button>\n",
              "      \n",
              "  <style>\n",
              "    .colab-df-container {\n",
              "      display:flex;\n",
              "      flex-wrap:wrap;\n",
              "      gap: 12px;\n",
              "    }\n",
              "\n",
              "    .colab-df-convert {\n",
              "      background-color: #E8F0FE;\n",
              "      border: none;\n",
              "      border-radius: 50%;\n",
              "      cursor: pointer;\n",
              "      display: none;\n",
              "      fill: #1967D2;\n",
              "      height: 32px;\n",
              "      padding: 0 0 0 0;\n",
              "      width: 32px;\n",
              "    }\n",
              "\n",
              "    .colab-df-convert:hover {\n",
              "      background-color: #E2EBFA;\n",
              "      box-shadow: 0px 1px 2px rgba(60, 64, 67, 0.3), 0px 1px 3px 1px rgba(60, 64, 67, 0.15);\n",
              "      fill: #174EA6;\n",
              "    }\n",
              "\n",
              "    [theme=dark] .colab-df-convert {\n",
              "      background-color: #3B4455;\n",
              "      fill: #D2E3FC;\n",
              "    }\n",
              "\n",
              "    [theme=dark] .colab-df-convert:hover {\n",
              "      background-color: #434B5C;\n",
              "      box-shadow: 0px 1px 3px 1px rgba(0, 0, 0, 0.15);\n",
              "      filter: drop-shadow(0px 1px 2px rgba(0, 0, 0, 0.3));\n",
              "      fill: #FFFFFF;\n",
              "    }\n",
              "  </style>\n",
              "\n",
              "      <script>\n",
              "        const buttonEl =\n",
              "          document.querySelector('#df-9a71edae-476b-465c-96c9-0204c10b2b5f button.colab-df-convert');\n",
              "        buttonEl.style.display =\n",
              "          google.colab.kernel.accessAllowed ? 'block' : 'none';\n",
              "\n",
              "        async function convertToInteractive(key) {\n",
              "          const element = document.querySelector('#df-9a71edae-476b-465c-96c9-0204c10b2b5f');\n",
              "          const dataTable =\n",
              "            await google.colab.kernel.invokeFunction('convertToInteractive',\n",
              "                                                     [key], {});\n",
              "          if (!dataTable) return;\n",
              "\n",
              "          const docLinkHtml = 'Like what you see? Visit the ' +\n",
              "            '<a target=\"_blank\" href=https://colab.research.google.com/notebooks/data_table.ipynb>data table notebook</a>'\n",
              "            + ' to learn more about interactive tables.';\n",
              "          element.innerHTML = '';\n",
              "          dataTable['output_type'] = 'display_data';\n",
              "          await google.colab.output.renderOutput(dataTable, element);\n",
              "          const docLink = document.createElement('div');\n",
              "          docLink.innerHTML = docLinkHtml;\n",
              "          element.appendChild(docLink);\n",
              "        }\n",
              "      </script>\n",
              "    </div>\n",
              "  </div>\n",
              "  "
            ]
          },
          "metadata": {},
          "execution_count": 9
        }
      ]
    },
    {
      "cell_type": "code",
      "source": [
        "books_sm_10.shape"
      ],
      "metadata": {
        "colab": {
          "base_uri": "https://localhost:8080/"
        },
        "id": "VbhTq0gL1TBt",
        "outputId": "45ee4cff-9203-4e45-c4a6-ff648d5ebd5e"
      },
      "id": "VbhTq0gL1TBt",
      "execution_count": null,
      "outputs": [
        {
          "output_type": "execute_result",
          "data": {
            "text/plain": [
              "(29560, 6)"
            ]
          },
          "metadata": {},
          "execution_count": 10
        }
      ]
    },
    {
      "cell_type": "markdown",
      "source": [
        "# Creating vectors from the description_categories column"
      ],
      "metadata": {
        "id": "O0uNPeuJ0BXs"
      },
      "id": "O0uNPeuJ0BXs"
    },
    {
      "cell_type": "code",
      "source": [
        "# Source: https://www.youtube.com/watch?v=Il04RjS-9-8&t=262s\n",
        "\n",
        "# Creating a column for vectors\n",
        "books_sm_10['vectors'] = ''"
      ],
      "metadata": {
        "id": "fd1vFTVq9vjJ"
      },
      "id": "fd1vFTVq9vjJ",
      "execution_count": null,
      "outputs": []
    },
    {
      "cell_type": "code",
      "source": [
        "# Create vectors from the description_categories column\n",
        "# This took about 7 minutes to run with GPU and Hi RAM.\n",
        "\n",
        "for i in range(len(books_sm_10['description_categories'])):\n",
        "    books_sm_10['vectors'][i] = nlp(books_sm_10['description_categories'][i])"
      ],
      "metadata": {
        "colab": {
          "base_uri": "https://localhost:8080/"
        },
        "id": "ElfMyiQTBPPo",
        "outputId": "a4f2160b-551d-452b-e8f4-9122b08d50dc"
      },
      "id": "ElfMyiQTBPPo",
      "execution_count": null,
      "outputs": [
        {
          "output_type": "stream",
          "name": "stderr",
          "text": [
            "<ipython-input-12-694ec382e2c4>:5: SettingWithCopyWarning: \n",
            "A value is trying to be set on a copy of a slice from a DataFrame\n",
            "\n",
            "See the caveats in the documentation: https://pandas.pydata.org/pandas-docs/stable/user_guide/indexing.html#returning-a-view-versus-a-copy\n",
            "  books_sm_10['vectors'][i] = nlp(books_sm_10['description_categories'][i])\n"
          ]
        }
      ]
    },
    {
      "cell_type": "code",
      "source": [
        "books_sm_10['vectors'].head()"
      ],
      "metadata": {
        "colab": {
          "base_uri": "https://localhost:8080/"
        },
        "id": "WfUg7BIGBwYm",
        "outputId": "f1eee953-51b3-4c1c-c07c-28769539d9a7"
      },
      "id": "WfUg7BIGBwYm",
      "execution_count": null,
      "outputs": [
        {
          "output_type": "execute_result",
          "data": {
            "text/plain": [
              "0    (juvenile, nonfiction, rhyming, verse, present...\n",
              "1    (fiction, estranged, husband, carol, robbins, ...\n",
              "2    (juvenile, nonfiction, verse, introduce, numbe...\n",
              "3    (family, relationship, repeat, everything, eve...\n",
              "4    (reference, jumpstart, reading, skill, speed, ...\n",
              "Name: vectors, dtype: object"
            ]
          },
          "metadata": {},
          "execution_count": 13
        }
      ]
    },
    {
      "cell_type": "markdown",
      "source": [
        "# Computing similarity scores between the book in the 0 index place and all the books"
      ],
      "metadata": {
        "id": "J4-oITTD28KF"
      },
      "id": "J4-oITTD28KF"
    },
    {
      "cell_type": "code",
      "source": [
        "# Similarity between books in the 0 and 1 index place\n",
        "\n",
        "books_sm_10['vectors'][0].similarity(books_sm_10['vectors'][1])"
      ],
      "metadata": {
        "colab": {
          "base_uri": "https://localhost:8080/"
        },
        "id": "l1uUe4IEuSWc",
        "outputId": "604c7109-ca1a-4327-ea14-14abfe368742"
      },
      "id": "l1uUe4IEuSWc",
      "execution_count": null,
      "outputs": [
        {
          "output_type": "execute_result",
          "data": {
            "text/plain": [
              "0.594082225178606"
            ]
          },
          "metadata": {},
          "execution_count": 14
        }
      ]
    },
    {
      "cell_type": "code",
      "source": [
        "# computing similarity scores between the book in the 0 index place and all of the books, including itself\n",
        "# I expected this cell to take a while to run. However, it run in few seconds. \n",
        "# However, please note that we are computing similarity for only one book at a time, not the whole dataset at once as\n",
        "# in the case of SBERT Sentence Transformers.\n",
        "\n",
        "sims = []\n",
        "index = []\n",
        "for i in range(len(books_sm_10['vectors'])):\n",
        "  sim = books_sm_10['vectors'][i].similarity(books_sm_10['vectors'][0])\n",
        "  sims.append(sim)\n",
        "  index.append(i)\n",
        "\n",
        "sims_df = pd.DataFrame(sims, index=index, columns =['sims'])"
      ],
      "metadata": {
        "id": "_KpLj0zT8G_0"
      },
      "id": "_KpLj0zT8G_0",
      "execution_count": null,
      "outputs": []
    },
    {
      "cell_type": "code",
      "source": [
        "# The top 5 highest similarity scores. \n",
        "# I used index [1:6] to exclude the similarity score of the book to itself, which would be a similarity score of 1.\n",
        "top5 = sims_df.sort_values(by='sims', ascending=False)\n",
        "top5 = top5[1:6]\n",
        "top5 = top5.reset_index()\n",
        "top5"
      ],
      "metadata": {
        "colab": {
          "base_uri": "https://localhost:8080/",
          "height": 206
        },
        "id": "vrVTrTd_8G2c",
        "outputId": "5942a815-882f-4e81-d0ad-63d4825902de"
      },
      "id": "vrVTrTd_8G2c",
      "execution_count": null,
      "outputs": [
        {
          "output_type": "execute_result",
          "data": {
            "text/plain": [
              "   index      sims\n",
              "0  28380  0.890873\n",
              "1  28730  0.881430\n",
              "2  22012  0.879250\n",
              "3   6160  0.879250\n",
              "4  17511  0.875732"
            ],
            "text/html": [
              "\n",
              "  <div id=\"df-090e483a-0261-4da6-aba4-2ab698314e59\">\n",
              "    <div class=\"colab-df-container\">\n",
              "      <div>\n",
              "<style scoped>\n",
              "    .dataframe tbody tr th:only-of-type {\n",
              "        vertical-align: middle;\n",
              "    }\n",
              "\n",
              "    .dataframe tbody tr th {\n",
              "        vertical-align: top;\n",
              "    }\n",
              "\n",
              "    .dataframe thead th {\n",
              "        text-align: right;\n",
              "    }\n",
              "</style>\n",
              "<table border=\"1\" class=\"dataframe\">\n",
              "  <thead>\n",
              "    <tr style=\"text-align: right;\">\n",
              "      <th></th>\n",
              "      <th>index</th>\n",
              "      <th>sims</th>\n",
              "    </tr>\n",
              "  </thead>\n",
              "  <tbody>\n",
              "    <tr>\n",
              "      <th>0</th>\n",
              "      <td>28380</td>\n",
              "      <td>0.890873</td>\n",
              "    </tr>\n",
              "    <tr>\n",
              "      <th>1</th>\n",
              "      <td>28730</td>\n",
              "      <td>0.881430</td>\n",
              "    </tr>\n",
              "    <tr>\n",
              "      <th>2</th>\n",
              "      <td>22012</td>\n",
              "      <td>0.879250</td>\n",
              "    </tr>\n",
              "    <tr>\n",
              "      <th>3</th>\n",
              "      <td>6160</td>\n",
              "      <td>0.879250</td>\n",
              "    </tr>\n",
              "    <tr>\n",
              "      <th>4</th>\n",
              "      <td>17511</td>\n",
              "      <td>0.875732</td>\n",
              "    </tr>\n",
              "  </tbody>\n",
              "</table>\n",
              "</div>\n",
              "      <button class=\"colab-df-convert\" onclick=\"convertToInteractive('df-090e483a-0261-4da6-aba4-2ab698314e59')\"\n",
              "              title=\"Convert this dataframe to an interactive table.\"\n",
              "              style=\"display:none;\">\n",
              "        \n",
              "  <svg xmlns=\"http://www.w3.org/2000/svg\" height=\"24px\"viewBox=\"0 0 24 24\"\n",
              "       width=\"24px\">\n",
              "    <path d=\"M0 0h24v24H0V0z\" fill=\"none\"/>\n",
              "    <path d=\"M18.56 5.44l.94 2.06.94-2.06 2.06-.94-2.06-.94-.94-2.06-.94 2.06-2.06.94zm-11 1L8.5 8.5l.94-2.06 2.06-.94-2.06-.94L8.5 2.5l-.94 2.06-2.06.94zm10 10l.94 2.06.94-2.06 2.06-.94-2.06-.94-.94-2.06-.94 2.06-2.06.94z\"/><path d=\"M17.41 7.96l-1.37-1.37c-.4-.4-.92-.59-1.43-.59-.52 0-1.04.2-1.43.59L10.3 9.45l-7.72 7.72c-.78.78-.78 2.05 0 2.83L4 21.41c.39.39.9.59 1.41.59.51 0 1.02-.2 1.41-.59l7.78-7.78 2.81-2.81c.8-.78.8-2.07 0-2.86zM5.41 20L4 18.59l7.72-7.72 1.47 1.35L5.41 20z\"/>\n",
              "  </svg>\n",
              "      </button>\n",
              "      \n",
              "  <style>\n",
              "    .colab-df-container {\n",
              "      display:flex;\n",
              "      flex-wrap:wrap;\n",
              "      gap: 12px;\n",
              "    }\n",
              "\n",
              "    .colab-df-convert {\n",
              "      background-color: #E8F0FE;\n",
              "      border: none;\n",
              "      border-radius: 50%;\n",
              "      cursor: pointer;\n",
              "      display: none;\n",
              "      fill: #1967D2;\n",
              "      height: 32px;\n",
              "      padding: 0 0 0 0;\n",
              "      width: 32px;\n",
              "    }\n",
              "\n",
              "    .colab-df-convert:hover {\n",
              "      background-color: #E2EBFA;\n",
              "      box-shadow: 0px 1px 2px rgba(60, 64, 67, 0.3), 0px 1px 3px 1px rgba(60, 64, 67, 0.15);\n",
              "      fill: #174EA6;\n",
              "    }\n",
              "\n",
              "    [theme=dark] .colab-df-convert {\n",
              "      background-color: #3B4455;\n",
              "      fill: #D2E3FC;\n",
              "    }\n",
              "\n",
              "    [theme=dark] .colab-df-convert:hover {\n",
              "      background-color: #434B5C;\n",
              "      box-shadow: 0px 1px 3px 1px rgba(0, 0, 0, 0.15);\n",
              "      filter: drop-shadow(0px 1px 2px rgba(0, 0, 0, 0.3));\n",
              "      fill: #FFFFFF;\n",
              "    }\n",
              "  </style>\n",
              "\n",
              "      <script>\n",
              "        const buttonEl =\n",
              "          document.querySelector('#df-090e483a-0261-4da6-aba4-2ab698314e59 button.colab-df-convert');\n",
              "        buttonEl.style.display =\n",
              "          google.colab.kernel.accessAllowed ? 'block' : 'none';\n",
              "\n",
              "        async function convertToInteractive(key) {\n",
              "          const element = document.querySelector('#df-090e483a-0261-4da6-aba4-2ab698314e59');\n",
              "          const dataTable =\n",
              "            await google.colab.kernel.invokeFunction('convertToInteractive',\n",
              "                                                     [key], {});\n",
              "          if (!dataTable) return;\n",
              "\n",
              "          const docLinkHtml = 'Like what you see? Visit the ' +\n",
              "            '<a target=\"_blank\" href=https://colab.research.google.com/notebooks/data_table.ipynb>data table notebook</a>'\n",
              "            + ' to learn more about interactive tables.';\n",
              "          element.innerHTML = '';\n",
              "          dataTable['output_type'] = 'display_data';\n",
              "          await google.colab.output.renderOutput(dataTable, element);\n",
              "          const docLink = document.createElement('div');\n",
              "          docLink.innerHTML = docLinkHtml;\n",
              "          element.appendChild(docLink);\n",
              "        }\n",
              "      </script>\n",
              "    </div>\n",
              "  </div>\n",
              "  "
            ]
          },
          "metadata": {},
          "execution_count": 17
        }
      ]
    },
    {
      "cell_type": "code",
      "source": [
        "# Taking the top 5 index values\n",
        "index = top5['index'].values\n",
        "index"
      ],
      "metadata": {
        "colab": {
          "base_uri": "https://localhost:8080/"
        },
        "id": "SnPqigZXhYHr",
        "outputId": "f5071cb6-cb16-44db-d60b-df1fc4ecfbf1"
      },
      "id": "SnPqigZXhYHr",
      "execution_count": null,
      "outputs": [
        {
          "output_type": "execute_result",
          "data": {
            "text/plain": [
              "array([28380, 28730, 22012,  6160, 17511])"
            ]
          },
          "metadata": {},
          "execution_count": 18
        }
      ]
    },
    {
      "cell_type": "code",
      "source": [
        "print('Chosen book: ')\n",
        "print(books_sm_10['Title'][0], '\\n')\n",
        "print('Recommended books: ')\n",
        "for i in index:\n",
        "  print(books_sm_10['Title'][i])"
      ],
      "metadata": {
        "colab": {
          "base_uri": "https://localhost:8080/"
        },
        "id": "F3ij2u8P8GzF",
        "outputId": "4ec08d99-ad41-48cd-9628-cdb215191611"
      },
      "id": "F3ij2u8P8GzF",
      "execution_count": null,
      "outputs": [
        {
          "output_type": "stream",
          "name": "stdout",
          "text": [
            "Chosen book: \n",
            "1 is one \n",
            "\n",
            "Recommended books: \n",
            "way out in the desert\n",
            "when we were very young winniethepooh winniethepooh series\n",
            "the dictionary of the khazars\n",
            "dictionary of the khazars a lexicon novel in 100000 words english and serbocroatian edition\n",
            "richard scarrys best mother goose ever\n"
          ]
        }
      ]
    },
    {
      "cell_type": "markdown",
      "source": [
        "# Creating a Function that searches the top 5 similar books"
      ],
      "metadata": {
        "id": "hrktXsLSaJl0"
      },
      "id": "hrktXsLSaJl0"
    },
    {
      "cell_type": "code",
      "source": [
        "def find_similar(Title):\n",
        "\n",
        "  chosen_index = books_sm_10[books_sm_10['Title'] == Title].index[0]\n",
        "  #chosen_index\n",
        "\n",
        "  sims = []\n",
        "  index = []\n",
        "\n",
        "  for i in range(len(books_sm_10['vectors'])):\n",
        "    sim = books_sm_10['vectors'][i].similarity(books_sm_10['vectors'][chosen_index])\n",
        "    sims.append(sim)\n",
        "    index.append(i)\n",
        "\n",
        "  sims_df = pd.DataFrame(sims, index=index, columns =['sims'])\n",
        "  \n",
        "  top5 = sims_df.sort_values(by='sims', ascending=False)\n",
        "  top5 = top5[1:6]\n",
        "  top5 = top5.reset_index()\n",
        "  #top5\n",
        "\n",
        "  index = top5['index'].values\n",
        "\n",
        "  print('Chosen book: ')\n",
        "  print('Title: ', books_sm_10['Title'][chosen_index])\n",
        "  print('Description: ', books_sm_10['description_categories'][chosen_index], '\\n')\n",
        "  print('Recommended books: ')\n",
        "  for i in index:\n",
        "    print('Title: ', books_sm_10['Title'][i])\n",
        "    print('Description: ', books_sm_10['description_categories'][i])"
      ],
      "metadata": {
        "id": "kNGiBEnE8Gmq"
      },
      "id": "kNGiBEnE8Gmq",
      "execution_count": null,
      "outputs": []
    },
    {
      "cell_type": "markdown",
      "source": [
        "# Example Recommendations with the same books I used to test Model 1 and Model 3"
      ],
      "metadata": {
        "id": "FI8u_W9f5aq8"
      },
      "id": "FI8u_W9f5aq8"
    },
    {
      "cell_type": "code",
      "source": [
        "# Chosen title\n",
        "chosen_title = '1 is one'\n",
        "find_similar(chosen_title)"
      ],
      "metadata": {
        "colab": {
          "base_uri": "https://localhost:8080/"
        },
        "id": "0p4ID_cJ8Gjb",
        "outputId": "0909465c-1d72-4810-8200-38a0399f72c0"
      },
      "id": "0p4ID_cJ8Gjb",
      "execution_count": null,
      "outputs": [
        {
          "output_type": "stream",
          "name": "stdout",
          "text": [
            "Chosen book: \n",
            "Title:  1 is one\n",
            "Description:  juvenile nonfiction rhyming verse present number one twenty illustration animal flower child \n",
            "\n",
            "Recommended books: \n",
            "Title:  way out in the desert\n",
            "Description:  juvenile fiction counting book rhyme present various desert animal child mother horned toad little toadie one mom tarantula little spider ten numeral hidden illustration\n",
            "Title:  when we were very young winniethepooh winniethepooh series\n",
            "Description:  juvenile fiction milne beloved collection poetryfeaturing first appearance winniethepooh composed dozen poem author delighted generation child adult alike character winniethepooh christopher robin piglet eeyore young warm whimsical journey childhood includes classic verse halfway teddy bear introduced pooh world zoo king breakfast shoe stocking buckingham palace plus many\n",
            "Title:  the dictionary of the khazars\n",
            "Description:  fiction national bestseller dictionary khazars cited new york time book review one best book year written two version male female available vintage international identical save seventeen crucial line dictionary imaginary book knowledge khazars people flourished somewhere beyond transylvania seventh ninth century eschewing conventional narrative plot lexicon novel combine dictionary world three major religion entry leap past future featuring three unruly wise men book printed poison ink suicide mirror chimerical princess sect priest infiltrate one dream romance living dead much\n",
            "Title:  dictionary of the khazars a lexicon novel in 100000 words english and serbocroatian edition\n",
            "Description:  fiction national bestseller dictionary khazars cited new york time book review one best book year written two version male female available vintage international identical save seventeen crucial line dictionary imaginary book knowledge khazars people flourished somewhere beyond transylvania seventh ninth century eschewing conventional narrative plot lexicon novel combine dictionary world three major religion entry leap past future featuring three unruly wise men book printed poison ink suicide mirror chimerical princess sect priest infiltrate one dream romance living dead much\n",
            "Title:  richard scarrys best mother goose ever\n",
            "Description:  juvenile nonfiction collection popular nurseryrhymes small child completely illustrated colorful nurseryrhyme character\n"
          ]
        }
      ]
    },
    {
      "cell_type": "markdown",
      "source": [
        "One of the recommendations, **The dictionary of the khazars** is a very different book from the chosen book. It is a 339 page novel for adults about imiaginary people living somewhere in Europe. Unfortunately, this title appears twice in the recommendation with variant titles. The rest of the recommendations are rhyming early childhood picture books like the chosen title. I am not satisfied with this recommendation."
      ],
      "metadata": {
        "id": "YFB3i4gICDQP"
      },
      "id": "YFB3i4gICDQP"
    },
    {
      "cell_type": "code",
      "source": [
        "chosen_title = 'spanish stepbystep'\n",
        "find_similar(chosen_title)"
      ],
      "metadata": {
        "colab": {
          "base_uri": "https://localhost:8080/"
        },
        "id": "11tFRldNaH1S",
        "outputId": "f42389f3-508d-43dc-cfba-129362cd8ae3"
      },
      "id": "11tFRldNaH1S",
      "execution_count": null,
      "outputs": [
        {
          "output_type": "stream",
          "name": "stdout",
          "text": [
            "Chosen book: \n",
            "Title:  spanish stepbystep\n",
            "Description:  foreign language study proven grammarbased approach give real mastery spanish language use advanced spanish step step progressive grammarbased approach conquer intermediate advanced spanishlanguage topic stepbystep approach give real confidence tool need achieve high spanish proficiency youll get quick review key grammar basic move advanced topic need true mastery language complete coverage verb tense beyond present past irregular verb sentence structure part speech book give thorough overview advanced grammar topic also introduces hundred new vocabulary word reinforced reading put new term everyday context \n",
            "\n",
            "Recommended books: \n",
            "Title:  teach yourself turkish complete course turkish edition\n",
            "Description:  foreign language study complete turkish comprehensive book audio language course take beginner intermediate level new edition successful course fully revised packed new learning feature give language practice skill communicate confidence map b common european framework reference cefr language learning unit plus grammar word glossary discovery method figure rule pattern make language stick teach key skill reading writing listening speaking learn learn tip skill better language learner culture note learn people place turkey outcomesbased learning focus study clear aim authentic listening activity everyday conversation give flavour real spoken turkish test see track progress\n",
            "Title:  teach yourself korean complete course korean edition\n",
            "Description:  foreign language study complete korean comprehensive book audio language course take beginner intermediate level new edition successful course fully revised packed new learning feature give language practice skill communicate confidence map b common european framework reference cefr language learning unit plus grammar index word glossary korean script hangul used throughout real language immersion discovery method figure rule pattern make language stick teach key skill reading writing listening speaking learn learn tip skill better language learner culture note learn people place korea outcomesbased learning focus study clear aim authentic listening activity everyday conversation give flavour real spoken korean test see track progress pack youll get page book two cd audio learning material minute also available get started beginner korean isbn rely teach trusted language learner year\n",
            "Title:  teach yourself finnish\n",
            "Description:  foreign language study complete finnish comprehensive book audio language course take beginner intermediate level new edition successful course fully revised packed new learning feature give language practice skill communicate confidence map b common european framework reference cefr language learning unit plus grammar word glossary discovery method figure rule pattern make language stick teach key skill reading writing listening speaking learn learn tip skill better language learner culture note learn people place finland outcomesbased learning focus study clear aim authentic listening activity everyday conversation give flavour real spoken finnish test see track progress pack youll get page book two cd audio learning material minute rely teach trusted language learner year\n",
            "Title:  cliffsquickreview writing grammar usage and style\n",
            "Description:  english language cliffsquickreview course guide cover essential toughest class get firm grip core concept key material test newfound knowledge review question whether youre new noun verb preposition brushing grammar cliffsquickreview writing grammar usage style help guide help understand grammar concept also give clear explanation sentence structure well advice write well work way guide youll find noun verb pronoun adjective adverb proposition conjunction interjection sentence construction variety well punctuation word compound word idiom clichés jargon different type writing organizing writing assignment cliffsquickreview writing grammar usage style invaluable reference want improve writing whether high school level college thing youll learn bring writing snuff understanding writing assignment writing thesis statement quoting paraphrasing avoiding plagiarism creating outline paper writing first draft polishing final draft title available popular high school college course cliffsquickreview guide comprehensive resource help get best possible grade\n",
            "Title:  teach yourself finnish complete course teach yourself language complete courses swedish edition\n",
            "Description:  foreign language study want communicate easily freely finnish master finnish grammar broaden vocabulary finnish tutor contemporary interactive workbook feature activity across range grammar vocabulary point clear goal concise explanation realworld task studying practicing finnish grammar youll understand language really work able speak finnish clarity ease learn finnish tutor grammar vocabulary workbook cover comprehensive range useful frequent grammar vocabulary finnish follow along unit unit dip dip address weak area progress introduced new vocabulary combine grammar complete extensive exercise practice language authentic reading writing practice achieve solid upper intermediate level finnish grammar course finnish tutor grammar vocabulary workbook used standalone course complement finnish course offer extensive practice review essential grammar point vocabulary skill building personal tutor element point exception give tip really help perfect finnish get finnish workbook offer range clear effective learning feature activity across range grammar vocabulary point unique visuals infographics extra context practice personal tutor hint tip help understand language rule culture point learn learn section offer tip advice good language learner short learning unit contain communication goal guide study grammar explanation extensive exercise vocabulary presentation activity reading writing section consolidate learning workbook map novice high advanced mid level proficiency actfl american council teaching foreign language beginner b upper intermediate level cefr common european framework reference language guideline course available study practice see complete finnish teach isbn rely teach trusted language learner year\n"
          ]
        }
      ]
    },
    {
      "cell_type": "markdown",
      "source": [
        "All of the recommended books are language learning books. However, I would hope to get at least a few for the Spanish language specifically.\n",
        "I am not happy with this recommendation either."
      ],
      "metadata": {
        "id": "t1gfDJiFD859"
      },
      "id": "t1gfDJiFD859"
    },
    {
      "cell_type": "code",
      "source": [
        "chosen_title = 'to kill a mockingbird'\n",
        "find_similar(chosen_title)"
      ],
      "metadata": {
        "id": "OX-IRzgF8Gfh",
        "colab": {
          "base_uri": "https://localhost:8080/"
        },
        "outputId": "8beda052-7977-42fa-822e-eaaed46f504e"
      },
      "execution_count": null,
      "outputs": [
        {
          "output_type": "stream",
          "name": "stdout",
          "text": [
            "Chosen book: \n",
            "Title:  to kill a mockingbird\n",
            "Description:  fiction voted america bestloved novel pbs great american read harper lee pulitzer prizewinning masterwork honor injustice deep southand heroism one man face blind violent hatred one cherished story time kill mockingbird translated forty language sold forty million copy worldwide served basis enormously popular motion picture voted one best novel twentieth century librarian across country gripping heartwrenching wholly remarkable tale comingofage south poisoned virulent prejudice view world great beauty savage inequity eye young girl fathera crusading local lawyerrisks everything defend black man unjustly accused terrible crime \n",
            "\n",
            "Recommended books: \n",
            "Title:  the painted bird\n",
            "Description:  fiction classic novel boy struggle survival wwii poland national book awardwinning author step sixyearold boy sent antinazi parent remote village poland believe safe thing happen however boy left roam polish countryside blond blueeyed peasant part country swarthy darkeyed boy speaks dialect educated class either jew gypsy vampire devil fear fear german found among must keep moving period year observes every conceivable variation theme horror kirkus review originally published painted bird established jerzy kosinski major literary figure sparse prose vivid imagery story mythic proportion timeless human relevance one best written deep sincerity sensitivity elie wiesel new york time book review remarkable fiction emerged world wat ii nothing stand higher jerzy kosinskis painted bird magnificent work art celebration individual one read forget one read unmoved painted bird enriches literature life jonathan yardley miami herald extraordinary literally staggering one powerful book ever read richard kluger harper magazine one significant writer newsweek\n",
            "Title:  painted bird\n",
            "Description:  fiction classic novel boy struggle survival wwii poland national book awardwinning author step sixyearold boy sent antinazi parent remote village poland believe safe thing happen however boy left roam polish countryside blond blueeyed peasant part country swarthy darkeyed boy speaks dialect educated class either jew gypsy vampire devil fear fear german found among must keep moving period year observes every conceivable variation theme horror kirkus review originally published painted bird established jerzy kosinski major literary figure sparse prose vivid imagery story mythic proportion timeless human relevance one best written deep sincerity sensitivity elie wiesel new york time book review remarkable fiction emerged world wat ii nothing stand higher jerzy kosinskis painted bird magnificent work art celebration individual one read forget one read unmoved painted bird enriches literature life jonathan yardley miami herald extraordinary literally staggering one powerful book ever read richard kluger harper magazine one significant writer newsweek\n",
            "Title:  monkey beach a novel\n",
            "Description:  fiction young native american woman remembers volatile childhood search lost brother canadian wild extraordinary critically acclaimed debut novel race along canada douglas channel speedboatheading toward place younger brother jimmy presumed drowned last seentwentyyearold lisamarie hill recall younger day volatile precocious native girl growing kitamaat haisla indian reservation located five hundred mile north vancouver lisa came age standing foot firmly planted two different world spiritual realm haisla sobering real world dangerous temptation violence drug despair beloved grandmother mamaoo learned tradition magic adored elvisloving uncle mick native right activist perilous course learned see clearly speak mind never bow tragedy scarred life ultimately led frigid water destroy indomitable spirit even though ghost speak night warn worst may yet come easily one admired debut novel appear many decade eden robinson monkey beach immediately greeted universal acclaimcalled gripping san diego uniontribune wonderful milwaukee journal sentinel glorious globe mail earning nomination numerous literary award receiving ethel wilson fiction prize evocative moving haunting devastatingly funny extraordinary read brilliant literary voice must heard\n",
            "Title:  dead names  the dark history of the necronomicon\n",
            "Description:  body mind spirit dark history necronomiconone world feared fascinating bookstold one man saw alland lived tell tale necronomicon one controversial book ever published master gothic suspense hp lovecraft wrote mystical dreaded grimoire known necronomiconan ancient text written arab fall wrong hand could disastrous consequence one thought necronomicon basis world outside lovecrafts fiction simon young man drawn mysterious world occult association several eastern orthodox religion friendship owner occult bookstore brooklyn stumbled upon stolen text friend apartment unaware held hand real necronomiconsomething long thought creation lovecrafts brilliant mind deft pen arduous translation done utmost secrecy since tome fact stolen simon close circle friend unveiled nowinfamous grimoire clamoring public dead name simon tell amazing true story surround necronomicon main player humble beginning pageantryfilled secret world eastern orthodox religion accidental discovery necronomicon son sam murder jfk assassination brilliant william burroughs eventual suspicious death almost everyone involved grimoire book enthralling account book steeped legend lie murder\n",
            "Title:  lost mans river panther s\n",
            "Description:  fiction novel killing mister watson published review extraordinary heralded marvel invention virtuoso performance new york time book review novel stand best nation produced literature los angeles time book review peter matthiessen brings u second novel watson trilogy project nearly twenty year writing story epic scope ambition lost man river confronts primal relationship dangerous father desperate son way death shaped life lucius watson obsessed learning truth father e j watson devoted family man inspired farmer man progress vision coldblooded murderer amoral opportunist neighbor driven kill fear envy watson killer neighbor fear obsessed lucius return live among ask question character tale men woman molded harsh element florida evergladesan isolated breed descendant renegade pioneer grit instinct tradition wield obliterating force twentiethcentury progress speck daniel moonshiner alligator poacher turned gunrunner sally brown struggle escape racism shame local family r b collins known chicken crippled drink rage custodian watson secret watson dyer unacknowledged namesake design remote watson homestead hidden wild river henry short black man unwilling member group armed island men awaited e j watson silent twilight storyteller peter matthiessens dazzling artistry could capture beauty strangeness life lawless frontier probing deeply underlying tragedy brutal destruction land name progress racism infects heart new world history\n"
          ]
        }
      ],
      "id": "OX-IRzgF8Gfh"
    },
    {
      "cell_type": "markdown",
      "source": [
        "The recommended books are similar to the chosen title, **To kill a mockingbird** in that they have some element of crime and mystery. Not such great recommendations though, in my opinion. One, the painted bird is about Native Americans. However, the others don't have the element of multi ethnicity as you would expect from the chosen title. However, I notice that the description text for To kill a mockingbird is not that great. It mostly talks about how popular the book is than describing the story."
      ],
      "metadata": {
        "id": "zg0rhAYeGleO"
      },
      "id": "zg0rhAYeGleO"
    },
    {
      "cell_type": "markdown",
      "source": [
        "# Accuracy Mesasure: Discounted Cumulative Gains\n",
        "Relevancy Scoring Key:\n",
        "\n",
        "Most relevant score => 2\n",
        "\n",
        "Somewhat relevant score => 1\n",
        "\n",
        "Least relevant score => 0\n",
        "\n",
        "Methodology: I manually went through the description of the chosen item and the recommended items to determine relevancy value.\n",
        "\n",
        "DCG (Discounted Cumulative Gains) = Relevancy Score/(LOG(Recommendation Rank+1))\n",
        "\n",
        "Formula Source: https://towardsdatascience.com/an-exhaustive-list-of-methods-to-evaluate-recommender-systems-a70c05e121de\n",
        "\n",
        "The Count Vectorizer Model (DCG = 47.63) seems to outperform and the Spacy Model (DCG=41.36)."
      ],
      "metadata": {
        "id": "wrmrnLsYbpoW"
      },
      "id": "wrmrnLsYbpoW"
    },
    {
      "cell_type": "markdown",
      "source": [
        "![image.png](data:image/png;base64,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)"
      ],
      "metadata": {
        "id": "K96VSShtdSea"
      },
      "id": "K96VSShtdSea"
    },
    {
      "cell_type": "markdown",
      "source": [],
      "metadata": {
        "id": "nL3LT_SPboLW"
      },
      "id": "nL3LT_SPboLW"
    }
  ],
  "metadata": {
    "kernelspec": {
      "display_name": "Python 3 (ipykernel)",
      "language": "python",
      "name": "python3"
    },
    "language_info": {
      "codemirror_mode": {
        "name": "ipython",
        "version": 3
      },
      "file_extension": ".py",
      "mimetype": "text/x-python",
      "name": "python",
      "nbconvert_exporter": "python",
      "pygments_lexer": "ipython3",
      "version": "3.9.7"
    },
    "colab": {
      "provenance": [],
      "include_colab_link": true
    },
    "gpuClass": "premium"
  },
  "nbformat": 4,
  "nbformat_minor": 5
}