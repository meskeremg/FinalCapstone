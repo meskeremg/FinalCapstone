{
  "cells": [
    {
      "cell_type": "markdown",
      "metadata": {
        "id": "view-in-github",
        "colab_type": "text"
      },
      "source": [
        "<a href=\"https://colab.research.google.com/github/meskeremg/FinalCapstone/blob/main/Step_4_3_NLP_Book_Recommendation_Modeling_with_SBERT_Sentence_Embeddings_Meskerem_Goshime.ipynb\" target=\"_parent\"><img src=\"https://colab.research.google.com/assets/colab-badge.svg\" alt=\"Open In Colab\"/></a>"
      ]
    },
    {
      "cell_type": "markdown",
      "source": [
        "# Step 4-3 NLP Book Recommendation System\n",
        "# Model 3 - SBERT Sentence Embeddings and Cosine Similarity\n",
        "\n",
        "Amazon Books Reviews Data data source: https://www.kaggle.com/datasets/mohamedbakhet/amazon-books-reviews?select=books_data.csv This is a rich dataset for Natural Language Processing containing 3,000,000 text reviews from users as well as text descriptions and categories for 212,403 books. Therefore it is ideal for text analysis."
      ],
      "metadata": {
        "id": "oD04kuj40y_H"
      },
      "id": "oD04kuj40y_H"
    },
    {
      "cell_type": "markdown",
      "source": [
        "# Importing libraries and reading the data"
      ],
      "metadata": {
        "id": "nh9dfb5ZgngM"
      },
      "id": "nh9dfb5ZgngM"
    },
    {
      "cell_type": "code",
      "execution_count": 3,
      "id": "75113551",
      "metadata": {
        "id": "75113551"
      },
      "outputs": [],
      "source": [
        "import pandas as pd\n",
        "import numpy as np"
      ]
    },
    {
      "cell_type": "code",
      "source": [
        "from pydrive.auth import GoogleAuth\n",
        "from pydrive.drive import GoogleDrive\n",
        "from google.colab import auth\n",
        "from oauth2client.client import GoogleCredentials"
      ],
      "metadata": {
        "id": "L9N9pG3aKcKp"
      },
      "id": "L9N9pG3aKcKp",
      "execution_count": 4,
      "outputs": []
    },
    {
      "cell_type": "code",
      "source": [
        "auth.authenticate_user()\n",
        "gauth = GoogleAuth()\n",
        "gauth.credentials = GoogleCredentials.get_application_default()\n",
        "drive = GoogleDrive(gauth)"
      ],
      "metadata": {
        "id": "VkAw5O_IKdOh"
      },
      "id": "VkAw5O_IKdOh",
      "execution_count": 5,
      "outputs": []
    },
    {
      "cell_type": "code",
      "source": [
        "fileDownloaded = drive.CreateFile({'id':'1dnURk-tdodpKuv-3Ic92ELyNoQLs9tLA'})\n",
        "fileDownloaded.GetContentFile('books_after_preprocessing.csv')"
      ],
      "metadata": {
        "id": "VYssKJ_fKy0g"
      },
      "id": "VYssKJ_fKy0g",
      "execution_count": 6,
      "outputs": []
    },
    {
      "cell_type": "code",
      "execution_count": 7,
      "id": "79b5c887",
      "metadata": {
        "id": "79b5c887"
      },
      "outputs": [],
      "source": [
        "books = pd.read_csv('books_after_preprocessing.csv')"
      ]
    },
    {
      "cell_type": "code",
      "execution_count": 8,
      "id": "9ae5502c",
      "metadata": {
        "id": "9ae5502c",
        "outputId": "39511f6c-e410-4b13-95d5-7155e9d1e6e5",
        "colab": {
          "base_uri": "https://localhost:8080/",
          "height": 143
        }
      },
      "outputs": [
        {
          "output_type": "execute_result",
          "data": {
            "text/plain": [
              "   index                                          Title  review/score_Avg  \\\n",
              "0  74190   and poetry is born  russian classical poetry               4.0   \n",
              "1  80644                                 and still king               4.0   \n",
              "2  31352                            dancers in mourning               4.5   \n",
              "\n",
              "   review/score_Count                           authors  publishedDate  \\\n",
              "0                 1.0  ['Aleksandr Sergeevich Pushkin']         1984.0   \n",
              "1                 1.0                ['Keith Checkley']         2012.0   \n",
              "2                 8.0             ['Margery Allingham']         2015.0   \n",
              "\n",
              "                              description_categories  \n",
              "0  russian poetry selection russian poem russian ...  \n",
              "1  business economics nothing provides clearer pi...  \n",
              "2  fiction murder take center stage songanddance ...  "
            ],
            "text/html": [
              "\n",
              "  <div id=\"df-dc9b1a6d-ce32-4d31-9231-e06b074f7abe\">\n",
              "    <div class=\"colab-df-container\">\n",
              "      <div>\n",
              "<style scoped>\n",
              "    .dataframe tbody tr th:only-of-type {\n",
              "        vertical-align: middle;\n",
              "    }\n",
              "\n",
              "    .dataframe tbody tr th {\n",
              "        vertical-align: top;\n",
              "    }\n",
              "\n",
              "    .dataframe thead th {\n",
              "        text-align: right;\n",
              "    }\n",
              "</style>\n",
              "<table border=\"1\" class=\"dataframe\">\n",
              "  <thead>\n",
              "    <tr style=\"text-align: right;\">\n",
              "      <th></th>\n",
              "      <th>index</th>\n",
              "      <th>Title</th>\n",
              "      <th>review/score_Avg</th>\n",
              "      <th>review/score_Count</th>\n",
              "      <th>authors</th>\n",
              "      <th>publishedDate</th>\n",
              "      <th>description_categories</th>\n",
              "    </tr>\n",
              "  </thead>\n",
              "  <tbody>\n",
              "    <tr>\n",
              "      <th>0</th>\n",
              "      <td>74190</td>\n",
              "      <td>and poetry is born  russian classical poetry</td>\n",
              "      <td>4.0</td>\n",
              "      <td>1.0</td>\n",
              "      <td>['Aleksandr Sergeevich Pushkin']</td>\n",
              "      <td>1984.0</td>\n",
              "      <td>russian poetry selection russian poem russian ...</td>\n",
              "    </tr>\n",
              "    <tr>\n",
              "      <th>1</th>\n",
              "      <td>80644</td>\n",
              "      <td>and still king</td>\n",
              "      <td>4.0</td>\n",
              "      <td>1.0</td>\n",
              "      <td>['Keith Checkley']</td>\n",
              "      <td>2012.0</td>\n",
              "      <td>business economics nothing provides clearer pi...</td>\n",
              "    </tr>\n",
              "    <tr>\n",
              "      <th>2</th>\n",
              "      <td>31352</td>\n",
              "      <td>dancers in mourning</td>\n",
              "      <td>4.5</td>\n",
              "      <td>8.0</td>\n",
              "      <td>['Margery Allingham']</td>\n",
              "      <td>2015.0</td>\n",
              "      <td>fiction murder take center stage songanddance ...</td>\n",
              "    </tr>\n",
              "  </tbody>\n",
              "</table>\n",
              "</div>\n",
              "      <button class=\"colab-df-convert\" onclick=\"convertToInteractive('df-dc9b1a6d-ce32-4d31-9231-e06b074f7abe')\"\n",
              "              title=\"Convert this dataframe to an interactive table.\"\n",
              "              style=\"display:none;\">\n",
              "        \n",
              "  <svg xmlns=\"http://www.w3.org/2000/svg\" height=\"24px\"viewBox=\"0 0 24 24\"\n",
              "       width=\"24px\">\n",
              "    <path d=\"M0 0h24v24H0V0z\" fill=\"none\"/>\n",
              "    <path d=\"M18.56 5.44l.94 2.06.94-2.06 2.06-.94-2.06-.94-.94-2.06-.94 2.06-2.06.94zm-11 1L8.5 8.5l.94-2.06 2.06-.94-2.06-.94L8.5 2.5l-.94 2.06-2.06.94zm10 10l.94 2.06.94-2.06 2.06-.94-2.06-.94-.94-2.06-.94 2.06-2.06.94z\"/><path d=\"M17.41 7.96l-1.37-1.37c-.4-.4-.92-.59-1.43-.59-.52 0-1.04.2-1.43.59L10.3 9.45l-7.72 7.72c-.78.78-.78 2.05 0 2.83L4 21.41c.39.39.9.59 1.41.59.51 0 1.02-.2 1.41-.59l7.78-7.78 2.81-2.81c.8-.78.8-2.07 0-2.86zM5.41 20L4 18.59l7.72-7.72 1.47 1.35L5.41 20z\"/>\n",
              "  </svg>\n",
              "      </button>\n",
              "      \n",
              "  <style>\n",
              "    .colab-df-container {\n",
              "      display:flex;\n",
              "      flex-wrap:wrap;\n",
              "      gap: 12px;\n",
              "    }\n",
              "\n",
              "    .colab-df-convert {\n",
              "      background-color: #E8F0FE;\n",
              "      border: none;\n",
              "      border-radius: 50%;\n",
              "      cursor: pointer;\n",
              "      display: none;\n",
              "      fill: #1967D2;\n",
              "      height: 32px;\n",
              "      padding: 0 0 0 0;\n",
              "      width: 32px;\n",
              "    }\n",
              "\n",
              "    .colab-df-convert:hover {\n",
              "      background-color: #E2EBFA;\n",
              "      box-shadow: 0px 1px 2px rgba(60, 64, 67, 0.3), 0px 1px 3px 1px rgba(60, 64, 67, 0.15);\n",
              "      fill: #174EA6;\n",
              "    }\n",
              "\n",
              "    [theme=dark] .colab-df-convert {\n",
              "      background-color: #3B4455;\n",
              "      fill: #D2E3FC;\n",
              "    }\n",
              "\n",
              "    [theme=dark] .colab-df-convert:hover {\n",
              "      background-color: #434B5C;\n",
              "      box-shadow: 0px 1px 3px 1px rgba(0, 0, 0, 0.15);\n",
              "      filter: drop-shadow(0px 1px 2px rgba(0, 0, 0, 0.3));\n",
              "      fill: #FFFFFF;\n",
              "    }\n",
              "  </style>\n",
              "\n",
              "      <script>\n",
              "        const buttonEl =\n",
              "          document.querySelector('#df-dc9b1a6d-ce32-4d31-9231-e06b074f7abe button.colab-df-convert');\n",
              "        buttonEl.style.display =\n",
              "          google.colab.kernel.accessAllowed ? 'block' : 'none';\n",
              "\n",
              "        async function convertToInteractive(key) {\n",
              "          const element = document.querySelector('#df-dc9b1a6d-ce32-4d31-9231-e06b074f7abe');\n",
              "          const dataTable =\n",
              "            await google.colab.kernel.invokeFunction('convertToInteractive',\n",
              "                                                     [key], {});\n",
              "          if (!dataTable) return;\n",
              "\n",
              "          const docLinkHtml = 'Like what you see? Visit the ' +\n",
              "            '<a target=\"_blank\" href=https://colab.research.google.com/notebooks/data_table.ipynb>data table notebook</a>'\n",
              "            + ' to learn more about interactive tables.';\n",
              "          element.innerHTML = '';\n",
              "          dataTable['output_type'] = 'display_data';\n",
              "          await google.colab.output.renderOutput(dataTable, element);\n",
              "          const docLink = document.createElement('div');\n",
              "          docLink.innerHTML = docLinkHtml;\n",
              "          element.appendChild(docLink);\n",
              "        }\n",
              "      </script>\n",
              "    </div>\n",
              "  </div>\n",
              "  "
            ]
          },
          "metadata": {},
          "execution_count": 8
        }
      ],
      "source": [
        "books.head(3)"
      ]
    },
    {
      "cell_type": "markdown",
      "source": [
        "# Taking a subset of the data by selecting the books which received more than 10 reviews\n",
        "\n",
        "I am taking a subset of the book data to preform Sentence Embeddings and Cosine Similarity. The full dataset would be too large to process."
      ],
      "metadata": {
        "id": "9zFFFAVnhZkQ"
      },
      "id": "9zFFFAVnhZkQ"
    },
    {
      "cell_type": "code",
      "source": [
        "books_sm_10 = books[books['review/score_Count'] > 10]\n",
        "books_sm_10.head(3)"
      ],
      "metadata": {
        "colab": {
          "base_uri": "https://localhost:8080/",
          "height": 143
        },
        "id": "9vWEdm5GM3MJ",
        "outputId": "2303b6c2-c01e-4822-cc64-9a7a779250db"
      },
      "id": "9vWEdm5GM3MJ",
      "execution_count": 9,
      "outputs": [
        {
          "output_type": "execute_result",
          "data": {
            "text/plain": [
              "     index                Title  review/score_Avg  review/score_Count  \\\n",
              "30   95768             1 is one          4.866667                30.0   \n",
              "34   76202  1 ragged ridge road          4.277778                18.0   \n",
              "36  110134       10 button book          3.142857                28.0   \n",
              "\n",
              "                                 authors  publishedDate  \\\n",
              "30                       ['Tasha Tudor']         2015.0   \n",
              "34  ['Leonard Foglia', 'David Richards']         1998.0   \n",
              "36                   ['William Accorsi']         1999.0   \n",
              "\n",
              "                               description_categories  \n",
              "30  juvenile nonfiction rhyming verse present numb...  \n",
              "34  fiction estranged husband carol robbins young ...  \n",
              "36  juvenile nonfiction verse introduce number one...  "
            ],
            "text/html": [
              "\n",
              "  <div id=\"df-a784dfbf-974f-4107-b0da-f32daa2f8fe1\">\n",
              "    <div class=\"colab-df-container\">\n",
              "      <div>\n",
              "<style scoped>\n",
              "    .dataframe tbody tr th:only-of-type {\n",
              "        vertical-align: middle;\n",
              "    }\n",
              "\n",
              "    .dataframe tbody tr th {\n",
              "        vertical-align: top;\n",
              "    }\n",
              "\n",
              "    .dataframe thead th {\n",
              "        text-align: right;\n",
              "    }\n",
              "</style>\n",
              "<table border=\"1\" class=\"dataframe\">\n",
              "  <thead>\n",
              "    <tr style=\"text-align: right;\">\n",
              "      <th></th>\n",
              "      <th>index</th>\n",
              "      <th>Title</th>\n",
              "      <th>review/score_Avg</th>\n",
              "      <th>review/score_Count</th>\n",
              "      <th>authors</th>\n",
              "      <th>publishedDate</th>\n",
              "      <th>description_categories</th>\n",
              "    </tr>\n",
              "  </thead>\n",
              "  <tbody>\n",
              "    <tr>\n",
              "      <th>30</th>\n",
              "      <td>95768</td>\n",
              "      <td>1 is one</td>\n",
              "      <td>4.866667</td>\n",
              "      <td>30.0</td>\n",
              "      <td>['Tasha Tudor']</td>\n",
              "      <td>2015.0</td>\n",
              "      <td>juvenile nonfiction rhyming verse present numb...</td>\n",
              "    </tr>\n",
              "    <tr>\n",
              "      <th>34</th>\n",
              "      <td>76202</td>\n",
              "      <td>1 ragged ridge road</td>\n",
              "      <td>4.277778</td>\n",
              "      <td>18.0</td>\n",
              "      <td>['Leonard Foglia', 'David Richards']</td>\n",
              "      <td>1998.0</td>\n",
              "      <td>fiction estranged husband carol robbins young ...</td>\n",
              "    </tr>\n",
              "    <tr>\n",
              "      <th>36</th>\n",
              "      <td>110134</td>\n",
              "      <td>10 button book</td>\n",
              "      <td>3.142857</td>\n",
              "      <td>28.0</td>\n",
              "      <td>['William Accorsi']</td>\n",
              "      <td>1999.0</td>\n",
              "      <td>juvenile nonfiction verse introduce number one...</td>\n",
              "    </tr>\n",
              "  </tbody>\n",
              "</table>\n",
              "</div>\n",
              "      <button class=\"colab-df-convert\" onclick=\"convertToInteractive('df-a784dfbf-974f-4107-b0da-f32daa2f8fe1')\"\n",
              "              title=\"Convert this dataframe to an interactive table.\"\n",
              "              style=\"display:none;\">\n",
              "        \n",
              "  <svg xmlns=\"http://www.w3.org/2000/svg\" height=\"24px\"viewBox=\"0 0 24 24\"\n",
              "       width=\"24px\">\n",
              "    <path d=\"M0 0h24v24H0V0z\" fill=\"none\"/>\n",
              "    <path d=\"M18.56 5.44l.94 2.06.94-2.06 2.06-.94-2.06-.94-.94-2.06-.94 2.06-2.06.94zm-11 1L8.5 8.5l.94-2.06 2.06-.94-2.06-.94L8.5 2.5l-.94 2.06-2.06.94zm10 10l.94 2.06.94-2.06 2.06-.94-2.06-.94-.94-2.06-.94 2.06-2.06.94z\"/><path d=\"M17.41 7.96l-1.37-1.37c-.4-.4-.92-.59-1.43-.59-.52 0-1.04.2-1.43.59L10.3 9.45l-7.72 7.72c-.78.78-.78 2.05 0 2.83L4 21.41c.39.39.9.59 1.41.59.51 0 1.02-.2 1.41-.59l7.78-7.78 2.81-2.81c.8-.78.8-2.07 0-2.86zM5.41 20L4 18.59l7.72-7.72 1.47 1.35L5.41 20z\"/>\n",
              "  </svg>\n",
              "      </button>\n",
              "      \n",
              "  <style>\n",
              "    .colab-df-container {\n",
              "      display:flex;\n",
              "      flex-wrap:wrap;\n",
              "      gap: 12px;\n",
              "    }\n",
              "\n",
              "    .colab-df-convert {\n",
              "      background-color: #E8F0FE;\n",
              "      border: none;\n",
              "      border-radius: 50%;\n",
              "      cursor: pointer;\n",
              "      display: none;\n",
              "      fill: #1967D2;\n",
              "      height: 32px;\n",
              "      padding: 0 0 0 0;\n",
              "      width: 32px;\n",
              "    }\n",
              "\n",
              "    .colab-df-convert:hover {\n",
              "      background-color: #E2EBFA;\n",
              "      box-shadow: 0px 1px 2px rgba(60, 64, 67, 0.3), 0px 1px 3px 1px rgba(60, 64, 67, 0.15);\n",
              "      fill: #174EA6;\n",
              "    }\n",
              "\n",
              "    [theme=dark] .colab-df-convert {\n",
              "      background-color: #3B4455;\n",
              "      fill: #D2E3FC;\n",
              "    }\n",
              "\n",
              "    [theme=dark] .colab-df-convert:hover {\n",
              "      background-color: #434B5C;\n",
              "      box-shadow: 0px 1px 3px 1px rgba(0, 0, 0, 0.15);\n",
              "      filter: drop-shadow(0px 1px 2px rgba(0, 0, 0, 0.3));\n",
              "      fill: #FFFFFF;\n",
              "    }\n",
              "  </style>\n",
              "\n",
              "      <script>\n",
              "        const buttonEl =\n",
              "          document.querySelector('#df-a784dfbf-974f-4107-b0da-f32daa2f8fe1 button.colab-df-convert');\n",
              "        buttonEl.style.display =\n",
              "          google.colab.kernel.accessAllowed ? 'block' : 'none';\n",
              "\n",
              "        async function convertToInteractive(key) {\n",
              "          const element = document.querySelector('#df-a784dfbf-974f-4107-b0da-f32daa2f8fe1');\n",
              "          const dataTable =\n",
              "            await google.colab.kernel.invokeFunction('convertToInteractive',\n",
              "                                                     [key], {});\n",
              "          if (!dataTable) return;\n",
              "\n",
              "          const docLinkHtml = 'Like what you see? Visit the ' +\n",
              "            '<a target=\"_blank\" href=https://colab.research.google.com/notebooks/data_table.ipynb>data table notebook</a>'\n",
              "            + ' to learn more about interactive tables.';\n",
              "          element.innerHTML = '';\n",
              "          dataTable['output_type'] = 'display_data';\n",
              "          await google.colab.output.renderOutput(dataTable, element);\n",
              "          const docLink = document.createElement('div');\n",
              "          docLink.innerHTML = docLinkHtml;\n",
              "          element.appendChild(docLink);\n",
              "        }\n",
              "      </script>\n",
              "    </div>\n",
              "  </div>\n",
              "  "
            ]
          },
          "metadata": {},
          "execution_count": 9
        }
      ]
    },
    {
      "cell_type": "code",
      "source": [
        "books_sm_10 = books_sm_10.reset_index(drop=True)\n",
        "books_sm_10 = books_sm_10.drop(columns='index')\n",
        "books_sm_10.head(3)\n"
      ],
      "metadata": {
        "id": "Sw5FDUuHfLAT",
        "colab": {
          "base_uri": "https://localhost:8080/",
          "height": 143
        },
        "outputId": "81797803-16ae-4f40-faaf-5d85044b3dc0"
      },
      "id": "Sw5FDUuHfLAT",
      "execution_count": 10,
      "outputs": [
        {
          "output_type": "execute_result",
          "data": {
            "text/plain": [
              "                 Title  review/score_Avg  review/score_Count  \\\n",
              "0             1 is one          4.866667                30.0   \n",
              "1  1 ragged ridge road          4.277778                18.0   \n",
              "2       10 button book          3.142857                28.0   \n",
              "\n",
              "                                authors  publishedDate  \\\n",
              "0                       ['Tasha Tudor']         2015.0   \n",
              "1  ['Leonard Foglia', 'David Richards']         1998.0   \n",
              "2                   ['William Accorsi']         1999.0   \n",
              "\n",
              "                              description_categories  \n",
              "0  juvenile nonfiction rhyming verse present numb...  \n",
              "1  fiction estranged husband carol robbins young ...  \n",
              "2  juvenile nonfiction verse introduce number one...  "
            ],
            "text/html": [
              "\n",
              "  <div id=\"df-836b1638-498e-463b-ba3e-8372c267f1ef\">\n",
              "    <div class=\"colab-df-container\">\n",
              "      <div>\n",
              "<style scoped>\n",
              "    .dataframe tbody tr th:only-of-type {\n",
              "        vertical-align: middle;\n",
              "    }\n",
              "\n",
              "    .dataframe tbody tr th {\n",
              "        vertical-align: top;\n",
              "    }\n",
              "\n",
              "    .dataframe thead th {\n",
              "        text-align: right;\n",
              "    }\n",
              "</style>\n",
              "<table border=\"1\" class=\"dataframe\">\n",
              "  <thead>\n",
              "    <tr style=\"text-align: right;\">\n",
              "      <th></th>\n",
              "      <th>Title</th>\n",
              "      <th>review/score_Avg</th>\n",
              "      <th>review/score_Count</th>\n",
              "      <th>authors</th>\n",
              "      <th>publishedDate</th>\n",
              "      <th>description_categories</th>\n",
              "    </tr>\n",
              "  </thead>\n",
              "  <tbody>\n",
              "    <tr>\n",
              "      <th>0</th>\n",
              "      <td>1 is one</td>\n",
              "      <td>4.866667</td>\n",
              "      <td>30.0</td>\n",
              "      <td>['Tasha Tudor']</td>\n",
              "      <td>2015.0</td>\n",
              "      <td>juvenile nonfiction rhyming verse present numb...</td>\n",
              "    </tr>\n",
              "    <tr>\n",
              "      <th>1</th>\n",
              "      <td>1 ragged ridge road</td>\n",
              "      <td>4.277778</td>\n",
              "      <td>18.0</td>\n",
              "      <td>['Leonard Foglia', 'David Richards']</td>\n",
              "      <td>1998.0</td>\n",
              "      <td>fiction estranged husband carol robbins young ...</td>\n",
              "    </tr>\n",
              "    <tr>\n",
              "      <th>2</th>\n",
              "      <td>10 button book</td>\n",
              "      <td>3.142857</td>\n",
              "      <td>28.0</td>\n",
              "      <td>['William Accorsi']</td>\n",
              "      <td>1999.0</td>\n",
              "      <td>juvenile nonfiction verse introduce number one...</td>\n",
              "    </tr>\n",
              "  </tbody>\n",
              "</table>\n",
              "</div>\n",
              "      <button class=\"colab-df-convert\" onclick=\"convertToInteractive('df-836b1638-498e-463b-ba3e-8372c267f1ef')\"\n",
              "              title=\"Convert this dataframe to an interactive table.\"\n",
              "              style=\"display:none;\">\n",
              "        \n",
              "  <svg xmlns=\"http://www.w3.org/2000/svg\" height=\"24px\"viewBox=\"0 0 24 24\"\n",
              "       width=\"24px\">\n",
              "    <path d=\"M0 0h24v24H0V0z\" fill=\"none\"/>\n",
              "    <path d=\"M18.56 5.44l.94 2.06.94-2.06 2.06-.94-2.06-.94-.94-2.06-.94 2.06-2.06.94zm-11 1L8.5 8.5l.94-2.06 2.06-.94-2.06-.94L8.5 2.5l-.94 2.06-2.06.94zm10 10l.94 2.06.94-2.06 2.06-.94-2.06-.94-.94-2.06-.94 2.06-2.06.94z\"/><path d=\"M17.41 7.96l-1.37-1.37c-.4-.4-.92-.59-1.43-.59-.52 0-1.04.2-1.43.59L10.3 9.45l-7.72 7.72c-.78.78-.78 2.05 0 2.83L4 21.41c.39.39.9.59 1.41.59.51 0 1.02-.2 1.41-.59l7.78-7.78 2.81-2.81c.8-.78.8-2.07 0-2.86zM5.41 20L4 18.59l7.72-7.72 1.47 1.35L5.41 20z\"/>\n",
              "  </svg>\n",
              "      </button>\n",
              "      \n",
              "  <style>\n",
              "    .colab-df-container {\n",
              "      display:flex;\n",
              "      flex-wrap:wrap;\n",
              "      gap: 12px;\n",
              "    }\n",
              "\n",
              "    .colab-df-convert {\n",
              "      background-color: #E8F0FE;\n",
              "      border: none;\n",
              "      border-radius: 50%;\n",
              "      cursor: pointer;\n",
              "      display: none;\n",
              "      fill: #1967D2;\n",
              "      height: 32px;\n",
              "      padding: 0 0 0 0;\n",
              "      width: 32px;\n",
              "    }\n",
              "\n",
              "    .colab-df-convert:hover {\n",
              "      background-color: #E2EBFA;\n",
              "      box-shadow: 0px 1px 2px rgba(60, 64, 67, 0.3), 0px 1px 3px 1px rgba(60, 64, 67, 0.15);\n",
              "      fill: #174EA6;\n",
              "    }\n",
              "\n",
              "    [theme=dark] .colab-df-convert {\n",
              "      background-color: #3B4455;\n",
              "      fill: #D2E3FC;\n",
              "    }\n",
              "\n",
              "    [theme=dark] .colab-df-convert:hover {\n",
              "      background-color: #434B5C;\n",
              "      box-shadow: 0px 1px 3px 1px rgba(0, 0, 0, 0.15);\n",
              "      filter: drop-shadow(0px 1px 2px rgba(0, 0, 0, 0.3));\n",
              "      fill: #FFFFFF;\n",
              "    }\n",
              "  </style>\n",
              "\n",
              "      <script>\n",
              "        const buttonEl =\n",
              "          document.querySelector('#df-836b1638-498e-463b-ba3e-8372c267f1ef button.colab-df-convert');\n",
              "        buttonEl.style.display =\n",
              "          google.colab.kernel.accessAllowed ? 'block' : 'none';\n",
              "\n",
              "        async function convertToInteractive(key) {\n",
              "          const element = document.querySelector('#df-836b1638-498e-463b-ba3e-8372c267f1ef');\n",
              "          const dataTable =\n",
              "            await google.colab.kernel.invokeFunction('convertToInteractive',\n",
              "                                                     [key], {});\n",
              "          if (!dataTable) return;\n",
              "\n",
              "          const docLinkHtml = 'Like what you see? Visit the ' +\n",
              "            '<a target=\"_blank\" href=https://colab.research.google.com/notebooks/data_table.ipynb>data table notebook</a>'\n",
              "            + ' to learn more about interactive tables.';\n",
              "          element.innerHTML = '';\n",
              "          dataTable['output_type'] = 'display_data';\n",
              "          await google.colab.output.renderOutput(dataTable, element);\n",
              "          const docLink = document.createElement('div');\n",
              "          docLink.innerHTML = docLinkHtml;\n",
              "          element.appendChild(docLink);\n",
              "        }\n",
              "      </script>\n",
              "    </div>\n",
              "  </div>\n",
              "  "
            ]
          },
          "metadata": {},
          "execution_count": 10
        }
      ]
    },
    {
      "cell_type": "code",
      "source": [
        "books_sm_10.shape"
      ],
      "metadata": {
        "colab": {
          "base_uri": "https://localhost:8080/"
        },
        "id": "VbhTq0gL1TBt",
        "outputId": "ee26b3c7-59b2-476f-ceae-497ca1f2d530"
      },
      "id": "VbhTq0gL1TBt",
      "execution_count": 11,
      "outputs": [
        {
          "output_type": "execute_result",
          "data": {
            "text/plain": [
              "(29560, 6)"
            ]
          },
          "metadata": {},
          "execution_count": 11
        }
      ]
    },
    {
      "cell_type": "markdown",
      "source": [
        "# Cosine Similarity using Word Embeddings"
      ],
      "metadata": {
        "id": "X8bxR208168j"
      },
      "id": "X8bxR208168j"
    },
    {
      "cell_type": "code",
      "source": [
        "# this took 13 seconds to run using GPU and Hi RAM.\n",
        "!pip install sentence_transformers"
      ],
      "metadata": {
        "colab": {
          "base_uri": "https://localhost:8080/"
        },
        "id": "Qp3sbW1c35hP",
        "outputId": "b077f9e3-7bc5-4773-8736-77895b4c86e2"
      },
      "id": "Qp3sbW1c35hP",
      "execution_count": 12,
      "outputs": [
        {
          "output_type": "stream",
          "name": "stdout",
          "text": [
            "Looking in indexes: https://pypi.org/simple, https://us-python.pkg.dev/colab-wheels/public/simple/\n",
            "Requirement already satisfied: sentence_transformers in /usr/local/lib/python3.8/dist-packages (2.2.2)\n",
            "Requirement already satisfied: scipy in /usr/local/lib/python3.8/dist-packages (from sentence_transformers) (1.7.3)\n",
            "Requirement already satisfied: huggingface-hub>=0.4.0 in /usr/local/lib/python3.8/dist-packages (from sentence_transformers) (0.11.1)\n",
            "Requirement already satisfied: sentencepiece in /usr/local/lib/python3.8/dist-packages (from sentence_transformers) (0.1.97)\n",
            "Requirement already satisfied: scikit-learn in /usr/local/lib/python3.8/dist-packages (from sentence_transformers) (1.0.2)\n",
            "Requirement already satisfied: torchvision in /usr/local/lib/python3.8/dist-packages (from sentence_transformers) (0.14.0+cu116)\n",
            "Requirement already satisfied: nltk in /usr/local/lib/python3.8/dist-packages (from sentence_transformers) (3.7)\n",
            "Requirement already satisfied: transformers<5.0.0,>=4.6.0 in /usr/local/lib/python3.8/dist-packages (from sentence_transformers) (4.25.1)\n",
            "Requirement already satisfied: tqdm in /usr/local/lib/python3.8/dist-packages (from sentence_transformers) (4.64.1)\n",
            "Requirement already satisfied: numpy in /usr/local/lib/python3.8/dist-packages (from sentence_transformers) (1.21.6)\n",
            "Requirement already satisfied: torch>=1.6.0 in /usr/local/lib/python3.8/dist-packages (from sentence_transformers) (1.13.0+cu116)\n",
            "Requirement already satisfied: packaging>=20.9 in /usr/local/lib/python3.8/dist-packages (from huggingface-hub>=0.4.0->sentence_transformers) (21.3)\n",
            "Requirement already satisfied: typing-extensions>=3.7.4.3 in /usr/local/lib/python3.8/dist-packages (from huggingface-hub>=0.4.0->sentence_transformers) (4.4.0)\n",
            "Requirement already satisfied: pyyaml>=5.1 in /usr/local/lib/python3.8/dist-packages (from huggingface-hub>=0.4.0->sentence_transformers) (6.0)\n",
            "Requirement already satisfied: requests in /usr/local/lib/python3.8/dist-packages (from huggingface-hub>=0.4.0->sentence_transformers) (2.23.0)\n",
            "Requirement already satisfied: filelock in /usr/local/lib/python3.8/dist-packages (from huggingface-hub>=0.4.0->sentence_transformers) (3.8.2)\n",
            "Requirement already satisfied: pyparsing!=3.0.5,>=2.0.2 in /usr/local/lib/python3.8/dist-packages (from packaging>=20.9->huggingface-hub>=0.4.0->sentence_transformers) (3.0.9)\n",
            "Requirement already satisfied: regex!=2019.12.17 in /usr/local/lib/python3.8/dist-packages (from transformers<5.0.0,>=4.6.0->sentence_transformers) (2022.6.2)\n",
            "Requirement already satisfied: tokenizers!=0.11.3,<0.14,>=0.11.1 in /usr/local/lib/python3.8/dist-packages (from transformers<5.0.0,>=4.6.0->sentence_transformers) (0.13.2)\n",
            "Requirement already satisfied: joblib in /usr/local/lib/python3.8/dist-packages (from nltk->sentence_transformers) (1.2.0)\n",
            "Requirement already satisfied: click in /usr/local/lib/python3.8/dist-packages (from nltk->sentence_transformers) (7.1.2)\n",
            "Requirement already satisfied: urllib3!=1.25.0,!=1.25.1,<1.26,>=1.21.1 in /usr/local/lib/python3.8/dist-packages (from requests->huggingface-hub>=0.4.0->sentence_transformers) (1.24.3)\n",
            "Requirement already satisfied: chardet<4,>=3.0.2 in /usr/local/lib/python3.8/dist-packages (from requests->huggingface-hub>=0.4.0->sentence_transformers) (3.0.4)\n",
            "Requirement already satisfied: certifi>=2017.4.17 in /usr/local/lib/python3.8/dist-packages (from requests->huggingface-hub>=0.4.0->sentence_transformers) (2022.12.7)\n",
            "Requirement already satisfied: idna<3,>=2.5 in /usr/local/lib/python3.8/dist-packages (from requests->huggingface-hub>=0.4.0->sentence_transformers) (2.10)\n",
            "Requirement already satisfied: threadpoolctl>=2.0.0 in /usr/local/lib/python3.8/dist-packages (from scikit-learn->sentence_transformers) (3.1.0)\n",
            "Requirement already satisfied: pillow!=8.3.*,>=5.3.0 in /usr/local/lib/python3.8/dist-packages (from torchvision->sentence_transformers) (7.1.2)\n"
          ]
        }
      ]
    },
    {
      "cell_type": "code",
      "source": [
        "# source: https://www.sbert.net/docs/usage/semantic_textual_similarity.html\n",
        "# using pretrained SentenceTransformer model\n",
        "# This took 23 seconds using GPU and Hi RAM in Google Colab Pro.\n",
        "\n",
        "from sentence_transformers import SentenceTransformer, util\n",
        "\n",
        "model = SentenceTransformer('all-MiniLM-L6-v2')\n",
        "\n",
        "# Single list of sentences\n",
        "sentences = books_sm_10['description_categories'].values\n",
        "\n",
        "#Compute embeddings\n",
        "embeddings = model.encode(sentences, convert_to_numpy=True)\n",
        "\n",
        "#Compute cosine-similarities for each sentence with each other sentence\n",
        "cosine_scores = util.cos_sim(embeddings, embeddings)"
      ],
      "metadata": {
        "id": "Y3zOakhu1xWp"
      },
      "id": "Y3zOakhu1xWp",
      "execution_count": 13,
      "outputs": []
    },
    {
      "cell_type": "code",
      "source": [
        "cosine_scores"
      ],
      "metadata": {
        "colab": {
          "base_uri": "https://localhost:8080/"
        },
        "id": "8lWMK7pu1xSh",
        "outputId": "a351e1c7-1b7f-4738-daba-893d8f106ce6"
      },
      "id": "8lWMK7pu1xSh",
      "execution_count": 14,
      "outputs": [
        {
          "output_type": "execute_result",
          "data": {
            "text/plain": [
              "tensor([[1.0000, 0.1183, 0.5271,  ..., 0.1800, 0.2950, 0.0608],\n",
              "        [0.1183, 1.0000, 0.1760,  ..., 0.0393, 0.3236, 0.1506],\n",
              "        [0.5271, 0.1760, 1.0000,  ..., 0.1901, 0.2620, 0.0790],\n",
              "        ...,\n",
              "        [0.1800, 0.0393, 0.1901,  ..., 1.0000, 0.3124, 0.0623],\n",
              "        [0.2950, 0.3236, 0.2620,  ..., 0.3124, 1.0000, 0.4192],\n",
              "        [0.0608, 0.1506, 0.0790,  ..., 0.0623, 0.4192, 1.0000]])"
            ]
          },
          "metadata": {},
          "execution_count": 14
        }
      ]
    },
    {
      "cell_type": "code",
      "source": [
        "cosine_scores[0]"
      ],
      "metadata": {
        "colab": {
          "base_uri": "https://localhost:8080/"
        },
        "id": "Qb6GWu897fpE",
        "outputId": "2d352efb-6957-4ce5-b124-b026f1c22799"
      },
      "id": "Qb6GWu897fpE",
      "execution_count": 15,
      "outputs": [
        {
          "output_type": "execute_result",
          "data": {
            "text/plain": [
              "tensor([1.0000, 0.1183, 0.5271,  ..., 0.1800, 0.2950, 0.0608])"
            ]
          },
          "metadata": {},
          "execution_count": 15
        }
      ]
    },
    {
      "cell_type": "markdown",
      "source": [
        "# Finding the 5 most similar books to the book in 0 index place"
      ],
      "metadata": {
        "id": "36PHp1qSoBX0"
      },
      "id": "36PHp1qSoBX0"
    },
    {
      "cell_type": "code",
      "source": [
        "sim_0 = pd.DataFrame(cosine_scores[0], columns=['sim']).sort_values(by='sim', ascending=False)\n",
        "sim_0.reset_index(inplace = True)\n",
        "sim_0.head()"
      ],
      "metadata": {
        "colab": {
          "base_uri": "https://localhost:8080/",
          "height": 206
        },
        "id": "bq5Rp31xUuNk",
        "outputId": "15a284ee-7eed-4531-a576-cfcb35a4e800"
      },
      "id": "bq5Rp31xUuNk",
      "execution_count": 16,
      "outputs": [
        {
          "output_type": "execute_result",
          "data": {
            "text/plain": [
              "   index       sim\n",
              "0      0  1.000000\n",
              "1    756  0.772923\n",
              "2  10572  0.743990\n",
              "3  10571  0.739862\n",
              "4  17176  0.721054"
            ],
            "text/html": [
              "\n",
              "  <div id=\"df-b338b84e-79fb-4690-8e18-4a9ff75f9579\">\n",
              "    <div class=\"colab-df-container\">\n",
              "      <div>\n",
              "<style scoped>\n",
              "    .dataframe tbody tr th:only-of-type {\n",
              "        vertical-align: middle;\n",
              "    }\n",
              "\n",
              "    .dataframe tbody tr th {\n",
              "        vertical-align: top;\n",
              "    }\n",
              "\n",
              "    .dataframe thead th {\n",
              "        text-align: right;\n",
              "    }\n",
              "</style>\n",
              "<table border=\"1\" class=\"dataframe\">\n",
              "  <thead>\n",
              "    <tr style=\"text-align: right;\">\n",
              "      <th></th>\n",
              "      <th>index</th>\n",
              "      <th>sim</th>\n",
              "    </tr>\n",
              "  </thead>\n",
              "  <tbody>\n",
              "    <tr>\n",
              "      <th>0</th>\n",
              "      <td>0</td>\n",
              "      <td>1.000000</td>\n",
              "    </tr>\n",
              "    <tr>\n",
              "      <th>1</th>\n",
              "      <td>756</td>\n",
              "      <td>0.772923</td>\n",
              "    </tr>\n",
              "    <tr>\n",
              "      <th>2</th>\n",
              "      <td>10572</td>\n",
              "      <td>0.743990</td>\n",
              "    </tr>\n",
              "    <tr>\n",
              "      <th>3</th>\n",
              "      <td>10571</td>\n",
              "      <td>0.739862</td>\n",
              "    </tr>\n",
              "    <tr>\n",
              "      <th>4</th>\n",
              "      <td>17176</td>\n",
              "      <td>0.721054</td>\n",
              "    </tr>\n",
              "  </tbody>\n",
              "</table>\n",
              "</div>\n",
              "      <button class=\"colab-df-convert\" onclick=\"convertToInteractive('df-b338b84e-79fb-4690-8e18-4a9ff75f9579')\"\n",
              "              title=\"Convert this dataframe to an interactive table.\"\n",
              "              style=\"display:none;\">\n",
              "        \n",
              "  <svg xmlns=\"http://www.w3.org/2000/svg\" height=\"24px\"viewBox=\"0 0 24 24\"\n",
              "       width=\"24px\">\n",
              "    <path d=\"M0 0h24v24H0V0z\" fill=\"none\"/>\n",
              "    <path d=\"M18.56 5.44l.94 2.06.94-2.06 2.06-.94-2.06-.94-.94-2.06-.94 2.06-2.06.94zm-11 1L8.5 8.5l.94-2.06 2.06-.94-2.06-.94L8.5 2.5l-.94 2.06-2.06.94zm10 10l.94 2.06.94-2.06 2.06-.94-2.06-.94-.94-2.06-.94 2.06-2.06.94z\"/><path d=\"M17.41 7.96l-1.37-1.37c-.4-.4-.92-.59-1.43-.59-.52 0-1.04.2-1.43.59L10.3 9.45l-7.72 7.72c-.78.78-.78 2.05 0 2.83L4 21.41c.39.39.9.59 1.41.59.51 0 1.02-.2 1.41-.59l7.78-7.78 2.81-2.81c.8-.78.8-2.07 0-2.86zM5.41 20L4 18.59l7.72-7.72 1.47 1.35L5.41 20z\"/>\n",
              "  </svg>\n",
              "      </button>\n",
              "      \n",
              "  <style>\n",
              "    .colab-df-container {\n",
              "      display:flex;\n",
              "      flex-wrap:wrap;\n",
              "      gap: 12px;\n",
              "    }\n",
              "\n",
              "    .colab-df-convert {\n",
              "      background-color: #E8F0FE;\n",
              "      border: none;\n",
              "      border-radius: 50%;\n",
              "      cursor: pointer;\n",
              "      display: none;\n",
              "      fill: #1967D2;\n",
              "      height: 32px;\n",
              "      padding: 0 0 0 0;\n",
              "      width: 32px;\n",
              "    }\n",
              "\n",
              "    .colab-df-convert:hover {\n",
              "      background-color: #E2EBFA;\n",
              "      box-shadow: 0px 1px 2px rgba(60, 64, 67, 0.3), 0px 1px 3px 1px rgba(60, 64, 67, 0.15);\n",
              "      fill: #174EA6;\n",
              "    }\n",
              "\n",
              "    [theme=dark] .colab-df-convert {\n",
              "      background-color: #3B4455;\n",
              "      fill: #D2E3FC;\n",
              "    }\n",
              "\n",
              "    [theme=dark] .colab-df-convert:hover {\n",
              "      background-color: #434B5C;\n",
              "      box-shadow: 0px 1px 3px 1px rgba(0, 0, 0, 0.15);\n",
              "      filter: drop-shadow(0px 1px 2px rgba(0, 0, 0, 0.3));\n",
              "      fill: #FFFFFF;\n",
              "    }\n",
              "  </style>\n",
              "\n",
              "      <script>\n",
              "        const buttonEl =\n",
              "          document.querySelector('#df-b338b84e-79fb-4690-8e18-4a9ff75f9579 button.colab-df-convert');\n",
              "        buttonEl.style.display =\n",
              "          google.colab.kernel.accessAllowed ? 'block' : 'none';\n",
              "\n",
              "        async function convertToInteractive(key) {\n",
              "          const element = document.querySelector('#df-b338b84e-79fb-4690-8e18-4a9ff75f9579');\n",
              "          const dataTable =\n",
              "            await google.colab.kernel.invokeFunction('convertToInteractive',\n",
              "                                                     [key], {});\n",
              "          if (!dataTable) return;\n",
              "\n",
              "          const docLinkHtml = 'Like what you see? Visit the ' +\n",
              "            '<a target=\"_blank\" href=https://colab.research.google.com/notebooks/data_table.ipynb>data table notebook</a>'\n",
              "            + ' to learn more about interactive tables.';\n",
              "          element.innerHTML = '';\n",
              "          dataTable['output_type'] = 'display_data';\n",
              "          await google.colab.output.renderOutput(dataTable, element);\n",
              "          const docLink = document.createElement('div');\n",
              "          docLink.innerHTML = docLinkHtml;\n",
              "          element.appendChild(docLink);\n",
              "        }\n",
              "      </script>\n",
              "    </div>\n",
              "  </div>\n",
              "  "
            ]
          },
          "metadata": {},
          "execution_count": 16
        }
      ]
    },
    {
      "cell_type": "code",
      "source": [
        "print('Chosen book: ', books_sm_10['Title'][0], '\\n')\n",
        "print('Similar books: ')\n",
        "for i in range(1,6):\n",
        "  indexes = int(sim_0.loc[i]['index'])\n",
        "  print(indexes, books_sm_10['Title'][indexes])\n",
        "  "
      ],
      "metadata": {
        "colab": {
          "base_uri": "https://localhost:8080/"
        },
        "id": "pl8fjpFdg8rO",
        "outputId": "f4258fd6-0e96-4785-cf9a-4df5ef5e1e0e"
      },
      "id": "pl8fjpFdg8rO",
      "execution_count": 18,
      "outputs": [
        {
          "output_type": "stream",
          "name": "stdout",
          "text": [
            "Chosen book:  1 is one \n",
            "\n",
            "Similar books: \n",
            "756 a pinky is a baby mouse and other baby animal names pinky baby\n",
            "10572 i spy little book\n",
            "10571 i spy 4 picture riddle books school reader collection lvl 1 scholastic reader collection\n",
            "17176 read to your bunny max  ruby\n",
            "21379 the christian mother goose book of nursery rhymes\n"
          ]
        }
      ]
    },
    {
      "cell_type": "markdown",
      "source": [
        "# Making a Function which finds similar books to a given title"
      ],
      "metadata": {
        "id": "97f8yNBXmYt0"
      },
      "id": "97f8yNBXmYt0"
    },
    {
      "cell_type": "code",
      "source": [
        "def find_similar(title, df, df_col, sims):\n",
        "    index_val = df[df_col == title].index\n",
        "    sim = sims[index_val]\n",
        "    sim = pd.DataFrame(sim).T\n",
        "    sim.columns = ['sim']\n",
        "    sim = sim.sort_values(by='sim', ascending = False)\n",
        "    sim = sim.reset_index()\n",
        "\n",
        "    print('Chosen book: ', title)\n",
        "    print('Similar books: ')\n",
        "\n",
        "    for i in range(1,6):\n",
        "        indexes = int(sim.loc[i]['index'])\n",
        "        print(i, '. ', df_col[indexes])\n"
      ],
      "metadata": {
        "id": "gWsfLG7Rg8fr"
      },
      "id": "gWsfLG7Rg8fr",
      "execution_count": 19,
      "outputs": []
    },
    {
      "cell_type": "code",
      "source": [
        "def find_similar(title):\n",
        "    index_val = books_sm_10[books_sm_10['Title'] == title].index\n",
        "    sim = cosine_scores[index_val]\n",
        "    sim = pd.DataFrame(sim).T\n",
        "    sim.columns = ['sim']\n",
        "    sim = sim.sort_values(by='sim', ascending = False)\n",
        "    sim = sim.reset_index()\n",
        "\n",
        "    print('Chosen book: ')\n",
        "    print('Title: ', title)\n",
        "    print('Description: ', books_sm_10['description_categories'][index_val].values, '\\n')\n",
        "    print('Similar books: ')\n",
        "\n",
        "    for i in range(1,6):\n",
        "        indexes = int(sim.loc[i]['index'])\n",
        "        print(i, '. ', 'Title: ', books_sm_10['Title'][indexes])\n",
        "        print('    ', 'Description: ', books_sm_10['description_categories'][indexes])"
      ],
      "metadata": {
        "id": "ZUmViIh5fRYp"
      },
      "id": "ZUmViIh5fRYp",
      "execution_count": 42,
      "outputs": []
    },
    {
      "cell_type": "markdown",
      "source": [
        "# Example Recommendations with the same books I used to test Model 1 and Model 2\n",
        "\n",
        "note: please see recommendations for **1 is one** above"
      ],
      "metadata": {
        "id": "RicRYvF5O7g1"
      },
      "id": "RicRYvF5O7g1"
    },
    {
      "cell_type": "code",
      "source": [
        "title1 = '1 is one'\n",
        "find_similar(title1)"
      ],
      "metadata": {
        "colab": {
          "base_uri": "https://localhost:8080/"
        },
        "id": "qsaUm9Pqhqu_",
        "outputId": "ccb37f81-3cae-4a4c-ed6a-aba0d76e3d33"
      },
      "id": "qsaUm9Pqhqu_",
      "execution_count": 46,
      "outputs": [
        {
          "output_type": "stream",
          "name": "stdout",
          "text": [
            "Chosen book: \n",
            "Title:  1 is one\n",
            "Description:  ['juvenile nonfiction rhyming verse present number one twenty illustration animal flower child'] \n",
            "\n",
            "Similar books: \n",
            "1 .  Title:  a pinky is a baby mouse and other baby animal names pinky baby\n",
            "     Description:  juvenile nonfiction rhyming text explains different name various baby animal known\n",
            "2 .  Title:  i spy little book\n",
            "     Description:  juvenile nonfiction rhyming verse invite reader find hidden object photograph\n",
            "3 .  Title:  i spy 4 picture riddle books school reader collection lvl 1 scholastic reader collection\n",
            "     Description:  juvenile nonfiction rhyming verse ask reader find hidden object photograph\n",
            "4 .  Title:  read to your bunny max  ruby\n",
            "     Description:  juvenile fiction brief rhyming text illustration tell happens parent child share twenty minute day reading board page\n",
            "5 .  Title:  the christian mother goose book of nursery rhymes\n",
            "     Description:  juvenile fiction collection traditional nursery rhyme rewritten emphasize christian principle\n"
          ]
        }
      ]
    },
    {
      "cell_type": "code",
      "source": [
        "title2 = 'spanish stepbystep'\n",
        "find_similar(title2)"
      ],
      "metadata": {
        "colab": {
          "base_uri": "https://localhost:8080/"
        },
        "id": "l5vByA80AYDg",
        "outputId": "4d920921-ffa0-4c0d-d3c2-dcccb700ae27"
      },
      "id": "l5vByA80AYDg",
      "execution_count": 38,
      "outputs": [
        {
          "output_type": "stream",
          "name": "stdout",
          "text": [
            "Chosen book: \n",
            "Title:  spanish stepbystep\n",
            "Description:  ['foreign language study proven grammarbased approach give real mastery spanish language use advanced spanish step step progressive grammarbased approach conquer intermediate advanced spanishlanguage topic stepbystep approach give real confidence tool need achieve high spanish proficiency youll get quick review key grammar basic move advanced topic need true mastery language complete coverage verb tense beyond present past irregular verb sentence structure part speech book give thorough overview advanced grammar topic also introduces hundred new vocabulary word reinforced reading put new term everyday context'] \n",
            "\n",
            "Similar books: \n",
            "1 .  Title:  fundamental spanish\n",
            "     Description:  education fundamental spanish clear concise grammar book teacher beginner intermediate selflearners book structured chapter becomes base next lesson understood becomes basis next sequence learning orderly logical clear ton written oral exercise facilitate guide learning selflearners test progress practice speaking understanding pronunciation chart provided pronunciation tip given throughout book reminder ultimate goal grammar book able read write spanish also speak understand spanish teacher fundamental spanish based idea task chain successful completion one sequence gramar dependent successful completion task book build grammatical base lesson lesson order clarity explanation give flexibility move quickly slowly wish teach grammar conversation also used review element particular class requires\n",
            "2 .  Title:  the big red book of spanish vocabulary\n",
            "     Description:  foreign language study new dramatically improved threepronged approach learning spanish vocabulary big red book spanish vocabulary much much spanish vocabulary reference unique complete resource combine three complementary approach vocabulary buildingcognates root family suffixesto instantly increase word familiarity aid memorization whether active facetoface communication passive comprehension written spoken word indepth knowledge vocabulary key foreign language mastery big red book spanish vocabulary make acquiring mastery simpler straightforward ever providing extensive thematic list spanish cognate alphabetic glossary spanish root familiesboth entry comprehensive listing common spanish suffix common example frequency index listing frequently used word spanish alphabetic index crossreferencing every entry root suffix frequency section\n",
            "3 .  Title:  teach yourself korean\n",
            "     Description:  foreign language study bestselling language course danish spanish swahili brazilian portuguese language world brought within reach beginning student learner use teach language course pace supplement formal course complete course based latest learning method designed enjoyable userfriendly prepared expert language course begin basic gradually promotes student level smooth confident communication including uptodate graded interactive dialogue graded unit culture note grammar exercise stepbystep guide pronunciation practical vocabulary regular irregular verb table plenty practice exercise answer bilingual glossary new edition also feature clear uncluttered userfriendly layout selfassessment quiz test progress website suggestion take language study\n",
            "4 .  Title:  teach yourself brazilian portuguese teach yourself tape\n",
            "     Description:  foreign language study bestselling language course danish spanish swahili brazilian portuguese language world brought within reach beginning student learner use teach language course pace supplement formal course complete course based latest learning method designed enjoyable userfriendly prepared expert language course begin basic gradually promotes student level smooth confident communication including uptodate graded interactive dialogue graded unit culture note grammar exercise stepbystep guide pronunciation practical vocabulary regular irregular verb table plenty practice exercise answer bilingual glossary new edition also feature clear uncluttered userfriendly layout selfassessment quiz test progress website suggestion take language study\n",
            "5 .  Title:  basic english grammar second edition full student textbook\n",
            "     Description:  foreign language study pack consists basic english grammar b student book workbook b blending communicative interactive approach triedandtrue grammar teaching basic english grammar third edition betty schrampfer azar stacy hagen offer concise accurate levelappropriate grammar information abundance exercise context classroom activity feature basic english grammar third edition increased speaking practice interactive pair group work new structurefocused listening exercise activity provide real communication opportunity added illustration help student learn vocabulary understand context engage communicative language task new workbook solely devoted selfstudy exercise new audio cd listening script back student book\n"
          ]
        }
      ]
    },
    {
      "cell_type": "markdown",
      "source": [],
      "metadata": {
        "id": "w4WRRAwTFxA3"
      },
      "id": "w4WRRAwTFxA3"
    },
    {
      "cell_type": "code",
      "source": [
        "title3 = 'to kill a mockingbird'\n",
        "find_similar(title3)"
      ],
      "metadata": {
        "id": "YOWVZO0QbaDV",
        "colab": {
          "base_uri": "https://localhost:8080/"
        },
        "outputId": "5bc9eed8-69cb-40b3-a9f0-d9dccb97fd7e"
      },
      "id": "YOWVZO0QbaDV",
      "execution_count": 39,
      "outputs": [
        {
          "output_type": "stream",
          "name": "stdout",
          "text": [
            "Chosen book: \n",
            "Title:  to kill a mockingbird\n",
            "Description:  ['fiction voted america bestloved novel pbs great american read harper lee pulitzer prizewinning masterwork honor injustice deep southand heroism one man face blind violent hatred one cherished story time kill mockingbird translated forty language sold forty million copy worldwide served basis enormously popular motion picture voted one best novel twentieth century librarian across country gripping heartwrenching wholly remarkable tale comingofage south poisoned virulent prejudice view world great beauty savage inequity eye young girl fathera crusading local lawyerrisks everything defend black man unjustly accused terrible crime'] \n",
            "\n",
            "Similar books: \n",
            "1 .  Title:  to kill a mocking bird\n",
            "     Description:  drama harper lee classic novel lawyer deep south defending black man charged rape white girl one bestloved story time kill mockingbird earned many distinction since original publication pulitzer prize translated forty language sold thirty million copy worldwide made enormously popular movie recently librarian across country gave book highest honor voting best novel twentieth century\n",
            "2 .  Title:  the confessions of nat turner\n",
            "     Description:  fiction magnificent pulitzer prizewinning new york timesbestselling novel preacher led america bloodiest slave revolt new york time confession nat turner william styron complex richly drawn imagining nat turner leader slave rebellion virginia led death almost sixty men woman child published height civil right movement novel draw upon historical nat turner confession attorney made awaited execution virginia jail powerful narrative steeped brutal tragic history american slavery reveals turner neither hero demon rather man driven exact vengeance century injustice inflicted upon people nat turner galvanizing portrayal crushing institution slavery styron deeply layered characterization stunning rendering one man violent struggle oppression ebook feature new illustrated biography william styron including original letter rare photo neverbeforeseen document styron family duke university archive\n",
            "3 .  Title:  gone with the wind\n",
            "     Description:  fiction dear dont give damn margaret mitchell pageturning sweeping american epic classic eighty year beloved thought many greatest american novel gone wind story love hope loss set tense historical background american civil war lover novel centre selfish privileged scarlett ohara rakish rhett butler magnetic pulling reader tangled narrative struggle survive forgotten winner national book award pulitzer prize sheer readability think nothing must give way new yorker make people come catastrophe others apparently able strong brave go margaret mitchell\n",
            "4 .  Title:  gone with the wind the margaret mitchell anniversary edition\n",
            "     Description:  fiction dear dont give damn margaret mitchell pageturning sweeping american epic classic eighty year beloved thought many greatest american novel gone wind story love hope loss set tense historical background american civil war lover novel centre selfish privileged scarlett ohara rakish rhett butler magnetic pulling reader tangled narrative struggle survive forgotten winner national book award pulitzer prize sheer readability think nothing must give way new yorker make people come catastrophe others apparently able strong brave go margaret mitchell\n",
            "5 .  Title:  the autobiography of miss jane pittman\n",
            "     Description:  fiction novel guise taperecorded recollection black woman lived year slave witness black militancy woman ernest gaines created legendary figure woman equipped stand beside william faulkner dilsey sound fury miss jane pittman like dilsey endured seen almost everything foretold rest gaines novel brings mind great work odyssey way heroine travel manage summarize american history race huckleberry finn clarity voice rare capacity sort mess year thing find one true story geoffrey wolff newsweek stunning know black novel south excludes quite refreshing mix wit wrath imagination indignation misery poetry recall memorable female character southern fiction since lena faulkner light august miss jane pittman josh greenfeld life\n"
          ]
        }
      ]
    },
    {
      "cell_type": "markdown",
      "source": [
        "# Duplicate Titles\n",
        "\n",
        "At this point in the project, I noticed that there were duplicate values in the title column with differing capitalization and/or spelling. Therefore, I returned to the Text Preprocessing step and converted all of book titles to small letters and removed duplicates. However, I did not find a good solution for duplicate titles with spelling/wording differences at this time."
      ],
      "metadata": {
        "id": "uc7hFaDaGnOa"
      },
      "id": "uc7hFaDaGnOa"
    },
    {
      "cell_type": "markdown",
      "source": [
        "# Accuracy Mesasure: Discounted Cumulative Gains\n",
        "Relevancy Scoring Key:\n",
        "\n",
        "Most relevant score => 2\n",
        "\n",
        "Somewhat relevant score => 1\n",
        "\n",
        "Least relevant score => 0\n",
        "\n",
        "Methodology: I manually went through the description of the chosen item and the recommended items to determine relevancy value.\n",
        "\n",
        "DCG (Discounted Cumulative Gains) = Relevancy Score/(LOG(Recommendation Rank+1))\n",
        "\n",
        "Formula Source: https://towardsdatascience.com/an-exhaustive-list-of-methods-to-evaluate-recommender-systems-a70c05e121de\n",
        "\n",
        "The SBERT Model outperforms (DCG=54.39) both the Count Vectorizer Model (DCG = 47.63) and the Gensim/Spacy Model (DCG=41.36)."
      ],
      "metadata": {
        "id": "-H51jaYmla0A"
      },
      "id": "-H51jaYmla0A"
    },
    {
      "cell_type": "markdown",
      "source": [
        "![image.png](data:image/png;base64,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)"
      ],
      "metadata": {
        "id": "K96VSShtdSea"
      },
      "id": "K96VSShtdSea"
    },
    {
      "cell_type": "markdown",
      "source": [
        "# How about the book reviews data\n",
        "\n",
        "Initially, my plan was to also to work on the review texts of the reviews data. However, with the reviews data containing more than 2 million rows, it requires an insane amount of memory. Therefore, I am going to base my recommendations on just the categories and description columns of the books data."
      ],
      "metadata": {
        "id": "Vebk7sXLogNh"
      },
      "id": "Vebk7sXLogNh"
    }
  ],
  "metadata": {
    "kernelspec": {
      "display_name": "Python 3 (ipykernel)",
      "language": "python",
      "name": "python3"
    },
    "language_info": {
      "codemirror_mode": {
        "name": "ipython",
        "version": 3
      },
      "file_extension": ".py",
      "mimetype": "text/x-python",
      "name": "python",
      "nbconvert_exporter": "python",
      "pygments_lexer": "ipython3",
      "version": "3.9.7"
    },
    "colab": {
      "provenance": [],
      "include_colab_link": true
    },
    "gpuClass": "premium",
    "accelerator": "GPU"
  },
  "nbformat": 4,
  "nbformat_minor": 5
}