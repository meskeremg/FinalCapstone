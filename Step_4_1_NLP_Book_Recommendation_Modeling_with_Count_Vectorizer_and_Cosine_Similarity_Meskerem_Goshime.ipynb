{
  "cells": [
    {
      "cell_type": "markdown",
      "metadata": {
        "id": "view-in-github",
        "colab_type": "text"
      },
      "source": [
        "<a href=\"https://colab.research.google.com/github/meskeremg/FinalCapstone/blob/main/Step_4_1_NLP_Book_Recommendation_Modeling_with_Count_Vectorizer_and_Cosine_Similarity_Meskerem_Goshime.ipynb\" target=\"_parent\"><img src=\"https://colab.research.google.com/assets/colab-badge.svg\" alt=\"Open In Colab\"/></a>"
      ]
    },
    {
      "cell_type": "markdown",
      "source": [
        "# Step 4-1: NLP Book Recommendation System\n",
        "# Model 1 - Count Vectorizer and Cosine Similarity\n",
        "\n",
        "Amazon Books Reviews Data data source: https://www.kaggle.com/datasets/mohamedbakhet/amazon-books-reviews?select=books_data.csv This is a rich dataset for Natural Language Processing containing 3,000,000 text reviews from users as well as text descriptions and categories for 212,403 books. Therefore it is ideal for text analysis."
      ],
      "metadata": {
        "id": "oD04kuj40y_H"
      },
      "id": "oD04kuj40y_H"
    },
    {
      "cell_type": "markdown",
      "source": [
        "# Importing libraries and reading the data"
      ],
      "metadata": {
        "id": "nh9dfb5ZgngM"
      },
      "id": "nh9dfb5ZgngM"
    },
    {
      "cell_type": "code",
      "execution_count": null,
      "id": "75113551",
      "metadata": {
        "id": "75113551"
      },
      "outputs": [],
      "source": [
        "# importing libraries\n",
        "import pandas as pd\n",
        "import numpy as np\n",
        "import re"
      ]
    },
    {
      "cell_type": "code",
      "source": [
        "# connecting to google drive\n",
        "\n",
        "from pydrive.auth import GoogleAuth\n",
        "from pydrive.drive import GoogleDrive\n",
        "from google.colab import auth\n",
        "from oauth2client.client import GoogleCredentials"
      ],
      "metadata": {
        "id": "L9N9pG3aKcKp"
      },
      "id": "L9N9pG3aKcKp",
      "execution_count": null,
      "outputs": []
    },
    {
      "cell_type": "code",
      "source": [
        "auth.authenticate_user()\n",
        "gauth = GoogleAuth()\n",
        "gauth.credentials = GoogleCredentials.get_application_default()\n",
        "drive = GoogleDrive(gauth)"
      ],
      "metadata": {
        "id": "VkAw5O_IKdOh"
      },
      "id": "VkAw5O_IKdOh",
      "execution_count": null,
      "outputs": []
    },
    {
      "cell_type": "code",
      "source": [
        "fileDownloaded = drive.CreateFile({'id':'1dnURk-tdodpKuv-3Ic92ELyNoQLs9tLA'})\n",
        "fileDownloaded.GetContentFile('books_after_preprocessing.csv')"
      ],
      "metadata": {
        "id": "VYssKJ_fKy0g"
      },
      "id": "VYssKJ_fKy0g",
      "execution_count": null,
      "outputs": []
    },
    {
      "cell_type": "code",
      "execution_count": null,
      "id": "79b5c887",
      "metadata": {
        "id": "79b5c887"
      },
      "outputs": [],
      "source": [
        "# reading the file\n",
        "\n",
        "books = pd.read_csv('books_after_preprocessing.csv')"
      ]
    },
    {
      "cell_type": "code",
      "execution_count": null,
      "id": "9ae5502c",
      "metadata": {
        "id": "9ae5502c",
        "outputId": "e87dd05b-05e8-4f8c-a9d7-4488c83668c1",
        "colab": {
          "base_uri": "https://localhost:8080/",
          "height": 143
        }
      },
      "outputs": [
        {
          "output_type": "execute_result",
          "data": {
            "text/plain": [
              "         index                                       Title  review/score_Avg  \\\n",
              "133673   61128         working inside out tools for change          5.000000   \n",
              "96518   106006  tetrascroll goldilocks and the three bears          4.000000   \n",
              "3242    107636               a new text for a modern china          4.333333   \n",
              "\n",
              "        review/score_Count                     authors  publishedDate  \\\n",
              "133673                 4.0             ['Margo Adair']         2003.0   \n",
              "96518                  1.0   ['R. Buckminster Fuller']         1982.0   \n",
              "3242                   3.0  ['Irene Liu', 'Xiaoqi Li']         1998.0   \n",
              "\n",
              "                                   description_categories  \n",
              "133673  body mind spirit five meditation book accompan...  \n",
              "96518   architecture series twentyone original triangu...  \n",
              "3242    foreign language study ideal intermediate text...  "
            ],
            "text/html": [
              "\n",
              "  <div id=\"df-2aeb3d55-392d-4389-84de-c85d865b67b8\">\n",
              "    <div class=\"colab-df-container\">\n",
              "      <div>\n",
              "<style scoped>\n",
              "    .dataframe tbody tr th:only-of-type {\n",
              "        vertical-align: middle;\n",
              "    }\n",
              "\n",
              "    .dataframe tbody tr th {\n",
              "        vertical-align: top;\n",
              "    }\n",
              "\n",
              "    .dataframe thead th {\n",
              "        text-align: right;\n",
              "    }\n",
              "</style>\n",
              "<table border=\"1\" class=\"dataframe\">\n",
              "  <thead>\n",
              "    <tr style=\"text-align: right;\">\n",
              "      <th></th>\n",
              "      <th>index</th>\n",
              "      <th>Title</th>\n",
              "      <th>review/score_Avg</th>\n",
              "      <th>review/score_Count</th>\n",
              "      <th>authors</th>\n",
              "      <th>publishedDate</th>\n",
              "      <th>description_categories</th>\n",
              "    </tr>\n",
              "  </thead>\n",
              "  <tbody>\n",
              "    <tr>\n",
              "      <th>133673</th>\n",
              "      <td>61128</td>\n",
              "      <td>working inside out tools for change</td>\n",
              "      <td>5.000000</td>\n",
              "      <td>4.0</td>\n",
              "      <td>['Margo Adair']</td>\n",
              "      <td>2003.0</td>\n",
              "      <td>body mind spirit five meditation book accompan...</td>\n",
              "    </tr>\n",
              "    <tr>\n",
              "      <th>96518</th>\n",
              "      <td>106006</td>\n",
              "      <td>tetrascroll goldilocks and the three bears</td>\n",
              "      <td>4.000000</td>\n",
              "      <td>1.0</td>\n",
              "      <td>['R. Buckminster Fuller']</td>\n",
              "      <td>1982.0</td>\n",
              "      <td>architecture series twentyone original triangu...</td>\n",
              "    </tr>\n",
              "    <tr>\n",
              "      <th>3242</th>\n",
              "      <td>107636</td>\n",
              "      <td>a new text for a modern china</td>\n",
              "      <td>4.333333</td>\n",
              "      <td>3.0</td>\n",
              "      <td>['Irene Liu', 'Xiaoqi Li']</td>\n",
              "      <td>1998.0</td>\n",
              "      <td>foreign language study ideal intermediate text...</td>\n",
              "    </tr>\n",
              "  </tbody>\n",
              "</table>\n",
              "</div>\n",
              "      <button class=\"colab-df-convert\" onclick=\"convertToInteractive('df-2aeb3d55-392d-4389-84de-c85d865b67b8')\"\n",
              "              title=\"Convert this dataframe to an interactive table.\"\n",
              "              style=\"display:none;\">\n",
              "        \n",
              "  <svg xmlns=\"http://www.w3.org/2000/svg\" height=\"24px\"viewBox=\"0 0 24 24\"\n",
              "       width=\"24px\">\n",
              "    <path d=\"M0 0h24v24H0V0z\" fill=\"none\"/>\n",
              "    <path d=\"M18.56 5.44l.94 2.06.94-2.06 2.06-.94-2.06-.94-.94-2.06-.94 2.06-2.06.94zm-11 1L8.5 8.5l.94-2.06 2.06-.94-2.06-.94L8.5 2.5l-.94 2.06-2.06.94zm10 10l.94 2.06.94-2.06 2.06-.94-2.06-.94-.94-2.06-.94 2.06-2.06.94z\"/><path d=\"M17.41 7.96l-1.37-1.37c-.4-.4-.92-.59-1.43-.59-.52 0-1.04.2-1.43.59L10.3 9.45l-7.72 7.72c-.78.78-.78 2.05 0 2.83L4 21.41c.39.39.9.59 1.41.59.51 0 1.02-.2 1.41-.59l7.78-7.78 2.81-2.81c.8-.78.8-2.07 0-2.86zM5.41 20L4 18.59l7.72-7.72 1.47 1.35L5.41 20z\"/>\n",
              "  </svg>\n",
              "      </button>\n",
              "      \n",
              "  <style>\n",
              "    .colab-df-container {\n",
              "      display:flex;\n",
              "      flex-wrap:wrap;\n",
              "      gap: 12px;\n",
              "    }\n",
              "\n",
              "    .colab-df-convert {\n",
              "      background-color: #E8F0FE;\n",
              "      border: none;\n",
              "      border-radius: 50%;\n",
              "      cursor: pointer;\n",
              "      display: none;\n",
              "      fill: #1967D2;\n",
              "      height: 32px;\n",
              "      padding: 0 0 0 0;\n",
              "      width: 32px;\n",
              "    }\n",
              "\n",
              "    .colab-df-convert:hover {\n",
              "      background-color: #E2EBFA;\n",
              "      box-shadow: 0px 1px 2px rgba(60, 64, 67, 0.3), 0px 1px 3px 1px rgba(60, 64, 67, 0.15);\n",
              "      fill: #174EA6;\n",
              "    }\n",
              "\n",
              "    [theme=dark] .colab-df-convert {\n",
              "      background-color: #3B4455;\n",
              "      fill: #D2E3FC;\n",
              "    }\n",
              "\n",
              "    [theme=dark] .colab-df-convert:hover {\n",
              "      background-color: #434B5C;\n",
              "      box-shadow: 0px 1px 3px 1px rgba(0, 0, 0, 0.15);\n",
              "      filter: drop-shadow(0px 1px 2px rgba(0, 0, 0, 0.3));\n",
              "      fill: #FFFFFF;\n",
              "    }\n",
              "  </style>\n",
              "\n",
              "      <script>\n",
              "        const buttonEl =\n",
              "          document.querySelector('#df-2aeb3d55-392d-4389-84de-c85d865b67b8 button.colab-df-convert');\n",
              "        buttonEl.style.display =\n",
              "          google.colab.kernel.accessAllowed ? 'block' : 'none';\n",
              "\n",
              "        async function convertToInteractive(key) {\n",
              "          const element = document.querySelector('#df-2aeb3d55-392d-4389-84de-c85d865b67b8');\n",
              "          const dataTable =\n",
              "            await google.colab.kernel.invokeFunction('convertToInteractive',\n",
              "                                                     [key], {});\n",
              "          if (!dataTable) return;\n",
              "\n",
              "          const docLinkHtml = 'Like what you see? Visit the ' +\n",
              "            '<a target=\"_blank\" href=https://colab.research.google.com/notebooks/data_table.ipynb>data table notebook</a>'\n",
              "            + ' to learn more about interactive tables.';\n",
              "          element.innerHTML = '';\n",
              "          dataTable['output_type'] = 'display_data';\n",
              "          await google.colab.output.renderOutput(dataTable, element);\n",
              "          const docLink = document.createElement('div');\n",
              "          docLink.innerHTML = docLinkHtml;\n",
              "          element.appendChild(docLink);\n",
              "        }\n",
              "      </script>\n",
              "    </div>\n",
              "  </div>\n",
              "  "
            ]
          },
          "metadata": {},
          "execution_count": 7
        }
      ],
      "source": [
        "books.sample(3)"
      ]
    },
    {
      "cell_type": "markdown",
      "source": [
        "# Taking a subset of the data by selecting the books which received more than 10 reviews\n",
        "\n",
        "I am taking a subset of the book data to preform Count Vectorizer and Cosine Similarity. The full dataset proved to be too large even with Google Colab Pro and enabling GPU and High Ram."
      ],
      "metadata": {
        "id": "9zFFFAVnhZkQ"
      },
      "id": "9zFFFAVnhZkQ"
    },
    {
      "cell_type": "code",
      "source": [
        "# books that have more than 10 reviews\n",
        "\n",
        "books_sm = books[books['review/score_Count'] > 10]\n",
        "books_sm.head(3)"
      ],
      "metadata": {
        "colab": {
          "base_uri": "https://localhost:8080/",
          "height": 143
        },
        "id": "9vWEdm5GM3MJ",
        "outputId": "1b1c215c-00fb-470a-e3ac-ea0e9ea1dae9"
      },
      "id": "9vWEdm5GM3MJ",
      "execution_count": null,
      "outputs": [
        {
          "output_type": "execute_result",
          "data": {
            "text/plain": [
              "     index                Title  review/score_Avg  review/score_Count  \\\n",
              "30   95768             1 is one          4.866667                30.0   \n",
              "34   76202  1 ragged ridge road          4.277778                18.0   \n",
              "36  110134       10 button book          3.142857                28.0   \n",
              "\n",
              "                                 authors  publishedDate  \\\n",
              "30                       ['Tasha Tudor']         2015.0   \n",
              "34  ['Leonard Foglia', 'David Richards']         1998.0   \n",
              "36                   ['William Accorsi']         1999.0   \n",
              "\n",
              "                               description_categories  \n",
              "30  juvenile nonfiction rhyming verse present numb...  \n",
              "34  fiction estranged husband carol robbins young ...  \n",
              "36  juvenile nonfiction verse introduce number one...  "
            ],
            "text/html": [
              "\n",
              "  <div id=\"df-820ad365-a4f6-45c3-8dac-92328005f286\">\n",
              "    <div class=\"colab-df-container\">\n",
              "      <div>\n",
              "<style scoped>\n",
              "    .dataframe tbody tr th:only-of-type {\n",
              "        vertical-align: middle;\n",
              "    }\n",
              "\n",
              "    .dataframe tbody tr th {\n",
              "        vertical-align: top;\n",
              "    }\n",
              "\n",
              "    .dataframe thead th {\n",
              "        text-align: right;\n",
              "    }\n",
              "</style>\n",
              "<table border=\"1\" class=\"dataframe\">\n",
              "  <thead>\n",
              "    <tr style=\"text-align: right;\">\n",
              "      <th></th>\n",
              "      <th>index</th>\n",
              "      <th>Title</th>\n",
              "      <th>review/score_Avg</th>\n",
              "      <th>review/score_Count</th>\n",
              "      <th>authors</th>\n",
              "      <th>publishedDate</th>\n",
              "      <th>description_categories</th>\n",
              "    </tr>\n",
              "  </thead>\n",
              "  <tbody>\n",
              "    <tr>\n",
              "      <th>30</th>\n",
              "      <td>95768</td>\n",
              "      <td>1 is one</td>\n",
              "      <td>4.866667</td>\n",
              "      <td>30.0</td>\n",
              "      <td>['Tasha Tudor']</td>\n",
              "      <td>2015.0</td>\n",
              "      <td>juvenile nonfiction rhyming verse present numb...</td>\n",
              "    </tr>\n",
              "    <tr>\n",
              "      <th>34</th>\n",
              "      <td>76202</td>\n",
              "      <td>1 ragged ridge road</td>\n",
              "      <td>4.277778</td>\n",
              "      <td>18.0</td>\n",
              "      <td>['Leonard Foglia', 'David Richards']</td>\n",
              "      <td>1998.0</td>\n",
              "      <td>fiction estranged husband carol robbins young ...</td>\n",
              "    </tr>\n",
              "    <tr>\n",
              "      <th>36</th>\n",
              "      <td>110134</td>\n",
              "      <td>10 button book</td>\n",
              "      <td>3.142857</td>\n",
              "      <td>28.0</td>\n",
              "      <td>['William Accorsi']</td>\n",
              "      <td>1999.0</td>\n",
              "      <td>juvenile nonfiction verse introduce number one...</td>\n",
              "    </tr>\n",
              "  </tbody>\n",
              "</table>\n",
              "</div>\n",
              "      <button class=\"colab-df-convert\" onclick=\"convertToInteractive('df-820ad365-a4f6-45c3-8dac-92328005f286')\"\n",
              "              title=\"Convert this dataframe to an interactive table.\"\n",
              "              style=\"display:none;\">\n",
              "        \n",
              "  <svg xmlns=\"http://www.w3.org/2000/svg\" height=\"24px\"viewBox=\"0 0 24 24\"\n",
              "       width=\"24px\">\n",
              "    <path d=\"M0 0h24v24H0V0z\" fill=\"none\"/>\n",
              "    <path d=\"M18.56 5.44l.94 2.06.94-2.06 2.06-.94-2.06-.94-.94-2.06-.94 2.06-2.06.94zm-11 1L8.5 8.5l.94-2.06 2.06-.94-2.06-.94L8.5 2.5l-.94 2.06-2.06.94zm10 10l.94 2.06.94-2.06 2.06-.94-2.06-.94-.94-2.06-.94 2.06-2.06.94z\"/><path d=\"M17.41 7.96l-1.37-1.37c-.4-.4-.92-.59-1.43-.59-.52 0-1.04.2-1.43.59L10.3 9.45l-7.72 7.72c-.78.78-.78 2.05 0 2.83L4 21.41c.39.39.9.59 1.41.59.51 0 1.02-.2 1.41-.59l7.78-7.78 2.81-2.81c.8-.78.8-2.07 0-2.86zM5.41 20L4 18.59l7.72-7.72 1.47 1.35L5.41 20z\"/>\n",
              "  </svg>\n",
              "      </button>\n",
              "      \n",
              "  <style>\n",
              "    .colab-df-container {\n",
              "      display:flex;\n",
              "      flex-wrap:wrap;\n",
              "      gap: 12px;\n",
              "    }\n",
              "\n",
              "    .colab-df-convert {\n",
              "      background-color: #E8F0FE;\n",
              "      border: none;\n",
              "      border-radius: 50%;\n",
              "      cursor: pointer;\n",
              "      display: none;\n",
              "      fill: #1967D2;\n",
              "      height: 32px;\n",
              "      padding: 0 0 0 0;\n",
              "      width: 32px;\n",
              "    }\n",
              "\n",
              "    .colab-df-convert:hover {\n",
              "      background-color: #E2EBFA;\n",
              "      box-shadow: 0px 1px 2px rgba(60, 64, 67, 0.3), 0px 1px 3px 1px rgba(60, 64, 67, 0.15);\n",
              "      fill: #174EA6;\n",
              "    }\n",
              "\n",
              "    [theme=dark] .colab-df-convert {\n",
              "      background-color: #3B4455;\n",
              "      fill: #D2E3FC;\n",
              "    }\n",
              "\n",
              "    [theme=dark] .colab-df-convert:hover {\n",
              "      background-color: #434B5C;\n",
              "      box-shadow: 0px 1px 3px 1px rgba(0, 0, 0, 0.15);\n",
              "      filter: drop-shadow(0px 1px 2px rgba(0, 0, 0, 0.3));\n",
              "      fill: #FFFFFF;\n",
              "    }\n",
              "  </style>\n",
              "\n",
              "      <script>\n",
              "        const buttonEl =\n",
              "          document.querySelector('#df-820ad365-a4f6-45c3-8dac-92328005f286 button.colab-df-convert');\n",
              "        buttonEl.style.display =\n",
              "          google.colab.kernel.accessAllowed ? 'block' : 'none';\n",
              "\n",
              "        async function convertToInteractive(key) {\n",
              "          const element = document.querySelector('#df-820ad365-a4f6-45c3-8dac-92328005f286');\n",
              "          const dataTable =\n",
              "            await google.colab.kernel.invokeFunction('convertToInteractive',\n",
              "                                                     [key], {});\n",
              "          if (!dataTable) return;\n",
              "\n",
              "          const docLinkHtml = 'Like what you see? Visit the ' +\n",
              "            '<a target=\"_blank\" href=https://colab.research.google.com/notebooks/data_table.ipynb>data table notebook</a>'\n",
              "            + ' to learn more about interactive tables.';\n",
              "          element.innerHTML = '';\n",
              "          dataTable['output_type'] = 'display_data';\n",
              "          await google.colab.output.renderOutput(dataTable, element);\n",
              "          const docLink = document.createElement('div');\n",
              "          docLink.innerHTML = docLinkHtml;\n",
              "          element.appendChild(docLink);\n",
              "        }\n",
              "      </script>\n",
              "    </div>\n",
              "  </div>\n",
              "  "
            ]
          },
          "metadata": {},
          "execution_count": 8
        }
      ]
    },
    {
      "cell_type": "code",
      "source": [
        "books_sm = books_sm.reset_index(drop=True)\n",
        "books_sm = books_sm.drop(columns=['index'])\n",
        "books_sm.head(3)\n"
      ],
      "metadata": {
        "colab": {
          "base_uri": "https://localhost:8080/",
          "height": 143
        },
        "id": "Sw5FDUuHfLAT",
        "outputId": "7a0dec9e-8142-41c3-cab6-96ea47d2ba0e"
      },
      "id": "Sw5FDUuHfLAT",
      "execution_count": null,
      "outputs": [
        {
          "output_type": "execute_result",
          "data": {
            "text/plain": [
              "                 Title  review/score_Avg  review/score_Count  \\\n",
              "0             1 is one          4.866667                30.0   \n",
              "1  1 ragged ridge road          4.277778                18.0   \n",
              "2       10 button book          3.142857                28.0   \n",
              "\n",
              "                                authors  publishedDate  \\\n",
              "0                       ['Tasha Tudor']         2015.0   \n",
              "1  ['Leonard Foglia', 'David Richards']         1998.0   \n",
              "2                   ['William Accorsi']         1999.0   \n",
              "\n",
              "                              description_categories  \n",
              "0  juvenile nonfiction rhyming verse present numb...  \n",
              "1  fiction estranged husband carol robbins young ...  \n",
              "2  juvenile nonfiction verse introduce number one...  "
            ],
            "text/html": [
              "\n",
              "  <div id=\"df-57018457-85b7-4b3f-9716-04aec2e9e43d\">\n",
              "    <div class=\"colab-df-container\">\n",
              "      <div>\n",
              "<style scoped>\n",
              "    .dataframe tbody tr th:only-of-type {\n",
              "        vertical-align: middle;\n",
              "    }\n",
              "\n",
              "    .dataframe tbody tr th {\n",
              "        vertical-align: top;\n",
              "    }\n",
              "\n",
              "    .dataframe thead th {\n",
              "        text-align: right;\n",
              "    }\n",
              "</style>\n",
              "<table border=\"1\" class=\"dataframe\">\n",
              "  <thead>\n",
              "    <tr style=\"text-align: right;\">\n",
              "      <th></th>\n",
              "      <th>Title</th>\n",
              "      <th>review/score_Avg</th>\n",
              "      <th>review/score_Count</th>\n",
              "      <th>authors</th>\n",
              "      <th>publishedDate</th>\n",
              "      <th>description_categories</th>\n",
              "    </tr>\n",
              "  </thead>\n",
              "  <tbody>\n",
              "    <tr>\n",
              "      <th>0</th>\n",
              "      <td>1 is one</td>\n",
              "      <td>4.866667</td>\n",
              "      <td>30.0</td>\n",
              "      <td>['Tasha Tudor']</td>\n",
              "      <td>2015.0</td>\n",
              "      <td>juvenile nonfiction rhyming verse present numb...</td>\n",
              "    </tr>\n",
              "    <tr>\n",
              "      <th>1</th>\n",
              "      <td>1 ragged ridge road</td>\n",
              "      <td>4.277778</td>\n",
              "      <td>18.0</td>\n",
              "      <td>['Leonard Foglia', 'David Richards']</td>\n",
              "      <td>1998.0</td>\n",
              "      <td>fiction estranged husband carol robbins young ...</td>\n",
              "    </tr>\n",
              "    <tr>\n",
              "      <th>2</th>\n",
              "      <td>10 button book</td>\n",
              "      <td>3.142857</td>\n",
              "      <td>28.0</td>\n",
              "      <td>['William Accorsi']</td>\n",
              "      <td>1999.0</td>\n",
              "      <td>juvenile nonfiction verse introduce number one...</td>\n",
              "    </tr>\n",
              "  </tbody>\n",
              "</table>\n",
              "</div>\n",
              "      <button class=\"colab-df-convert\" onclick=\"convertToInteractive('df-57018457-85b7-4b3f-9716-04aec2e9e43d')\"\n",
              "              title=\"Convert this dataframe to an interactive table.\"\n",
              "              style=\"display:none;\">\n",
              "        \n",
              "  <svg xmlns=\"http://www.w3.org/2000/svg\" height=\"24px\"viewBox=\"0 0 24 24\"\n",
              "       width=\"24px\">\n",
              "    <path d=\"M0 0h24v24H0V0z\" fill=\"none\"/>\n",
              "    <path d=\"M18.56 5.44l.94 2.06.94-2.06 2.06-.94-2.06-.94-.94-2.06-.94 2.06-2.06.94zm-11 1L8.5 8.5l.94-2.06 2.06-.94-2.06-.94L8.5 2.5l-.94 2.06-2.06.94zm10 10l.94 2.06.94-2.06 2.06-.94-2.06-.94-.94-2.06-.94 2.06-2.06.94z\"/><path d=\"M17.41 7.96l-1.37-1.37c-.4-.4-.92-.59-1.43-.59-.52 0-1.04.2-1.43.59L10.3 9.45l-7.72 7.72c-.78.78-.78 2.05 0 2.83L4 21.41c.39.39.9.59 1.41.59.51 0 1.02-.2 1.41-.59l7.78-7.78 2.81-2.81c.8-.78.8-2.07 0-2.86zM5.41 20L4 18.59l7.72-7.72 1.47 1.35L5.41 20z\"/>\n",
              "  </svg>\n",
              "      </button>\n",
              "      \n",
              "  <style>\n",
              "    .colab-df-container {\n",
              "      display:flex;\n",
              "      flex-wrap:wrap;\n",
              "      gap: 12px;\n",
              "    }\n",
              "\n",
              "    .colab-df-convert {\n",
              "      background-color: #E8F0FE;\n",
              "      border: none;\n",
              "      border-radius: 50%;\n",
              "      cursor: pointer;\n",
              "      display: none;\n",
              "      fill: #1967D2;\n",
              "      height: 32px;\n",
              "      padding: 0 0 0 0;\n",
              "      width: 32px;\n",
              "    }\n",
              "\n",
              "    .colab-df-convert:hover {\n",
              "      background-color: #E2EBFA;\n",
              "      box-shadow: 0px 1px 2px rgba(60, 64, 67, 0.3), 0px 1px 3px 1px rgba(60, 64, 67, 0.15);\n",
              "      fill: #174EA6;\n",
              "    }\n",
              "\n",
              "    [theme=dark] .colab-df-convert {\n",
              "      background-color: #3B4455;\n",
              "      fill: #D2E3FC;\n",
              "    }\n",
              "\n",
              "    [theme=dark] .colab-df-convert:hover {\n",
              "      background-color: #434B5C;\n",
              "      box-shadow: 0px 1px 3px 1px rgba(0, 0, 0, 0.15);\n",
              "      filter: drop-shadow(0px 1px 2px rgba(0, 0, 0, 0.3));\n",
              "      fill: #FFFFFF;\n",
              "    }\n",
              "  </style>\n",
              "\n",
              "      <script>\n",
              "        const buttonEl =\n",
              "          document.querySelector('#df-57018457-85b7-4b3f-9716-04aec2e9e43d button.colab-df-convert');\n",
              "        buttonEl.style.display =\n",
              "          google.colab.kernel.accessAllowed ? 'block' : 'none';\n",
              "\n",
              "        async function convertToInteractive(key) {\n",
              "          const element = document.querySelector('#df-57018457-85b7-4b3f-9716-04aec2e9e43d');\n",
              "          const dataTable =\n",
              "            await google.colab.kernel.invokeFunction('convertToInteractive',\n",
              "                                                     [key], {});\n",
              "          if (!dataTable) return;\n",
              "\n",
              "          const docLinkHtml = 'Like what you see? Visit the ' +\n",
              "            '<a target=\"_blank\" href=https://colab.research.google.com/notebooks/data_table.ipynb>data table notebook</a>'\n",
              "            + ' to learn more about interactive tables.';\n",
              "          element.innerHTML = '';\n",
              "          dataTable['output_type'] = 'display_data';\n",
              "          await google.colab.output.renderOutput(dataTable, element);\n",
              "          const docLink = document.createElement('div');\n",
              "          docLink.innerHTML = docLinkHtml;\n",
              "          element.appendChild(docLink);\n",
              "        }\n",
              "      </script>\n",
              "    </div>\n",
              "  </div>\n",
              "  "
            ]
          },
          "metadata": {},
          "execution_count": 9
        }
      ]
    },
    {
      "cell_type": "code",
      "source": [],
      "metadata": {
        "id": "tb5whv1gnFPq"
      },
      "id": "tb5whv1gnFPq",
      "execution_count": null,
      "outputs": []
    },
    {
      "cell_type": "markdown",
      "source": [
        "# Vectorizing and creating cosine similarity matrix"
      ],
      "metadata": {
        "id": "8Wg5ZEKwhuhT"
      },
      "id": "8Wg5ZEKwhuhT"
    },
    {
      "cell_type": "code",
      "source": [
        "#Importing needed libraries\n",
        "from sklearn.feature_extraction.text import CountVectorizer\n",
        "from sklearn.metrics.pairwise import cosine_similarity"
      ],
      "metadata": {
        "id": "5MknyosJhtK-"
      },
      "id": "5MknyosJhtK-",
      "execution_count": null,
      "outputs": []
    },
    {
      "cell_type": "code",
      "source": [
        "# Vectorizing and creating the sparse matrix\n",
        "\n",
        "cv = CountVectorizer() \n",
        "count_matrix_sm = cv.fit_transform(books_sm['description_categories'])"
      ],
      "metadata": {
        "id": "l7r76-pbM3I3"
      },
      "id": "l7r76-pbM3I3",
      "execution_count": null,
      "outputs": []
    },
    {
      "cell_type": "code",
      "source": [
        "count_matrix_sm"
      ],
      "metadata": {
        "colab": {
          "base_uri": "https://localhost:8080/"
        },
        "id": "rVqYJNytNh_a",
        "outputId": "153a099f-e269-4dd8-88a7-9b15f03c8caa"
      },
      "id": "rVqYJNytNh_a",
      "execution_count": null,
      "outputs": [
        {
          "output_type": "execute_result",
          "data": {
            "text/plain": [
              "<29560x103898 sparse matrix of type '<class 'numpy.int64'>'\n",
              "\twith 1653000 stored elements in Compressed Sparse Row format>"
            ]
          },
          "metadata": {},
          "execution_count": 12
        }
      ]
    },
    {
      "cell_type": "code",
      "source": [
        "# Creating the cosine similarity matrix. This shows the similarity score of each book description with all other book descriptions.\n",
        "\n",
        "cosine_sim_sm = cosine_similarity(count_matrix_sm)\n",
        "print(cosine_sim_sm.shape)\n",
        "cosine_sim_sm"
      ],
      "metadata": {
        "id": "ZdMsjC5_M3CT",
        "colab": {
          "base_uri": "https://localhost:8080/"
        },
        "outputId": "b780cca0-e1d3-4879-a6cc-9cd7f5d301d4"
      },
      "id": "ZdMsjC5_M3CT",
      "execution_count": null,
      "outputs": [
        {
          "output_type": "stream",
          "name": "stdout",
          "text": [
            "(29560, 29560)\n"
          ]
        },
        {
          "output_type": "execute_result",
          "data": {
            "text/plain": [
              "array([[1.        , 0.        , 0.38575837, ..., 0.03928371, 0.04303315,\n",
              "        0.        ],\n",
              "       [0.        , 1.        , 0.        , ..., 0.        , 0.09325048,\n",
              "        0.04445542],\n",
              "       [0.38575837, 0.        , 1.        , ..., 0.03636965, 0.        ,\n",
              "        0.        ],\n",
              "       ...,\n",
              "       [0.03928371, 0.        , 0.03636965, ..., 1.        , 0.04057204,\n",
              "        0.        ],\n",
              "       [0.04303315, 0.09325048, 0.        , ..., 0.04057204, 1.        ,\n",
              "        0.06356417],\n",
              "       [0.        , 0.04445542, 0.        , ..., 0.        , 0.06356417,\n",
              "        1.        ]])"
            ]
          },
          "metadata": {},
          "execution_count": 13
        }
      ]
    },
    {
      "cell_type": "code",
      "source": [
        "# The cosine similarity of the book on the 0 index value with all other books.\n",
        "\n",
        "cosine_sim_sm[0]"
      ],
      "metadata": {
        "colab": {
          "base_uri": "https://localhost:8080/"
        },
        "id": "Y0c9pW0YM2vA",
        "outputId": "aedabbeb-e032-430c-9246-b4f79ef75fb5"
      },
      "id": "Y0c9pW0YM2vA",
      "execution_count": null,
      "outputs": [
        {
          "output_type": "execute_result",
          "data": {
            "text/plain": [
              "array([1.        , 0.        , 0.38575837, ..., 0.03928371, 0.04303315,\n",
              "       0.        ])"
            ]
          },
          "metadata": {},
          "execution_count": 14
        }
      ]
    },
    {
      "cell_type": "markdown",
      "source": [
        "# Finding the 5 most similar books to the book in 0 index place"
      ],
      "metadata": {
        "id": "36PHp1qSoBX0"
      },
      "id": "36PHp1qSoBX0"
    },
    {
      "cell_type": "code",
      "source": [
        "sim_0 = pd.DataFrame(cosine_sim_sm[0], columns=['sim']).sort_values(by='sim', ascending=False)\n",
        "sim_0.reset_index(inplace = True)\n",
        "sim_0.head()"
      ],
      "metadata": {
        "colab": {
          "base_uri": "https://localhost:8080/",
          "height": 206
        },
        "id": "bq5Rp31xUuNk",
        "outputId": "db8bdaa1-f9d4-4d48-9a24-44466eb14252"
      },
      "id": "bq5Rp31xUuNk",
      "execution_count": null,
      "outputs": [
        {
          "output_type": "execute_result",
          "data": {
            "text/plain": [
              "   index       sim\n",
              "0      0  1.000000\n",
              "1      2  0.385758\n",
              "2  17280  0.384900\n",
              "3  25807  0.372678\n",
              "4  19458  0.372678"
            ],
            "text/html": [
              "\n",
              "  <div id=\"df-64d3ea64-0cb0-451e-ad09-d8b4d002cd61\">\n",
              "    <div class=\"colab-df-container\">\n",
              "      <div>\n",
              "<style scoped>\n",
              "    .dataframe tbody tr th:only-of-type {\n",
              "        vertical-align: middle;\n",
              "    }\n",
              "\n",
              "    .dataframe tbody tr th {\n",
              "        vertical-align: top;\n",
              "    }\n",
              "\n",
              "    .dataframe thead th {\n",
              "        text-align: right;\n",
              "    }\n",
              "</style>\n",
              "<table border=\"1\" class=\"dataframe\">\n",
              "  <thead>\n",
              "    <tr style=\"text-align: right;\">\n",
              "      <th></th>\n",
              "      <th>index</th>\n",
              "      <th>sim</th>\n",
              "    </tr>\n",
              "  </thead>\n",
              "  <tbody>\n",
              "    <tr>\n",
              "      <th>0</th>\n",
              "      <td>0</td>\n",
              "      <td>1.000000</td>\n",
              "    </tr>\n",
              "    <tr>\n",
              "      <th>1</th>\n",
              "      <td>2</td>\n",
              "      <td>0.385758</td>\n",
              "    </tr>\n",
              "    <tr>\n",
              "      <th>2</th>\n",
              "      <td>17280</td>\n",
              "      <td>0.384900</td>\n",
              "    </tr>\n",
              "    <tr>\n",
              "      <th>3</th>\n",
              "      <td>25807</td>\n",
              "      <td>0.372678</td>\n",
              "    </tr>\n",
              "    <tr>\n",
              "      <th>4</th>\n",
              "      <td>19458</td>\n",
              "      <td>0.372678</td>\n",
              "    </tr>\n",
              "  </tbody>\n",
              "</table>\n",
              "</div>\n",
              "      <button class=\"colab-df-convert\" onclick=\"convertToInteractive('df-64d3ea64-0cb0-451e-ad09-d8b4d002cd61')\"\n",
              "              title=\"Convert this dataframe to an interactive table.\"\n",
              "              style=\"display:none;\">\n",
              "        \n",
              "  <svg xmlns=\"http://www.w3.org/2000/svg\" height=\"24px\"viewBox=\"0 0 24 24\"\n",
              "       width=\"24px\">\n",
              "    <path d=\"M0 0h24v24H0V0z\" fill=\"none\"/>\n",
              "    <path d=\"M18.56 5.44l.94 2.06.94-2.06 2.06-.94-2.06-.94-.94-2.06-.94 2.06-2.06.94zm-11 1L8.5 8.5l.94-2.06 2.06-.94-2.06-.94L8.5 2.5l-.94 2.06-2.06.94zm10 10l.94 2.06.94-2.06 2.06-.94-2.06-.94-.94-2.06-.94 2.06-2.06.94z\"/><path d=\"M17.41 7.96l-1.37-1.37c-.4-.4-.92-.59-1.43-.59-.52 0-1.04.2-1.43.59L10.3 9.45l-7.72 7.72c-.78.78-.78 2.05 0 2.83L4 21.41c.39.39.9.59 1.41.59.51 0 1.02-.2 1.41-.59l7.78-7.78 2.81-2.81c.8-.78.8-2.07 0-2.86zM5.41 20L4 18.59l7.72-7.72 1.47 1.35L5.41 20z\"/>\n",
              "  </svg>\n",
              "      </button>\n",
              "      \n",
              "  <style>\n",
              "    .colab-df-container {\n",
              "      display:flex;\n",
              "      flex-wrap:wrap;\n",
              "      gap: 12px;\n",
              "    }\n",
              "\n",
              "    .colab-df-convert {\n",
              "      background-color: #E8F0FE;\n",
              "      border: none;\n",
              "      border-radius: 50%;\n",
              "      cursor: pointer;\n",
              "      display: none;\n",
              "      fill: #1967D2;\n",
              "      height: 32px;\n",
              "      padding: 0 0 0 0;\n",
              "      width: 32px;\n",
              "    }\n",
              "\n",
              "    .colab-df-convert:hover {\n",
              "      background-color: #E2EBFA;\n",
              "      box-shadow: 0px 1px 2px rgba(60, 64, 67, 0.3), 0px 1px 3px 1px rgba(60, 64, 67, 0.15);\n",
              "      fill: #174EA6;\n",
              "    }\n",
              "\n",
              "    [theme=dark] .colab-df-convert {\n",
              "      background-color: #3B4455;\n",
              "      fill: #D2E3FC;\n",
              "    }\n",
              "\n",
              "    [theme=dark] .colab-df-convert:hover {\n",
              "      background-color: #434B5C;\n",
              "      box-shadow: 0px 1px 3px 1px rgba(0, 0, 0, 0.15);\n",
              "      filter: drop-shadow(0px 1px 2px rgba(0, 0, 0, 0.3));\n",
              "      fill: #FFFFFF;\n",
              "    }\n",
              "  </style>\n",
              "\n",
              "      <script>\n",
              "        const buttonEl =\n",
              "          document.querySelector('#df-64d3ea64-0cb0-451e-ad09-d8b4d002cd61 button.colab-df-convert');\n",
              "        buttonEl.style.display =\n",
              "          google.colab.kernel.accessAllowed ? 'block' : 'none';\n",
              "\n",
              "        async function convertToInteractive(key) {\n",
              "          const element = document.querySelector('#df-64d3ea64-0cb0-451e-ad09-d8b4d002cd61');\n",
              "          const dataTable =\n",
              "            await google.colab.kernel.invokeFunction('convertToInteractive',\n",
              "                                                     [key], {});\n",
              "          if (!dataTable) return;\n",
              "\n",
              "          const docLinkHtml = 'Like what you see? Visit the ' +\n",
              "            '<a target=\"_blank\" href=https://colab.research.google.com/notebooks/data_table.ipynb>data table notebook</a>'\n",
              "            + ' to learn more about interactive tables.';\n",
              "          element.innerHTML = '';\n",
              "          dataTable['output_type'] = 'display_data';\n",
              "          await google.colab.output.renderOutput(dataTable, element);\n",
              "          const docLink = document.createElement('div');\n",
              "          docLink.innerHTML = docLinkHtml;\n",
              "          element.appendChild(docLink);\n",
              "        }\n",
              "      </script>\n",
              "    </div>\n",
              "  </div>\n",
              "  "
            ]
          },
          "metadata": {},
          "execution_count": 15
        }
      ]
    },
    {
      "cell_type": "code",
      "source": [
        "print('Chosen book\\n')\n",
        "print(books_sm['Title'][0])\n",
        "print(books_sm['description_categories'][0], '\\n')\n",
        "print('Recommended books\\n')\n",
        "for i in range(1,6):\n",
        "  indexes = int(sim_0.loc[i]['index'])\n",
        "  print('Title: ', books_sm['Title'][indexes])\n",
        "  print('Description: ', books_sm['description_categories'][indexes])\n",
        "  "
      ],
      "metadata": {
        "colab": {
          "base_uri": "https://localhost:8080/"
        },
        "id": "pl8fjpFdg8rO",
        "outputId": "a148e3a2-6981-4ad0-aef0-d44077f43a3b"
      },
      "id": "pl8fjpFdg8rO",
      "execution_count": null,
      "outputs": [
        {
          "output_type": "stream",
          "name": "stdout",
          "text": [
            "Chosen book\n",
            "\n",
            "1 is one\n",
            "juvenile nonfiction rhyming verse present number one twenty illustration animal flower child \n",
            "\n",
            "Recommended books\n",
            "\n",
            "Title:  10 button book\n",
            "Description:  juvenile nonfiction verse introduce number one ten ten real button snap book\n",
            "Title:  red lace yellow lace\n",
            "Description:  juvenile nonfiction rhyming text teach young child tie shoe\n",
            "Title:  the skin you live in\n",
            "Description:  juvenile nonfiction rhyming verse describes diversity skin color promotes selfesteem explores child unique similar time\n",
            "Title:  sticky situations 2 365 devotions for elementary kids\n",
            "Description:  juvenile nonfiction present bible verse help elementaryage child deal situation topic friend family obedience compassion\n",
            "Title:  i spy 4 picture riddle books school reader collection lvl 1 scholastic reader collection\n",
            "Description:  juvenile nonfiction rhyming verse ask reader find hidden object photograph\n"
          ]
        }
      ]
    },
    {
      "cell_type": "markdown",
      "source": [
        "# Making a Function which finds similar books to a given title"
      ],
      "metadata": {
        "id": "97f8yNBXmYt0"
      },
      "id": "97f8yNBXmYt0"
    },
    {
      "cell_type": "code",
      "source": [
        "def find_similar(title):\n",
        "    index_val = books_sm[books_sm['Title'] == title].index\n",
        "    sim = cosine_sim_sm[index_val]\n",
        "    sim = pd.DataFrame(sim).T\n",
        "    sim.columns = ['sim']\n",
        "    sim = sim.sort_values(by='sim', ascending = False)\n",
        "    sim = sim.reset_index()\n",
        "\n",
        "    print('Chosen book: ', title)\n",
        "    print('Descripton:', books_sm['description_categories'][index_val].values, '\\n')\n",
        "    print('Recommended books: ')\n",
        "\n",
        "    for i in range(1,6):\n",
        "        indexes = int(sim.loc[i]['index'])\n",
        "        print(i, '. ', 'Title: ', books_sm[title_col][indexes])\n",
        "        print(\"    \", 'Description: ', books_sm[desc_col][indexes])\n"
      ],
      "metadata": {
        "id": "nFZ-vTB3ToNs"
      },
      "id": "nFZ-vTB3ToNs",
      "execution_count": null,
      "outputs": []
    },
    {
      "cell_type": "code",
      "source": [
        "title1 = '1 is one'\n",
        "find_similar(title1)"
      ],
      "metadata": {
        "id": "YOWVZO0QbaDV",
        "colab": {
          "base_uri": "https://localhost:8080/"
        },
        "outputId": "dd968ba6-2da3-4975-ceef-ee011cc5126d"
      },
      "id": "YOWVZO0QbaDV",
      "execution_count": null,
      "outputs": [
        {
          "output_type": "stream",
          "name": "stdout",
          "text": [
            "Chosen book:  1 is one\n",
            "Descripton: ['juvenile nonfiction rhyming verse present number one twenty illustration animal flower child'] \n",
            "\n",
            "Recommended books: \n",
            "1 .  Title:  10 button book\n",
            "     Description:  juvenile nonfiction verse introduce number one ten ten real button snap book\n",
            "2 .  Title:  red lace yellow lace\n",
            "     Description:  juvenile nonfiction rhyming text teach young child tie shoe\n",
            "3 .  Title:  the skin you live in\n",
            "     Description:  juvenile nonfiction rhyming verse describes diversity skin color promotes selfesteem explores child unique similar time\n",
            "4 .  Title:  sticky situations 2 365 devotions for elementary kids\n",
            "     Description:  juvenile nonfiction present bible verse help elementaryage child deal situation topic friend family obedience compassion\n",
            "5 .  Title:  i spy 4 picture riddle books school reader collection lvl 1 scholastic reader collection\n",
            "     Description:  juvenile nonfiction rhyming verse ask reader find hidden object photograph\n"
          ]
        }
      ]
    },
    {
      "cell_type": "code",
      "source": [
        "title2 = 'spanish stepbystep'\n",
        "find_similar(title2)"
      ],
      "metadata": {
        "colab": {
          "base_uri": "https://localhost:8080/"
        },
        "id": "YSYqQA1esPnt",
        "outputId": "701fb3a0-6445-4eb9-b450-ff363aa70997"
      },
      "id": "YSYqQA1esPnt",
      "execution_count": null,
      "outputs": [
        {
          "output_type": "stream",
          "name": "stdout",
          "text": [
            "Chosen book:  spanish stepbystep\n",
            "Descripton: ['foreign language study proven grammarbased approach give real mastery spanish language use advanced spanish step step progressive grammarbased approach conquer intermediate advanced spanishlanguage topic stepbystep approach give real confidence tool need achieve high spanish proficiency youll get quick review key grammar basic move advanced topic need true mastery language complete coverage verb tense beyond present past irregular verb sentence structure part speech book give thorough overview advanced grammar topic also introduces hundred new vocabulary word reinforced reading put new term everyday context'] \n",
            "\n",
            "Recommended books: \n",
            "1 .  Title:  the big red book of spanish vocabulary\n",
            "     Description:  foreign language study new dramatically improved threepronged approach learning spanish vocabulary big red book spanish vocabulary much much spanish vocabulary reference unique complete resource combine three complementary approach vocabulary buildingcognates root family suffixesto instantly increase word familiarity aid memorization whether active facetoface communication passive comprehension written spoken word indepth knowledge vocabulary key foreign language mastery big red book spanish vocabulary make acquiring mastery simpler straightforward ever providing extensive thematic list spanish cognate alphabetic glossary spanish root familiesboth entry comprehensive listing common spanish suffix common example frequency index listing frequently used word spanish alphabetic index crossreferencing every entry root suffix frequency section\n",
            "2 .  Title:  teach yourself korean complete course korean edition\n",
            "     Description:  foreign language study complete korean comprehensive book audio language course take beginner intermediate level new edition successful course fully revised packed new learning feature give language practice skill communicate confidence map b common european framework reference cefr language learning unit plus grammar index word glossary korean script hangul used throughout real language immersion discovery method figure rule pattern make language stick teach key skill reading writing listening speaking learn learn tip skill better language learner culture note learn people place korea outcomesbased learning focus study clear aim authentic listening activity everyday conversation give flavour real spoken korean test see track progress pack youll get page book two cd audio learning material minute also available get started beginner korean isbn rely teach trusted language learner year\n",
            "3 .  Title:  practice makes perfect spanish verb tenses\n",
            "     Description:  foreign language study learn correct verb tense speaking writing spanish mastering verb tense another language challenging accessible workbook provides clear engaging presentation aspect spanish verb combined extensive practice ideal beginning intermediate language learner plenty example illustrating use certain verb tense numerous skillbuilding exercise comprehensive verb conjugation table new audio recording interactive review quiz youll learn speak write spanish time author us humor healthy helping celebrity reference keep entertained learn practice make perfect spanish verb tense help learn use different verb tensesreinforce knowledge everyday example covering wide range topicsbuild verb skill using engaging exercisestest memorization interactive quizzesstudy onthego mcgrawhill education unique language lab appdevelop better pronunciation extensive streaming audio recording\n",
            "4 .  Title:  spanish made simple\n",
            "     Description:  foreign language study million copy print spanish made simple bestselling title made simple series year trusted guide led student tourist business traveler stepbystep basic vocabulary grammar moststudied foreign language thoroughly revised updated increasingly bilingual world new edition feature verb conjugation pronunciation chart modern vocabulary including new idiom review chapter reading exercise complete answer section englishspanish spanishenglish dictionariestools make mastering language fun spanish made simple learning language easy uno do tres\n",
            "5 .  Title:  teach yourself finnish\n",
            "     Description:  foreign language study complete finnish comprehensive book audio language course take beginner intermediate level new edition successful course fully revised packed new learning feature give language practice skill communicate confidence map b common european framework reference cefr language learning unit plus grammar word glossary discovery method figure rule pattern make language stick teach key skill reading writing listening speaking learn learn tip skill better language learner culture note learn people place finland outcomesbased learning focus study clear aim authentic listening activity everyday conversation give flavour real spoken finnish test see track progress pack youll get page book two cd audio learning material minute rely teach trusted language learner year\n"
          ]
        }
      ]
    },
    {
      "cell_type": "code",
      "source": [
        "title3 = 'to kill a mockingbird'\n",
        "find_similar(title3)"
      ],
      "metadata": {
        "colab": {
          "base_uri": "https://localhost:8080/"
        },
        "id": "ixD59ZS8tEVu",
        "outputId": "af280da4-3074-43ec-9057-c64f97488e0c"
      },
      "id": "ixD59ZS8tEVu",
      "execution_count": null,
      "outputs": [
        {
          "output_type": "stream",
          "name": "stdout",
          "text": [
            "Chosen book:  to kill a mockingbird\n",
            "Descripton: ['fiction voted america bestloved novel pbs great american read harper lee pulitzer prizewinning masterwork honor injustice deep southand heroism one man face blind violent hatred one cherished story time kill mockingbird translated forty language sold forty million copy worldwide served basis enormously popular motion picture voted one best novel twentieth century librarian across country gripping heartwrenching wholly remarkable tale comingofage south poisoned virulent prejudice view world great beauty savage inequity eye young girl fathera crusading local lawyerrisks everything defend black man unjustly accused terrible crime'] \n",
            "\n",
            "Recommended books: \n",
            "1 .  Title:  to kill a mocking bird\n",
            "     Description:  drama harper lee classic novel lawyer deep south defending black man charged rape white girl one bestloved story time kill mockingbird earned many distinction since original publication pulitzer prize translated forty language sold thirty million copy worldwide made enormously popular movie recently librarian across country gave book highest honor voting best novel twentieth century\n",
            "2 .  Title:  moll flanders norton critical editions series\n",
            "     Description:  fiction moll flanders one bestselling novel time\n",
            "3 .  Title:  the short novels of john steinbeck\n",
            "     Description:  fiction collect six short novel one influential author twentieth century\n",
            "4 .  Title:  the man who loved children\n",
            "     Description:  fiction crazy gorgeous family novel written end great depression one great literary achievement twentieth century jonathan franzen new york time first published man loved child rediscovered thanks poet randall jarrell eloquent introduction included ebook edition compare christina stead leo tolstoy today stand masterpiece dysfunctional family life country crippled great depression sam henny pollit muchtoo much contempt one another many child much strain endless obligation flush ego chilling charisma sam torment manipulates child esoteric world imagining henny look desperately aware madness root husband behavior louie damaged precocious adolescent girl center clash ugly duckling whose struggle transfix contemporary reader named one best novel twentieth century newsweek stead semiautobiographical work read like depressionera glass castle new york time jonathan franzen wrote classic carry head way carry childhood memory scene precise horror comedy feel didnt read book much live\n",
            "5 .  Title:  friday\n",
            "     Description:  fiction new edition hugo nebula nominated novel one greatest science fiction author time charming protagonist story sleekly engineered starship one flypublishers weekly friday secret courier ardent lover employed man know bos given awkward dangerous case take new zealand canada new state america disunion way star new colony botany bay thrust one calamity another us enhanced wit many skill evade seduce even kill way sticky situation find superior inferior average human apartificial personthe best humanity offer written friday dna yet often treated like secondclass citizenif ever able claim citizenship mother test tube father knife saying go le right biologicallyborn human soul according church friday heinlein created one enlightened warm engaging humane character science fiction field gifting u novel female empowerment well ahead time one heinlein best say one best science fictionterrific story superbly realized heroine worldpoul anderson\n"
          ]
        }
      ]
    },
    {
      "cell_type": "markdown",
      "source": [
        "# Accuracy Mesasure: Discounted Cumulative Gains\n",
        "Relevancy Scoring Key:\n",
        "\n",
        "Most relevant score => 2\n",
        "\n",
        "Somewhat relevant score => 1\n",
        "\n",
        "Least relevant score => 0\n",
        "\n",
        "Methodology: I manually went through the description of the chosen item and the recommended items to determine relevancy value.\n",
        "\n",
        "DCG (Discounted Cumulative Gains) = Relevancy Score/(LOG(Recommendation Rank+1))\n",
        "\n",
        "Formula Source: https://towardsdatascience.com/an-exhaustive-list-of-methods-to-evaluate-recommender-systems-a70c05e121de"
      ],
      "metadata": {
        "id": "fX8tGmR_OQYi"
      },
      "id": "fX8tGmR_OQYi"
    },
    {
      "cell_type": "markdown",
      "source": [
        "![image.png](data:image/png;base64,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)\n"
      ],
      "metadata": {
        "id": "-bndt4CTKhIo"
      },
      "id": "-bndt4CTKhIo"
    },
    {
      "cell_type": "markdown",
      "source": [
        " \n",
        "In the next steps, I will use the Spacy model and SBERT Sentence Embedding model and compare their performance with the performance of this model.\n"
      ],
      "metadata": {
        "id": "_mekccr6n6vO"
      },
      "id": "_mekccr6n6vO"
    }
  ],
  "metadata": {
    "kernelspec": {
      "display_name": "Python 3 (ipykernel)",
      "language": "python",
      "name": "python3"
    },
    "language_info": {
      "codemirror_mode": {
        "name": "ipython",
        "version": 3
      },
      "file_extension": ".py",
      "mimetype": "text/x-python",
      "name": "python",
      "nbconvert_exporter": "python",
      "pygments_lexer": "ipython3",
      "version": "3.9.7"
    },
    "colab": {
      "provenance": [],
      "include_colab_link": true
    },
    "gpuClass": "premium"
  },
  "nbformat": 4,
  "nbformat_minor": 5
}